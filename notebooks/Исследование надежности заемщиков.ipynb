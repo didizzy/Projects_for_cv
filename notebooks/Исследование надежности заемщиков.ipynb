{
 "cells": [
  {
   "cell_type": "markdown",
   "id": "f361ebd1",
   "metadata": {},
   "source": [
    "# Исследование надежности заемщиков."
   ]
  },
  {
   "cell_type": "markdown",
   "id": "8b7e64f9",
   "metadata": {},
   "source": [
    "Заказчик — кредитный отдел банка. \n",
    "\n",
    "Входные данные от банка — статистика о платёжеспособности клиентов.\n",
    "\n",
    "**Цель исследования** — проверить влияет ли семейное положение и количество детей клиента на факт погашения кредита в срок. \n",
    "\n",
    "**Ход исследования**\n",
    "\n",
    "Данные о платежоспособности получим из файла `data.csv`. О качестве данных известно, что, как минимум, имеется множество пропусков, поэтому понадобится обзор данных. \n",
    "\n",
    "Таким образом, исследование пройдёт в три этапа:\n",
    " 1. Обзор данных.\n",
    " 2. Предобработка данных.\n",
    " 3. Анализ.\n"
   ]
  },
  {
   "cell_type": "markdown",
   "id": "ee44fa6a",
   "metadata": {},
   "source": [
    "##  Обзор данных"
   ]
  },
  {
   "cell_type": "code",
   "execution_count": 1,
   "id": "360432f4",
   "metadata": {},
   "outputs": [],
   "source": [
    "import pandas as pd # импорт библиотеки pandas"
   ]
  },
  {
   "cell_type": "code",
   "execution_count": 2,
   "id": "b9e69822",
   "metadata": {},
   "outputs": [],
   "source": [
    "df = pd.read_csv('/Users/dianatyubeeva/Desktop/datasets/data.csv') # чтение файла с данными и сохранение в df"
   ]
  },
  {
   "cell_type": "markdown",
   "id": "b0bc488b",
   "metadata": {},
   "source": [
    "Выведим на экран первые десять строк таблицы:"
   ]
  },
  {
   "cell_type": "code",
   "execution_count": 3,
   "id": "4a71d702",
   "metadata": {},
   "outputs": [
    {
     "data": {
      "text/html": [
       "<div>\n",
       "<style scoped>\n",
       "    .dataframe tbody tr th:only-of-type {\n",
       "        vertical-align: middle;\n",
       "    }\n",
       "\n",
       "    .dataframe tbody tr th {\n",
       "        vertical-align: top;\n",
       "    }\n",
       "\n",
       "    .dataframe thead th {\n",
       "        text-align: right;\n",
       "    }\n",
       "</style>\n",
       "<table border=\"1\" class=\"dataframe\">\n",
       "  <thead>\n",
       "    <tr style=\"text-align: right;\">\n",
       "      <th></th>\n",
       "      <th>children</th>\n",
       "      <th>days_employed</th>\n",
       "      <th>dob_years</th>\n",
       "      <th>education</th>\n",
       "      <th>education_id</th>\n",
       "      <th>family_status</th>\n",
       "      <th>family_status_id</th>\n",
       "      <th>gender</th>\n",
       "      <th>income_type</th>\n",
       "      <th>debt</th>\n",
       "      <th>total_income</th>\n",
       "      <th>purpose</th>\n",
       "    </tr>\n",
       "  </thead>\n",
       "  <tbody>\n",
       "    <tr>\n",
       "      <th>0</th>\n",
       "      <td>1</td>\n",
       "      <td>-8437.673028</td>\n",
       "      <td>42</td>\n",
       "      <td>высшее</td>\n",
       "      <td>0</td>\n",
       "      <td>женат / замужем</td>\n",
       "      <td>0</td>\n",
       "      <td>F</td>\n",
       "      <td>сотрудник</td>\n",
       "      <td>0</td>\n",
       "      <td>253875.639453</td>\n",
       "      <td>покупка жилья</td>\n",
       "    </tr>\n",
       "    <tr>\n",
       "      <th>1</th>\n",
       "      <td>1</td>\n",
       "      <td>-4024.803754</td>\n",
       "      <td>36</td>\n",
       "      <td>среднее</td>\n",
       "      <td>1</td>\n",
       "      <td>женат / замужем</td>\n",
       "      <td>0</td>\n",
       "      <td>F</td>\n",
       "      <td>сотрудник</td>\n",
       "      <td>0</td>\n",
       "      <td>112080.014102</td>\n",
       "      <td>приобретение автомобиля</td>\n",
       "    </tr>\n",
       "    <tr>\n",
       "      <th>2</th>\n",
       "      <td>0</td>\n",
       "      <td>-5623.422610</td>\n",
       "      <td>33</td>\n",
       "      <td>Среднее</td>\n",
       "      <td>1</td>\n",
       "      <td>женат / замужем</td>\n",
       "      <td>0</td>\n",
       "      <td>M</td>\n",
       "      <td>сотрудник</td>\n",
       "      <td>0</td>\n",
       "      <td>145885.952297</td>\n",
       "      <td>покупка жилья</td>\n",
       "    </tr>\n",
       "    <tr>\n",
       "      <th>3</th>\n",
       "      <td>3</td>\n",
       "      <td>-4124.747207</td>\n",
       "      <td>32</td>\n",
       "      <td>среднее</td>\n",
       "      <td>1</td>\n",
       "      <td>женат / замужем</td>\n",
       "      <td>0</td>\n",
       "      <td>M</td>\n",
       "      <td>сотрудник</td>\n",
       "      <td>0</td>\n",
       "      <td>267628.550329</td>\n",
       "      <td>дополнительное образование</td>\n",
       "    </tr>\n",
       "    <tr>\n",
       "      <th>4</th>\n",
       "      <td>0</td>\n",
       "      <td>340266.072047</td>\n",
       "      <td>53</td>\n",
       "      <td>среднее</td>\n",
       "      <td>1</td>\n",
       "      <td>гражданский брак</td>\n",
       "      <td>1</td>\n",
       "      <td>F</td>\n",
       "      <td>пенсионер</td>\n",
       "      <td>0</td>\n",
       "      <td>158616.077870</td>\n",
       "      <td>сыграть свадьбу</td>\n",
       "    </tr>\n",
       "    <tr>\n",
       "      <th>5</th>\n",
       "      <td>0</td>\n",
       "      <td>-926.185831</td>\n",
       "      <td>27</td>\n",
       "      <td>высшее</td>\n",
       "      <td>0</td>\n",
       "      <td>гражданский брак</td>\n",
       "      <td>1</td>\n",
       "      <td>M</td>\n",
       "      <td>компаньон</td>\n",
       "      <td>0</td>\n",
       "      <td>255763.565419</td>\n",
       "      <td>покупка жилья</td>\n",
       "    </tr>\n",
       "    <tr>\n",
       "      <th>6</th>\n",
       "      <td>0</td>\n",
       "      <td>-2879.202052</td>\n",
       "      <td>43</td>\n",
       "      <td>высшее</td>\n",
       "      <td>0</td>\n",
       "      <td>женат / замужем</td>\n",
       "      <td>0</td>\n",
       "      <td>F</td>\n",
       "      <td>компаньон</td>\n",
       "      <td>0</td>\n",
       "      <td>240525.971920</td>\n",
       "      <td>операции с жильем</td>\n",
       "    </tr>\n",
       "    <tr>\n",
       "      <th>7</th>\n",
       "      <td>0</td>\n",
       "      <td>-152.779569</td>\n",
       "      <td>50</td>\n",
       "      <td>СРЕДНЕЕ</td>\n",
       "      <td>1</td>\n",
       "      <td>женат / замужем</td>\n",
       "      <td>0</td>\n",
       "      <td>M</td>\n",
       "      <td>сотрудник</td>\n",
       "      <td>0</td>\n",
       "      <td>135823.934197</td>\n",
       "      <td>образование</td>\n",
       "    </tr>\n",
       "    <tr>\n",
       "      <th>8</th>\n",
       "      <td>2</td>\n",
       "      <td>-6929.865299</td>\n",
       "      <td>35</td>\n",
       "      <td>ВЫСШЕЕ</td>\n",
       "      <td>0</td>\n",
       "      <td>гражданский брак</td>\n",
       "      <td>1</td>\n",
       "      <td>F</td>\n",
       "      <td>сотрудник</td>\n",
       "      <td>0</td>\n",
       "      <td>95856.832424</td>\n",
       "      <td>на проведение свадьбы</td>\n",
       "    </tr>\n",
       "    <tr>\n",
       "      <th>9</th>\n",
       "      <td>0</td>\n",
       "      <td>-2188.756445</td>\n",
       "      <td>41</td>\n",
       "      <td>среднее</td>\n",
       "      <td>1</td>\n",
       "      <td>женат / замужем</td>\n",
       "      <td>0</td>\n",
       "      <td>M</td>\n",
       "      <td>сотрудник</td>\n",
       "      <td>0</td>\n",
       "      <td>144425.938277</td>\n",
       "      <td>покупка жилья для семьи</td>\n",
       "    </tr>\n",
       "  </tbody>\n",
       "</table>\n",
       "</div>"
      ],
      "text/plain": [
       "   children  days_employed  dob_years education  education_id  \\\n",
       "0         1   -8437.673028         42    высшее             0   \n",
       "1         1   -4024.803754         36   среднее             1   \n",
       "2         0   -5623.422610         33   Среднее             1   \n",
       "3         3   -4124.747207         32   среднее             1   \n",
       "4         0  340266.072047         53   среднее             1   \n",
       "5         0    -926.185831         27    высшее             0   \n",
       "6         0   -2879.202052         43    высшее             0   \n",
       "7         0    -152.779569         50   СРЕДНЕЕ             1   \n",
       "8         2   -6929.865299         35    ВЫСШЕЕ             0   \n",
       "9         0   -2188.756445         41   среднее             1   \n",
       "\n",
       "      family_status  family_status_id gender income_type  debt   total_income  \\\n",
       "0   женат / замужем                 0      F   сотрудник     0  253875.639453   \n",
       "1   женат / замужем                 0      F   сотрудник     0  112080.014102   \n",
       "2   женат / замужем                 0      M   сотрудник     0  145885.952297   \n",
       "3   женат / замужем                 0      M   сотрудник     0  267628.550329   \n",
       "4  гражданский брак                 1      F   пенсионер     0  158616.077870   \n",
       "5  гражданский брак                 1      M   компаньон     0  255763.565419   \n",
       "6   женат / замужем                 0      F   компаньон     0  240525.971920   \n",
       "7   женат / замужем                 0      M   сотрудник     0  135823.934197   \n",
       "8  гражданский брак                 1      F   сотрудник     0   95856.832424   \n",
       "9   женат / замужем                 0      M   сотрудник     0  144425.938277   \n",
       "\n",
       "                      purpose  \n",
       "0               покупка жилья  \n",
       "1     приобретение автомобиля  \n",
       "2               покупка жилья  \n",
       "3  дополнительное образование  \n",
       "4             сыграть свадьбу  \n",
       "5               покупка жилья  \n",
       "6           операции с жильем  \n",
       "7                 образование  \n",
       "8       на проведение свадьбы  \n",
       "9     покупка жилья для семьи  "
      ]
     },
     "metadata": {},
     "output_type": "display_data"
    }
   ],
   "source": [
    "display(df.head(10)) # получение первых 10 строк таблицы df"
   ]
  },
  {
   "cell_type": "markdown",
   "id": "db6cfc99",
   "metadata": {},
   "source": [
    "Одной командой получим общую информацию о данных таблицы:"
   ]
  },
  {
   "cell_type": "code",
   "execution_count": 4,
   "id": "86601533",
   "metadata": {},
   "outputs": [
    {
     "name": "stdout",
     "output_type": "stream",
     "text": [
      "<class 'pandas.core.frame.DataFrame'>\n",
      "RangeIndex: 21525 entries, 0 to 21524\n",
      "Data columns (total 12 columns):\n",
      " #   Column            Non-Null Count  Dtype  \n",
      "---  ------            --------------  -----  \n",
      " 0   children          21525 non-null  int64  \n",
      " 1   days_employed     19351 non-null  float64\n",
      " 2   dob_years         21525 non-null  int64  \n",
      " 3   education         21525 non-null  object \n",
      " 4   education_id      21525 non-null  int64  \n",
      " 5   family_status     21525 non-null  object \n",
      " 6   family_status_id  21525 non-null  int64  \n",
      " 7   gender            21525 non-null  object \n",
      " 8   income_type       21525 non-null  object \n",
      " 9   debt              21525 non-null  int64  \n",
      " 10  total_income      19351 non-null  float64\n",
      " 11  purpose           21525 non-null  object \n",
      "dtypes: float64(2), int64(5), object(5)\n",
      "memory usage: 2.0+ MB\n"
     ]
    }
   ],
   "source": [
    "df.info()# получение общей информации о данных в таблице df"
   ]
  },
  {
   "cell_type": "markdown",
   "id": "b302f455",
   "metadata": {},
   "source": [
    "Итак, в таблице 12 столбцов. Тип данных в столбцах — `object`, `int64`, `float64`.\n",
    "\n",
    "Согласно документации к данным:\n",
    "* `children` — количество детей в семье;\n",
    "* `days_employed` — общий трудовой стаж в днях;  \n",
    "* `dob_years` — возраст клиента в годах;\n",
    "* `education` — уровень образования клиента;\n",
    "* `education_id` — идентификатор уровня образования;\n",
    "* `family_status` — семейное положение;\n",
    "* `family_status_id` — идентификатор семейного положения.\n",
    "* `gender` — пол клиента;\n",
    "* `income_type` — тип занятости;  \n",
    "* `debt` — имел ли задолженность по возврату кредитов;\n",
    "* `total_income` — ежемесячный доход;\n",
    "* `purpose` — цель получения кредита;\n",
    "\n",
    "\n",
    "\n",
    "Количество значений в двух столбцах отличаются от остальных: `days_employed`, `total_income`. Значит, в данных есть пропущенные значения. Также можно заметить отрицательные значения столбца `days_employed`, причину которых нужно выяснить.\n",
    "\n",
    "\n",
    "**Выводы**\n",
    "\n",
    "Часть данных таблицы описывают \"стартовую\" информацию о клиенте: образование, семейное положение и гендер. Другая часть посвящена трудовой истории: тип занятости, доход, стаж. Третья же - сведениям по кредитной части вопроса: наличие задолженностей, цель получения кредита. \n",
    "\n",
    "Предварительно можно утверждать, что, данных достаточно для исследования. Но встречаются пропуски, а в определенном столбце — аномальные значения.\n",
    "\n",
    "Чтобы двигаться дальше, нужно устранить проблемы в данных."
   ]
  },
  {
   "cell_type": "markdown",
   "id": "83eaf2b7",
   "metadata": {},
   "source": [
    "##  Предобработка данных"
   ]
  },
  {
   "cell_type": "markdown",
   "id": "f665871b",
   "metadata": {},
   "source": [
    "###  Определение и заполнение пропусков."
   ]
  },
  {
   "cell_type": "markdown",
   "id": "2c139ccb",
   "metadata": {},
   "source": [
    "Проверим дествительно ли есть пропуски и в каких столбцах конкретно:"
   ]
  },
  {
   "cell_type": "code",
   "execution_count": 5,
   "id": "53841112",
   "metadata": {},
   "outputs": [
    {
     "data": {
      "text/plain": [
       "children               0\n",
       "days_employed       2174\n",
       "dob_years              0\n",
       "education              0\n",
       "education_id           0\n",
       "family_status          0\n",
       "family_status_id       0\n",
       "gender                 0\n",
       "income_type            0\n",
       "debt                   0\n",
       "total_income        2174\n",
       "purpose                0\n",
       "dtype: int64"
      ]
     },
     "execution_count": 5,
     "metadata": {},
     "output_type": "execute_result"
    }
   ],
   "source": [
    "df.isna().sum() # подсчёт пропусков"
   ]
  },
  {
   "cell_type": "markdown",
   "id": "9c03ad55",
   "metadata": {},
   "source": [
    "Подтвердилось, что пропуски находятся в стоблцах `days_employed` и `total_income`.\n",
    "\n",
    "Оценим долю пропущенных значений в каждом столбце с пропусками:"
   ]
  },
  {
   "cell_type": "code",
   "execution_count": 6,
   "id": "0f613a91",
   "metadata": {},
   "outputs": [
    {
     "name": "stdout",
     "output_type": "stream",
     "text": [
      "Количество пропущенных значений в каждом из столбцов: 10%\n",
      "Количество пропущенных значений относительно всего датафрейма: 20%\n"
     ]
    }
   ],
   "source": [
    "share_days_employed = df['days_employed'].isna().sum() / df.shape[0] #доля пропусков в столбце days_employed\n",
    "share_total_income = df['total_income'].isna().sum() / df.shape[0] #доля пропусков в столбце total_income\n",
    "total_share = share_days_employed + share_total_income #общая доля пропусков \n",
    "print(f'Количество пропущенных значений в каждом из столбцов: {share_total_income:.0%}')\n",
    "print(f'Количество пропущенных значений относительно всего датафрейма: {total_share:.0%}')"
   ]
  },
  {
   "cell_type": "markdown",
   "id": "847a4af3",
   "metadata": {},
   "source": [
    "Целых 20% всей таблицы относятся к пропускам. \n",
    "Возможно такой большой процент упущенных данных связан с нежеланием пользователей делиться подобной информацией в конкрентный момент, ибо она может повлиять на одобрение кредита. Однако, это может быть связано еще и с какой технической ошибкой внутри системы. \n",
    "\n",
    "Значения этих метрик (где были найдены пропуски) относятся к количественным данным, соотвественно, для заполнения пропусков будем использовать характерные значения (либо медиану, либо среднее арифметическое). \n",
    "\n",
    "Чтобы точно определиться с статистическим инструментом, изучим выборку значений одного из столбцов следующим образом:"
   ]
  },
  {
   "cell_type": "code",
   "execution_count": 7,
   "id": "72d1133a",
   "metadata": {},
   "outputs": [
    {
     "name": "stdout",
     "output_type": "stream",
     "text": [
      "Максимальное значение столбца total_income: 2265604\n",
      "Минимальное значение столбца total_income: 20667\n"
     ]
    }
   ],
   "source": [
    "max_t = df['total_income'].max()  #считаем минимальные и максимальные значения столбцов\n",
    "min_t = df['total_income'].min()\n",
    "\n",
    "print(f'Максимальное значение столбца total_income: {int(max_t):}')\n",
    "print(f'Минимальное значение столбца total_income: {int(min_t):}')"
   ]
  },
  {
   "cell_type": "markdown",
   "id": "2bd7d8d2",
   "metadata": {},
   "source": [
    "Ввиду большого размаха выбороки целесообразно заполнять пропуски именно медианой, ибо присутствуют выдающиеся значения, которые при подсчете среднего арифметического создадут ложные впечатления о данных. \n",
    "\n",
    "Не просто заполним пропуски медианой, предварительно сделаем группировку по типу дохода и выясним какой медианный доход у каждой подкатегории:"
   ]
  },
  {
   "cell_type": "code",
   "execution_count": 8,
   "id": "35531b08",
   "metadata": {},
   "outputs": [
    {
     "name": "stdout",
     "output_type": "stream",
     "text": [
      "income_type\n",
      "безработный        131339.751676\n",
      "в декрете           53829.130729\n",
      "госслужащий        150447.935283\n",
      "компаньон          172357.950966\n",
      "пенсионер          118514.486412\n",
      "предприниматель    499163.144947\n",
      "сотрудник          142594.396847\n",
      "студент             98201.625314\n",
      "Name: total_income, dtype: float64\n"
     ]
    }
   ],
   "source": [
    "income_ti = df.groupby('income_type')['total_income'].median() #группируем данные по income_type\n",
    "print(income_ti)"
   ]
  },
  {
   "cell_type": "markdown",
   "id": "ee60d988",
   "metadata": {},
   "source": [
    "Напишем код, который будет заполнять пропуски в зависимости от типа дохода:"
   ]
  },
  {
   "cell_type": "code",
   "execution_count": 9,
   "id": "46a7461b",
   "metadata": {},
   "outputs": [],
   "source": [
    "data_transformed = df.groupby('income_type')['total_income'].transform('median')\n",
    "df['total_income'] = df['total_income'].fillna(data_transformed)"
   ]
  },
  {
   "cell_type": "markdown",
   "id": "8badb991",
   "metadata": {},
   "source": [
    "Проверим остались ли пропуски:"
   ]
  },
  {
   "cell_type": "code",
   "execution_count": 10,
   "id": "d8adfa59",
   "metadata": {
    "scrolled": true
   },
   "outputs": [
    {
     "data": {
      "text/plain": [
       "0"
      ]
     },
     "execution_count": 10,
     "metadata": {},
     "output_type": "execute_result"
    }
   ],
   "source": [
    "df['total_income'].isna().sum() # подсчёт пропусков"
   ]
  },
  {
   "cell_type": "markdown",
   "id": "73f71a74",
   "metadata": {},
   "source": [
    "### Проверка данных на аномалии и исправления."
   ]
  },
  {
   "cell_type": "markdown",
   "id": "1b9053d4",
   "metadata": {},
   "source": [
    "Теперь займемся заполнением пропусков в столбце `days_employed`, предварительно изучив выборку:"
   ]
  },
  {
   "cell_type": "code",
   "execution_count": 11,
   "id": "bf18e8ae",
   "metadata": {},
   "outputs": [
    {
     "name": "stdout",
     "output_type": "stream",
     "text": [
      "Максимальное значение столбца days_employed: 401755\n",
      "Минимальное значение столбца days_employed: -18388\n"
     ]
    }
   ],
   "source": [
    "max_d = df['days_employed'].max()\n",
    "min_d = df['days_employed'].min()\n",
    "\n",
    "print(f'Максимальное значение столбца days_employed: {int(max_d):}')\n",
    "print(f'Минимальное значение столбца days_employed: {int(min_d):}')"
   ]
  },
  {
   "cell_type": "markdown",
   "id": "87e7511a",
   "metadata": {},
   "source": [
    "Избавимся от отрицательных значений:"
   ]
  },
  {
   "cell_type": "code",
   "execution_count": 12,
   "id": "3274a45b",
   "metadata": {},
   "outputs": [
    {
     "name": "stdout",
     "output_type": "stream",
     "text": [
      "Максимальное значение столбца days_employed в годах: 1100.6986301369864\n",
      "Минимальное значение столбца days_employed в годах: 0.06575342465753424\n"
     ]
    }
   ],
   "source": [
    "days_employed = df['days_employed']\n",
    "days_employed_ok = []\n",
    "for days in days_employed:\n",
    "    if days < 0:\n",
    "        days *= -1\n",
    "        days_employed_ok.append(days)\n",
    "    else:\n",
    "        days_employed_ok.append(days)\n",
    "df['days_employed'] = days_employed_ok \n",
    "max_d = df['days_employed'].max()\n",
    "min_d = df['days_employed'].min()\n",
    "print(f'Максимальное значение столбца days_employed в годах: {int(max_d) / 365 :}')\n",
    "print(f'Минимальное значение столбца days_employed в годах: {int(min_d) / 365 :}')"
   ]
  },
  {
   "cell_type": "markdown",
   "id": "b331a8f9",
   "metadata": {},
   "source": [
    "С данными явно что-то не так,не говоря уже о пропусках, ибо максимумом выборки является около 1100, что невозможно для человека))\n",
    "Исходя из цели исследования, `days_employed` не будет особо использован, поэтому есть смысл его удалить. "
   ]
  },
  {
   "cell_type": "code",
   "execution_count": 13,
   "id": "bf3fee23",
   "metadata": {},
   "outputs": [],
   "source": [
    "df.drop(['days_employed'], axis = 1, inplace=True)"
   ]
  },
  {
   "cell_type": "markdown",
   "id": "d81e073e",
   "metadata": {},
   "source": [
    "Проверим остальные столбцы на аномалии:"
   ]
  },
  {
   "cell_type": "code",
   "execution_count": 14,
   "id": "175bf850",
   "metadata": {},
   "outputs": [
    {
     "name": "stdout",
     "output_type": "stream",
     "text": [
      "Максимальное значение столбца children: 20\n",
      "Минимальное значение столбца children: -1\n"
     ]
    },
    {
     "data": {
      "text/plain": [
       "array([-1,  0,  1,  2,  3,  4,  5, 20])"
      ]
     },
     "execution_count": 14,
     "metadata": {},
     "output_type": "execute_result"
    }
   ],
   "source": [
    "max_ch = df['children'].max() #оценим max и min выборки колонки children\n",
    "min_ch = df['children'].min()\n",
    "print(f'Максимальное значение столбца children: {max_ch:}')\n",
    "print(f'Минимальное значение столбца children: {min_ch:}')\n",
    "df['children'].sort_values().unique() #уникальные значения в порядке возрастания, чтобы посмотреть на всю выборку"
   ]
  },
  {
   "cell_type": "markdown",
   "id": "128defc6",
   "metadata": {},
   "source": [
    "В столбце `children` были найдены некорректные значения, высчитаем долю аномалий."
   ]
  },
  {
   "cell_type": "code",
   "execution_count": 15,
   "id": "62d3e32a",
   "metadata": {},
   "outputs": [
    {
     "name": "stdout",
     "output_type": "stream",
     "text": [
      "1.0\n"
     ]
    }
   ],
   "source": [
    "print(len(df['children']) / df.shape[0])"
   ]
  },
  {
   "cell_type": "code",
   "execution_count": 16,
   "id": "49152aca",
   "metadata": {},
   "outputs": [],
   "source": [
    "df.drop(['children'], axis = 1, inplace=True)"
   ]
  },
  {
   "cell_type": "markdown",
   "id": "6480479d",
   "metadata": {},
   "source": [
    "Ближе рассмотрим столбец `dob_years`:"
   ]
  },
  {
   "cell_type": "code",
   "execution_count": 17,
   "id": "d8d91a30",
   "metadata": {},
   "outputs": [
    {
     "data": {
      "text/plain": [
       "array([ 0, 19, 20, 21, 22, 23, 24, 25, 26, 27, 28, 29, 30, 31, 32, 33, 34,\n",
       "       35, 36, 37, 38, 39, 40, 41, 42, 43, 44, 45, 46, 47, 48, 49, 50, 51,\n",
       "       52, 53, 54, 55, 56, 57, 58, 59, 60, 61, 62, 63, 64, 65, 66, 67, 68,\n",
       "       69, 70, 71, 72, 73, 74, 75])"
      ]
     },
     "execution_count": 17,
     "metadata": {},
     "output_type": "execute_result"
    }
   ],
   "source": [
    "df['dob_years'].sort_values().unique()"
   ]
  },
  {
   "cell_type": "markdown",
   "id": "e8729216",
   "metadata": {},
   "source": [
    "Нам снова встретилось аномальное значение (0 в возрасте клиентов), попробуем посмотреть поближе на строки с нулевыми значениями:"
   ]
  },
  {
   "cell_type": "code",
   "execution_count": 18,
   "id": "63bc70b6",
   "metadata": {},
   "outputs": [
    {
     "data": {
      "text/html": [
       "<div>\n",
       "<style scoped>\n",
       "    .dataframe tbody tr th:only-of-type {\n",
       "        vertical-align: middle;\n",
       "    }\n",
       "\n",
       "    .dataframe tbody tr th {\n",
       "        vertical-align: top;\n",
       "    }\n",
       "\n",
       "    .dataframe thead th {\n",
       "        text-align: right;\n",
       "    }\n",
       "</style>\n",
       "<table border=\"1\" class=\"dataframe\">\n",
       "  <thead>\n",
       "    <tr style=\"text-align: right;\">\n",
       "      <th></th>\n",
       "      <th>dob_years</th>\n",
       "      <th>education</th>\n",
       "      <th>education_id</th>\n",
       "      <th>family_status</th>\n",
       "      <th>family_status_id</th>\n",
       "      <th>gender</th>\n",
       "      <th>income_type</th>\n",
       "      <th>debt</th>\n",
       "      <th>total_income</th>\n",
       "      <th>purpose</th>\n",
       "    </tr>\n",
       "  </thead>\n",
       "  <tbody>\n",
       "    <tr>\n",
       "      <th>99</th>\n",
       "      <td>0</td>\n",
       "      <td>Среднее</td>\n",
       "      <td>1</td>\n",
       "      <td>женат / замужем</td>\n",
       "      <td>0</td>\n",
       "      <td>F</td>\n",
       "      <td>пенсионер</td>\n",
       "      <td>0</td>\n",
       "      <td>71291.522491</td>\n",
       "      <td>автомобиль</td>\n",
       "    </tr>\n",
       "    <tr>\n",
       "      <th>149</th>\n",
       "      <td>0</td>\n",
       "      <td>среднее</td>\n",
       "      <td>1</td>\n",
       "      <td>в разводе</td>\n",
       "      <td>3</td>\n",
       "      <td>F</td>\n",
       "      <td>сотрудник</td>\n",
       "      <td>0</td>\n",
       "      <td>70176.435951</td>\n",
       "      <td>операции с жильем</td>\n",
       "    </tr>\n",
       "    <tr>\n",
       "      <th>270</th>\n",
       "      <td>0</td>\n",
       "      <td>среднее</td>\n",
       "      <td>1</td>\n",
       "      <td>женат / замужем</td>\n",
       "      <td>0</td>\n",
       "      <td>F</td>\n",
       "      <td>сотрудник</td>\n",
       "      <td>0</td>\n",
       "      <td>102166.458894</td>\n",
       "      <td>ремонт жилью</td>\n",
       "    </tr>\n",
       "    <tr>\n",
       "      <th>578</th>\n",
       "      <td>0</td>\n",
       "      <td>среднее</td>\n",
       "      <td>1</td>\n",
       "      <td>женат / замужем</td>\n",
       "      <td>0</td>\n",
       "      <td>F</td>\n",
       "      <td>пенсионер</td>\n",
       "      <td>0</td>\n",
       "      <td>97620.687042</td>\n",
       "      <td>строительство собственной недвижимости</td>\n",
       "    </tr>\n",
       "    <tr>\n",
       "      <th>1040</th>\n",
       "      <td>0</td>\n",
       "      <td>высшее</td>\n",
       "      <td>0</td>\n",
       "      <td>в разводе</td>\n",
       "      <td>3</td>\n",
       "      <td>F</td>\n",
       "      <td>компаньон</td>\n",
       "      <td>0</td>\n",
       "      <td>303994.134987</td>\n",
       "      <td>свой автомобиль</td>\n",
       "    </tr>\n",
       "    <tr>\n",
       "      <th>...</th>\n",
       "      <td>...</td>\n",
       "      <td>...</td>\n",
       "      <td>...</td>\n",
       "      <td>...</td>\n",
       "      <td>...</td>\n",
       "      <td>...</td>\n",
       "      <td>...</td>\n",
       "      <td>...</td>\n",
       "      <td>...</td>\n",
       "      <td>...</td>\n",
       "    </tr>\n",
       "    <tr>\n",
       "      <th>19829</th>\n",
       "      <td>0</td>\n",
       "      <td>среднее</td>\n",
       "      <td>1</td>\n",
       "      <td>женат / замужем</td>\n",
       "      <td>0</td>\n",
       "      <td>F</td>\n",
       "      <td>сотрудник</td>\n",
       "      <td>0</td>\n",
       "      <td>142594.396847</td>\n",
       "      <td>жилье</td>\n",
       "    </tr>\n",
       "    <tr>\n",
       "      <th>20462</th>\n",
       "      <td>0</td>\n",
       "      <td>среднее</td>\n",
       "      <td>1</td>\n",
       "      <td>женат / замужем</td>\n",
       "      <td>0</td>\n",
       "      <td>F</td>\n",
       "      <td>пенсионер</td>\n",
       "      <td>0</td>\n",
       "      <td>259193.920299</td>\n",
       "      <td>покупка своего жилья</td>\n",
       "    </tr>\n",
       "    <tr>\n",
       "      <th>20577</th>\n",
       "      <td>0</td>\n",
       "      <td>среднее</td>\n",
       "      <td>1</td>\n",
       "      <td>Не женат / не замужем</td>\n",
       "      <td>4</td>\n",
       "      <td>F</td>\n",
       "      <td>пенсионер</td>\n",
       "      <td>0</td>\n",
       "      <td>129788.762899</td>\n",
       "      <td>недвижимость</td>\n",
       "    </tr>\n",
       "    <tr>\n",
       "      <th>21179</th>\n",
       "      <td>0</td>\n",
       "      <td>высшее</td>\n",
       "      <td>0</td>\n",
       "      <td>женат / замужем</td>\n",
       "      <td>0</td>\n",
       "      <td>M</td>\n",
       "      <td>компаньон</td>\n",
       "      <td>0</td>\n",
       "      <td>240702.007382</td>\n",
       "      <td>строительство жилой недвижимости</td>\n",
       "    </tr>\n",
       "    <tr>\n",
       "      <th>21313</th>\n",
       "      <td>0</td>\n",
       "      <td>среднее</td>\n",
       "      <td>1</td>\n",
       "      <td>Не женат / не замужем</td>\n",
       "      <td>4</td>\n",
       "      <td>M</td>\n",
       "      <td>сотрудник</td>\n",
       "      <td>0</td>\n",
       "      <td>152419.184851</td>\n",
       "      <td>операции с жильем</td>\n",
       "    </tr>\n",
       "  </tbody>\n",
       "</table>\n",
       "<p>101 rows × 10 columns</p>\n",
       "</div>"
      ],
      "text/plain": [
       "       dob_years education  education_id          family_status  \\\n",
       "99             0   Среднее             1        женат / замужем   \n",
       "149            0   среднее             1              в разводе   \n",
       "270            0   среднее             1        женат / замужем   \n",
       "578            0   среднее             1        женат / замужем   \n",
       "1040           0    высшее             0              в разводе   \n",
       "...          ...       ...           ...                    ...   \n",
       "19829          0   среднее             1        женат / замужем   \n",
       "20462          0   среднее             1        женат / замужем   \n",
       "20577          0   среднее             1  Не женат / не замужем   \n",
       "21179          0    высшее             0        женат / замужем   \n",
       "21313          0   среднее             1  Не женат / не замужем   \n",
       "\n",
       "       family_status_id gender income_type  debt   total_income  \\\n",
       "99                    0      F   пенсионер     0   71291.522491   \n",
       "149                   3      F   сотрудник     0   70176.435951   \n",
       "270                   0      F   сотрудник     0  102166.458894   \n",
       "578                   0      F   пенсионер     0   97620.687042   \n",
       "1040                  3      F   компаньон     0  303994.134987   \n",
       "...                 ...    ...         ...   ...            ...   \n",
       "19829                 0      F   сотрудник     0  142594.396847   \n",
       "20462                 0      F   пенсионер     0  259193.920299   \n",
       "20577                 4      F   пенсионер     0  129788.762899   \n",
       "21179                 0      M   компаньон     0  240702.007382   \n",
       "21313                 4      M   сотрудник     0  152419.184851   \n",
       "\n",
       "                                      purpose  \n",
       "99                                 автомобиль  \n",
       "149                         операции с жильем  \n",
       "270                              ремонт жилью  \n",
       "578    строительство собственной недвижимости  \n",
       "1040                          свой автомобиль  \n",
       "...                                       ...  \n",
       "19829                                   жилье  \n",
       "20462                    покупка своего жилья  \n",
       "20577                            недвижимость  \n",
       "21179        строительство жилой недвижимости  \n",
       "21313                       операции с жильем  \n",
       "\n",
       "[101 rows x 10 columns]"
      ]
     },
     "execution_count": 18,
     "metadata": {},
     "output_type": "execute_result"
    }
   ],
   "source": [
    "df[df['dob_years'] == 0]"
   ]
  },
  {
   "cell_type": "markdown",
   "id": "d13bcdbd",
   "metadata": {},
   "source": [
    "Очень много строк имеют нулевые значения в этом столбце, данное значение можно воспринимать, как очередной пропуск, поэтому заменим ноль на медианный возраст клиентов по их доходу (через группировку и цикл):"
   ]
  },
  {
   "cell_type": "code",
   "execution_count": 19,
   "id": "8b428306",
   "metadata": {},
   "outputs": [
    {
     "data": {
      "text/html": [
       "<div>\n",
       "<style scoped>\n",
       "    .dataframe tbody tr th:only-of-type {\n",
       "        vertical-align: middle;\n",
       "    }\n",
       "\n",
       "    .dataframe tbody tr th {\n",
       "        vertical-align: top;\n",
       "    }\n",
       "\n",
       "    .dataframe thead th {\n",
       "        text-align: right;\n",
       "    }\n",
       "</style>\n",
       "<table border=\"1\" class=\"dataframe\">\n",
       "  <thead>\n",
       "    <tr style=\"text-align: right;\">\n",
       "      <th></th>\n",
       "      <th>dob_years</th>\n",
       "    </tr>\n",
       "    <tr>\n",
       "      <th>income_type</th>\n",
       "      <th></th>\n",
       "    </tr>\n",
       "  </thead>\n",
       "  <tbody>\n",
       "    <tr>\n",
       "      <th>безработный</th>\n",
       "      <td>38.0</td>\n",
       "    </tr>\n",
       "    <tr>\n",
       "      <th>в декрете</th>\n",
       "      <td>39.0</td>\n",
       "    </tr>\n",
       "    <tr>\n",
       "      <th>госслужащий</th>\n",
       "      <td>40.0</td>\n",
       "    </tr>\n",
       "    <tr>\n",
       "      <th>компаньон</th>\n",
       "      <td>39.0</td>\n",
       "    </tr>\n",
       "    <tr>\n",
       "      <th>пенсионер</th>\n",
       "      <td>60.0</td>\n",
       "    </tr>\n",
       "    <tr>\n",
       "      <th>предприниматель</th>\n",
       "      <td>42.5</td>\n",
       "    </tr>\n",
       "    <tr>\n",
       "      <th>сотрудник</th>\n",
       "      <td>39.0</td>\n",
       "    </tr>\n",
       "    <tr>\n",
       "      <th>студент</th>\n",
       "      <td>22.0</td>\n",
       "    </tr>\n",
       "  </tbody>\n",
       "</table>\n",
       "</div>"
      ],
      "text/plain": [
       "                 dob_years\n",
       "income_type               \n",
       "безработный           38.0\n",
       "в декрете             39.0\n",
       "госслужащий           40.0\n",
       "компаньон             39.0\n",
       "пенсионер             60.0\n",
       "предприниматель       42.5\n",
       "сотрудник             39.0\n",
       "студент               22.0"
      ]
     },
     "metadata": {},
     "output_type": "display_data"
    }
   ],
   "source": [
    "income_ty = df.pivot_table(index='income_type', values = 'dob_years', aggfunc = 'median')\n",
    "display(income_ty)"
   ]
  },
  {
   "cell_type": "code",
   "execution_count": 20,
   "id": "8ae908d8",
   "metadata": {},
   "outputs": [],
   "source": [
    "for income in df[df['dob_years'] == 0]['income_type']:\n",
    "        df['dob_years'] = df['dob_years'].replace(0, income_ty.loc[income, 'dob_years'])"
   ]
  },
  {
   "cell_type": "markdown",
   "id": "1a33c86e",
   "metadata": {},
   "source": [
    "Проверим остались ли нулевые значения в таблице:"
   ]
  },
  {
   "cell_type": "code",
   "execution_count": 21,
   "id": "b3c02a8f",
   "metadata": {},
   "outputs": [
    {
     "data": {
      "text/html": [
       "<div>\n",
       "<style scoped>\n",
       "    .dataframe tbody tr th:only-of-type {\n",
       "        vertical-align: middle;\n",
       "    }\n",
       "\n",
       "    .dataframe tbody tr th {\n",
       "        vertical-align: top;\n",
       "    }\n",
       "\n",
       "    .dataframe thead th {\n",
       "        text-align: right;\n",
       "    }\n",
       "</style>\n",
       "<table border=\"1\" class=\"dataframe\">\n",
       "  <thead>\n",
       "    <tr style=\"text-align: right;\">\n",
       "      <th></th>\n",
       "      <th>dob_years</th>\n",
       "      <th>education</th>\n",
       "      <th>education_id</th>\n",
       "      <th>family_status</th>\n",
       "      <th>family_status_id</th>\n",
       "      <th>gender</th>\n",
       "      <th>income_type</th>\n",
       "      <th>debt</th>\n",
       "      <th>total_income</th>\n",
       "      <th>purpose</th>\n",
       "    </tr>\n",
       "  </thead>\n",
       "  <tbody>\n",
       "  </tbody>\n",
       "</table>\n",
       "</div>"
      ],
      "text/plain": [
       "Empty DataFrame\n",
       "Columns: [dob_years, education, education_id, family_status, family_status_id, gender, income_type, debt, total_income, purpose]\n",
       "Index: []"
      ]
     },
     "execution_count": 21,
     "metadata": {},
     "output_type": "execute_result"
    }
   ],
   "source": [
    "df[df['dob_years'] == 0]"
   ]
  },
  {
   "cell_type": "markdown",
   "id": "fa6b9b1d",
   "metadata": {},
   "source": [
    "### Изменение типов данных."
   ]
  },
  {
   "cell_type": "markdown",
   "id": "9e8db84a",
   "metadata": {},
   "source": [
    "Для упрощения исследования округлим значения столбца `total_income`, так как дробные значения просто несущественны и лишь мешают, поэтому их лучше отбросить, поменяв тип данных. Также подправим данные, которые ввиду замен перешли с `int` к `float`:"
   ]
  },
  {
   "cell_type": "code",
   "execution_count": 22,
   "id": "f36aad28",
   "metadata": {},
   "outputs": [
    {
     "name": "stdout",
     "output_type": "stream",
     "text": [
      "<class 'pandas.core.frame.DataFrame'>\n",
      "RangeIndex: 21525 entries, 0 to 21524\n",
      "Data columns (total 10 columns):\n",
      " #   Column            Non-Null Count  Dtype \n",
      "---  ------            --------------  ----- \n",
      " 0   dob_years         21525 non-null  int64 \n",
      " 1   education         21525 non-null  object\n",
      " 2   education_id      21525 non-null  int64 \n",
      " 3   family_status     21525 non-null  object\n",
      " 4   family_status_id  21525 non-null  int64 \n",
      " 5   gender            21525 non-null  object\n",
      " 6   income_type       21525 non-null  object\n",
      " 7   debt              21525 non-null  int64 \n",
      " 8   total_income      21525 non-null  int64 \n",
      " 9   purpose           21525 non-null  object\n",
      "dtypes: int64(5), object(5)\n",
      "memory usage: 1.6+ MB\n"
     ]
    }
   ],
   "source": [
    "for column in list(df.columns):\n",
    "    if df.dtypes[column] == 'float64':\n",
    "        df[column] = df[column].astype(int)\n",
    "df.info()"
   ]
  },
  {
   "cell_type": "markdown",
   "id": "8ebf137d",
   "metadata": {},
   "source": [
    "### Определение и удаление дубликатов."
   ]
  },
  {
   "cell_type": "markdown",
   "id": "b335a9a0",
   "metadata": {},
   "source": [
    "#### Неявные дубликаты."
   ]
  },
  {
   "cell_type": "markdown",
   "id": "abfe7556",
   "metadata": {},
   "source": [
    "Проверим все столбцы типа `object` на неявные дубликаты: `education`, `family_status`, `gender`, `income_type`, `purpose`.          "
   ]
  },
  {
   "cell_type": "markdown",
   "id": "68c61545",
   "metadata": {},
   "source": [
    "##### Колонка  `education`"
   ]
  },
  {
   "cell_type": "code",
   "execution_count": 23,
   "id": "175c6f63",
   "metadata": {},
   "outputs": [
    {
     "data": {
      "text/plain": [
       "array(['ВЫСШЕЕ', 'Высшее', 'НАЧАЛЬНОЕ', 'НЕОКОНЧЕННОЕ ВЫСШЕЕ',\n",
       "       'Начальное', 'Неоконченное высшее', 'СРЕДНЕЕ', 'Среднее',\n",
       "       'УЧЕНАЯ СТЕПЕНЬ', 'Ученая степень', 'высшее', 'начальное',\n",
       "       'неоконченное высшее', 'среднее', 'ученая степень'], dtype=object)"
      ]
     },
     "execution_count": 23,
     "metadata": {},
     "output_type": "execute_result"
    }
   ],
   "source": [
    "df['education'].sort_values().unique() # Просмотр уникальных значений "
   ]
  },
  {
   "cell_type": "markdown",
   "id": "da4f9cc5",
   "metadata": {},
   "source": [
    "Ввиду разных регистров мы можем видеть дубликаты, приведем все значения к нижнему регистру и вновь посмотрим на уникальные значения столбца:"
   ]
  },
  {
   "cell_type": "code",
   "execution_count": 24,
   "id": "4bb447ba",
   "metadata": {},
   "outputs": [],
   "source": [
    "df['ed_lowercase'] = df['education'].str.lower()"
   ]
  },
  {
   "cell_type": "code",
   "execution_count": 25,
   "id": "452835a5",
   "metadata": {},
   "outputs": [
    {
     "data": {
      "text/plain": [
       "array(['высшее', 'начальное', 'неоконченное высшее', 'среднее',\n",
       "       'ученая степень'], dtype=object)"
      ]
     },
     "execution_count": 25,
     "metadata": {},
     "output_type": "execute_result"
    }
   ],
   "source": [
    "df['ed_lowercase'].sort_values().unique()"
   ]
  },
  {
   "cell_type": "code",
   "execution_count": 26,
   "id": "7c145498",
   "metadata": {},
   "outputs": [],
   "source": [
    "df.drop(['education'], axis = 1, inplace=True)"
   ]
  },
  {
   "cell_type": "markdown",
   "id": "1e79429f",
   "metadata": {},
   "source": [
    "##### Колонка  `family_status`"
   ]
  },
  {
   "cell_type": "code",
   "execution_count": 27,
   "id": "3386685f",
   "metadata": {},
   "outputs": [
    {
     "data": {
      "text/plain": [
       "array(['Не женат / не замужем', 'в разводе', 'вдовец / вдова',\n",
       "       'гражданский брак', 'женат / замужем'], dtype=object)"
      ]
     },
     "execution_count": 27,
     "metadata": {},
     "output_type": "execute_result"
    }
   ],
   "source": [
    "df['family_status'].sort_values().unique() # Просмотр уникальных значений "
   ]
  },
  {
   "cell_type": "markdown",
   "id": "bd27abb1",
   "metadata": {},
   "source": [
    "Дубликатов не было обнаружено, рассмотрим следующую."
   ]
  },
  {
   "cell_type": "markdown",
   "id": "8a522e19",
   "metadata": {},
   "source": [
    "##### Колонка  `gender`"
   ]
  },
  {
   "cell_type": "code",
   "execution_count": 28,
   "id": "45d6d05a",
   "metadata": {},
   "outputs": [
    {
     "data": {
      "text/plain": [
       "array(['F', 'M', 'XNA'], dtype=object)"
      ]
     },
     "execution_count": 28,
     "metadata": {},
     "output_type": "execute_result"
    }
   ],
   "source": [
    "df['gender'].sort_values().unique() # Просмотр уникальных значений "
   ]
  },
  {
   "cell_type": "markdown",
   "id": "efa831e6",
   "metadata": {},
   "source": [
    "Через просмотр уникальных значений нашли пропуски, но указаны они в качестве строки. Посмотрим сколько строк содержат 'XNA':"
   ]
  },
  {
   "cell_type": "code",
   "execution_count": 29,
   "id": "c52fd217",
   "metadata": {},
   "outputs": [
    {
     "data": {
      "text/html": [
       "<div>\n",
       "<style scoped>\n",
       "    .dataframe tbody tr th:only-of-type {\n",
       "        vertical-align: middle;\n",
       "    }\n",
       "\n",
       "    .dataframe tbody tr th {\n",
       "        vertical-align: top;\n",
       "    }\n",
       "\n",
       "    .dataframe thead th {\n",
       "        text-align: right;\n",
       "    }\n",
       "</style>\n",
       "<table border=\"1\" class=\"dataframe\">\n",
       "  <thead>\n",
       "    <tr style=\"text-align: right;\">\n",
       "      <th></th>\n",
       "      <th>dob_years</th>\n",
       "      <th>education_id</th>\n",
       "      <th>family_status</th>\n",
       "      <th>family_status_id</th>\n",
       "      <th>gender</th>\n",
       "      <th>income_type</th>\n",
       "      <th>debt</th>\n",
       "      <th>total_income</th>\n",
       "      <th>purpose</th>\n",
       "      <th>ed_lowercase</th>\n",
       "    </tr>\n",
       "  </thead>\n",
       "  <tbody>\n",
       "    <tr>\n",
       "      <th>10701</th>\n",
       "      <td>24</td>\n",
       "      <td>2</td>\n",
       "      <td>гражданский брак</td>\n",
       "      <td>1</td>\n",
       "      <td>XNA</td>\n",
       "      <td>компаньон</td>\n",
       "      <td>0</td>\n",
       "      <td>203905</td>\n",
       "      <td>покупка недвижимости</td>\n",
       "      <td>неоконченное высшее</td>\n",
       "    </tr>\n",
       "  </tbody>\n",
       "</table>\n",
       "</div>"
      ],
      "text/plain": [
       "       dob_years  education_id     family_status  family_status_id gender  \\\n",
       "10701         24             2  гражданский брак                 1    XNA   \n",
       "\n",
       "      income_type  debt  total_income               purpose  \\\n",
       "10701   компаньон     0        203905  покупка недвижимости   \n",
       "\n",
       "              ed_lowercase  \n",
       "10701  неоконченное высшее  "
      ]
     },
     "execution_count": 29,
     "metadata": {},
     "output_type": "execute_result"
    }
   ],
   "source": [
    "df[df['gender'] == 'XNA'] #ищем строки, которые соотвествуют условию"
   ]
  },
  {
   "cell_type": "markdown",
   "id": "49c4af96",
   "metadata": {},
   "source": [
    "Всего лишь одна строка имеет пропуск в этом столбце, поэтому целесообразно ее удалить (несущественна для анализа):"
   ]
  },
  {
   "cell_type": "code",
   "execution_count": 30,
   "id": "2cdba824",
   "metadata": {},
   "outputs": [
    {
     "data": {
      "text/plain": [
       "array(['F', 'M'], dtype=object)"
      ]
     },
     "execution_count": 30,
     "metadata": {},
     "output_type": "execute_result"
    }
   ],
   "source": [
    "df = df[df['gender'] != 'XNA'] #придаем датафрейму новое значения, гда строка с пропуском отсутствует\n",
    "df['gender'].sort_values().unique() #проверяем уникальность значений"
   ]
  },
  {
   "cell_type": "markdown",
   "id": "e7067b4f",
   "metadata": {},
   "source": [
    "##### Колонка  `income_type`"
   ]
  },
  {
   "cell_type": "code",
   "execution_count": 31,
   "id": "776485ab",
   "metadata": {},
   "outputs": [
    {
     "data": {
      "text/plain": [
       "array(['безработный', 'в декрете', 'госслужащий', 'компаньон',\n",
       "       'пенсионер', 'предприниматель', 'сотрудник', 'студент'],\n",
       "      dtype=object)"
      ]
     },
     "execution_count": 31,
     "metadata": {},
     "output_type": "execute_result"
    }
   ],
   "source": [
    "df['income_type'].sort_values().unique() # Просмотр уникальных значений "
   ]
  },
  {
   "cell_type": "markdown",
   "id": "b12bff44",
   "metadata": {},
   "source": [
    "Дубликатов не было обнаружено, перейдем к следующей колонке."
   ]
  },
  {
   "cell_type": "markdown",
   "id": "0bb6bdeb",
   "metadata": {},
   "source": [
    "##### Колонка  `purpose`"
   ]
  },
  {
   "cell_type": "code",
   "execution_count": 32,
   "id": "7fc22e7d",
   "metadata": {},
   "outputs": [
    {
     "data": {
      "text/plain": [
       "array(['автомобили', 'автомобиль', 'высшее образование',\n",
       "       'дополнительное образование', 'жилье',\n",
       "       'заняться высшим образованием', 'заняться образованием',\n",
       "       'на покупку автомобиля', 'на покупку подержанного автомобиля',\n",
       "       'на покупку своего автомобиля', 'на проведение свадьбы',\n",
       "       'недвижимость', 'образование', 'операции с жильем',\n",
       "       'операции с коммерческой недвижимостью',\n",
       "       'операции с недвижимостью', 'операции со своей недвижимостью',\n",
       "       'покупка жилой недвижимости', 'покупка жилья',\n",
       "       'покупка жилья для сдачи', 'покупка жилья для семьи',\n",
       "       'покупка коммерческой недвижимости', 'покупка недвижимости',\n",
       "       'покупка своего жилья', 'получение высшего образования',\n",
       "       'получение дополнительного образования', 'получение образования',\n",
       "       'приобретение автомобиля', 'профильное образование',\n",
       "       'ремонт жилью', 'свадьба', 'свой автомобиль',\n",
       "       'сделка с автомобилем', 'сделка с подержанным автомобилем',\n",
       "       'строительство жилой недвижимости', 'строительство недвижимости',\n",
       "       'строительство собственной недвижимости', 'сыграть свадьбу'],\n",
       "      dtype=object)"
      ]
     },
     "execution_count": 32,
     "metadata": {},
     "output_type": "execute_result"
    }
   ],
   "source": [
    "df['purpose'].sort_values().unique() # Просмотр уникальных значений "
   ]
  },
  {
   "cell_type": "markdown",
   "id": "7d002182",
   "metadata": {},
   "source": [
    "Можно увидить очень много дубликат, в отделе категоризации поближе поработаем с данными и обобщим все одинаковые значения. "
   ]
  },
  {
   "cell_type": "markdown",
   "id": "a3781dbd",
   "metadata": {},
   "source": [
    "#### Явные дубликаты."
   ]
  },
  {
   "cell_type": "markdown",
   "id": "3fddf2c6",
   "metadata": {},
   "source": [
    "Для начала проверим данные на явные дубликаты:"
   ]
  },
  {
   "cell_type": "code",
   "execution_count": 33,
   "id": "9a55a475",
   "metadata": {},
   "outputs": [
    {
     "data": {
      "text/plain": [
       "110"
      ]
     },
     "execution_count": 33,
     "metadata": {},
     "output_type": "execute_result"
    }
   ],
   "source": [
    "df.duplicated().sum() #подсчет явных дубликатов"
   ]
  },
  {
   "cell_type": "markdown",
   "id": "21eb412b",
   "metadata": {},
   "source": [
    "Удалим все явные дубликаты из данных:"
   ]
  },
  {
   "cell_type": "code",
   "execution_count": 34,
   "id": "b27b2770",
   "metadata": {},
   "outputs": [],
   "source": [
    "df = df.drop_duplicates().reset_index(drop=True)# удаление явных дубликатов (с удалением старых индексов и формированием новых)"
   ]
  },
  {
   "cell_type": "markdown",
   "id": "1cf8fec7",
   "metadata": {},
   "source": [
    "Ещё раз посчитаем явные дубликаты в таблице — убедимся, что полностью от них избавились:"
   ]
  },
  {
   "cell_type": "code",
   "execution_count": 35,
   "id": "55862000",
   "metadata": {},
   "outputs": [
    {
     "data": {
      "text/plain": [
       "0"
      ]
     },
     "execution_count": 35,
     "metadata": {},
     "output_type": "execute_result"
    }
   ],
   "source": [
    "df.duplicated().sum() # проверка на отсутствие дубликатов"
   ]
  },
  {
   "cell_type": "markdown",
   "id": "e26b0210",
   "metadata": {},
   "source": [
    "**Выводы**\n",
    "\n",
    "Предобработка обнаружила три проблемы в данных:\n",
    "\n",
    "- аномальные значения,\n",
    "- пропущенные значения,\n",
    "- дубликаты — явные и неявные.\n",
    "\n",
    "Мы заполнили пропуски и исключили аномальные значения, чтобы упростить работу с таблицей. Без дубликатов исследование станет более точным.\n",
    "\n",
    "\n",
    "Теперь можно перейти к анализу. "
   ]
  },
  {
   "cell_type": "markdown",
   "id": "048119d9",
   "metadata": {},
   "source": [
    "##  Анализ "
   ]
  },
  {
   "cell_type": "markdown",
   "id": "1a4d9a15",
   "metadata": {},
   "source": [
    "### Формирование дополнительных датафреймов словарей, декомпозиция исходного датафрейма."
   ]
  },
  {
   "cell_type": "markdown",
   "id": "70c3d7b4",
   "metadata": {},
   "source": [
    "Создадим отдельные датафреймы, которые упростят работу с таблицей:"
   ]
  },
  {
   "cell_type": "code",
   "execution_count": 36,
   "id": "bd91609e",
   "metadata": {},
   "outputs": [
    {
     "data": {
      "text/html": [
       "<div>\n",
       "<style scoped>\n",
       "    .dataframe tbody tr th:only-of-type {\n",
       "        vertical-align: middle;\n",
       "    }\n",
       "\n",
       "    .dataframe tbody tr th {\n",
       "        vertical-align: top;\n",
       "    }\n",
       "\n",
       "    .dataframe thead th {\n",
       "        text-align: right;\n",
       "    }\n",
       "</style>\n",
       "<table border=\"1\" class=\"dataframe\">\n",
       "  <thead>\n",
       "    <tr style=\"text-align: right;\">\n",
       "      <th></th>\n",
       "      <th>education</th>\n",
       "      <th>education_id</th>\n",
       "    </tr>\n",
       "  </thead>\n",
       "  <tbody>\n",
       "    <tr>\n",
       "      <th>0</th>\n",
       "      <td>высшее</td>\n",
       "      <td>0</td>\n",
       "    </tr>\n",
       "    <tr>\n",
       "      <th>1</th>\n",
       "      <td>среднее</td>\n",
       "      <td>1</td>\n",
       "    </tr>\n",
       "    <tr>\n",
       "      <th>2</th>\n",
       "      <td>неоконченное высшее</td>\n",
       "      <td>2</td>\n",
       "    </tr>\n",
       "    <tr>\n",
       "      <th>3</th>\n",
       "      <td>начальное</td>\n",
       "      <td>3</td>\n",
       "    </tr>\n",
       "    <tr>\n",
       "      <th>4</th>\n",
       "      <td>ученая степень</td>\n",
       "      <td>4</td>\n",
       "    </tr>\n",
       "  </tbody>\n",
       "</table>\n",
       "</div>"
      ],
      "text/plain": [
       "             education  education_id\n",
       "0               высшее             0\n",
       "1              среднее             1\n",
       "2  неоконченное высшее             2\n",
       "3            начальное             3\n",
       "4       ученая степень             4"
      ]
     },
     "metadata": {},
     "output_type": "display_data"
    }
   ],
   "source": [
    "#создаем словарь со значениями \n",
    "ed_dict = {\n",
    "    'education' : ['высшее', 'начальное', 'неоконченное высшее', 'среднее','ученая степень'],\n",
    "    'education_id': [\n",
    "        df[df['ed_lowercase'] == 'высшее']['education_id'].unique()[0],\n",
    "        df[df['ed_lowercase'] == 'начальное']['education_id'].unique()[0],\n",
    "        df[df['ed_lowercase'] == 'неоконченное высшее']['education_id'].unique()[0],\n",
    "        df[df['ed_lowercase'] == 'среднее']['education_id'].unique()[0],\n",
    "        df[df['ed_lowercase'] == 'ученая степень']['education_id'].unique()[0]\n",
    "    ]\n",
    "}\n",
    "#формируем датафрейм\n",
    "df_ed = pd.DataFrame(ed_dict).sort_values('education_id').reset_index(drop=True)\n",
    "display(df_ed)"
   ]
  },
  {
   "cell_type": "code",
   "execution_count": 37,
   "id": "07a36079",
   "metadata": {
    "scrolled": true
   },
   "outputs": [
    {
     "data": {
      "text/html": [
       "<div>\n",
       "<style scoped>\n",
       "    .dataframe tbody tr th:only-of-type {\n",
       "        vertical-align: middle;\n",
       "    }\n",
       "\n",
       "    .dataframe tbody tr th {\n",
       "        vertical-align: top;\n",
       "    }\n",
       "\n",
       "    .dataframe thead th {\n",
       "        text-align: right;\n",
       "    }\n",
       "</style>\n",
       "<table border=\"1\" class=\"dataframe\">\n",
       "  <thead>\n",
       "    <tr style=\"text-align: right;\">\n",
       "      <th></th>\n",
       "      <th>family_status</th>\n",
       "      <th>family_status_id</th>\n",
       "    </tr>\n",
       "  </thead>\n",
       "  <tbody>\n",
       "    <tr>\n",
       "      <th>0</th>\n",
       "      <td>женат / замужем</td>\n",
       "      <td>0</td>\n",
       "    </tr>\n",
       "    <tr>\n",
       "      <th>1</th>\n",
       "      <td>гражданский брак</td>\n",
       "      <td>1</td>\n",
       "    </tr>\n",
       "    <tr>\n",
       "      <th>2</th>\n",
       "      <td>вдовец / вдова</td>\n",
       "      <td>2</td>\n",
       "    </tr>\n",
       "    <tr>\n",
       "      <th>3</th>\n",
       "      <td>в разводе</td>\n",
       "      <td>3</td>\n",
       "    </tr>\n",
       "    <tr>\n",
       "      <th>4</th>\n",
       "      <td>Не женат / не замужем</td>\n",
       "      <td>4</td>\n",
       "    </tr>\n",
       "  </tbody>\n",
       "</table>\n",
       "</div>"
      ],
      "text/plain": [
       "           family_status  family_status_id\n",
       "0        женат / замужем                 0\n",
       "1       гражданский брак                 1\n",
       "2         вдовец / вдова                 2\n",
       "3              в разводе                 3\n",
       "4  Не женат / не замужем                 4"
      ]
     },
     "metadata": {},
     "output_type": "display_data"
    }
   ],
   "source": [
    "#создаем словарь со значениями \n",
    "fam_dict = {\n",
    "    'family_status' : ['Не женат / не замужем', 'в разводе', 'вдовец / вдова',\n",
    "       'гражданский брак', 'женат / замужем'],\n",
    "    'family_status_id': [\n",
    "        df[df['family_status'] == 'Не женат / не замужем']['family_status_id'].unique()[0],\n",
    "        df[df['family_status'] == 'в разводе']['family_status_id'].unique()[0],\n",
    "        df[df['family_status'] == 'вдовец / вдова']['family_status_id'].unique()[0],\n",
    "        df[df['family_status'] == 'гражданский брак']['family_status_id'].unique()[0],\n",
    "        df[df['family_status'] == 'женат / замужем']['family_status_id'].unique()[0]\n",
    "    ]\n",
    "}\n",
    "#формируем датафрейм\n",
    "df_fam = pd.DataFrame(fam_dict).sort_values('family_status_id').reset_index(drop=True)\n",
    "display(df_fam)"
   ]
  },
  {
   "cell_type": "markdown",
   "id": "1c554011",
   "metadata": {},
   "source": [
    "Удалим ненужные уже нам столбцы из исходной таблицы: `ed_lowercase` и `family_status`"
   ]
  },
  {
   "cell_type": "code",
   "execution_count": 38,
   "id": "cb755149",
   "metadata": {},
   "outputs": [],
   "source": [
    "df.drop(['ed_lowercase','family_status'], axis = 1, inplace=True)"
   ]
  },
  {
   "cell_type": "markdown",
   "id": "0478c324",
   "metadata": {},
   "source": [
    "Посмотрим насколько изменилась таблица:"
   ]
  },
  {
   "cell_type": "code",
   "execution_count": 39,
   "id": "62260d32",
   "metadata": {},
   "outputs": [
    {
     "data": {
      "text/html": [
       "<div>\n",
       "<style scoped>\n",
       "    .dataframe tbody tr th:only-of-type {\n",
       "        vertical-align: middle;\n",
       "    }\n",
       "\n",
       "    .dataframe tbody tr th {\n",
       "        vertical-align: top;\n",
       "    }\n",
       "\n",
       "    .dataframe thead th {\n",
       "        text-align: right;\n",
       "    }\n",
       "</style>\n",
       "<table border=\"1\" class=\"dataframe\">\n",
       "  <thead>\n",
       "    <tr style=\"text-align: right;\">\n",
       "      <th></th>\n",
       "      <th>dob_years</th>\n",
       "      <th>education_id</th>\n",
       "      <th>family_status_id</th>\n",
       "      <th>gender</th>\n",
       "      <th>income_type</th>\n",
       "      <th>debt</th>\n",
       "      <th>total_income</th>\n",
       "      <th>purpose</th>\n",
       "    </tr>\n",
       "  </thead>\n",
       "  <tbody>\n",
       "    <tr>\n",
       "      <th>0</th>\n",
       "      <td>42</td>\n",
       "      <td>0</td>\n",
       "      <td>0</td>\n",
       "      <td>F</td>\n",
       "      <td>сотрудник</td>\n",
       "      <td>0</td>\n",
       "      <td>253875</td>\n",
       "      <td>покупка жилья</td>\n",
       "    </tr>\n",
       "    <tr>\n",
       "      <th>1</th>\n",
       "      <td>36</td>\n",
       "      <td>1</td>\n",
       "      <td>0</td>\n",
       "      <td>F</td>\n",
       "      <td>сотрудник</td>\n",
       "      <td>0</td>\n",
       "      <td>112080</td>\n",
       "      <td>приобретение автомобиля</td>\n",
       "    </tr>\n",
       "    <tr>\n",
       "      <th>2</th>\n",
       "      <td>33</td>\n",
       "      <td>1</td>\n",
       "      <td>0</td>\n",
       "      <td>M</td>\n",
       "      <td>сотрудник</td>\n",
       "      <td>0</td>\n",
       "      <td>145885</td>\n",
       "      <td>покупка жилья</td>\n",
       "    </tr>\n",
       "    <tr>\n",
       "      <th>3</th>\n",
       "      <td>32</td>\n",
       "      <td>1</td>\n",
       "      <td>0</td>\n",
       "      <td>M</td>\n",
       "      <td>сотрудник</td>\n",
       "      <td>0</td>\n",
       "      <td>267628</td>\n",
       "      <td>дополнительное образование</td>\n",
       "    </tr>\n",
       "    <tr>\n",
       "      <th>4</th>\n",
       "      <td>53</td>\n",
       "      <td>1</td>\n",
       "      <td>1</td>\n",
       "      <td>F</td>\n",
       "      <td>пенсионер</td>\n",
       "      <td>0</td>\n",
       "      <td>158616</td>\n",
       "      <td>сыграть свадьбу</td>\n",
       "    </tr>\n",
       "  </tbody>\n",
       "</table>\n",
       "</div>"
      ],
      "text/plain": [
       "   dob_years  education_id  family_status_id gender income_type  debt  \\\n",
       "0         42             0                 0      F   сотрудник     0   \n",
       "1         36             1                 0      F   сотрудник     0   \n",
       "2         33             1                 0      M   сотрудник     0   \n",
       "3         32             1                 0      M   сотрудник     0   \n",
       "4         53             1                 1      F   пенсионер     0   \n",
       "\n",
       "   total_income                     purpose  \n",
       "0        253875               покупка жилья  \n",
       "1        112080     приобретение автомобиля  \n",
       "2        145885               покупка жилья  \n",
       "3        267628  дополнительное образование  \n",
       "4        158616             сыграть свадьбу  "
      ]
     },
     "metadata": {},
     "output_type": "display_data"
    }
   ],
   "source": [
    "display(df.head())"
   ]
  },
  {
   "cell_type": "markdown",
   "id": "8930ad18",
   "metadata": {},
   "source": [
    "### Категоризация."
   ]
  },
  {
   "cell_type": "markdown",
   "id": "94caebd3",
   "metadata": {},
   "source": [
    "#### Категоризация дохода."
   ]
  },
  {
   "cell_type": "markdown",
   "id": "feef08b8",
   "metadata": {},
   "source": [
    "Разобьем доходы клииентов на категории, чтобы было удобней делать дальнейший анализ:"
   ]
  },
  {
   "cell_type": "code",
   "execution_count": 40,
   "id": "5119fab5",
   "metadata": {},
   "outputs": [
    {
     "data": {
      "text/html": [
       "<div>\n",
       "<style scoped>\n",
       "    .dataframe tbody tr th:only-of-type {\n",
       "        vertical-align: middle;\n",
       "    }\n",
       "\n",
       "    .dataframe tbody tr th {\n",
       "        vertical-align: top;\n",
       "    }\n",
       "\n",
       "    .dataframe thead th {\n",
       "        text-align: right;\n",
       "    }\n",
       "</style>\n",
       "<table border=\"1\" class=\"dataframe\">\n",
       "  <thead>\n",
       "    <tr style=\"text-align: right;\">\n",
       "      <th></th>\n",
       "      <th>dob_years</th>\n",
       "      <th>education_id</th>\n",
       "      <th>family_status_id</th>\n",
       "      <th>gender</th>\n",
       "      <th>income_type</th>\n",
       "      <th>debt</th>\n",
       "      <th>total_income</th>\n",
       "      <th>purpose</th>\n",
       "      <th>total_income_category</th>\n",
       "    </tr>\n",
       "  </thead>\n",
       "  <tbody>\n",
       "    <tr>\n",
       "      <th>0</th>\n",
       "      <td>42</td>\n",
       "      <td>0</td>\n",
       "      <td>0</td>\n",
       "      <td>F</td>\n",
       "      <td>сотрудник</td>\n",
       "      <td>0</td>\n",
       "      <td>253875</td>\n",
       "      <td>покупка жилья</td>\n",
       "      <td>B</td>\n",
       "    </tr>\n",
       "    <tr>\n",
       "      <th>1</th>\n",
       "      <td>36</td>\n",
       "      <td>1</td>\n",
       "      <td>0</td>\n",
       "      <td>F</td>\n",
       "      <td>сотрудник</td>\n",
       "      <td>0</td>\n",
       "      <td>112080</td>\n",
       "      <td>приобретение автомобиля</td>\n",
       "      <td>C</td>\n",
       "    </tr>\n",
       "    <tr>\n",
       "      <th>2</th>\n",
       "      <td>33</td>\n",
       "      <td>1</td>\n",
       "      <td>0</td>\n",
       "      <td>M</td>\n",
       "      <td>сотрудник</td>\n",
       "      <td>0</td>\n",
       "      <td>145885</td>\n",
       "      <td>покупка жилья</td>\n",
       "      <td>C</td>\n",
       "    </tr>\n",
       "    <tr>\n",
       "      <th>3</th>\n",
       "      <td>32</td>\n",
       "      <td>1</td>\n",
       "      <td>0</td>\n",
       "      <td>M</td>\n",
       "      <td>сотрудник</td>\n",
       "      <td>0</td>\n",
       "      <td>267628</td>\n",
       "      <td>дополнительное образование</td>\n",
       "      <td>B</td>\n",
       "    </tr>\n",
       "    <tr>\n",
       "      <th>4</th>\n",
       "      <td>53</td>\n",
       "      <td>1</td>\n",
       "      <td>1</td>\n",
       "      <td>F</td>\n",
       "      <td>пенсионер</td>\n",
       "      <td>0</td>\n",
       "      <td>158616</td>\n",
       "      <td>сыграть свадьбу</td>\n",
       "      <td>C</td>\n",
       "    </tr>\n",
       "  </tbody>\n",
       "</table>\n",
       "</div>"
      ],
      "text/plain": [
       "   dob_years  education_id  family_status_id gender income_type  debt  \\\n",
       "0         42             0                 0      F   сотрудник     0   \n",
       "1         36             1                 0      F   сотрудник     0   \n",
       "2         33             1                 0      M   сотрудник     0   \n",
       "3         32             1                 0      M   сотрудник     0   \n",
       "4         53             1                 1      F   пенсионер     0   \n",
       "\n",
       "   total_income                     purpose total_income_category  \n",
       "0        253875               покупка жилья                     B  \n",
       "1        112080     приобретение автомобиля                     C  \n",
       "2        145885               покупка жилья                     C  \n",
       "3        267628  дополнительное образование                     B  \n",
       "4        158616             сыграть свадьбу                     C  "
      ]
     },
     "metadata": {},
     "output_type": "display_data"
    }
   ],
   "source": [
    "#создадим функцию, которая принимает в качестве аргумента значения колонки total_income\n",
    "def total_income_category(row):\n",
    "    income_category = row['total_income']\n",
    "    #через условные операторы разобьем доход на категории\n",
    "    if income_category <= 3000:\n",
    "        return 'E'\n",
    "    elif income_category <= 5000 and income_category >= 3001:\n",
    "        return 'D'\n",
    "    elif income_category >= 5001 and income_category <= 200000:\n",
    "        return 'C'\n",
    "    elif income_category >= 200001 and income_category <= 1000000:\n",
    "        return 'B'\n",
    "    else:\n",
    "        return 'A'\n",
    "df['total_income_category'] = df.apply(total_income_category, axis=1)\n",
    "display(df.head())"
   ]
  },
  {
   "cell_type": "markdown",
   "id": "50f160f6",
   "metadata": {},
   "source": [
    "#### Категоризация целей."
   ]
  },
  {
   "cell_type": "code",
   "execution_count": 41,
   "id": "99706f4a",
   "metadata": {},
   "outputs": [],
   "source": [
    "def replace_wrong_purpose(wrong_purpose, correct_purpose):\n",
    "    for purposes in wrong_purpose:\n",
    "        df['purpose'] = df['purpose'].replace(wrong_purpose, correct_purpose)"
   ]
  },
  {
   "cell_type": "code",
   "execution_count": 42,
   "id": "cd6bf519",
   "metadata": {},
   "outputs": [],
   "source": [
    "#создаем словарь с генераторами словарей\n",
    "purpose = {\n",
    "    'автомобиль': [x for x in df['purpose'].unique() if 'авто' in x],\n",
    "    'жилье' : [x for x in df['purpose'].unique() if 'жил' in x],\n",
    "    'недвижимость' : [x for x in df['purpose'].unique() if 'недвижим' in x],\n",
    "    'образование' : [x for x in df['purpose'].unique() if 'образ' in x],\n",
    "    'свадьба' : [x for x in df['purpose'].unique() if 'свадьб' in x]                                               \n",
    "}\n",
    "#используем функцию и меняем дубликаты на словосочетания \n",
    "replace_wrong_purpose(purpose['автомобиль'], 'покупка автомобиля')\n",
    "replace_wrong_purpose(purpose['жилье'], 'приобритение жилья')\n",
    "replace_wrong_purpose(purpose['недвижимость'], 'приобритение жилья')\n",
    "replace_wrong_purpose(purpose['образование'], 'получение образования')\n",
    "replace_wrong_purpose(purpose['свадьба'], 'проведение свадьбы')"
   ]
  },
  {
   "cell_type": "markdown",
   "id": "976fd7ce",
   "metadata": {},
   "source": [
    "Проверим остались ли дубликаты:"
   ]
  },
  {
   "cell_type": "code",
   "execution_count": 43,
   "id": "449e4935",
   "metadata": {},
   "outputs": [
    {
     "data": {
      "text/plain": [
       "array(['покупка автомобиля', 'получение образования',\n",
       "       'приобритение жилья', 'проведение свадьбы'], dtype=object)"
      ]
     },
     "execution_count": 43,
     "metadata": {},
     "output_type": "execute_result"
    }
   ],
   "source": [
    "df['purpose'].sort_values().unique()"
   ]
  },
  {
   "cell_type": "markdown",
   "id": "f9cf9a58",
   "metadata": {},
   "source": [
    "### Ответы на вопросы."
   ]
  },
  {
   "cell_type": "markdown",
   "id": "c75c0761",
   "metadata": {},
   "source": [
    "Оценим в целом сколько клиентов в процентом соотношении выплачивают кредит вовремя или наоборот:"
   ]
  },
  {
   "cell_type": "code",
   "execution_count": 44,
   "id": "83ba1571",
   "metadata": {},
   "outputs": [
    {
     "name": "stdout",
     "output_type": "stream",
     "text": [
      "Количество кредитов, выплаченных не в срок: 8%\n",
      "Количество кредитов, выплаченных в срок: 92%\n"
     ]
    }
   ],
   "source": [
    "debt_bad = df[df['debt'] == 1]['debt'].count() / len(df['debt'])\n",
    "debt_good = df[df['debt'] == 0]['debt'].count() / len(df['debt'])\n",
    "print(f'Количество кредитов, выплаченных не в срок: {debt_bad:.0%}')\n",
    "print(f'Количество кредитов, выплаченных в срок: {debt_good:.0%}')"
   ]
  },
  {
   "cell_type": "markdown",
   "id": "baaaeb66",
   "metadata": {},
   "source": [
    "##### Вопрос 1:"
   ]
  },
  {
   "cell_type": "markdown",
   "id": "c24df8f6",
   "metadata": {},
   "source": [
    "Есть ли зависимость между количеством детей и возвратом кредита в срок?"
   ]
  },
  {
   "cell_type": "markdown",
   "id": "c06c8097",
   "metadata": {},
   "source": [
    "Ввиду того, что мы удалили столбце `children`, на вопрос невозможно ответить."
   ]
  },
  {
   "cell_type": "markdown",
   "id": "ac44800a",
   "metadata": {},
   "source": [
    "##### Вопрос 2:"
   ]
  },
  {
   "cell_type": "markdown",
   "id": "1271e5b9",
   "metadata": {},
   "source": [
    "Есть ли зависимость между семейным положением и возвратом кредита в срок?"
   ]
  },
  {
   "cell_type": "code",
   "execution_count": 45,
   "id": "0304e5d5",
   "metadata": {},
   "outputs": [
    {
     "data": {
      "text/html": [
       "<div>\n",
       "<style scoped>\n",
       "    .dataframe tbody tr th:only-of-type {\n",
       "        vertical-align: middle;\n",
       "    }\n",
       "\n",
       "    .dataframe tbody tr th {\n",
       "        vertical-align: top;\n",
       "    }\n",
       "\n",
       "    .dataframe thead th {\n",
       "        text-align: right;\n",
       "    }\n",
       "</style>\n",
       "<table border=\"1\" class=\"dataframe\">\n",
       "  <thead>\n",
       "    <tr style=\"text-align: right;\">\n",
       "      <th></th>\n",
       "      <th>sum</th>\n",
       "      <th>count</th>\n",
       "      <th>mean</th>\n",
       "    </tr>\n",
       "    <tr>\n",
       "      <th>family_status_id</th>\n",
       "      <th></th>\n",
       "      <th></th>\n",
       "      <th></th>\n",
       "    </tr>\n",
       "  </thead>\n",
       "  <tbody>\n",
       "    <tr>\n",
       "      <th>0</th>\n",
       "      <td>931</td>\n",
       "      <td>12311</td>\n",
       "      <td>0.075623</td>\n",
       "    </tr>\n",
       "    <tr>\n",
       "      <th>1</th>\n",
       "      <td>388</td>\n",
       "      <td>4141</td>\n",
       "      <td>0.093697</td>\n",
       "    </tr>\n",
       "    <tr>\n",
       "      <th>2</th>\n",
       "      <td>63</td>\n",
       "      <td>959</td>\n",
       "      <td>0.065693</td>\n",
       "    </tr>\n",
       "    <tr>\n",
       "      <th>3</th>\n",
       "      <td>85</td>\n",
       "      <td>1195</td>\n",
       "      <td>0.071130</td>\n",
       "    </tr>\n",
       "    <tr>\n",
       "      <th>4</th>\n",
       "      <td>274</td>\n",
       "      <td>2808</td>\n",
       "      <td>0.097578</td>\n",
       "    </tr>\n",
       "  </tbody>\n",
       "</table>\n",
       "</div>"
      ],
      "text/plain": [
       "                  sum  count      mean\n",
       "family_status_id                      \n",
       "0                 931  12311  0.075623\n",
       "1                 388   4141  0.093697\n",
       "2                  63    959  0.065693\n",
       "3                  85   1195  0.071130\n",
       "4                 274   2808  0.097578"
      ]
     },
     "metadata": {},
     "output_type": "display_data"
    }
   ],
   "source": [
    "df_fams = df.pivot_table(index=['family_status_id'], values='debt', aggfunc=['sum','count', 'mean'])\n",
    "df_fams.columns = ['sum', 'count', 'mean']\n",
    "display(df_fams.head())"
   ]
  },
  {
   "cell_type": "markdown",
   "id": "2c696ec1",
   "metadata": {},
   "source": [
    "Изобразим данные через гистограммы и посмотрим, как мы их можем соотнести:"
   ]
  },
  {
   "cell_type": "code",
   "execution_count": 46,
   "id": "eabe8bbd",
   "metadata": {},
   "outputs": [
    {
     "data": {
      "text/plain": [
       "<AxesSubplot:>"
      ]
     },
     "execution_count": 46,
     "metadata": {},
     "output_type": "execute_result"
    },
    {
     "data": {
      "image/png": "[encoded data removed]",
      "text/plain": [
       "<Figure size 432x288 with 1 Axes>"
      ]
     },
     "metadata": {
      "needs_background": "light"
     },
     "output_type": "display_data"
    }
   ],
   "source": [
    "import seaborn as sb\n",
    "sb.barplot(y = list(df_fams['count']), x = [0, 1, 2, 3, 4])"
   ]
  },
  {
   "cell_type": "code",
   "execution_count": 47,
   "id": "fb7dde57",
   "metadata": {},
   "outputs": [
    {
     "data": {
      "text/plain": [
       "<AxesSubplot:>"
      ]
     },
     "execution_count": 47,
     "metadata": {},
     "output_type": "execute_result"
    },
    {
     "data": {
      "image/png": "[encoded data removed]",
      "text/plain": [
       "<Figure size 432x288 with 1 Axes>"
      ]
     },
     "metadata": {
      "needs_background": "light"
     },
     "output_type": "display_data"
    }
   ],
   "source": [
    "sb.barplot(y = list(df_fams['sum']), x = [0, 1, 2, 3, 4])"
   ]
  },
  {
   "cell_type": "markdown",
   "id": "25793540",
   "metadata": {},
   "source": [
    "К сожалению, из этих графиков можно понять лишь присутствие связи, но никак не ее особенность, поэтому посчитаем соотношения одной строки к другой и изобразим:"
   ]
  },
  {
   "cell_type": "code",
   "execution_count": 48,
   "id": "c2381396",
   "metadata": {},
   "outputs": [
    {
     "data": {
      "text/plain": [
       "<AxesSubplot:>"
      ]
     },
     "execution_count": 48,
     "metadata": {},
     "output_type": "execute_result"
    },
    {
     "data": {
      "image/png": "[encoded data removed]",
      "text/plain": [
       "<Figure size 432x288 with 1 Axes>"
      ]
     },
     "metadata": {
      "needs_background": "light"
     },
     "output_type": "display_data"
    }
   ],
   "source": [
    "sb.barplot(y = list(df_fams['mean']), x = [0, 1, 2, 3, 4])"
   ]
  },
  {
   "cell_type": "markdown",
   "id": "4c6fc2f8",
   "metadata": {},
   "source": [
    "Можем заметить, что у похожих категорий одинаковые процентные соотношения. Так, например, 1 и 4, гражданский брак и не замужем/не женат. Связь определенно имеется, и она нам говорит о том, что просрочка для, например, людей в разводе/ вдовцов в среднем одинакова низка относительно всех категорий. "
   ]
  },
  {
   "cell_type": "markdown",
   "id": "29607506",
   "metadata": {},
   "source": [
    "##### Вопрос 3:"
   ]
  },
  {
   "cell_type": "markdown",
   "id": "1bb1bdc0",
   "metadata": {},
   "source": [
    "Есть ли зависимость между уровнем дохода и возвратом кредита в срок?\n"
   ]
  },
  {
   "cell_type": "code",
   "execution_count": 49,
   "id": "643aa136",
   "metadata": {},
   "outputs": [
    {
     "data": {
      "text/html": [
       "<div>\n",
       "<style scoped>\n",
       "    .dataframe tbody tr th:only-of-type {\n",
       "        vertical-align: middle;\n",
       "    }\n",
       "\n",
       "    .dataframe tbody tr th {\n",
       "        vertical-align: top;\n",
       "    }\n",
       "\n",
       "    .dataframe thead th {\n",
       "        text-align: right;\n",
       "    }\n",
       "</style>\n",
       "<table border=\"1\" class=\"dataframe\">\n",
       "  <thead>\n",
       "    <tr style=\"text-align: right;\">\n",
       "      <th></th>\n",
       "      <th>sum</th>\n",
       "      <th>count</th>\n",
       "      <th>mean</th>\n",
       "    </tr>\n",
       "    <tr>\n",
       "      <th>total_income_category</th>\n",
       "      <th></th>\n",
       "      <th></th>\n",
       "      <th></th>\n",
       "    </tr>\n",
       "  </thead>\n",
       "  <tbody>\n",
       "    <tr>\n",
       "      <th>A</th>\n",
       "      <td>2</td>\n",
       "      <td>25</td>\n",
       "      <td>0.080000</td>\n",
       "    </tr>\n",
       "    <tr>\n",
       "      <th>B</th>\n",
       "      <td>356</td>\n",
       "      <td>5041</td>\n",
       "      <td>0.070621</td>\n",
       "    </tr>\n",
       "    <tr>\n",
       "      <th>C</th>\n",
       "      <td>1383</td>\n",
       "      <td>16348</td>\n",
       "      <td>0.084598</td>\n",
       "    </tr>\n",
       "  </tbody>\n",
       "</table>\n",
       "</div>"
      ],
      "text/plain": [
       "                        sum  count      mean\n",
       "total_income_category                       \n",
       "A                         2     25  0.080000\n",
       "B                       356   5041  0.070621\n",
       "C                      1383  16348  0.084598"
      ]
     },
     "metadata": {},
     "output_type": "display_data"
    }
   ],
   "source": [
    "df_money = df.pivot_table(index=['total_income_category'], values = 'debt', aggfunc=['sum','count', 'mean'])\n",
    "df_money.columns = ['sum', 'count', 'mean']\n",
    "display(df_money.head())"
   ]
  },
  {
   "cell_type": "markdown",
   "id": "531a1694",
   "metadata": {},
   "source": [
    "Изобразим данные через гистограммы и посмотрим, как мы их можем соотнести:"
   ]
  },
  {
   "cell_type": "code",
   "execution_count": 50,
   "id": "99adb88e",
   "metadata": {},
   "outputs": [
    {
     "data": {
      "text/plain": [
       "<AxesSubplot:>"
      ]
     },
     "execution_count": 50,
     "metadata": {},
     "output_type": "execute_result"
    },
    {
     "data": {
      "image/png": "[encoded data removed]",
      "text/plain": [
       "<Figure size 432x288 with 1 Axes>"
      ]
     },
     "metadata": {
      "needs_background": "light"
     },
     "output_type": "display_data"
    }
   ],
   "source": [
    "sb.barplot(y= list(df_money['count']), x = ['A', 'B', 'C'])"
   ]
  },
  {
   "cell_type": "code",
   "execution_count": 51,
   "id": "787cdc75",
   "metadata": {},
   "outputs": [
    {
     "data": {
      "text/plain": [
       "<AxesSubplot:>"
      ]
     },
     "execution_count": 51,
     "metadata": {},
     "output_type": "execute_result"
    },
    {
     "data": {
      "image/png": "[encoded data removed]",
      "text/plain": [
       "<Figure size 432x288 with 1 Axes>"
      ]
     },
     "metadata": {
      "needs_background": "light"
     },
     "output_type": "display_data"
    }
   ],
   "source": [
    "sb.barplot(y= list(df_money['sum']), x = ['A', 'B', 'C'])"
   ]
  },
  {
   "cell_type": "markdown",
   "id": "a1925ba8",
   "metadata": {},
   "source": [
    "К сожалению, из этих графиков можно понять лишь присутствие связи, но никак не ее особенность, поэтому посчитаем соотношения одной строки к другой и изобразим:"
   ]
  },
  {
   "cell_type": "code",
   "execution_count": 52,
   "id": "e6618630",
   "metadata": {},
   "outputs": [
    {
     "data": {
      "text/plain": [
       "<AxesSubplot:>"
      ]
     },
     "execution_count": 52,
     "metadata": {},
     "output_type": "execute_result"
    },
    {
     "data": {
      "image/png": "[encoded data removed]",
      "text/plain": [
       "<Figure size 432x288 with 1 Axes>"
      ]
     },
     "metadata": {
      "needs_background": "light"
     },
     "output_type": "display_data"
    }
   ],
   "source": [
    "sb.barplot(y= list(df_money['mean']), x = ['A', 'B', 'C'])"
   ]
  },
  {
   "cell_type": "markdown",
   "id": "d769c2db",
   "metadata": {},
   "source": [
    "В среднем риск просрочки кредитов снижается для клиентов с категорией дохода В и увеличивается для категории С."
   ]
  },
  {
   "cell_type": "markdown",
   "id": "b9871038",
   "metadata": {},
   "source": [
    "##### Вопрос 4:"
   ]
  },
  {
   "cell_type": "markdown",
   "id": "37cc7f7f",
   "metadata": {},
   "source": [
    "Как разные цели кредита влияют на его возврат в срок?"
   ]
  },
  {
   "cell_type": "code",
   "execution_count": 53,
   "id": "e31deb23",
   "metadata": {},
   "outputs": [
    {
     "data": {
      "text/html": [
       "<div>\n",
       "<style scoped>\n",
       "    .dataframe tbody tr th:only-of-type {\n",
       "        vertical-align: middle;\n",
       "    }\n",
       "\n",
       "    .dataframe tbody tr th {\n",
       "        vertical-align: top;\n",
       "    }\n",
       "\n",
       "    .dataframe thead th {\n",
       "        text-align: right;\n",
       "    }\n",
       "</style>\n",
       "<table border=\"1\" class=\"dataframe\">\n",
       "  <thead>\n",
       "    <tr style=\"text-align: right;\">\n",
       "      <th></th>\n",
       "      <th>sum</th>\n",
       "      <th>count</th>\n",
       "      <th>mean</th>\n",
       "    </tr>\n",
       "    <tr>\n",
       "      <th>purpose</th>\n",
       "      <th></th>\n",
       "      <th></th>\n",
       "      <th></th>\n",
       "    </tr>\n",
       "  </thead>\n",
       "  <tbody>\n",
       "    <tr>\n",
       "      <th>покупка автомобиля</th>\n",
       "      <td>403</td>\n",
       "      <td>4301</td>\n",
       "      <td>0.093699</td>\n",
       "    </tr>\n",
       "    <tr>\n",
       "      <th>получение образования</th>\n",
       "      <td>370</td>\n",
       "      <td>4002</td>\n",
       "      <td>0.092454</td>\n",
       "    </tr>\n",
       "    <tr>\n",
       "      <th>приобритение жилья</th>\n",
       "      <td>782</td>\n",
       "      <td>10795</td>\n",
       "      <td>0.072441</td>\n",
       "    </tr>\n",
       "    <tr>\n",
       "      <th>проведение свадьбы</th>\n",
       "      <td>186</td>\n",
       "      <td>2316</td>\n",
       "      <td>0.080311</td>\n",
       "    </tr>\n",
       "  </tbody>\n",
       "</table>\n",
       "</div>"
      ],
      "text/plain": [
       "                       sum  count      mean\n",
       "purpose                                    \n",
       "покупка автомобиля     403   4301  0.093699\n",
       "получение образования  370   4002  0.092454\n",
       "приобритение жилья     782  10795  0.072441\n",
       "проведение свадьбы     186   2316  0.080311"
      ]
     },
     "metadata": {},
     "output_type": "display_data"
    }
   ],
   "source": [
    "df_purp = df.pivot_table(index='purpose', values = 'debt', aggfunc=['sum','count', 'mean'])\n",
    "df_purp.columns = ['sum', 'count', 'mean']\n",
    "display(df_purp.head())"
   ]
  },
  {
   "cell_type": "markdown",
   "id": "589f96ca",
   "metadata": {},
   "source": [
    "Изобразим данные через графики и посмотрим, как мы их можем соотнести:"
   ]
  },
  {
   "cell_type": "code",
   "execution_count": 54,
   "id": "a1262d49",
   "metadata": {},
   "outputs": [
    {
     "data": {
      "text/plain": [
       "<AxesSubplot:>"
      ]
     },
     "execution_count": 54,
     "metadata": {},
     "output_type": "execute_result"
    },
    {
     "data": {
      "image/png": "[encoded data removed]",
      "text/plain": [
       "<Figure size 432x288 with 1 Axes>"
      ]
     },
     "metadata": {
      "needs_background": "light"
     },
     "output_type": "display_data"
    }
   ],
   "source": [
    "sb.barplot(y = list(df_purp['count']) , x = ['автомобиль', 'образование', 'жилье', 'свадьба'])"
   ]
  },
  {
   "cell_type": "code",
   "execution_count": 55,
   "id": "32c08b7b",
   "metadata": {},
   "outputs": [
    {
     "data": {
      "text/plain": [
       "<AxesSubplot:>"
      ]
     },
     "execution_count": 55,
     "metadata": {},
     "output_type": "execute_result"
    },
    {
     "data": {
      "image/png": "[encoded data removed]",
      "text/plain": [
       "<Figure size 432x288 with 1 Axes>"
      ]
     },
     "metadata": {
      "needs_background": "light"
     },
     "output_type": "display_data"
    }
   ],
   "source": [
    "sb.barplot(y = list(df_purp['mean']), x = ['автомобиль', 'образование', 'жилье', 'свадьба'])"
   ]
  },
  {
   "cell_type": "markdown",
   "id": "757a1cf3",
   "metadata": {},
   "source": [
    "К сожалению, из этих графиков можно понять лишь присутствие связи, но никак не ее особенность, поэтому посмотрим на график соотношений одной строки к другой:"
   ]
  },
  {
   "cell_type": "code",
   "execution_count": 56,
   "id": "d6d00482",
   "metadata": {},
   "outputs": [
    {
     "data": {
      "text/plain": [
       "<AxesSubplot:>"
      ]
     },
     "execution_count": 56,
     "metadata": {},
     "output_type": "execute_result"
    },
    {
     "data": {
      "image/png": "[encoded data removed]",
      "text/plain": [
       "<Figure size 432x288 with 1 Axes>"
      ]
     },
     "metadata": {
      "needs_background": "light"
     },
     "output_type": "display_data"
    }
   ],
   "source": [
    "sb.barplot(y= list(df_purp['mean']), x = ['автомобиль', 'образование', 'жилье', 'свадьба'])"
   ]
  },
  {
   "cell_type": "markdown",
   "id": "22c5233b",
   "metadata": {},
   "source": [
    "Риск просрочки кредита уменьшается для клиентов с целью приобритения жилья и увеличивается, когда клиенты хотят купить автомобиль или получить образование. "
   ]
  },
  {
   "cell_type": "markdown",
   "id": "39a9660e",
   "metadata": {},
   "source": [
    "## Общий вывод:"
   ]
  },
  {
   "cell_type": "markdown",
   "id": "6920b05d",
   "metadata": {},
   "source": [
    "**Обзор данных**:\n",
    "   - Данные о платежоспособности получили из файла `data.csv`.\n",
    "   - Предварительно качество данных было несильно высокого уровня из-за наличия аномальных значений, дубликатов и пропусков.\n",
    "   - Сами данные представляли из себя сводку личной и платежной информации о клиенте.\n",
    "\n",
    "\n",
    "**Предобработка**:\n",
    "   - Были удалены неявные и явные дубликаты.\n",
    "   - Также заполнили пропуски и обработали аномальные значения.\n",
    "   - Кроме того, сделали категоризацию данных, чтобы упростить работу с таблицей.\n",
    "\n",
    "**Анализ**:\n",
    "   - Цель исследования была выполнена: мы узнали как связаны риск просрочки кредита по отношению к семейному положению клиента - у похожих категорий одинаковый риск приобритения задолженности. Например, для людей в разводе/ вдовцов в среднем одинакова низка относительно всех категорий.\n",
    "   - Рассмотрели и другие зависимости: риск просрочки с доходом клиентов и целью кредита.\n",
    "\n",
    "\n",
    "**Рекомендации по формировании кредитного скоринга**:\n",
    "   - Лучше отдавать предпочтения людям в разводе/вдовцов при выдаче кредита, ибо среди категорий семейного положения их коэффициент просрочки наименьший. \n",
    "   - Клиенты с доходом типа B менее подвержены к приобретению и задолженности по кредиту, в то время как клиенты типа С имеют склонность к просрочке.\n",
    "   - Риск просрочки кредита уменьшается для клиентов с целью приобритения жилья и увеличивается, когда клиенты хотят купить автомобиль или получить образование."
   ]
  }
 ],
 "metadata": {
  "ExecuteTimeLog": [
   {
    "duration": 385,
    "start_time": "2022-04-03T11:32:03.979Z"
   },
   {
    "duration": 65,
    "start_time": "2022-04-03T11:32:35.005Z"
   },
   {
    "duration": 22,
    "start_time": "2022-04-03T11:33:12.282Z"
   },
   {
    "duration": 15,
    "start_time": "2022-04-03T11:34:48.716Z"
   },
   {
    "duration": 11,
    "start_time": "2022-04-03T12:26:04.135Z"
   },
   {
    "duration": 70,
    "start_time": "2022-04-03T12:53:46.045Z"
   },
   {
    "duration": 164,
    "start_time": "2022-04-03T12:53:51.641Z"
   },
   {
    "duration": 3,
    "start_time": "2022-04-03T12:53:56.400Z"
   },
   {
    "duration": 3,
    "start_time": "2022-04-03T12:54:16.792Z"
   },
   {
    "duration": 3,
    "start_time": "2022-04-03T12:55:03.818Z"
   },
   {
    "duration": 3,
    "start_time": "2022-04-03T12:56:28.263Z"
   },
   {
    "duration": 3,
    "start_time": "2022-04-03T12:57:50.428Z"
   },
   {
    "duration": 5,
    "start_time": "2022-04-03T12:58:10.997Z"
   },
   {
    "duration": 165,
    "start_time": "2022-04-03T12:59:34.627Z"
   },
   {
    "duration": 5,
    "start_time": "2022-04-03T13:00:03.800Z"
   },
   {
    "duration": 5,
    "start_time": "2022-04-03T13:00:33.332Z"
   },
   {
    "duration": 4,
    "start_time": "2022-04-03T13:00:54.163Z"
   },
   {
    "duration": 5,
    "start_time": "2022-04-03T13:01:06.234Z"
   },
   {
    "duration": 6,
    "start_time": "2022-04-03T13:03:47.077Z"
   },
   {
    "duration": 6,
    "start_time": "2022-04-03T13:03:58.839Z"
   },
   {
    "duration": 6,
    "start_time": "2022-04-03T13:04:26.664Z"
   },
   {
    "duration": 5,
    "start_time": "2022-04-03T13:04:59.564Z"
   },
   {
    "duration": 5,
    "start_time": "2022-04-03T13:05:34.538Z"
   },
   {
    "duration": 6,
    "start_time": "2022-04-03T13:05:37.905Z"
   },
   {
    "duration": 6,
    "start_time": "2022-04-03T13:06:49.448Z"
   },
   {
    "duration": 7,
    "start_time": "2022-04-03T13:07:01.953Z"
   },
   {
    "duration": 6,
    "start_time": "2022-04-03T13:12:57.467Z"
   },
   {
    "duration": 1071,
    "start_time": "2022-04-03T13:22:42.916Z"
   },
   {
    "duration": 8,
    "start_time": "2022-04-03T13:22:51.842Z"
   },
   {
    "duration": 16,
    "start_time": "2022-04-03T13:22:58.696Z"
   },
   {
    "duration": 33,
    "start_time": "2022-04-03T13:23:33.186Z"
   },
   {
    "duration": 21,
    "start_time": "2022-04-03T13:29:17.715Z"
   },
   {
    "duration": 6,
    "start_time": "2022-04-03T13:32:28.975Z"
   },
   {
    "duration": 5,
    "start_time": "2022-04-03T13:36:41.224Z"
   },
   {
    "duration": 165,
    "start_time": "2022-04-03T13:38:21.000Z"
   },
   {
    "duration": 157,
    "start_time": "2022-04-03T13:39:06.405Z"
   },
   {
    "duration": 163,
    "start_time": "2022-04-03T13:39:36.814Z"
   },
   {
    "duration": 4,
    "start_time": "2022-04-03T13:40:34.210Z"
   },
   {
    "duration": 6,
    "start_time": "2022-04-03T13:41:36.641Z"
   },
   {
    "duration": 6,
    "start_time": "2022-04-03T13:41:46.622Z"
   },
   {
    "duration": 5,
    "start_time": "2022-04-03T13:41:54.198Z"
   },
   {
    "duration": 5,
    "start_time": "2022-04-03T13:42:11.369Z"
   },
   {
    "duration": 4,
    "start_time": "2022-04-03T13:42:19.394Z"
   },
   {
    "duration": 5,
    "start_time": "2022-04-03T13:42:48.482Z"
   },
   {
    "duration": 4,
    "start_time": "2022-04-03T13:42:56.009Z"
   },
   {
    "duration": 5,
    "start_time": "2022-04-03T13:43:10.151Z"
   },
   {
    "duration": 6,
    "start_time": "2022-04-03T13:43:20.307Z"
   },
   {
    "duration": 5,
    "start_time": "2022-04-03T13:43:26.686Z"
   },
   {
    "duration": 5,
    "start_time": "2022-04-03T13:43:30.481Z"
   },
   {
    "duration": 5,
    "start_time": "2022-04-03T13:43:36.471Z"
   },
   {
    "duration": 5,
    "start_time": "2022-04-03T13:43:43.009Z"
   },
   {
    "duration": 4,
    "start_time": "2022-04-03T13:43:57.598Z"
   },
   {
    "duration": 5,
    "start_time": "2022-04-03T13:44:04.623Z"
   },
   {
    "duration": 5,
    "start_time": "2022-04-03T13:44:09.630Z"
   },
   {
    "duration": 5,
    "start_time": "2022-04-03T13:44:14.347Z"
   },
   {
    "duration": 5,
    "start_time": "2022-04-03T13:44:20.263Z"
   },
   {
    "duration": 5,
    "start_time": "2022-04-03T13:44:24.738Z"
   },
   {
    "duration": 5,
    "start_time": "2022-04-03T13:44:30.151Z"
   },
   {
    "duration": 5,
    "start_time": "2022-04-03T13:44:36.107Z"
   },
   {
    "duration": 4,
    "start_time": "2022-04-03T13:44:39.763Z"
   },
   {
    "duration": 5,
    "start_time": "2022-04-03T13:44:43.957Z"
   },
   {
    "duration": 5,
    "start_time": "2022-04-03T13:44:52.641Z"
   },
   {
    "duration": 5,
    "start_time": "2022-04-03T13:45:23.891Z"
   },
   {
    "duration": 6,
    "start_time": "2022-04-03T13:46:37.470Z"
   },
   {
    "duration": 7,
    "start_time": "2022-04-03T13:47:23.779Z"
   },
   {
    "duration": 15,
    "start_time": "2022-04-03T13:52:56.203Z"
   },
   {
    "duration": 7,
    "start_time": "2022-04-03T14:06:48.539Z"
   },
   {
    "duration": 11,
    "start_time": "2022-04-03T14:07:27.020Z"
   },
   {
    "duration": 7,
    "start_time": "2022-04-03T14:22:46.184Z"
   },
   {
    "duration": 12,
    "start_time": "2022-04-03T14:22:48.681Z"
   },
   {
    "duration": 6,
    "start_time": "2022-04-03T14:22:51.954Z"
   },
   {
    "duration": 11,
    "start_time": "2022-04-03T14:22:54.550Z"
   },
   {
    "duration": 6,
    "start_time": "2022-04-03T14:23:08.032Z"
   },
   {
    "duration": 11,
    "start_time": "2022-04-03T14:23:09.475Z"
   },
   {
    "duration": 5,
    "start_time": "2022-04-03T14:23:18.769Z"
   },
   {
    "duration": 10,
    "start_time": "2022-04-03T14:23:20.971Z"
   },
   {
    "duration": 6,
    "start_time": "2022-04-03T14:23:42.214Z"
   },
   {
    "duration": 18,
    "start_time": "2022-04-03T14:23:43.377Z"
   },
   {
    "duration": 11,
    "start_time": "2022-04-03T14:23:45.897Z"
   },
   {
    "duration": 438,
    "start_time": "2022-04-03T14:24:00.830Z"
   },
   {
    "duration": 78,
    "start_time": "2022-04-03T14:24:01.270Z"
   },
   {
    "duration": 22,
    "start_time": "2022-04-03T14:24:01.481Z"
   },
   {
    "duration": 17,
    "start_time": "2022-04-03T14:24:02.126Z"
   },
   {
    "duration": 11,
    "start_time": "2022-04-03T14:24:03.030Z"
   },
   {
    "duration": 6,
    "start_time": "2022-04-03T14:24:03.311Z"
   },
   {
    "duration": 6,
    "start_time": "2022-04-03T14:24:03.618Z"
   },
   {
    "duration": 6,
    "start_time": "2022-04-03T14:24:03.933Z"
   },
   {
    "duration": 11,
    "start_time": "2022-04-03T14:24:04.212Z"
   },
   {
    "duration": 6,
    "start_time": "2022-04-03T14:24:40.768Z"
   },
   {
    "duration": 11,
    "start_time": "2022-04-03T14:24:42.166Z"
   },
   {
    "duration": 5,
    "start_time": "2022-04-03T14:25:39.468Z"
   },
   {
    "duration": 5,
    "start_time": "2022-04-03T14:25:55.168Z"
   },
   {
    "duration": 10,
    "start_time": "2022-04-03T14:25:58.300Z"
   },
   {
    "duration": 6,
    "start_time": "2022-04-03T14:28:10.065Z"
   },
   {
    "duration": 10,
    "start_time": "2022-04-03T14:31:30.419Z"
   },
   {
    "duration": 10,
    "start_time": "2022-04-03T14:31:40.855Z"
   },
   {
    "duration": 76,
    "start_time": "2022-04-03T14:34:42.013Z"
   },
   {
    "duration": 15,
    "start_time": "2022-04-03T14:35:24.926Z"
   },
   {
    "duration": 24,
    "start_time": "2022-04-03T14:36:20.373Z"
   },
   {
    "duration": 14,
    "start_time": "2022-04-03T14:36:33.081Z"
   },
   {
    "duration": 16,
    "start_time": "2022-04-03T14:37:23.663Z"
   },
   {
    "duration": 13,
    "start_time": "2022-04-03T14:37:38.290Z"
   },
   {
    "duration": 13,
    "start_time": "2022-04-03T14:42:56.068Z"
   },
   {
    "duration": 13,
    "start_time": "2022-04-03T14:43:41.393Z"
   },
   {
    "duration": 13,
    "start_time": "2022-04-03T14:43:49.031Z"
   },
   {
    "duration": 13,
    "start_time": "2022-04-03T15:49:16.713Z"
   },
   {
    "duration": 18,
    "start_time": "2022-04-03T15:52:58.329Z"
   },
   {
    "duration": 18,
    "start_time": "2022-04-03T15:54:45.813Z"
   },
   {
    "duration": 17,
    "start_time": "2022-04-03T15:55:25.992Z"
   },
   {
    "duration": 13,
    "start_time": "2022-04-03T16:00:14.140Z"
   },
   {
    "duration": 22,
    "start_time": "2022-04-03T16:07:12.822Z"
   },
   {
    "duration": 13,
    "start_time": "2022-04-03T16:07:29.486Z"
   },
   {
    "duration": 5,
    "start_time": "2022-04-03T16:07:40.191Z"
   },
   {
    "duration": 14,
    "start_time": "2022-04-03T16:07:46.079Z"
   },
   {
    "duration": 11,
    "start_time": "2022-04-03T16:07:55.206Z"
   },
   {
    "duration": 11,
    "start_time": "2022-04-03T16:07:57.664Z"
   },
   {
    "duration": 8,
    "start_time": "2022-04-03T16:08:55.369Z"
   },
   {
    "duration": 430,
    "start_time": "2022-04-03T16:09:06.925Z"
   },
   {
    "duration": 68,
    "start_time": "2022-04-03T16:09:07.357Z"
   },
   {
    "duration": 25,
    "start_time": "2022-04-03T16:09:07.427Z"
   },
   {
    "duration": 16,
    "start_time": "2022-04-03T16:09:07.687Z"
   },
   {
    "duration": 11,
    "start_time": "2022-04-03T16:09:08.566Z"
   },
   {
    "duration": 7,
    "start_time": "2022-04-03T16:09:08.853Z"
   },
   {
    "duration": 5,
    "start_time": "2022-04-03T16:09:09.171Z"
   },
   {
    "duration": 6,
    "start_time": "2022-04-03T16:09:09.456Z"
   },
   {
    "duration": 11,
    "start_time": "2022-04-03T16:09:09.775Z"
   },
   {
    "duration": 5,
    "start_time": "2022-04-03T16:09:10.264Z"
   },
   {
    "duration": 14,
    "start_time": "2022-04-03T16:09:10.647Z"
   },
   {
    "duration": 22,
    "start_time": "2022-04-03T16:09:11.609Z"
   },
   {
    "duration": 9,
    "start_time": "2022-04-03T16:09:12.283Z"
   },
   {
    "duration": 8,
    "start_time": "2022-04-03T16:09:28.877Z"
   },
   {
    "duration": 22,
    "start_time": "2022-04-03T16:09:33.856Z"
   },
   {
    "duration": 8,
    "start_time": "2022-04-03T16:09:41.061Z"
   },
   {
    "duration": 6,
    "start_time": "2022-04-03T16:10:23.375Z"
   },
   {
    "duration": 8,
    "start_time": "2022-04-03T16:10:26.246Z"
   },
   {
    "duration": 16,
    "start_time": "2022-04-03T16:27:59.169Z"
   },
   {
    "duration": 71,
    "start_time": "2022-04-03T18:57:07.810Z"
   },
   {
    "duration": 531,
    "start_time": "2022-04-03T18:57:45.377Z"
   },
   {
    "duration": 83,
    "start_time": "2022-04-03T18:57:45.910Z"
   },
   {
    "duration": 33,
    "start_time": "2022-04-03T18:57:46.217Z"
   },
   {
    "duration": 24,
    "start_time": "2022-04-03T18:57:46.598Z"
   },
   {
    "duration": 17,
    "start_time": "2022-04-03T18:57:47.984Z"
   },
   {
    "duration": 7,
    "start_time": "2022-04-03T18:57:48.269Z"
   },
   {
    "duration": 7,
    "start_time": "2022-04-03T18:57:48.638Z"
   },
   {
    "duration": 6,
    "start_time": "2022-04-03T18:57:48.997Z"
   },
   {
    "duration": 21,
    "start_time": "2022-04-03T18:57:49.438Z"
   },
   {
    "duration": 9,
    "start_time": "2022-04-03T18:57:49.965Z"
   },
   {
    "duration": 29,
    "start_time": "2022-04-03T18:57:50.410Z"
   },
   {
    "duration": 7,
    "start_time": "2022-04-03T18:57:50.804Z"
   },
   {
    "duration": 22,
    "start_time": "2022-04-03T18:57:51.331Z"
   },
   {
    "duration": 25,
    "start_time": "2022-04-03T18:57:51.866Z"
   },
   {
    "duration": 26,
    "start_time": "2022-04-03T18:58:41.341Z"
   },
   {
    "duration": 25,
    "start_time": "2022-04-03T18:59:07.971Z"
   },
   {
    "duration": 30,
    "start_time": "2022-04-03T18:59:10.198Z"
   },
   {
    "duration": 27,
    "start_time": "2022-04-03T18:59:36.383Z"
   },
   {
    "duration": 25,
    "start_time": "2022-04-03T19:01:26.028Z"
   },
   {
    "duration": 20,
    "start_time": "2022-04-03T19:05:50.995Z"
   },
   {
    "duration": 31,
    "start_time": "2022-04-03T19:09:16.545Z"
   },
   {
    "duration": 21,
    "start_time": "2022-04-03T19:09:35.527Z"
   },
   {
    "duration": 20,
    "start_time": "2022-04-03T19:09:49.851Z"
   },
   {
    "duration": 25,
    "start_time": "2022-04-03T19:10:08.903Z"
   },
   {
    "duration": 16,
    "start_time": "2022-04-03T19:16:39.217Z"
   },
   {
    "duration": 11,
    "start_time": "2022-04-03T19:17:13.145Z"
   },
   {
    "duration": 20,
    "start_time": "2022-04-03T19:18:02.208Z"
   },
   {
    "duration": 26,
    "start_time": "2022-04-03T19:18:15.751Z"
   },
   {
    "duration": 9,
    "start_time": "2022-04-03T19:22:17.497Z"
   },
   {
    "duration": 110,
    "start_time": "2022-04-03T19:22:21.563Z"
   },
   {
    "duration": 531,
    "start_time": "2022-04-03T19:22:39.052Z"
   },
   {
    "duration": 85,
    "start_time": "2022-04-03T19:22:39.590Z"
   },
   {
    "duration": 39,
    "start_time": "2022-04-03T19:22:39.678Z"
   },
   {
    "duration": 27,
    "start_time": "2022-04-03T19:22:39.885Z"
   },
   {
    "duration": 19,
    "start_time": "2022-04-03T19:22:40.580Z"
   },
   {
    "duration": 9,
    "start_time": "2022-04-03T19:22:41.035Z"
   },
   {
    "duration": 6,
    "start_time": "2022-04-03T19:22:41.338Z"
   },
   {
    "duration": 6,
    "start_time": "2022-04-03T19:22:41.655Z"
   },
   {
    "duration": 14,
    "start_time": "2022-04-03T19:22:41.958Z"
   },
   {
    "duration": 6,
    "start_time": "2022-04-03T19:22:42.566Z"
   },
   {
    "duration": 20,
    "start_time": "2022-04-03T19:22:43.054Z"
   },
   {
    "duration": 7,
    "start_time": "2022-04-03T19:22:43.363Z"
   },
   {
    "duration": 21,
    "start_time": "2022-04-03T19:22:43.840Z"
   },
   {
    "duration": 24,
    "start_time": "2022-04-03T19:22:44.634Z"
   },
   {
    "duration": 34,
    "start_time": "2022-04-03T19:22:45.062Z"
   },
   {
    "duration": 30,
    "start_time": "2022-04-03T19:22:45.779Z"
   },
   {
    "duration": 21,
    "start_time": "2022-04-03T19:22:47.136Z"
   },
   {
    "duration": 16,
    "start_time": "2022-04-03T19:22:48.210Z"
   },
   {
    "duration": 28,
    "start_time": "2022-04-03T19:22:48.833Z"
   },
   {
    "duration": 9,
    "start_time": "2022-04-03T19:22:49.656Z"
   },
   {
    "duration": 12,
    "start_time": "2022-04-03T19:23:03.423Z"
   },
   {
    "duration": 7,
    "start_time": "2022-04-03T19:32:57.197Z"
   },
   {
    "duration": 11,
    "start_time": "2022-04-03T19:34:38.012Z"
   },
   {
    "duration": 1768,
    "start_time": "2022-04-03T19:35:27.515Z"
   },
   {
    "duration": 520,
    "start_time": "2022-04-03T19:35:41.084Z"
   },
   {
    "duration": 84,
    "start_time": "2022-04-03T19:35:41.607Z"
   },
   {
    "duration": 30,
    "start_time": "2022-04-03T19:35:41.694Z"
   },
   {
    "duration": 22,
    "start_time": "2022-04-03T19:35:41.825Z"
   },
   {
    "duration": 14,
    "start_time": "2022-04-03T19:35:42.849Z"
   },
   {
    "duration": 10,
    "start_time": "2022-04-03T19:35:43.403Z"
   },
   {
    "duration": 8,
    "start_time": "2022-04-03T19:35:43.805Z"
   },
   {
    "duration": 7,
    "start_time": "2022-04-03T19:35:44.216Z"
   },
   {
    "duration": 18,
    "start_time": "2022-04-03T19:35:45.877Z"
   },
   {
    "duration": 7,
    "start_time": "2022-04-03T19:35:49.530Z"
   },
   {
    "duration": 29,
    "start_time": "2022-04-03T19:35:51.159Z"
   },
   {
    "duration": 17,
    "start_time": "2022-04-03T19:36:15.460Z"
   },
   {
    "duration": 11,
    "start_time": "2022-04-03T19:36:32.781Z"
   },
   {
    "duration": 11,
    "start_time": "2022-04-03T19:36:51.250Z"
   },
   {
    "duration": 11,
    "start_time": "2022-04-03T19:37:01.121Z"
   },
   {
    "duration": 6,
    "start_time": "2022-04-03T19:39:07.501Z"
   },
   {
    "duration": 5,
    "start_time": "2022-04-03T19:39:21.297Z"
   },
   {
    "duration": 6,
    "start_time": "2022-04-03T19:40:13.528Z"
   },
   {
    "duration": 5,
    "start_time": "2022-04-03T19:40:16.041Z"
   },
   {
    "duration": 10,
    "start_time": "2022-04-03T19:40:25.054Z"
   },
   {
    "duration": 6,
    "start_time": "2022-04-03T19:40:37.529Z"
   },
   {
    "duration": 6,
    "start_time": "2022-04-03T19:44:33.398Z"
   },
   {
    "duration": 10,
    "start_time": "2022-04-03T19:50:49.905Z"
   },
   {
    "duration": 43,
    "start_time": "2022-04-04T06:02:37.077Z"
   },
   {
    "duration": 387,
    "start_time": "2022-04-04T06:02:49.213Z"
   },
   {
    "duration": 61,
    "start_time": "2022-04-04T06:02:49.602Z"
   },
   {
    "duration": 19,
    "start_time": "2022-04-04T06:02:49.665Z"
   },
   {
    "duration": 15,
    "start_time": "2022-04-04T06:02:49.971Z"
   },
   {
    "duration": 10,
    "start_time": "2022-04-04T06:02:50.950Z"
   },
   {
    "duration": 6,
    "start_time": "2022-04-04T06:02:51.254Z"
   },
   {
    "duration": 4,
    "start_time": "2022-04-04T06:02:51.552Z"
   },
   {
    "duration": 5,
    "start_time": "2022-04-04T06:02:51.861Z"
   },
   {
    "duration": 4,
    "start_time": "2022-04-04T06:02:52.282Z"
   },
   {
    "duration": 4,
    "start_time": "2022-04-04T06:02:53.477Z"
   },
   {
    "duration": 12,
    "start_time": "2022-04-04T06:02:54.263Z"
   },
   {
    "duration": 4,
    "start_time": "2022-04-04T06:02:54.579Z"
   },
   {
    "duration": 7,
    "start_time": "2022-04-04T06:02:54.888Z"
   },
   {
    "duration": 4,
    "start_time": "2022-04-04T06:02:55.353Z"
   },
   {
    "duration": 5,
    "start_time": "2022-04-04T06:02:55.660Z"
   },
   {
    "duration": 6,
    "start_time": "2022-04-04T06:02:55.956Z"
   },
   {
    "duration": 15,
    "start_time": "2022-04-04T06:02:56.525Z"
   },
   {
    "duration": 16,
    "start_time": "2022-04-04T06:02:57.042Z"
   },
   {
    "duration": 19,
    "start_time": "2022-04-04T06:02:57.356Z"
   },
   {
    "duration": 16,
    "start_time": "2022-04-04T06:02:58.305Z"
   },
   {
    "duration": 14,
    "start_time": "2022-04-04T06:03:00.696Z"
   },
   {
    "duration": 12,
    "start_time": "2022-04-04T06:03:01.516Z"
   },
   {
    "duration": 19,
    "start_time": "2022-04-04T06:03:02.045Z"
   },
   {
    "duration": 6,
    "start_time": "2022-04-04T06:03:02.384Z"
   },
   {
    "duration": 14,
    "start_time": "2022-04-04T06:03:02.779Z"
   },
   {
    "duration": 14,
    "start_time": "2022-04-04T06:03:03.097Z"
   },
   {
    "duration": 14,
    "start_time": "2022-04-04T06:03:03.388Z"
   },
   {
    "duration": 18,
    "start_time": "2022-04-04T06:03:03.533Z"
   },
   {
    "duration": 20,
    "start_time": "2022-04-04T06:04:22.268Z"
   },
   {
    "duration": 74,
    "start_time": "2022-04-04T06:17:14.297Z"
   },
   {
    "duration": 14,
    "start_time": "2022-04-04T06:19:01.825Z"
   },
   {
    "duration": 20,
    "start_time": "2022-04-04T06:19:16.516Z"
   },
   {
    "duration": 69,
    "start_time": "2022-04-04T09:55:18.744Z"
   },
   {
    "duration": 11,
    "start_time": "2022-04-04T09:55:30.642Z"
   },
   {
    "duration": 9,
    "start_time": "2022-04-04T09:55:41.420Z"
   },
   {
    "duration": 507,
    "start_time": "2022-04-04T09:56:09.071Z"
   },
   {
    "duration": 70,
    "start_time": "2022-04-04T09:56:09.581Z"
   },
   {
    "duration": 34,
    "start_time": "2022-04-04T09:56:09.653Z"
   },
   {
    "duration": 23,
    "start_time": "2022-04-04T09:56:09.990Z"
   },
   {
    "duration": 16,
    "start_time": "2022-04-04T09:56:10.735Z"
   },
   {
    "duration": 8,
    "start_time": "2022-04-04T09:56:11.035Z"
   },
   {
    "duration": 7,
    "start_time": "2022-04-04T09:56:11.585Z"
   },
   {
    "duration": 6,
    "start_time": "2022-04-04T09:56:12.340Z"
   },
   {
    "duration": 6,
    "start_time": "2022-04-04T09:56:12.725Z"
   },
   {
    "duration": 6,
    "start_time": "2022-04-04T09:56:13.744Z"
   },
   {
    "duration": 19,
    "start_time": "2022-04-04T09:56:14.334Z"
   },
   {
    "duration": 7,
    "start_time": "2022-04-04T09:56:15.081Z"
   },
   {
    "duration": 11,
    "start_time": "2022-04-04T09:56:15.762Z"
   },
   {
    "duration": 7,
    "start_time": "2022-04-04T09:56:16.762Z"
   },
   {
    "duration": 8,
    "start_time": "2022-04-04T09:56:17.003Z"
   },
   {
    "duration": 8,
    "start_time": "2022-04-04T09:56:17.768Z"
   },
   {
    "duration": 33,
    "start_time": "2022-04-04T09:56:19.606Z"
   },
   {
    "duration": 6,
    "start_time": "2022-04-04T09:56:22.711Z"
   },
   {
    "duration": 6,
    "start_time": "2022-04-04T09:57:01.716Z"
   },
   {
    "duration": 8,
    "start_time": "2022-04-04T09:57:22.739Z"
   },
   {
    "duration": 7,
    "start_time": "2022-04-04T09:57:33.197Z"
   },
   {
    "duration": 5,
    "start_time": "2022-04-04T09:58:56.881Z"
   },
   {
    "duration": 6,
    "start_time": "2022-04-04T09:58:58.152Z"
   },
   {
    "duration": 13,
    "start_time": "2022-04-04T09:59:03.297Z"
   },
   {
    "duration": 540,
    "start_time": "2022-04-04T09:59:11.707Z"
   },
   {
    "duration": 77,
    "start_time": "2022-04-04T09:59:12.249Z"
   },
   {
    "duration": 31,
    "start_time": "2022-04-04T09:59:12.328Z"
   },
   {
    "duration": 22,
    "start_time": "2022-04-04T09:59:12.447Z"
   },
   {
    "duration": 13,
    "start_time": "2022-04-04T09:59:13.828Z"
   },
   {
    "duration": 7,
    "start_time": "2022-04-04T09:59:14.148Z"
   },
   {
    "duration": 6,
    "start_time": "2022-04-04T09:59:14.450Z"
   },
   {
    "duration": 6,
    "start_time": "2022-04-04T09:59:14.764Z"
   },
   {
    "duration": 6,
    "start_time": "2022-04-04T09:59:15.091Z"
   },
   {
    "duration": 5,
    "start_time": "2022-04-04T09:59:15.600Z"
   },
   {
    "duration": 19,
    "start_time": "2022-04-04T09:59:15.969Z"
   },
   {
    "duration": 7,
    "start_time": "2022-04-04T09:59:16.419Z"
   },
   {
    "duration": 10,
    "start_time": "2022-04-04T09:59:16.746Z"
   },
   {
    "duration": 5,
    "start_time": "2022-04-04T09:59:17.051Z"
   },
   {
    "duration": 8,
    "start_time": "2022-04-04T09:59:17.386Z"
   },
   {
    "duration": 8,
    "start_time": "2022-04-04T09:59:18.007Z"
   },
   {
    "duration": 33,
    "start_time": "2022-04-04T09:59:19.651Z"
   },
   {
    "duration": 5,
    "start_time": "2022-04-04T09:59:21.350Z"
   },
   {
    "duration": 14,
    "start_time": "2022-04-04T09:59:21.839Z"
   },
   {
    "duration": 5,
    "start_time": "2022-04-04T10:00:39.921Z"
   },
   {
    "duration": 13,
    "start_time": "2022-04-04T10:01:05.650Z"
   },
   {
    "duration": 4,
    "start_time": "2022-04-04T10:01:09.611Z"
   },
   {
    "duration": 12,
    "start_time": "2022-04-04T10:01:10.182Z"
   },
   {
    "duration": 10,
    "start_time": "2022-04-04T10:01:39.115Z"
   },
   {
    "duration": 15,
    "start_time": "2022-04-04T10:02:00.546Z"
   },
   {
    "duration": 4,
    "start_time": "2022-04-04T10:02:31.081Z"
   },
   {
    "duration": 9,
    "start_time": "2022-04-04T10:03:13.071Z"
   },
   {
    "duration": 13,
    "start_time": "2022-04-04T10:03:16.369Z"
   },
   {
    "duration": 11,
    "start_time": "2022-04-04T10:03:37.178Z"
   },
   {
    "duration": 9,
    "start_time": "2022-04-04T10:03:41.325Z"
   },
   {
    "duration": 9,
    "start_time": "2022-04-04T10:04:02.249Z"
   },
   {
    "duration": 9,
    "start_time": "2022-04-04T10:04:10.208Z"
   },
   {
    "duration": 10,
    "start_time": "2022-04-04T10:04:17.721Z"
   },
   {
    "duration": 13,
    "start_time": "2022-04-04T10:04:18.429Z"
   },
   {
    "duration": 10,
    "start_time": "2022-04-04T10:04:22.584Z"
   },
   {
    "duration": 11,
    "start_time": "2022-04-04T10:14:29.752Z"
   },
   {
    "duration": 11,
    "start_time": "2022-04-04T10:18:56.416Z"
   },
   {
    "duration": 11,
    "start_time": "2022-04-04T10:19:14.023Z"
   },
   {
    "duration": 10,
    "start_time": "2022-04-04T10:19:48.331Z"
   },
   {
    "duration": 8,
    "start_time": "2022-04-04T10:20:46.447Z"
   },
   {
    "duration": 9,
    "start_time": "2022-04-04T10:20:47.452Z"
   },
   {
    "duration": 12,
    "start_time": "2022-04-04T10:21:32.838Z"
   },
   {
    "duration": 11,
    "start_time": "2022-04-04T10:23:39.922Z"
   },
   {
    "duration": 11154,
    "start_time": "2022-04-04T10:29:34.201Z"
   },
   {
    "duration": 7,
    "start_time": "2022-04-04T10:29:45.357Z"
   },
   {
    "duration": 688,
    "start_time": "2022-04-04T10:30:06.545Z"
   },
   {
    "duration": 77,
    "start_time": "2022-04-04T10:30:07.236Z"
   },
   {
    "duration": 30,
    "start_time": "2022-04-04T10:30:08.416Z"
   },
   {
    "duration": 21,
    "start_time": "2022-04-04T10:30:10.207Z"
   },
   {
    "duration": 17,
    "start_time": "2022-04-04T10:36:24.519Z"
   },
   {
    "duration": 13,
    "start_time": "2022-04-04T10:36:41.242Z"
   },
   {
    "duration": 13,
    "start_time": "2022-04-04T10:36:52.306Z"
   },
   {
    "duration": 13,
    "start_time": "2022-04-04T10:37:06.401Z"
   },
   {
    "duration": 608,
    "start_time": "2022-04-04T10:38:03.192Z"
   },
   {
    "duration": 75,
    "start_time": "2022-04-04T10:38:03.802Z"
   },
   {
    "duration": 31,
    "start_time": "2022-04-04T10:38:03.879Z"
   },
   {
    "duration": 23,
    "start_time": "2022-04-04T10:38:04.711Z"
   },
   {
    "duration": 21,
    "start_time": "2022-04-04T10:38:06.887Z"
   },
   {
    "duration": 8,
    "start_time": "2022-04-04T10:38:08.131Z"
   },
   {
    "duration": 7,
    "start_time": "2022-04-04T10:38:09.930Z"
   },
   {
    "duration": 10,
    "start_time": "2022-04-04T10:38:11.417Z"
   },
   {
    "duration": 10627,
    "start_time": "2022-04-04T10:38:12.887Z"
   },
   {
    "duration": 22,
    "start_time": "2022-04-04T10:38:27.177Z"
   },
   {
    "duration": 18,
    "start_time": "2022-04-04T10:38:42.704Z"
   },
   {
    "duration": 47,
    "start_time": "2022-04-04T10:38:50.930Z"
   },
   {
    "duration": 6,
    "start_time": "2022-04-04T10:38:59.743Z"
   },
   {
    "duration": 7,
    "start_time": "2022-04-04T10:39:02.792Z"
   },
   {
    "duration": 20,
    "start_time": "2022-04-04T10:39:46.624Z"
   },
   {
    "duration": 7,
    "start_time": "2022-04-04T10:39:49.906Z"
   },
   {
    "duration": 11,
    "start_time": "2022-04-04T10:39:55.478Z"
   },
   {
    "duration": 12,
    "start_time": "2022-04-04T10:40:50.991Z"
   },
   {
    "duration": 10,
    "start_time": "2022-04-04T10:40:55.598Z"
   },
   {
    "duration": 7,
    "start_time": "2022-04-04T10:40:59.515Z"
   },
   {
    "duration": 7,
    "start_time": "2022-04-04T10:41:00.532Z"
   },
   {
    "duration": 10,
    "start_time": "2022-04-04T10:41:24.821Z"
   },
   {
    "duration": 40,
    "start_time": "2022-04-04T10:41:35.181Z"
   },
   {
    "duration": 13,
    "start_time": "2022-04-04T10:42:14.783Z"
   },
   {
    "duration": 78,
    "start_time": "2022-04-04T10:42:38.956Z"
   },
   {
    "duration": 35,
    "start_time": "2022-04-04T10:42:45.013Z"
   },
   {
    "duration": 53,
    "start_time": "2022-04-04T10:47:55.871Z"
   },
   {
    "duration": 12,
    "start_time": "2022-04-04T10:47:59.335Z"
   },
   {
    "duration": 13,
    "start_time": "2022-04-04T10:48:18.872Z"
   },
   {
    "duration": 24,
    "start_time": "2022-04-04T10:48:33.275Z"
   },
   {
    "duration": 108,
    "start_time": "2022-04-04T10:52:08.074Z"
   },
   {
    "duration": 28,
    "start_time": "2022-04-04T10:52:20.348Z"
   },
   {
    "duration": 516,
    "start_time": "2022-04-04T10:53:05.871Z"
   },
   {
    "duration": 76,
    "start_time": "2022-04-04T10:53:06.390Z"
   },
   {
    "duration": 30,
    "start_time": "2022-04-04T10:53:07.167Z"
   },
   {
    "duration": 21,
    "start_time": "2022-04-04T10:53:08.095Z"
   },
   {
    "duration": 14,
    "start_time": "2022-04-04T10:53:10.008Z"
   },
   {
    "duration": 8,
    "start_time": "2022-04-04T10:53:11.011Z"
   },
   {
    "duration": 6,
    "start_time": "2022-04-04T10:53:12.127Z"
   },
   {
    "duration": 10,
    "start_time": "2022-04-04T10:53:13.198Z"
   },
   {
    "duration": 6843,
    "start_time": "2022-04-04T10:53:15.139Z"
   },
   {
    "duration": 6,
    "start_time": "2022-04-04T10:53:23.334Z"
   },
   {
    "duration": 7,
    "start_time": "2022-04-04T10:53:25.931Z"
   },
   {
    "duration": 20,
    "start_time": "2022-04-04T10:53:28.282Z"
   },
   {
    "duration": 6,
    "start_time": "2022-04-04T10:53:29.498Z"
   },
   {
    "duration": 11,
    "start_time": "2022-04-04T10:53:31.249Z"
   },
   {
    "duration": 6,
    "start_time": "2022-04-04T10:53:32.337Z"
   },
   {
    "duration": 8,
    "start_time": "2022-04-04T10:53:32.928Z"
   },
   {
    "duration": 9,
    "start_time": "2022-04-04T10:53:34.161Z"
   },
   {
    "duration": 33,
    "start_time": "2022-04-04T10:53:36.342Z"
   },
   {
    "duration": 12,
    "start_time": "2022-04-04T10:53:38.002Z"
   },
   {
    "duration": 55,
    "start_time": "2022-04-04T10:53:38.718Z"
   },
   {
    "duration": 12,
    "start_time": "2022-04-04T10:53:45.791Z"
   },
   {
    "duration": 24,
    "start_time": "2022-04-04T10:53:48.479Z"
   },
   {
    "duration": 26,
    "start_time": "2022-04-04T11:04:31.512Z"
   },
   {
    "duration": 29,
    "start_time": "2022-04-04T11:04:38.309Z"
   },
   {
    "duration": 26,
    "start_time": "2022-04-04T11:04:41.334Z"
   },
   {
    "duration": 20,
    "start_time": "2022-04-04T11:04:44.051Z"
   },
   {
    "duration": 16,
    "start_time": "2022-04-04T11:04:45.627Z"
   },
   {
    "duration": 28,
    "start_time": "2022-04-04T11:04:46.754Z"
   },
   {
    "duration": 10,
    "start_time": "2022-04-04T11:04:49.367Z"
   },
   {
    "duration": 21,
    "start_time": "2022-04-04T11:05:09.100Z"
   },
   {
    "duration": 19,
    "start_time": "2022-04-04T11:05:54.494Z"
   },
   {
    "duration": 11,
    "start_time": "2022-04-04T11:08:24.174Z"
   },
   {
    "duration": 17,
    "start_time": "2022-04-04T11:09:26.918Z"
   },
   {
    "duration": 109,
    "start_time": "2022-04-04T11:12:21.164Z"
   },
   {
    "duration": 19,
    "start_time": "2022-04-04T11:13:31.218Z"
   },
   {
    "duration": 8,
    "start_time": "2022-04-04T11:15:05.877Z"
   },
   {
    "duration": 26,
    "start_time": "2022-04-04T11:15:39.524Z"
   },
   {
    "duration": 110,
    "start_time": "2022-04-04T11:17:25.878Z"
   },
   {
    "duration": 10,
    "start_time": "2022-04-04T11:38:45.833Z"
   },
   {
    "duration": 10,
    "start_time": "2022-04-04T11:38:54.253Z"
   },
   {
    "duration": 16,
    "start_time": "2022-04-04T13:38:51.970Z"
   },
   {
    "duration": 15,
    "start_time": "2022-04-04T13:40:12.374Z"
   },
   {
    "duration": 16,
    "start_time": "2022-04-04T13:40:39.533Z"
   },
   {
    "duration": 329,
    "start_time": "2022-04-04T13:41:06.091Z"
   },
   {
    "duration": 21,
    "start_time": "2022-04-04T13:41:19.536Z"
   },
   {
    "duration": 4,
    "start_time": "2022-04-04T13:58:06.542Z"
   },
   {
    "duration": 94,
    "start_time": "2022-04-04T14:06:13.777Z"
   },
   {
    "duration": 35,
    "start_time": "2022-04-04T14:06:25.696Z"
   },
   {
    "duration": 25,
    "start_time": "2022-04-04T14:06:33.106Z"
   },
   {
    "duration": 4,
    "start_time": "2022-04-04T14:08:41.759Z"
   },
   {
    "duration": 510,
    "start_time": "2022-04-04T14:08:49.968Z"
   },
   {
    "duration": 73,
    "start_time": "2022-04-04T14:08:50.481Z"
   },
   {
    "duration": 38,
    "start_time": "2022-04-04T14:08:50.556Z"
   },
   {
    "duration": 20,
    "start_time": "2022-04-04T14:08:50.596Z"
   },
   {
    "duration": 12,
    "start_time": "2022-04-04T14:08:50.620Z"
   },
   {
    "duration": 8,
    "start_time": "2022-04-04T14:08:50.675Z"
   },
   {
    "duration": 9,
    "start_time": "2022-04-04T14:08:50.685Z"
   },
   {
    "duration": 15,
    "start_time": "2022-04-04T14:08:50.696Z"
   },
   {
    "duration": 7143,
    "start_time": "2022-04-04T14:08:50.714Z"
   },
   {
    "duration": 6,
    "start_time": "2022-04-04T14:08:57.859Z"
   },
   {
    "duration": 6,
    "start_time": "2022-04-04T14:08:57.874Z"
   },
   {
    "duration": 24,
    "start_time": "2022-04-04T14:08:57.882Z"
   },
   {
    "duration": 7,
    "start_time": "2022-04-04T14:08:57.908Z"
   },
   {
    "duration": 10,
    "start_time": "2022-04-04T14:08:57.920Z"
   },
   {
    "duration": 6,
    "start_time": "2022-04-04T14:08:57.974Z"
   },
   {
    "duration": 23,
    "start_time": "2022-04-04T14:08:57.983Z"
   },
   {
    "duration": 10,
    "start_time": "2022-04-04T14:08:58.009Z"
   },
   {
    "duration": 54,
    "start_time": "2022-04-04T14:08:58.021Z"
   },
   {
    "duration": 11,
    "start_time": "2022-04-04T14:08:58.078Z"
   },
   {
    "duration": 57,
    "start_time": "2022-04-04T14:08:58.091Z"
   },
   {
    "duration": 14,
    "start_time": "2022-04-04T14:08:58.175Z"
   },
   {
    "duration": 29,
    "start_time": "2022-04-04T14:08:58.192Z"
   },
   {
    "duration": 53,
    "start_time": "2022-04-04T14:08:58.223Z"
   },
   {
    "duration": 28,
    "start_time": "2022-04-04T14:08:58.279Z"
   },
   {
    "duration": 25,
    "start_time": "2022-04-04T14:08:58.309Z"
   },
   {
    "duration": 49,
    "start_time": "2022-04-04T14:08:58.336Z"
   },
   {
    "duration": 16,
    "start_time": "2022-04-04T14:08:58.387Z"
   },
   {
    "duration": 28,
    "start_time": "2022-04-04T14:08:58.405Z"
   },
   {
    "duration": 41,
    "start_time": "2022-04-04T14:08:58.435Z"
   },
   {
    "duration": 20,
    "start_time": "2022-04-04T14:08:58.478Z"
   },
   {
    "duration": 27,
    "start_time": "2022-04-04T14:08:58.500Z"
   },
   {
    "duration": 44,
    "start_time": "2022-04-04T14:08:58.529Z"
   },
   {
    "duration": 24,
    "start_time": "2022-04-04T14:08:58.575Z"
   },
   {
    "duration": 20,
    "start_time": "2022-04-04T14:08:58.602Z"
   },
   {
    "duration": 69,
    "start_time": "2022-04-04T14:08:58.625Z"
   },
   {
    "duration": 6,
    "start_time": "2022-04-04T14:08:58.697Z"
   },
   {
    "duration": 376,
    "start_time": "2022-04-04T14:08:58.705Z"
   },
   {
    "duration": 35,
    "start_time": "2022-04-04T14:08:59.084Z"
   },
   {
    "duration": 22,
    "start_time": "2022-04-04T14:10:03.729Z"
   },
   {
    "duration": 139,
    "start_time": "2022-04-04T14:10:48.976Z"
   },
   {
    "duration": 20,
    "start_time": "2022-04-04T14:10:49.994Z"
   },
   {
    "duration": 5,
    "start_time": "2022-04-04T14:11:02.049Z"
   },
   {
    "duration": 81,
    "start_time": "2022-04-04T14:11:02.058Z"
   },
   {
    "duration": 42,
    "start_time": "2022-04-04T14:11:02.141Z"
   },
   {
    "duration": 21,
    "start_time": "2022-04-04T14:11:02.185Z"
   },
   {
    "duration": 13,
    "start_time": "2022-04-04T14:11:02.210Z"
   },
   {
    "duration": 9,
    "start_time": "2022-04-04T14:11:02.225Z"
   },
   {
    "duration": 43,
    "start_time": "2022-04-04T14:11:02.236Z"
   },
   {
    "duration": 15,
    "start_time": "2022-04-04T14:11:02.281Z"
   },
   {
    "duration": 6736,
    "start_time": "2022-04-04T14:11:02.298Z"
   },
   {
    "duration": 5,
    "start_time": "2022-04-04T14:11:09.036Z"
   },
   {
    "duration": 7,
    "start_time": "2022-04-04T14:11:09.043Z"
   },
   {
    "duration": 39,
    "start_time": "2022-04-04T14:11:09.052Z"
   },
   {
    "duration": 6,
    "start_time": "2022-04-04T14:11:09.093Z"
   },
   {
    "duration": 10,
    "start_time": "2022-04-04T14:11:09.104Z"
   },
   {
    "duration": 6,
    "start_time": "2022-04-04T14:11:09.116Z"
   },
   {
    "duration": 51,
    "start_time": "2022-04-04T14:11:09.124Z"
   },
   {
    "duration": 7,
    "start_time": "2022-04-04T14:11:09.178Z"
   },
   {
    "duration": 29,
    "start_time": "2022-04-04T14:11:09.187Z"
   },
   {
    "duration": 10,
    "start_time": "2022-04-04T14:11:09.218Z"
   },
   {
    "duration": 88,
    "start_time": "2022-04-04T14:11:09.231Z"
   },
   {
    "duration": 11,
    "start_time": "2022-04-04T14:11:09.321Z"
   },
   {
    "duration": 44,
    "start_time": "2022-04-04T14:11:09.334Z"
   },
   {
    "duration": 22,
    "start_time": "2022-04-04T14:11:09.380Z"
   },
   {
    "duration": 26,
    "start_time": "2022-04-04T14:11:09.404Z"
   },
   {
    "duration": 53,
    "start_time": "2022-04-04T14:11:09.432Z"
   },
   {
    "duration": 19,
    "start_time": "2022-04-04T14:11:09.487Z"
   },
   {
    "duration": 23,
    "start_time": "2022-04-04T14:11:09.508Z"
   },
   {
    "duration": 46,
    "start_time": "2022-04-04T14:11:09.533Z"
   },
   {
    "duration": 9,
    "start_time": "2022-04-04T14:11:09.582Z"
   },
   {
    "duration": 26,
    "start_time": "2022-04-04T14:11:09.593Z"
   },
   {
    "duration": 19,
    "start_time": "2022-04-04T14:11:09.621Z"
   },
   {
    "duration": 45,
    "start_time": "2022-04-04T14:11:09.642Z"
   },
   {
    "duration": 25,
    "start_time": "2022-04-04T14:11:09.689Z"
   },
   {
    "duration": 19,
    "start_time": "2022-04-04T14:11:09.716Z"
   },
   {
    "duration": 51,
    "start_time": "2022-04-04T14:11:09.737Z"
   },
   {
    "duration": 4,
    "start_time": "2022-04-04T14:11:09.791Z"
   },
   {
    "duration": 1022,
    "start_time": "2022-04-04T14:11:09.797Z"
   },
   {
    "duration": 20,
    "start_time": "2022-04-04T14:11:10.821Z"
   },
   {
    "duration": 487,
    "start_time": "2022-04-04T14:11:41.093Z"
   },
   {
    "duration": 74,
    "start_time": "2022-04-04T14:11:41.583Z"
   },
   {
    "duration": 36,
    "start_time": "2022-04-04T14:11:41.659Z"
   },
   {
    "duration": 27,
    "start_time": "2022-04-04T14:11:41.838Z"
   },
   {
    "duration": 14,
    "start_time": "2022-04-04T14:11:42.827Z"
   },
   {
    "duration": 9,
    "start_time": "2022-04-04T14:11:43.123Z"
   },
   {
    "duration": 6,
    "start_time": "2022-04-04T14:11:43.417Z"
   },
   {
    "duration": 12,
    "start_time": "2022-04-04T14:11:43.891Z"
   },
   {
    "duration": 7183,
    "start_time": "2022-04-04T14:11:44.180Z"
   },
   {
    "duration": 6,
    "start_time": "2022-04-04T14:11:51.373Z"
   },
   {
    "duration": 8,
    "start_time": "2022-04-04T14:11:51.381Z"
   },
   {
    "duration": 20,
    "start_time": "2022-04-04T14:11:51.392Z"
   },
   {
    "duration": 9,
    "start_time": "2022-04-04T14:11:51.414Z"
   },
   {
    "duration": 49,
    "start_time": "2022-04-04T14:11:51.425Z"
   },
   {
    "duration": 8,
    "start_time": "2022-04-04T14:11:51.477Z"
   },
   {
    "duration": 19,
    "start_time": "2022-04-04T14:11:51.488Z"
   },
   {
    "duration": 7,
    "start_time": "2022-04-04T14:11:51.510Z"
   },
   {
    "duration": 60,
    "start_time": "2022-04-04T14:11:51.521Z"
   },
   {
    "duration": 11,
    "start_time": "2022-04-04T14:11:51.583Z"
   },
   {
    "duration": 53,
    "start_time": "2022-04-04T14:11:51.596Z"
   },
   {
    "duration": 32,
    "start_time": "2022-04-04T14:11:51.651Z"
   },
   {
    "duration": 27,
    "start_time": "2022-04-04T14:11:51.685Z"
   },
   {
    "duration": 24,
    "start_time": "2022-04-04T14:11:51.714Z"
   },
   {
    "duration": 58,
    "start_time": "2022-04-04T14:11:51.740Z"
   },
   {
    "duration": 25,
    "start_time": "2022-04-04T14:11:51.800Z"
   },
   {
    "duration": 47,
    "start_time": "2022-04-04T14:11:51.828Z"
   },
   {
    "duration": 17,
    "start_time": "2022-04-04T14:11:51.879Z"
   },
   {
    "duration": 28,
    "start_time": "2022-04-04T14:11:51.993Z"
   },
   {
    "duration": 9,
    "start_time": "2022-04-04T14:11:52.316Z"
   },
   {
    "duration": 23,
    "start_time": "2022-04-04T14:11:52.776Z"
   },
   {
    "duration": 20,
    "start_time": "2022-04-04T14:11:55.664Z"
   },
   {
    "duration": 18,
    "start_time": "2022-04-04T14:11:57.034Z"
   },
   {
    "duration": 24,
    "start_time": "2022-04-04T14:11:57.864Z"
   },
   {
    "duration": 20,
    "start_time": "2022-04-04T14:11:59.310Z"
   },
   {
    "duration": 23,
    "start_time": "2022-04-04T14:12:00.781Z"
   },
   {
    "duration": 5,
    "start_time": "2022-04-04T14:12:01.264Z"
   },
   {
    "duration": 1014,
    "start_time": "2022-04-04T14:12:01.971Z"
   },
   {
    "duration": 20,
    "start_time": "2022-04-04T14:12:02.988Z"
   },
   {
    "duration": 27,
    "start_time": "2022-04-04T14:13:00.713Z"
   },
   {
    "duration": 20,
    "start_time": "2022-04-04T14:13:01.428Z"
   },
   {
    "duration": 525,
    "start_time": "2022-04-04T14:13:25.882Z"
   },
   {
    "duration": 117,
    "start_time": "2022-04-04T14:13:26.410Z"
   },
   {
    "duration": 58,
    "start_time": "2022-04-04T14:13:26.530Z"
   },
   {
    "duration": 33,
    "start_time": "2022-04-04T14:13:26.591Z"
   },
   {
    "duration": 45,
    "start_time": "2022-04-04T14:13:26.629Z"
   },
   {
    "duration": 9,
    "start_time": "2022-04-04T14:13:26.677Z"
   },
   {
    "duration": 8,
    "start_time": "2022-04-04T14:13:26.688Z"
   },
   {
    "duration": 12,
    "start_time": "2022-04-04T14:13:26.698Z"
   },
   {
    "duration": 10122,
    "start_time": "2022-04-04T14:13:26.712Z"
   },
   {
    "duration": 7,
    "start_time": "2022-04-04T14:13:36.837Z"
   },
   {
    "duration": 27,
    "start_time": "2022-04-04T14:13:36.848Z"
   },
   {
    "duration": 20,
    "start_time": "2022-04-04T14:13:36.878Z"
   },
   {
    "duration": 13,
    "start_time": "2022-04-04T14:13:36.900Z"
   },
   {
    "duration": 14,
    "start_time": "2022-04-04T14:13:36.918Z"
   },
   {
    "duration": 38,
    "start_time": "2022-04-04T14:13:36.935Z"
   },
   {
    "duration": 9,
    "start_time": "2022-04-04T14:13:36.977Z"
   },
   {
    "duration": 10,
    "start_time": "2022-04-04T14:13:36.988Z"
   },
   {
    "duration": 33,
    "start_time": "2022-04-04T14:13:37.001Z"
   },
   {
    "duration": 45,
    "start_time": "2022-04-04T14:13:37.036Z"
   },
   {
    "duration": 54,
    "start_time": "2022-04-04T14:13:37.084Z"
   },
   {
    "duration": 36,
    "start_time": "2022-04-04T14:13:37.141Z"
   },
   {
    "duration": 24,
    "start_time": "2022-04-04T14:13:37.181Z"
   },
   {
    "duration": 25,
    "start_time": "2022-04-04T14:13:37.207Z"
   },
   {
    "duration": 62,
    "start_time": "2022-04-04T14:13:37.234Z"
   },
   {
    "duration": 26,
    "start_time": "2022-04-04T14:13:37.299Z"
   },
   {
    "duration": 57,
    "start_time": "2022-04-04T14:13:37.328Z"
   },
   {
    "duration": 17,
    "start_time": "2022-04-04T14:13:37.388Z"
   },
   {
    "duration": 28,
    "start_time": "2022-04-04T14:13:37.408Z"
   },
   {
    "duration": 40,
    "start_time": "2022-04-04T14:13:37.439Z"
   },
   {
    "duration": 23,
    "start_time": "2022-04-04T14:13:37.482Z"
   },
   {
    "duration": 22,
    "start_time": "2022-04-04T14:13:37.508Z"
   },
   {
    "duration": 51,
    "start_time": "2022-04-04T14:13:37.533Z"
   },
   {
    "duration": 37,
    "start_time": "2022-04-04T14:13:37.588Z"
   },
   {
    "duration": 58,
    "start_time": "2022-04-04T14:13:37.627Z"
   },
   {
    "duration": 37,
    "start_time": "2022-04-04T14:13:37.688Z"
   },
   {
    "duration": 6,
    "start_time": "2022-04-04T14:13:37.728Z"
   },
   {
    "duration": 1477,
    "start_time": "2022-04-04T14:13:37.737Z"
   },
   {
    "duration": 24,
    "start_time": "2022-04-04T14:13:39.216Z"
   },
   {
    "duration": 527,
    "start_time": "2022-04-04T14:14:32.447Z"
   },
   {
    "duration": 79,
    "start_time": "2022-04-04T14:14:32.976Z"
   },
   {
    "duration": 29,
    "start_time": "2022-04-04T14:14:33.058Z"
   },
   {
    "duration": 30,
    "start_time": "2022-04-04T14:14:33.089Z"
   },
   {
    "duration": 14,
    "start_time": "2022-04-04T14:14:33.122Z"
   },
   {
    "duration": 36,
    "start_time": "2022-04-04T14:14:33.138Z"
   },
   {
    "duration": 8,
    "start_time": "2022-04-04T14:14:33.176Z"
   },
   {
    "duration": 13,
    "start_time": "2022-04-04T14:14:33.187Z"
   },
   {
    "duration": 6841,
    "start_time": "2022-04-04T14:14:33.203Z"
   },
   {
    "duration": 6,
    "start_time": "2022-04-04T14:14:40.046Z"
   },
   {
    "duration": 21,
    "start_time": "2022-04-04T14:14:40.055Z"
   },
   {
    "duration": 19,
    "start_time": "2022-04-04T14:14:40.078Z"
   },
   {
    "duration": 7,
    "start_time": "2022-04-04T14:14:40.099Z"
   },
   {
    "duration": 11,
    "start_time": "2022-04-04T14:14:40.110Z"
   },
   {
    "duration": 6,
    "start_time": "2022-04-04T14:14:40.123Z"
   },
   {
    "duration": 7,
    "start_time": "2022-04-04T14:14:40.175Z"
   },
   {
    "duration": 8,
    "start_time": "2022-04-04T14:14:40.185Z"
   },
   {
    "duration": 33,
    "start_time": "2022-04-04T14:14:40.195Z"
   },
   {
    "duration": 44,
    "start_time": "2022-04-04T14:14:40.230Z"
   },
   {
    "duration": 53,
    "start_time": "2022-04-04T14:14:40.276Z"
   },
   {
    "duration": 12,
    "start_time": "2022-04-04T14:14:40.331Z"
   },
   {
    "duration": 49,
    "start_time": "2022-04-04T14:14:40.345Z"
   },
   {
    "duration": 24,
    "start_time": "2022-04-04T14:14:40.396Z"
   },
   {
    "duration": 52,
    "start_time": "2022-04-04T14:14:40.422Z"
   },
   {
    "duration": 23,
    "start_time": "2022-04-04T14:14:40.476Z"
   },
   {
    "duration": 19,
    "start_time": "2022-04-04T14:14:40.501Z"
   },
   {
    "duration": 15,
    "start_time": "2022-04-04T14:14:40.522Z"
   },
   {
    "duration": 59,
    "start_time": "2022-04-04T14:14:40.539Z"
   },
   {
    "duration": 9,
    "start_time": "2022-04-04T14:14:40.600Z"
   },
   {
    "duration": 30,
    "start_time": "2022-04-04T14:14:40.611Z"
   },
   {
    "duration": 38,
    "start_time": "2022-04-04T14:14:40.643Z"
   },
   {
    "duration": 15,
    "start_time": "2022-04-04T14:14:40.684Z"
   },
   {
    "duration": 30,
    "start_time": "2022-04-04T14:14:40.701Z"
   },
   {
    "duration": 43,
    "start_time": "2022-04-04T14:14:40.734Z"
   },
   {
    "duration": 23,
    "start_time": "2022-04-04T14:14:40.779Z"
   },
   {
    "duration": 8,
    "start_time": "2022-04-04T14:14:40.804Z"
   },
   {
    "duration": 1010,
    "start_time": "2022-04-04T14:14:40.814Z"
   },
   {
    "duration": 20,
    "start_time": "2022-04-04T14:14:41.826Z"
   },
   {
    "duration": 462,
    "start_time": "2022-04-04T14:15:09.519Z"
   },
   {
    "duration": 77,
    "start_time": "2022-04-04T14:15:09.984Z"
   },
   {
    "duration": 31,
    "start_time": "2022-04-04T14:15:10.063Z"
   },
   {
    "duration": 41,
    "start_time": "2022-04-04T14:15:10.096Z"
   },
   {
    "duration": 20,
    "start_time": "2022-04-04T14:15:10.140Z"
   },
   {
    "duration": 20,
    "start_time": "2022-04-04T14:15:10.162Z"
   },
   {
    "duration": 29,
    "start_time": "2022-04-04T14:15:10.184Z"
   },
   {
    "duration": 36,
    "start_time": "2022-04-04T14:15:10.215Z"
   },
   {
    "duration": 6942,
    "start_time": "2022-04-04T14:15:10.253Z"
   },
   {
    "duration": 6,
    "start_time": "2022-04-04T14:15:17.197Z"
   },
   {
    "duration": 17,
    "start_time": "2022-04-04T14:15:17.205Z"
   },
   {
    "duration": 21,
    "start_time": "2022-04-04T14:15:17.224Z"
   },
   {
    "duration": 26,
    "start_time": "2022-04-04T14:15:17.247Z"
   },
   {
    "duration": 11,
    "start_time": "2022-04-04T14:15:17.277Z"
   },
   {
    "duration": 6,
    "start_time": "2022-04-04T14:15:17.291Z"
   },
   {
    "duration": 7,
    "start_time": "2022-04-04T14:15:17.299Z"
   },
   {
    "duration": 7,
    "start_time": "2022-04-04T14:15:17.309Z"
   },
   {
    "duration": 77,
    "start_time": "2022-04-04T14:15:17.318Z"
   },
   {
    "duration": 10,
    "start_time": "2022-04-04T14:15:17.397Z"
   },
   {
    "duration": 72,
    "start_time": "2022-04-04T14:15:17.409Z"
   },
   {
    "duration": 12,
    "start_time": "2022-04-04T14:15:17.483Z"
   },
   {
    "duration": 24,
    "start_time": "2022-04-04T14:15:17.497Z"
   },
   {
    "duration": 50,
    "start_time": "2022-04-04T14:15:17.524Z"
   },
   {
    "duration": 26,
    "start_time": "2022-04-04T14:15:17.577Z"
   },
   {
    "duration": 23,
    "start_time": "2022-04-04T14:15:17.606Z"
   },
   {
    "duration": 49,
    "start_time": "2022-04-04T14:15:17.631Z"
   },
   {
    "duration": 15,
    "start_time": "2022-04-04T14:15:17.682Z"
   },
   {
    "duration": 27,
    "start_time": "2022-04-04T14:15:17.699Z"
   },
   {
    "duration": 9,
    "start_time": "2022-04-04T14:15:17.728Z"
   },
   {
    "duration": 53,
    "start_time": "2022-04-04T14:15:17.739Z"
   },
   {
    "duration": 19,
    "start_time": "2022-04-04T14:15:17.794Z"
   },
   {
    "duration": 17,
    "start_time": "2022-04-04T14:15:17.816Z"
   },
   {
    "duration": 57,
    "start_time": "2022-04-04T14:15:17.835Z"
   },
   {
    "duration": 20,
    "start_time": "2022-04-04T14:15:17.895Z"
   },
   {
    "duration": 22,
    "start_time": "2022-04-04T14:15:17.917Z"
   },
   {
    "duration": 5,
    "start_time": "2022-04-04T14:15:17.941Z"
   },
   {
    "duration": 249,
    "start_time": "2022-04-04T14:15:17.948Z"
   },
   {
    "duration": 21,
    "start_time": "2022-04-04T14:15:18.200Z"
   },
   {
    "duration": 140,
    "start_time": "2022-04-04T14:24:19.945Z"
   },
   {
    "duration": 23,
    "start_time": "2022-04-04T14:24:25.450Z"
   },
   {
    "duration": 493,
    "start_time": "2022-04-04T14:24:32.790Z"
   },
   {
    "duration": 77,
    "start_time": "2022-04-04T14:24:33.286Z"
   },
   {
    "duration": 30,
    "start_time": "2022-04-04T14:24:33.366Z"
   },
   {
    "duration": 21,
    "start_time": "2022-04-04T14:24:33.399Z"
   },
   {
    "duration": 14,
    "start_time": "2022-04-04T14:24:33.422Z"
   },
   {
    "duration": 39,
    "start_time": "2022-04-04T14:24:33.438Z"
   },
   {
    "duration": 10,
    "start_time": "2022-04-04T14:24:33.479Z"
   },
   {
    "duration": 14,
    "start_time": "2022-04-04T14:24:33.492Z"
   },
   {
    "duration": 6892,
    "start_time": "2022-04-04T14:24:33.509Z"
   },
   {
    "duration": 6,
    "start_time": "2022-04-04T14:24:40.405Z"
   },
   {
    "duration": 14,
    "start_time": "2022-04-04T14:24:40.413Z"
   },
   {
    "duration": 28,
    "start_time": "2022-04-04T14:24:40.429Z"
   },
   {
    "duration": 22,
    "start_time": "2022-04-04T14:24:40.460Z"
   },
   {
    "duration": 13,
    "start_time": "2022-04-04T14:24:40.484Z"
   },
   {
    "duration": 8,
    "start_time": "2022-04-04T14:24:40.499Z"
   },
   {
    "duration": 19,
    "start_time": "2022-04-04T14:24:40.509Z"
   },
   {
    "duration": 9,
    "start_time": "2022-04-04T14:24:40.530Z"
   },
   {
    "duration": 56,
    "start_time": "2022-04-04T14:24:40.541Z"
   },
   {
    "duration": 9,
    "start_time": "2022-04-04T14:24:40.599Z"
   },
   {
    "duration": 70,
    "start_time": "2022-04-04T14:24:40.611Z"
   },
   {
    "duration": 12,
    "start_time": "2022-04-04T14:24:40.683Z"
   },
   {
    "duration": 35,
    "start_time": "2022-04-04T14:24:40.698Z"
   },
   {
    "duration": 45,
    "start_time": "2022-04-04T14:24:40.735Z"
   },
   {
    "duration": 29,
    "start_time": "2022-04-04T14:24:40.782Z"
   },
   {
    "duration": 24,
    "start_time": "2022-04-04T14:24:40.813Z"
   },
   {
    "duration": 45,
    "start_time": "2022-04-04T14:24:40.839Z"
   },
   {
    "duration": 15,
    "start_time": "2022-04-04T14:24:40.886Z"
   },
   {
    "duration": 27,
    "start_time": "2022-04-04T14:24:40.906Z"
   },
   {
    "duration": 9,
    "start_time": "2022-04-04T14:24:40.935Z"
   },
   {
    "duration": 20,
    "start_time": "2022-04-04T14:24:40.975Z"
   },
   {
    "duration": 21,
    "start_time": "2022-04-04T14:24:40.998Z"
   },
   {
    "duration": 54,
    "start_time": "2022-04-04T14:24:41.021Z"
   },
   {
    "duration": 29,
    "start_time": "2022-04-04T14:24:41.077Z"
   },
   {
    "duration": 23,
    "start_time": "2022-04-04T14:24:41.108Z"
   },
   {
    "duration": 48,
    "start_time": "2022-04-04T14:24:41.134Z"
   },
   {
    "duration": 4,
    "start_time": "2022-04-04T14:24:41.184Z"
   },
   {
    "duration": 1036,
    "start_time": "2022-04-04T14:24:41.191Z"
   },
   {
    "duration": 20,
    "start_time": "2022-04-04T14:24:42.229Z"
   },
   {
    "duration": 473,
    "start_time": "2022-04-04T14:27:09.102Z"
   },
   {
    "duration": 73,
    "start_time": "2022-04-04T14:27:09.578Z"
   },
   {
    "duration": 41,
    "start_time": "2022-04-04T14:27:09.653Z"
   },
   {
    "duration": 23,
    "start_time": "2022-04-04T14:27:09.696Z"
   },
   {
    "duration": 15,
    "start_time": "2022-04-04T14:27:09.723Z"
   },
   {
    "duration": 40,
    "start_time": "2022-04-04T14:27:09.740Z"
   },
   {
    "duration": 22,
    "start_time": "2022-04-04T14:27:09.782Z"
   },
   {
    "duration": 30,
    "start_time": "2022-04-04T14:27:09.807Z"
   },
   {
    "duration": 7067,
    "start_time": "2022-04-04T14:27:09.840Z"
   },
   {
    "duration": 7,
    "start_time": "2022-04-04T14:27:16.910Z"
   },
   {
    "duration": 8,
    "start_time": "2022-04-04T14:27:16.919Z"
   },
   {
    "duration": 59,
    "start_time": "2022-04-04T14:27:16.930Z"
   },
   {
    "duration": 8,
    "start_time": "2022-04-04T14:27:16.992Z"
   },
   {
    "duration": 15,
    "start_time": "2022-04-04T14:27:17.009Z"
   },
   {
    "duration": 7,
    "start_time": "2022-04-04T14:27:17.026Z"
   },
   {
    "duration": 7,
    "start_time": "2022-04-04T14:27:17.074Z"
   },
   {
    "duration": 8,
    "start_time": "2022-04-04T14:27:17.083Z"
   },
   {
    "duration": 33,
    "start_time": "2022-04-04T14:27:17.092Z"
   },
   {
    "duration": 10,
    "start_time": "2022-04-04T14:27:17.127Z"
   },
   {
    "duration": 86,
    "start_time": "2022-04-04T14:27:17.139Z"
   },
   {
    "duration": 11,
    "start_time": "2022-04-04T14:27:17.227Z"
   },
   {
    "duration": 51,
    "start_time": "2022-04-04T14:27:17.241Z"
   },
   {
    "duration": 25,
    "start_time": "2022-04-04T14:27:17.294Z"
   },
   {
    "duration": 28,
    "start_time": "2022-04-04T14:27:17.321Z"
   },
   {
    "duration": 25,
    "start_time": "2022-04-04T14:27:17.373Z"
   },
   {
    "duration": 20,
    "start_time": "2022-04-04T14:27:17.400Z"
   },
   {
    "duration": 15,
    "start_time": "2022-04-04T14:27:17.423Z"
   },
   {
    "duration": 58,
    "start_time": "2022-04-04T14:27:17.440Z"
   },
   {
    "duration": 9,
    "start_time": "2022-04-04T14:27:17.500Z"
   },
   {
    "duration": 25,
    "start_time": "2022-04-04T14:27:17.511Z"
   },
   {
    "duration": 41,
    "start_time": "2022-04-04T14:27:17.538Z"
   },
   {
    "duration": 17,
    "start_time": "2022-04-04T14:27:17.581Z"
   },
   {
    "duration": 25,
    "start_time": "2022-04-04T14:27:17.600Z"
   },
   {
    "duration": 48,
    "start_time": "2022-04-04T14:27:17.627Z"
   },
   {
    "duration": 22,
    "start_time": "2022-04-04T14:27:17.677Z"
   },
   {
    "duration": 4,
    "start_time": "2022-04-04T14:27:17.701Z"
   },
   {
    "duration": 147,
    "start_time": "2022-04-04T14:27:17.707Z"
   },
   {
    "duration": 0,
    "start_time": "2022-04-04T14:27:17.856Z"
   },
   {
    "duration": 523,
    "start_time": "2022-04-04T14:27:45.638Z"
   },
   {
    "duration": 77,
    "start_time": "2022-04-04T14:27:46.173Z"
   },
   {
    "duration": 31,
    "start_time": "2022-04-04T14:27:46.252Z"
   },
   {
    "duration": 21,
    "start_time": "2022-04-04T14:27:46.285Z"
   },
   {
    "duration": 13,
    "start_time": "2022-04-04T14:27:46.309Z"
   },
   {
    "duration": 6,
    "start_time": "2022-04-04T14:27:46.324Z"
   },
   {
    "duration": 44,
    "start_time": "2022-04-04T14:27:46.333Z"
   },
   {
    "duration": 10,
    "start_time": "2022-04-04T14:27:46.379Z"
   },
   {
    "duration": 6760,
    "start_time": "2022-04-04T14:27:46.392Z"
   },
   {
    "duration": 7,
    "start_time": "2022-04-04T14:27:53.154Z"
   },
   {
    "duration": 6,
    "start_time": "2022-04-04T14:27:53.175Z"
   },
   {
    "duration": 19,
    "start_time": "2022-04-04T14:27:53.183Z"
   },
   {
    "duration": 6,
    "start_time": "2022-04-04T14:27:53.204Z"
   },
   {
    "duration": 11,
    "start_time": "2022-04-04T14:27:53.214Z"
   },
   {
    "duration": 6,
    "start_time": "2022-04-04T14:27:53.227Z"
   },
   {
    "duration": 10,
    "start_time": "2022-04-04T14:27:53.275Z"
   },
   {
    "duration": 8,
    "start_time": "2022-04-04T14:27:53.287Z"
   },
   {
    "duration": 31,
    "start_time": "2022-04-04T14:27:53.297Z"
   },
   {
    "duration": 47,
    "start_time": "2022-04-04T14:27:53.330Z"
   },
   {
    "duration": 52,
    "start_time": "2022-04-04T14:27:53.379Z"
   },
   {
    "duration": 39,
    "start_time": "2022-04-04T14:27:53.434Z"
   },
   {
    "duration": 25,
    "start_time": "2022-04-04T14:27:53.475Z"
   },
   {
    "duration": 25,
    "start_time": "2022-04-04T14:27:53.503Z"
   },
   {
    "duration": 62,
    "start_time": "2022-04-04T14:27:53.531Z"
   },
   {
    "duration": 24,
    "start_time": "2022-04-04T14:27:53.595Z"
   },
   {
    "duration": 19,
    "start_time": "2022-04-04T14:27:53.621Z"
   },
   {
    "duration": 44,
    "start_time": "2022-04-04T14:27:53.642Z"
   },
   {
    "duration": 27,
    "start_time": "2022-04-04T14:27:53.689Z"
   },
   {
    "duration": 9,
    "start_time": "2022-04-04T14:27:53.718Z"
   },
   {
    "duration": 48,
    "start_time": "2022-04-04T14:27:53.729Z"
   },
   {
    "duration": 19,
    "start_time": "2022-04-04T14:27:53.779Z"
   },
   {
    "duration": 17,
    "start_time": "2022-04-04T14:27:53.800Z"
   },
   {
    "duration": 56,
    "start_time": "2022-04-04T14:27:53.819Z"
   },
   {
    "duration": 20,
    "start_time": "2022-04-04T14:27:53.877Z"
   },
   {
    "duration": 24,
    "start_time": "2022-04-04T14:27:53.899Z"
   },
   {
    "duration": 4,
    "start_time": "2022-04-04T14:27:53.925Z"
   },
   {
    "duration": 316,
    "start_time": "2022-04-04T14:27:53.932Z"
   },
   {
    "duration": 28,
    "start_time": "2022-04-04T14:27:54.250Z"
   },
   {
    "duration": 500,
    "start_time": "2022-04-04T14:50:20.391Z"
   },
   {
    "duration": 80,
    "start_time": "2022-04-04T14:50:20.894Z"
   },
   {
    "duration": 31,
    "start_time": "2022-04-04T14:50:20.976Z"
   },
   {
    "duration": 20,
    "start_time": "2022-04-04T14:50:21.010Z"
   },
   {
    "duration": 41,
    "start_time": "2022-04-04T14:50:21.034Z"
   },
   {
    "duration": 7,
    "start_time": "2022-04-04T14:50:21.077Z"
   },
   {
    "duration": 10,
    "start_time": "2022-04-04T14:50:21.086Z"
   },
   {
    "duration": 12,
    "start_time": "2022-04-04T14:50:21.098Z"
   },
   {
    "duration": 7404,
    "start_time": "2022-04-04T14:50:21.112Z"
   },
   {
    "duration": 7,
    "start_time": "2022-04-04T14:50:28.518Z"
   },
   {
    "duration": 10,
    "start_time": "2022-04-04T14:50:28.527Z"
   },
   {
    "duration": 42,
    "start_time": "2022-04-04T14:50:28.540Z"
   },
   {
    "duration": 10,
    "start_time": "2022-04-04T14:50:28.584Z"
   },
   {
    "duration": 13,
    "start_time": "2022-04-04T14:50:28.601Z"
   },
   {
    "duration": 14,
    "start_time": "2022-04-04T14:50:28.616Z"
   },
   {
    "duration": 9,
    "start_time": "2022-04-04T14:50:28.632Z"
   },
   {
    "duration": 13,
    "start_time": "2022-04-04T14:50:28.675Z"
   },
   {
    "duration": 32,
    "start_time": "2022-04-04T14:50:28.691Z"
   },
   {
    "duration": 12,
    "start_time": "2022-04-04T14:50:28.726Z"
   },
   {
    "duration": 64,
    "start_time": "2022-04-04T14:50:28.774Z"
   },
   {
    "duration": 39,
    "start_time": "2022-04-04T14:50:28.841Z"
   },
   {
    "duration": 38,
    "start_time": "2022-04-04T14:50:28.883Z"
   },
   {
    "duration": 60,
    "start_time": "2022-04-04T14:50:28.924Z"
   },
   {
    "duration": 38,
    "start_time": "2022-04-04T14:50:28.987Z"
   },
   {
    "duration": 54,
    "start_time": "2022-04-04T14:50:29.027Z"
   },
   {
    "duration": 32,
    "start_time": "2022-04-04T14:50:29.084Z"
   },
   {
    "duration": 26,
    "start_time": "2022-04-04T14:50:29.119Z"
   },
   {
    "duration": 68,
    "start_time": "2022-04-04T14:50:29.148Z"
   },
   {
    "duration": 11,
    "start_time": "2022-04-04T14:50:29.219Z"
   },
   {
    "duration": 44,
    "start_time": "2022-04-04T14:50:29.232Z"
   },
   {
    "duration": 20,
    "start_time": "2022-04-04T14:50:29.279Z"
   },
   {
    "duration": 19,
    "start_time": "2022-04-04T14:50:29.301Z"
   },
   {
    "duration": 56,
    "start_time": "2022-04-04T14:50:29.322Z"
   },
   {
    "duration": 20,
    "start_time": "2022-04-04T14:50:29.381Z"
   },
   {
    "duration": 33,
    "start_time": "2022-04-04T14:50:29.404Z"
   },
   {
    "duration": 4,
    "start_time": "2022-04-04T14:50:29.439Z"
   },
   {
    "duration": 495,
    "start_time": "2022-04-04T14:50:29.445Z"
   },
   {
    "duration": 35,
    "start_time": "2022-04-04T14:50:29.942Z"
   },
   {
    "duration": 71,
    "start_time": "2022-04-05T10:37:27.641Z"
   },
   {
    "duration": 478,
    "start_time": "2022-04-05T10:37:36.812Z"
   },
   {
    "duration": 110,
    "start_time": "2022-04-05T10:37:37.293Z"
   },
   {
    "duration": 31,
    "start_time": "2022-04-05T10:37:37.405Z"
   },
   {
    "duration": 21,
    "start_time": "2022-04-05T10:37:37.438Z"
   },
   {
    "duration": 35,
    "start_time": "2022-04-05T10:37:37.462Z"
   },
   {
    "duration": 8,
    "start_time": "2022-04-05T10:37:37.499Z"
   },
   {
    "duration": 6,
    "start_time": "2022-04-05T10:37:37.509Z"
   },
   {
    "duration": 11,
    "start_time": "2022-04-05T10:37:37.517Z"
   },
   {
    "duration": 7164,
    "start_time": "2022-04-05T10:37:37.531Z"
   },
   {
    "duration": 6,
    "start_time": "2022-04-05T10:37:44.698Z"
   },
   {
    "duration": 19,
    "start_time": "2022-04-05T10:37:44.707Z"
   },
   {
    "duration": 23,
    "start_time": "2022-04-05T10:37:44.729Z"
   },
   {
    "duration": 7,
    "start_time": "2022-04-05T10:37:44.755Z"
   },
   {
    "duration": 30,
    "start_time": "2022-04-05T10:37:44.766Z"
   },
   {
    "duration": 7,
    "start_time": "2022-04-05T10:37:44.799Z"
   },
   {
    "duration": 11,
    "start_time": "2022-04-05T10:37:44.809Z"
   },
   {
    "duration": 12,
    "start_time": "2022-04-05T10:37:44.822Z"
   },
   {
    "duration": 72,
    "start_time": "2022-04-05T10:37:44.836Z"
   },
   {
    "duration": 10,
    "start_time": "2022-04-05T10:37:44.910Z"
   },
   {
    "duration": 85,
    "start_time": "2022-04-05T10:37:44.922Z"
   },
   {
    "duration": 14,
    "start_time": "2022-04-05T10:37:45.010Z"
   },
   {
    "duration": 28,
    "start_time": "2022-04-05T10:37:45.027Z"
   },
   {
    "duration": 51,
    "start_time": "2022-04-05T10:37:45.058Z"
   },
   {
    "duration": 29,
    "start_time": "2022-04-05T10:37:45.112Z"
   },
   {
    "duration": 56,
    "start_time": "2022-04-05T10:37:45.144Z"
   },
   {
    "duration": 19,
    "start_time": "2022-04-05T10:37:45.203Z"
   },
   {
    "duration": 24,
    "start_time": "2022-04-05T10:37:45.224Z"
   },
   {
    "duration": 49,
    "start_time": "2022-04-05T10:37:45.251Z"
   },
   {
    "duration": 10,
    "start_time": "2022-04-05T10:37:45.303Z"
   },
   {
    "duration": 28,
    "start_time": "2022-04-05T10:37:45.315Z"
   },
   {
    "duration": 43,
    "start_time": "2022-04-05T10:37:45.345Z"
   },
   {
    "duration": 17,
    "start_time": "2022-04-05T10:37:45.390Z"
   },
   {
    "duration": 38,
    "start_time": "2022-04-05T10:37:45.409Z"
   },
   {
    "duration": 36,
    "start_time": "2022-04-05T10:37:45.449Z"
   },
   {
    "duration": 23,
    "start_time": "2022-04-05T10:37:45.487Z"
   },
   {
    "duration": 12,
    "start_time": "2022-04-05T10:37:45.512Z"
   },
   {
    "duration": 324,
    "start_time": "2022-04-05T10:37:45.526Z"
   },
   {
    "duration": 33,
    "start_time": "2022-04-05T10:37:45.852Z"
   },
   {
    "duration": 3,
    "start_time": "2022-04-05T10:37:45.887Z"
   },
   {
    "duration": 10,
    "start_time": "2022-04-05T10:37:45.892Z"
   },
   {
    "duration": 104,
    "start_time": "2022-04-05T10:38:40.558Z"
   },
   {
    "duration": 6,
    "start_time": "2022-04-05T10:40:02.005Z"
   },
   {
    "duration": 8,
    "start_time": "2022-04-05T10:40:10.220Z"
   },
   {
    "duration": 11,
    "start_time": "2022-04-05T10:40:16.945Z"
   },
   {
    "duration": 30,
    "start_time": "2022-04-05T10:40:59.119Z"
   },
   {
    "duration": 29,
    "start_time": "2022-04-05T10:41:19.448Z"
   },
   {
    "duration": 10,
    "start_time": "2022-04-05T10:41:51.163Z"
   },
   {
    "duration": 2830,
    "start_time": "2022-04-05T10:41:58.241Z"
   },
   {
    "duration": 10,
    "start_time": "2022-04-05T10:42:04.964Z"
   },
   {
    "duration": 10,
    "start_time": "2022-04-05T10:42:16.274Z"
   },
   {
    "duration": 9,
    "start_time": "2022-04-05T10:42:22.628Z"
   },
   {
    "duration": 23,
    "start_time": "2022-04-05T10:43:45.109Z"
   },
   {
    "duration": 136,
    "start_time": "2022-04-05T10:47:08.315Z"
   },
   {
    "duration": 136,
    "start_time": "2022-04-05T10:47:18.366Z"
   },
   {
    "duration": 276,
    "start_time": "2022-04-05T10:48:12.829Z"
   },
   {
    "duration": 131,
    "start_time": "2022-04-05T10:48:58.071Z"
   },
   {
    "duration": 108,
    "start_time": "2022-04-05T10:49:04.124Z"
   },
   {
    "duration": 121,
    "start_time": "2022-04-05T10:49:14.432Z"
   },
   {
    "duration": 152,
    "start_time": "2022-04-05T10:50:12.196Z"
   },
   {
    "duration": 209,
    "start_time": "2022-04-05T10:50:37.941Z"
   },
   {
    "duration": 120,
    "start_time": "2022-04-05T10:51:25.518Z"
   },
   {
    "duration": 126,
    "start_time": "2022-04-05T10:51:49.418Z"
   },
   {
    "duration": 169,
    "start_time": "2022-04-05T10:54:56.646Z"
   },
   {
    "duration": 172,
    "start_time": "2022-04-05T10:55:15.017Z"
   },
   {
    "duration": 118,
    "start_time": "2022-04-05T10:55:22.691Z"
   },
   {
    "duration": 126,
    "start_time": "2022-04-05T10:55:32.256Z"
   },
   {
    "duration": 24,
    "start_time": "2022-04-05T10:55:44.115Z"
   },
   {
    "duration": 21,
    "start_time": "2022-04-05T10:56:39.294Z"
   },
   {
    "duration": 23,
    "start_time": "2022-04-05T10:57:06.943Z"
   },
   {
    "duration": 26,
    "start_time": "2022-04-05T10:57:15.343Z"
   },
   {
    "duration": 31,
    "start_time": "2022-04-05T10:57:33.552Z"
   },
   {
    "duration": 26,
    "start_time": "2022-04-05T10:57:40.100Z"
   },
   {
    "duration": 27,
    "start_time": "2022-04-05T10:58:13.503Z"
   },
   {
    "duration": 32,
    "start_time": "2022-04-05T10:58:37.592Z"
   },
   {
    "duration": 30,
    "start_time": "2022-04-05T11:00:28.931Z"
   },
   {
    "duration": 36,
    "start_time": "2022-04-05T11:00:38.101Z"
   },
   {
    "duration": 31,
    "start_time": "2022-04-05T11:00:42.270Z"
   },
   {
    "duration": 31,
    "start_time": "2022-04-05T11:02:29.155Z"
   },
   {
    "duration": 32,
    "start_time": "2022-04-05T11:05:57.543Z"
   },
   {
    "duration": 17,
    "start_time": "2022-04-05T11:06:26.150Z"
   },
   {
    "duration": 32,
    "start_time": "2022-04-05T11:06:48.725Z"
   },
   {
    "duration": 7,
    "start_time": "2022-04-05T11:09:59.536Z"
   },
   {
    "duration": 14,
    "start_time": "2022-04-05T11:10:26.442Z"
   },
   {
    "duration": 544,
    "start_time": "2022-04-05T11:31:36.161Z"
   },
   {
    "duration": 78,
    "start_time": "2022-04-05T11:31:36.707Z"
   },
   {
    "duration": 31,
    "start_time": "2022-04-05T11:31:36.787Z"
   },
   {
    "duration": 21,
    "start_time": "2022-04-05T11:31:36.821Z"
   },
   {
    "duration": 42,
    "start_time": "2022-04-05T11:31:36.844Z"
   },
   {
    "duration": 7,
    "start_time": "2022-04-05T11:31:36.889Z"
   },
   {
    "duration": 9,
    "start_time": "2022-04-05T11:31:36.898Z"
   },
   {
    "duration": 15,
    "start_time": "2022-04-05T11:31:36.909Z"
   },
   {
    "duration": 7293,
    "start_time": "2022-04-05T11:31:36.926Z"
   },
   {
    "duration": 6,
    "start_time": "2022-04-05T11:31:44.223Z"
   },
   {
    "duration": 39,
    "start_time": "2022-04-05T11:31:44.231Z"
   },
   {
    "duration": 19,
    "start_time": "2022-04-05T11:31:44.272Z"
   },
   {
    "duration": 12,
    "start_time": "2022-04-05T11:31:44.293Z"
   },
   {
    "duration": 12,
    "start_time": "2022-04-05T11:31:44.307Z"
   },
   {
    "duration": 5,
    "start_time": "2022-04-05T11:31:44.321Z"
   },
   {
    "duration": 8,
    "start_time": "2022-04-05T11:31:44.328Z"
   },
   {
    "duration": 13,
    "start_time": "2022-04-05T11:31:44.338Z"
   },
   {
    "duration": 61,
    "start_time": "2022-04-05T11:31:44.353Z"
   },
   {
    "duration": 10,
    "start_time": "2022-04-05T11:31:44.416Z"
   },
   {
    "duration": 87,
    "start_time": "2022-04-05T11:31:44.428Z"
   },
   {
    "duration": 12,
    "start_time": "2022-04-05T11:31:44.517Z"
   },
   {
    "duration": 28,
    "start_time": "2022-04-05T11:31:44.531Z"
   },
   {
    "duration": 45,
    "start_time": "2022-04-05T11:31:44.561Z"
   },
   {
    "duration": 28,
    "start_time": "2022-04-05T11:31:44.608Z"
   },
   {
    "duration": 48,
    "start_time": "2022-04-05T11:31:44.638Z"
   },
   {
    "duration": 20,
    "start_time": "2022-04-05T11:31:44.688Z"
   },
   {
    "duration": 15,
    "start_time": "2022-04-05T11:31:44.710Z"
   },
   {
    "duration": 55,
    "start_time": "2022-04-05T11:31:44.730Z"
   },
   {
    "duration": 8,
    "start_time": "2022-04-05T11:31:44.787Z"
   },
   {
    "duration": 22,
    "start_time": "2022-04-05T11:31:44.798Z"
   },
   {
    "duration": 18,
    "start_time": "2022-04-05T11:31:44.822Z"
   },
   {
    "duration": 50,
    "start_time": "2022-04-05T11:31:44.842Z"
   },
   {
    "duration": 26,
    "start_time": "2022-04-05T11:31:44.894Z"
   },
   {
    "duration": 20,
    "start_time": "2022-04-05T11:31:44.922Z"
   },
   {
    "duration": 52,
    "start_time": "2022-04-05T11:31:44.944Z"
   },
   {
    "duration": 4,
    "start_time": "2022-04-05T11:31:44.998Z"
   },
   {
    "duration": 323,
    "start_time": "2022-04-05T11:31:45.005Z"
   },
   {
    "duration": 26,
    "start_time": "2022-04-05T11:31:45.331Z"
   },
   {
    "duration": 48,
    "start_time": "2022-04-05T11:31:45.360Z"
   },
   {
    "duration": 53,
    "start_time": "2022-04-05T11:31:45.411Z"
   },
   {
    "duration": 23,
    "start_time": "2022-04-05T11:31:45.467Z"
   },
   {
    "duration": 39,
    "start_time": "2022-04-05T11:31:45.492Z"
   },
   {
    "duration": 416,
    "start_time": "2022-04-05T11:46:01.915Z"
   },
   {
    "duration": 104,
    "start_time": "2022-04-05T11:46:09.136Z"
   },
   {
    "duration": 252,
    "start_time": "2022-04-05T11:46:40.129Z"
   },
   {
    "duration": 19,
    "start_time": "2022-04-05T12:04:43.899Z"
   },
   {
    "duration": 31,
    "start_time": "2022-04-05T12:05:03.970Z"
   },
   {
    "duration": 72,
    "start_time": "2022-04-05T13:03:41.693Z"
   },
   {
    "duration": 537,
    "start_time": "2022-04-05T13:03:47.932Z"
   },
   {
    "duration": 78,
    "start_time": "2022-04-05T13:03:48.471Z"
   },
   {
    "duration": 34,
    "start_time": "2022-04-05T13:03:48.551Z"
   },
   {
    "duration": 21,
    "start_time": "2022-04-05T13:03:48.587Z"
   },
   {
    "duration": 13,
    "start_time": "2022-04-05T13:03:48.611Z"
   },
   {
    "duration": 24,
    "start_time": "2022-04-05T13:03:48.626Z"
   },
   {
    "duration": 18,
    "start_time": "2022-04-05T13:03:48.652Z"
   },
   {
    "duration": 12,
    "start_time": "2022-04-05T13:03:48.684Z"
   },
   {
    "duration": 7320,
    "start_time": "2022-04-05T13:03:48.698Z"
   },
   {
    "duration": 6,
    "start_time": "2022-04-05T13:03:56.020Z"
   },
   {
    "duration": 17,
    "start_time": "2022-04-05T13:03:56.028Z"
   },
   {
    "duration": 38,
    "start_time": "2022-04-05T13:03:56.047Z"
   },
   {
    "duration": 15,
    "start_time": "2022-04-05T13:03:56.087Z"
   },
   {
    "duration": 38,
    "start_time": "2022-04-05T13:03:56.107Z"
   },
   {
    "duration": 30,
    "start_time": "2022-04-05T13:03:56.147Z"
   },
   {
    "duration": 20,
    "start_time": "2022-04-05T13:03:56.179Z"
   },
   {
    "duration": 20,
    "start_time": "2022-04-05T13:03:56.201Z"
   },
   {
    "duration": 49,
    "start_time": "2022-04-05T13:03:56.224Z"
   },
   {
    "duration": 10,
    "start_time": "2022-04-05T13:03:56.275Z"
   },
   {
    "duration": 72,
    "start_time": "2022-04-05T13:03:56.287Z"
   },
   {
    "duration": 23,
    "start_time": "2022-04-05T13:03:56.362Z"
   },
   {
    "duration": 24,
    "start_time": "2022-04-05T13:03:56.387Z"
   },
   {
    "duration": 37,
    "start_time": "2022-04-05T13:03:56.412Z"
   },
   {
    "duration": 44,
    "start_time": "2022-04-05T13:03:56.451Z"
   },
   {
    "duration": 24,
    "start_time": "2022-04-05T13:03:56.497Z"
   },
   {
    "duration": 19,
    "start_time": "2022-04-05T13:03:56.523Z"
   },
   {
    "duration": 42,
    "start_time": "2022-04-05T13:03:56.544Z"
   },
   {
    "duration": 28,
    "start_time": "2022-04-05T13:03:56.588Z"
   },
   {
    "duration": 9,
    "start_time": "2022-04-05T13:03:56.618Z"
   },
   {
    "duration": 25,
    "start_time": "2022-04-05T13:03:56.629Z"
   },
   {
    "duration": 42,
    "start_time": "2022-04-05T13:03:56.656Z"
   },
   {
    "duration": 17,
    "start_time": "2022-04-05T13:03:56.700Z"
   },
   {
    "duration": 39,
    "start_time": "2022-04-05T13:03:56.718Z"
   },
   {
    "duration": 35,
    "start_time": "2022-04-05T13:03:56.759Z"
   },
   {
    "duration": 47,
    "start_time": "2022-04-05T13:03:56.797Z"
   },
   {
    "duration": 20,
    "start_time": "2022-04-05T13:03:56.846Z"
   },
   {
    "duration": 323,
    "start_time": "2022-04-05T13:03:56.869Z"
   },
   {
    "duration": 23,
    "start_time": "2022-04-05T13:03:57.195Z"
   },
   {
    "duration": 48,
    "start_time": "2022-04-05T13:03:57.220Z"
   },
   {
    "duration": 38,
    "start_time": "2022-04-05T13:03:57.271Z"
   },
   {
    "duration": 9,
    "start_time": "2022-04-05T13:03:57.314Z"
   },
   {
    "duration": 33,
    "start_time": "2022-04-05T13:03:57.325Z"
   },
   {
    "duration": 265,
    "start_time": "2022-04-05T13:03:57.360Z"
   },
   {
    "duration": 29,
    "start_time": "2022-04-05T13:03:57.627Z"
   },
   {
    "duration": 7,
    "start_time": "2022-04-05T13:04:22.238Z"
   },
   {
    "duration": 18,
    "start_time": "2022-04-05T13:06:10.957Z"
   },
   {
    "duration": 107,
    "start_time": "2022-04-05T13:09:23.762Z"
   },
   {
    "duration": 22,
    "start_time": "2022-04-05T13:09:42.712Z"
   },
   {
    "duration": 24,
    "start_time": "2022-04-05T13:10:31.088Z"
   },
   {
    "duration": 26,
    "start_time": "2022-04-05T13:13:52.133Z"
   },
   {
    "duration": 27,
    "start_time": "2022-04-05T13:16:03.483Z"
   },
   {
    "duration": 23,
    "start_time": "2022-04-05T13:16:41.692Z"
   },
   {
    "duration": 27,
    "start_time": "2022-04-05T13:16:43.937Z"
   },
   {
    "duration": 537,
    "start_time": "2022-04-05T13:47:07.847Z"
   },
   {
    "duration": 74,
    "start_time": "2022-04-05T13:47:08.387Z"
   },
   {
    "duration": 35,
    "start_time": "2022-04-05T13:47:08.463Z"
   },
   {
    "duration": 22,
    "start_time": "2022-04-05T13:47:08.500Z"
   },
   {
    "duration": 14,
    "start_time": "2022-04-05T13:47:08.525Z"
   },
   {
    "duration": 263,
    "start_time": "2022-04-05T13:47:08.541Z"
   },
   {
    "duration": 8,
    "start_time": "2022-04-05T13:47:08.807Z"
   },
   {
    "duration": 13,
    "start_time": "2022-04-05T13:47:08.817Z"
   },
   {
    "duration": 7146,
    "start_time": "2022-04-05T13:47:08.833Z"
   },
   {
    "duration": 7,
    "start_time": "2022-04-05T13:47:15.981Z"
   },
   {
    "duration": 37,
    "start_time": "2022-04-05T13:47:15.990Z"
   },
   {
    "duration": 38,
    "start_time": "2022-04-05T13:47:16.030Z"
   },
   {
    "duration": 24,
    "start_time": "2022-04-05T13:47:16.070Z"
   },
   {
    "duration": 29,
    "start_time": "2022-04-05T13:47:16.099Z"
   },
   {
    "duration": 30,
    "start_time": "2022-04-05T13:47:16.131Z"
   },
   {
    "duration": 12,
    "start_time": "2022-04-05T13:47:16.163Z"
   },
   {
    "duration": 23,
    "start_time": "2022-04-05T13:47:16.177Z"
   },
   {
    "duration": 59,
    "start_time": "2022-04-05T13:47:16.202Z"
   },
   {
    "duration": 14,
    "start_time": "2022-04-05T13:47:16.264Z"
   },
   {
    "duration": 102,
    "start_time": "2022-04-05T13:47:16.285Z"
   },
   {
    "duration": 14,
    "start_time": "2022-04-05T13:47:16.390Z"
   },
   {
    "duration": 40,
    "start_time": "2022-04-05T13:47:16.406Z"
   },
   {
    "duration": 46,
    "start_time": "2022-04-05T13:47:16.448Z"
   },
   {
    "duration": 49,
    "start_time": "2022-04-05T13:47:16.497Z"
   },
   {
    "duration": 25,
    "start_time": "2022-04-05T13:47:16.549Z"
   },
   {
    "duration": 24,
    "start_time": "2022-04-05T13:47:16.577Z"
   },
   {
    "duration": 30,
    "start_time": "2022-04-05T13:47:16.604Z"
   },
   {
    "duration": 53,
    "start_time": "2022-04-05T13:47:16.636Z"
   },
   {
    "duration": 16,
    "start_time": "2022-04-05T13:47:16.691Z"
   },
   {
    "duration": 34,
    "start_time": "2022-04-05T13:47:16.710Z"
   },
   {
    "duration": 24,
    "start_time": "2022-04-05T13:47:16.747Z"
   },
   {
    "duration": 23,
    "start_time": "2022-04-05T13:47:16.773Z"
   },
   {
    "duration": 26,
    "start_time": "2022-04-05T13:47:16.798Z"
   },
   {
    "duration": 20,
    "start_time": "2022-04-05T13:47:16.826Z"
   },
   {
    "duration": 53,
    "start_time": "2022-04-05T13:47:16.848Z"
   },
   {
    "duration": 21,
    "start_time": "2022-04-05T13:47:16.903Z"
   },
   {
    "duration": 317,
    "start_time": "2022-04-05T13:47:16.926Z"
   },
   {
    "duration": 24,
    "start_time": "2022-04-05T13:47:17.245Z"
   },
   {
    "duration": 37,
    "start_time": "2022-04-05T13:47:17.271Z"
   },
   {
    "duration": 30,
    "start_time": "2022-04-05T13:47:17.310Z"
   },
   {
    "duration": 39,
    "start_time": "2022-04-05T13:47:17.345Z"
   },
   {
    "duration": 18,
    "start_time": "2022-04-05T13:47:17.387Z"
   },
   {
    "duration": 249,
    "start_time": "2022-04-05T13:47:17.407Z"
   },
   {
    "duration": 42,
    "start_time": "2022-04-05T13:47:17.659Z"
   },
   {
    "duration": 23,
    "start_time": "2022-04-05T13:47:17.703Z"
   },
   {
    "duration": 24,
    "start_time": "2022-04-05T13:47:17.728Z"
   },
   {
    "duration": 50,
    "start_time": "2022-04-05T13:47:17.755Z"
   },
   {
    "duration": 111,
    "start_time": "2022-04-05T14:22:00.401Z"
   },
   {
    "duration": 22,
    "start_time": "2022-04-05T14:22:20.804Z"
   },
   {
    "duration": 16,
    "start_time": "2022-04-05T14:22:45.722Z"
   },
   {
    "duration": 12,
    "start_time": "2022-04-05T14:22:54.422Z"
   },
   {
    "duration": 13,
    "start_time": "2022-04-05T14:23:06.044Z"
   },
   {
    "duration": 9,
    "start_time": "2022-04-05T14:26:53.297Z"
   },
   {
    "duration": 6,
    "start_time": "2022-04-05T14:32:03.534Z"
   },
   {
    "duration": 3198,
    "start_time": "2022-04-05T14:34:52.625Z"
   },
   {
    "duration": 1889,
    "start_time": "2022-04-05T14:36:08.483Z"
   },
   {
    "duration": 3753,
    "start_time": "2022-04-05T14:37:15.454Z"
   },
   {
    "duration": 2587,
    "start_time": "2022-04-05T14:37:34.489Z"
   },
   {
    "duration": 6,
    "start_time": "2022-04-05T14:43:04.978Z"
   },
   {
    "duration": 137,
    "start_time": "2022-04-05T14:44:01.434Z"
   },
   {
    "duration": 155,
    "start_time": "2022-04-05T14:44:11.048Z"
   },
   {
    "duration": 5,
    "start_time": "2022-04-05T14:44:21.769Z"
   },
   {
    "duration": 4,
    "start_time": "2022-04-05T14:44:36.231Z"
   },
   {
    "duration": 6,
    "start_time": "2022-04-05T14:44:48.073Z"
   },
   {
    "duration": 5,
    "start_time": "2022-04-05T14:44:57.067Z"
   },
   {
    "duration": 6,
    "start_time": "2022-04-05T14:45:02.797Z"
   },
   {
    "duration": 5,
    "start_time": "2022-04-05T14:45:12.522Z"
   },
   {
    "duration": 4,
    "start_time": "2022-04-05T14:45:22.978Z"
   },
   {
    "duration": 7,
    "start_time": "2022-04-05T14:46:05.869Z"
   },
   {
    "duration": 6,
    "start_time": "2022-04-05T14:46:24.756Z"
   },
   {
    "duration": 5,
    "start_time": "2022-04-05T14:47:13.025Z"
   },
   {
    "duration": 6,
    "start_time": "2022-04-05T14:47:15.855Z"
   },
   {
    "duration": 6,
    "start_time": "2022-04-05T14:47:20.737Z"
   },
   {
    "duration": 6,
    "start_time": "2022-04-05T14:47:24.040Z"
   },
   {
    "duration": 1298,
    "start_time": "2022-04-05T14:54:30.275Z"
   },
   {
    "duration": 1422,
    "start_time": "2022-04-05T15:00:14.067Z"
   },
   {
    "duration": 24,
    "start_time": "2022-04-05T15:00:23.580Z"
   },
   {
    "duration": 37,
    "start_time": "2022-04-05T15:00:38.542Z"
   },
   {
    "duration": 19,
    "start_time": "2022-04-05T15:01:45.078Z"
   },
   {
    "duration": 8,
    "start_time": "2022-04-05T15:02:07.959Z"
   },
   {
    "duration": 17,
    "start_time": "2022-04-05T15:02:21.771Z"
   },
   {
    "duration": 9,
    "start_time": "2022-04-05T15:02:34.362Z"
   },
   {
    "duration": 8,
    "start_time": "2022-04-05T15:02:45.978Z"
   },
   {
    "duration": 202,
    "start_time": "2022-04-05T15:03:36.423Z"
   },
   {
    "duration": 187,
    "start_time": "2022-04-05T15:03:51.004Z"
   },
   {
    "duration": 203,
    "start_time": "2022-04-05T15:06:05.196Z"
   },
   {
    "duration": 210,
    "start_time": "2022-04-05T15:06:16.621Z"
   },
   {
    "duration": 179,
    "start_time": "2022-04-05T15:06:33.887Z"
   },
   {
    "duration": 179,
    "start_time": "2022-04-05T15:06:42.998Z"
   },
   {
    "duration": 188,
    "start_time": "2022-04-05T15:06:49.862Z"
   },
   {
    "duration": 355,
    "start_time": "2022-04-05T15:07:25.249Z"
   },
   {
    "duration": 277,
    "start_time": "2022-04-05T15:07:41.540Z"
   },
   {
    "duration": 183,
    "start_time": "2022-04-05T15:14:10.691Z"
   },
   {
    "duration": 5,
    "start_time": "2022-04-05T15:14:56.913Z"
   },
   {
    "duration": 502,
    "start_time": "2022-04-05T15:15:12.617Z"
   },
   {
    "duration": 82,
    "start_time": "2022-04-05T15:15:13.123Z"
   },
   {
    "duration": 34,
    "start_time": "2022-04-05T15:15:13.207Z"
   },
   {
    "duration": 49,
    "start_time": "2022-04-05T15:15:13.245Z"
   },
   {
    "duration": 15,
    "start_time": "2022-04-05T15:15:13.297Z"
   },
   {
    "duration": 10,
    "start_time": "2022-04-05T15:15:13.315Z"
   },
   {
    "duration": 15,
    "start_time": "2022-04-05T15:15:13.327Z"
   },
   {
    "duration": 49,
    "start_time": "2022-04-05T15:15:13.344Z"
   },
   {
    "duration": 7041,
    "start_time": "2022-04-05T15:15:13.395Z"
   },
   {
    "duration": 6,
    "start_time": "2022-04-05T15:15:20.440Z"
   },
   {
    "duration": 28,
    "start_time": "2022-04-05T15:15:20.448Z"
   },
   {
    "duration": 41,
    "start_time": "2022-04-05T15:15:20.478Z"
   },
   {
    "duration": 31,
    "start_time": "2022-04-05T15:15:20.521Z"
   },
   {
    "duration": 42,
    "start_time": "2022-04-05T15:15:20.554Z"
   },
   {
    "duration": 40,
    "start_time": "2022-04-05T15:15:20.599Z"
   },
   {
    "duration": 14,
    "start_time": "2022-04-05T15:15:20.642Z"
   },
   {
    "duration": 23,
    "start_time": "2022-04-05T15:15:20.658Z"
   },
   {
    "duration": 45,
    "start_time": "2022-04-05T15:15:20.683Z"
   },
   {
    "duration": 10,
    "start_time": "2022-04-05T15:15:20.731Z"
   },
   {
    "duration": 100,
    "start_time": "2022-04-05T15:15:20.743Z"
   },
   {
    "duration": 13,
    "start_time": "2022-04-05T15:15:20.845Z"
   },
   {
    "duration": 39,
    "start_time": "2022-04-05T15:15:20.860Z"
   },
   {
    "duration": 25,
    "start_time": "2022-04-05T15:15:20.902Z"
   },
   {
    "duration": 44,
    "start_time": "2022-04-05T15:15:20.929Z"
   },
   {
    "duration": 30,
    "start_time": "2022-04-05T15:15:20.976Z"
   },
   {
    "duration": 29,
    "start_time": "2022-04-05T15:15:21.008Z"
   },
   {
    "duration": 17,
    "start_time": "2022-04-05T15:15:21.039Z"
   },
   {
    "duration": 45,
    "start_time": "2022-04-05T15:15:21.061Z"
   },
   {
    "duration": 8,
    "start_time": "2022-04-05T15:15:21.109Z"
   },
   {
    "duration": 28,
    "start_time": "2022-04-05T15:15:21.119Z"
   },
   {
    "duration": 44,
    "start_time": "2022-04-05T15:15:21.149Z"
   },
   {
    "duration": 17,
    "start_time": "2022-04-05T15:15:21.196Z"
   },
   {
    "duration": 33,
    "start_time": "2022-04-05T15:15:21.215Z"
   },
   {
    "duration": 46,
    "start_time": "2022-04-05T15:15:21.250Z"
   },
   {
    "duration": 25,
    "start_time": "2022-04-05T15:15:21.298Z"
   },
   {
    "duration": 5,
    "start_time": "2022-04-05T15:15:21.325Z"
   },
   {
    "duration": 330,
    "start_time": "2022-04-05T15:15:21.332Z"
   },
   {
    "duration": 35,
    "start_time": "2022-04-05T15:15:21.665Z"
   },
   {
    "duration": 32,
    "start_time": "2022-04-05T15:15:21.702Z"
   },
   {
    "duration": 56,
    "start_time": "2022-04-05T15:15:21.736Z"
   },
   {
    "duration": 7,
    "start_time": "2022-04-05T15:15:21.794Z"
   },
   {
    "duration": 19,
    "start_time": "2022-04-05T15:15:21.803Z"
   },
   {
    "duration": 277,
    "start_time": "2022-04-05T15:15:21.824Z"
   },
   {
    "duration": 12,
    "start_time": "2022-04-05T15:15:22.103Z"
   },
   {
    "duration": 31,
    "start_time": "2022-04-05T15:15:22.117Z"
   },
   {
    "duration": 2164,
    "start_time": "2022-04-05T15:15:22.150Z"
   },
   {
    "duration": 188,
    "start_time": "2022-04-05T15:15:24.316Z"
   },
   {
    "duration": 4,
    "start_time": "2022-04-05T15:15:24.506Z"
   },
   {
    "duration": 112,
    "start_time": "2022-04-05T15:15:24.512Z"
   },
   {
    "duration": 25,
    "start_time": "2022-04-05T15:15:24.627Z"
   },
   {
    "duration": 31,
    "start_time": "2022-04-05T15:15:24.654Z"
   },
   {
    "duration": 197,
    "start_time": "2022-04-05T15:15:38.789Z"
   },
   {
    "duration": 187,
    "start_time": "2022-04-05T15:16:03.139Z"
   },
   {
    "duration": 7,
    "start_time": "2022-04-05T15:16:50.349Z"
   },
   {
    "duration": 7,
    "start_time": "2022-04-05T15:17:03.177Z"
   },
   {
    "duration": 6,
    "start_time": "2022-04-05T15:17:22.767Z"
   },
   {
    "duration": 149,
    "start_time": "2022-04-05T15:17:33.324Z"
   },
   {
    "duration": 5,
    "start_time": "2022-04-05T15:17:38.406Z"
   },
   {
    "duration": 183,
    "start_time": "2022-04-05T15:17:42.938Z"
   },
   {
    "duration": 173,
    "start_time": "2022-04-05T15:17:58.739Z"
   },
   {
    "duration": 5,
    "start_time": "2022-04-05T15:21:23.024Z"
   },
   {
    "duration": 110,
    "start_time": "2022-04-05T15:23:58.734Z"
   },
   {
    "duration": 180,
    "start_time": "2022-04-05T15:30:07.894Z"
   },
   {
    "duration": 192,
    "start_time": "2022-04-05T15:30:53.035Z"
   },
   {
    "duration": 186,
    "start_time": "2022-04-05T15:32:08.576Z"
   },
   {
    "duration": 180,
    "start_time": "2022-04-05T15:32:36.977Z"
   },
   {
    "duration": 112,
    "start_time": "2022-04-05T15:41:08.984Z"
   },
   {
    "duration": 258,
    "start_time": "2022-04-05T15:42:12.434Z"
   },
   {
    "duration": 173,
    "start_time": "2022-04-05T15:42:46.879Z"
   },
   {
    "duration": 1691,
    "start_time": "2022-04-05T15:43:47.995Z"
   },
   {
    "duration": 1893,
    "start_time": "2022-04-05T15:44:30.807Z"
   },
   {
    "duration": 1796,
    "start_time": "2022-04-05T15:44:40.312Z"
   },
   {
    "duration": 2081,
    "start_time": "2022-04-05T15:45:35.823Z"
   },
   {
    "duration": 2289,
    "start_time": "2022-04-05T15:45:41.576Z"
   },
   {
    "duration": 141,
    "start_time": "2022-04-05T15:47:31.248Z"
   },
   {
    "duration": 15,
    "start_time": "2022-04-05T15:48:06.468Z"
   },
   {
    "duration": 15,
    "start_time": "2022-04-05T15:48:30.392Z"
   },
   {
    "duration": 15,
    "start_time": "2022-04-05T15:49:53.147Z"
   },
   {
    "duration": 158,
    "start_time": "2022-04-05T15:50:14.890Z"
   },
   {
    "duration": 145,
    "start_time": "2022-04-05T15:50:30.119Z"
   },
   {
    "duration": 171,
    "start_time": "2022-04-05T15:55:44.294Z"
   },
   {
    "duration": 183,
    "start_time": "2022-04-05T15:56:27.196Z"
   },
   {
    "duration": 7,
    "start_time": "2022-04-05T15:59:51.870Z"
   },
   {
    "duration": 32,
    "start_time": "2022-04-05T16:00:03.143Z"
   },
   {
    "duration": 184,
    "start_time": "2022-04-05T16:00:17.373Z"
   },
   {
    "duration": 497,
    "start_time": "2022-04-05T16:07:46.232Z"
   },
   {
    "duration": 82,
    "start_time": "2022-04-05T16:07:46.732Z"
   },
   {
    "duration": 32,
    "start_time": "2022-04-05T16:07:46.816Z"
   },
   {
    "duration": 42,
    "start_time": "2022-04-05T16:07:46.850Z"
   },
   {
    "duration": 13,
    "start_time": "2022-04-05T16:07:46.896Z"
   },
   {
    "duration": 8,
    "start_time": "2022-04-05T16:07:46.912Z"
   },
   {
    "duration": 8,
    "start_time": "2022-04-05T16:07:46.922Z"
   },
   {
    "duration": 13,
    "start_time": "2022-04-05T16:07:46.932Z"
   },
   {
    "duration": 7180,
    "start_time": "2022-04-05T16:07:46.984Z"
   },
   {
    "duration": 7,
    "start_time": "2022-04-05T16:07:54.166Z"
   },
   {
    "duration": 33,
    "start_time": "2022-04-05T16:07:54.176Z"
   },
   {
    "duration": 45,
    "start_time": "2022-04-05T16:07:54.212Z"
   },
   {
    "duration": 35,
    "start_time": "2022-04-05T16:07:54.259Z"
   },
   {
    "duration": 23,
    "start_time": "2022-04-05T16:07:54.299Z"
   },
   {
    "duration": 24,
    "start_time": "2022-04-05T16:07:54.325Z"
   },
   {
    "duration": 28,
    "start_time": "2022-04-05T16:07:54.352Z"
   },
   {
    "duration": 16,
    "start_time": "2022-04-05T16:07:54.382Z"
   },
   {
    "duration": 40,
    "start_time": "2022-04-05T16:07:54.401Z"
   },
   {
    "duration": 13,
    "start_time": "2022-04-05T16:07:54.443Z"
   },
   {
    "duration": 90,
    "start_time": "2022-04-05T16:07:54.458Z"
   },
   {
    "duration": 35,
    "start_time": "2022-04-05T16:07:54.550Z"
   },
   {
    "duration": 29,
    "start_time": "2022-04-05T16:07:54.587Z"
   },
   {
    "duration": 24,
    "start_time": "2022-04-05T16:07:54.619Z"
   },
   {
    "duration": 53,
    "start_time": "2022-04-05T16:07:54.645Z"
   },
   {
    "duration": 24,
    "start_time": "2022-04-05T16:07:54.700Z"
   },
   {
    "duration": 19,
    "start_time": "2022-04-05T16:07:54.727Z"
   },
   {
    "duration": 49,
    "start_time": "2022-04-05T16:07:54.749Z"
   },
   {
    "duration": 31,
    "start_time": "2022-04-05T16:07:54.801Z"
   },
   {
    "duration": 9,
    "start_time": "2022-04-05T16:07:54.835Z"
   },
   {
    "duration": 45,
    "start_time": "2022-04-05T16:07:54.847Z"
   },
   {
    "duration": 22,
    "start_time": "2022-04-05T16:07:54.894Z"
   },
   {
    "duration": 22,
    "start_time": "2022-04-05T16:07:54.919Z"
   },
   {
    "duration": 59,
    "start_time": "2022-04-05T16:07:54.944Z"
   },
   {
    "duration": 20,
    "start_time": "2022-04-05T16:07:55.005Z"
   },
   {
    "duration": 23,
    "start_time": "2022-04-05T16:07:55.028Z"
   },
   {
    "duration": 32,
    "start_time": "2022-04-05T16:07:55.054Z"
   },
   {
    "duration": 313,
    "start_time": "2022-04-05T16:07:55.089Z"
   },
   {
    "duration": 25,
    "start_time": "2022-04-05T16:07:55.405Z"
   },
   {
    "duration": 30,
    "start_time": "2022-04-05T16:07:55.432Z"
   },
   {
    "duration": 33,
    "start_time": "2022-04-05T16:07:55.484Z"
   },
   {
    "duration": 7,
    "start_time": "2022-04-05T16:07:55.523Z"
   },
   {
    "duration": 17,
    "start_time": "2022-04-05T16:07:55.533Z"
   },
   {
    "duration": 255,
    "start_time": "2022-04-05T16:07:55.583Z"
   },
   {
    "duration": 14,
    "start_time": "2022-04-05T16:07:55.841Z"
   },
   {
    "duration": 58,
    "start_time": "2022-04-05T16:07:55.858Z"
   },
   {
    "duration": 1260,
    "start_time": "2022-04-05T16:07:55.919Z"
   },
   {
    "duration": 223,
    "start_time": "2022-04-05T16:07:57.184Z"
   },
   {
    "duration": 7,
    "start_time": "2022-04-05T16:07:57.410Z"
   },
   {
    "duration": 227,
    "start_time": "2022-04-05T16:07:57.424Z"
   },
   {
    "duration": 43,
    "start_time": "2022-04-05T16:07:57.654Z"
   },
   {
    "duration": 210,
    "start_time": "2022-04-05T16:07:57.700Z"
   },
   {
    "duration": 223,
    "start_time": "2022-04-05T16:07:57.913Z"
   },
   {
    "duration": 212,
    "start_time": "2022-04-05T16:07:58.139Z"
   },
   {
    "duration": 40,
    "start_time": "2022-04-05T16:07:58.353Z"
   },
   {
    "duration": 198,
    "start_time": "2022-04-05T16:07:58.395Z"
   },
   {
    "duration": 213,
    "start_time": "2022-04-05T16:07:58.596Z"
   },
   {
    "duration": 181,
    "start_time": "2022-04-05T16:07:58.812Z"
   },
   {
    "duration": 42,
    "start_time": "2022-04-05T16:07:58.995Z"
   },
   {
    "duration": 290,
    "start_time": "2022-04-05T16:07:59.040Z"
   },
   {
    "duration": 342,
    "start_time": "2022-04-05T16:07:59.333Z"
   },
   {
    "duration": 203,
    "start_time": "2022-04-05T16:07:59.684Z"
   },
   {
    "duration": 200,
    "start_time": "2022-04-18T07:08:59.296Z"
   },
   {
    "duration": 44,
    "start_time": "2022-04-18T07:13:46.025Z"
   },
   {
    "duration": 387,
    "start_time": "2022-05-03T15:49:24.162Z"
   },
   {
    "duration": 65,
    "start_time": "2022-05-03T15:49:24.551Z"
   },
   {
    "duration": 20,
    "start_time": "2022-05-03T15:49:24.618Z"
   },
   {
    "duration": 18,
    "start_time": "2022-05-03T15:49:24.640Z"
   },
   {
    "duration": 13,
    "start_time": "2022-05-03T15:49:24.661Z"
   },
   {
    "duration": 14,
    "start_time": "2022-05-03T15:49:24.676Z"
   },
   {
    "duration": 10,
    "start_time": "2022-05-03T15:49:24.691Z"
   },
   {
    "duration": 24,
    "start_time": "2022-05-03T15:49:24.703Z"
   },
   {
    "duration": 70,
    "start_time": "2022-05-03T15:49:24.728Z"
   },
   {
    "duration": 0,
    "start_time": "2022-05-03T15:49:24.802Z"
   },
   {
    "duration": 0,
    "start_time": "2022-05-03T15:49:24.804Z"
   },
   {
    "duration": 0,
    "start_time": "2022-05-03T15:49:24.804Z"
   },
   {
    "duration": 0,
    "start_time": "2022-05-03T15:49:24.805Z"
   },
   {
    "duration": 0,
    "start_time": "2022-05-03T15:49:24.806Z"
   },
   {
    "duration": 0,
    "start_time": "2022-05-03T15:49:24.822Z"
   },
   {
    "duration": 0,
    "start_time": "2022-05-03T15:49:24.824Z"
   },
   {
    "duration": 0,
    "start_time": "2022-05-03T15:49:24.825Z"
   },
   {
    "duration": 0,
    "start_time": "2022-05-03T15:49:24.826Z"
   },
   {
    "duration": 0,
    "start_time": "2022-05-03T15:49:24.827Z"
   },
   {
    "duration": 0,
    "start_time": "2022-05-03T15:49:24.828Z"
   },
   {
    "duration": 0,
    "start_time": "2022-05-03T15:49:24.829Z"
   },
   {
    "duration": 0,
    "start_time": "2022-05-03T15:49:24.830Z"
   },
   {
    "duration": 0,
    "start_time": "2022-05-03T15:49:24.831Z"
   },
   {
    "duration": 0,
    "start_time": "2022-05-03T15:49:24.832Z"
   },
   {
    "duration": 0,
    "start_time": "2022-05-03T15:49:24.834Z"
   },
   {
    "duration": 0,
    "start_time": "2022-05-03T15:49:24.834Z"
   },
   {
    "duration": 0,
    "start_time": "2022-05-03T15:49:24.835Z"
   },
   {
    "duration": 0,
    "start_time": "2022-05-03T15:49:24.837Z"
   },
   {
    "duration": 0,
    "start_time": "2022-05-03T15:49:24.838Z"
   },
   {
    "duration": 0,
    "start_time": "2022-05-03T15:49:24.839Z"
   },
   {
    "duration": 0,
    "start_time": "2022-05-03T15:49:24.839Z"
   },
   {
    "duration": 0,
    "start_time": "2022-05-03T15:49:24.840Z"
   },
   {
    "duration": 0,
    "start_time": "2022-05-03T15:49:24.842Z"
   },
   {
    "duration": 0,
    "start_time": "2022-05-03T15:49:24.842Z"
   },
   {
    "duration": 0,
    "start_time": "2022-05-03T15:49:24.844Z"
   },
   {
    "duration": 0,
    "start_time": "2022-05-03T15:49:24.845Z"
   },
   {
    "duration": 0,
    "start_time": "2022-05-03T15:49:24.845Z"
   },
   {
    "duration": 0,
    "start_time": "2022-05-03T15:49:24.847Z"
   },
   {
    "duration": 0,
    "start_time": "2022-05-03T15:49:24.848Z"
   },
   {
    "duration": 0,
    "start_time": "2022-05-03T15:49:24.849Z"
   },
   {
    "duration": 0,
    "start_time": "2022-05-03T15:49:24.850Z"
   },
   {
    "duration": 0,
    "start_time": "2022-05-03T15:49:24.851Z"
   },
   {
    "duration": 0,
    "start_time": "2022-05-03T15:49:24.852Z"
   },
   {
    "duration": 0,
    "start_time": "2022-05-03T15:49:24.853Z"
   },
   {
    "duration": 0,
    "start_time": "2022-05-03T15:49:24.854Z"
   },
   {
    "duration": 0,
    "start_time": "2022-05-03T15:49:24.855Z"
   },
   {
    "duration": 0,
    "start_time": "2022-05-03T15:49:24.856Z"
   },
   {
    "duration": 0,
    "start_time": "2022-05-03T15:49:24.858Z"
   },
   {
    "duration": 0,
    "start_time": "2022-05-03T15:49:24.859Z"
   },
   {
    "duration": 0,
    "start_time": "2022-05-03T15:49:24.859Z"
   },
   {
    "duration": 0,
    "start_time": "2022-05-03T15:49:24.860Z"
   },
   {
    "duration": 0,
    "start_time": "2022-05-03T15:49:24.860Z"
   },
   {
    "duration": 0,
    "start_time": "2022-05-03T15:49:24.861Z"
   },
   {
    "duration": 0,
    "start_time": "2022-05-03T15:49:24.922Z"
   },
   {
    "duration": 0,
    "start_time": "2022-05-03T15:49:24.923Z"
   },
   {
    "duration": 0,
    "start_time": "2022-05-03T15:49:24.925Z"
   },
   {
    "duration": 0,
    "start_time": "2022-05-03T15:49:24.926Z"
   },
   {
    "duration": 0,
    "start_time": "2022-05-03T15:49:24.927Z"
   },
   {
    "duration": 0,
    "start_time": "2022-05-03T15:49:24.929Z"
   },
   {
    "duration": 0,
    "start_time": "2022-05-03T15:49:24.930Z"
   },
   {
    "duration": 0,
    "start_time": "2022-05-03T15:49:24.931Z"
   },
   {
    "duration": 0,
    "start_time": "2022-05-03T15:49:24.932Z"
   },
   {
    "duration": 13,
    "start_time": "2022-05-03T15:55:23.059Z"
   },
   {
    "duration": 8,
    "start_time": "2022-05-03T15:56:14.258Z"
   },
   {
    "duration": 13,
    "start_time": "2022-05-03T15:56:20.563Z"
   },
   {
    "duration": 426,
    "start_time": "2022-05-03T16:04:21.298Z"
   },
   {
    "duration": 69,
    "start_time": "2022-05-03T16:04:21.727Z"
   },
   {
    "duration": 28,
    "start_time": "2022-05-03T16:04:21.799Z"
   },
   {
    "duration": 15,
    "start_time": "2022-05-03T16:04:21.829Z"
   },
   {
    "duration": 10,
    "start_time": "2022-05-03T16:04:21.847Z"
   },
   {
    "duration": 15,
    "start_time": "2022-05-03T16:04:21.858Z"
   },
   {
    "duration": 6,
    "start_time": "2022-05-03T16:04:21.874Z"
   },
   {
    "duration": 8,
    "start_time": "2022-05-03T16:04:21.882Z"
   },
   {
    "duration": 62075,
    "start_time": "2022-05-03T16:04:21.892Z"
   },
   {
    "duration": 5,
    "start_time": "2022-05-03T16:05:23.969Z"
   },
   {
    "duration": 7,
    "start_time": "2022-05-03T16:05:23.975Z"
   },
   {
    "duration": 14,
    "start_time": "2022-05-03T16:05:23.983Z"
   },
   {
    "duration": 25,
    "start_time": "2022-05-03T16:05:23.998Z"
   },
   {
    "duration": 9,
    "start_time": "2022-05-03T16:05:24.026Z"
   },
   {
    "duration": 4,
    "start_time": "2022-05-03T16:05:24.036Z"
   },
   {
    "duration": 4,
    "start_time": "2022-05-03T16:05:24.042Z"
   },
   {
    "duration": 8,
    "start_time": "2022-05-03T16:05:24.048Z"
   },
   {
    "duration": 8,
    "start_time": "2022-05-03T16:05:24.057Z"
   },
   {
    "duration": 23,
    "start_time": "2022-05-03T16:05:24.067Z"
   },
   {
    "duration": 36,
    "start_time": "2022-05-03T16:05:24.092Z"
   },
   {
    "duration": 42,
    "start_time": "2022-05-03T16:05:24.129Z"
   },
   {
    "duration": 8,
    "start_time": "2022-05-03T16:05:24.173Z"
   },
   {
    "duration": 98,
    "start_time": "2022-05-03T16:05:24.183Z"
   },
   {
    "duration": 0,
    "start_time": "2022-05-03T16:05:24.283Z"
   },
   {
    "duration": 0,
    "start_time": "2022-05-03T16:05:24.285Z"
   },
   {
    "duration": 0,
    "start_time": "2022-05-03T16:05:24.286Z"
   },
   {
    "duration": 0,
    "start_time": "2022-05-03T16:05:24.287Z"
   },
   {
    "duration": 0,
    "start_time": "2022-05-03T16:05:24.289Z"
   },
   {
    "duration": 0,
    "start_time": "2022-05-03T16:05:24.290Z"
   },
   {
    "duration": 0,
    "start_time": "2022-05-03T16:05:24.291Z"
   },
   {
    "duration": 0,
    "start_time": "2022-05-03T16:05:24.292Z"
   },
   {
    "duration": 0,
    "start_time": "2022-05-03T16:05:24.293Z"
   },
   {
    "duration": 0,
    "start_time": "2022-05-03T16:05:24.294Z"
   },
   {
    "duration": 0,
    "start_time": "2022-05-03T16:05:24.296Z"
   },
   {
    "duration": 0,
    "start_time": "2022-05-03T16:05:24.297Z"
   },
   {
    "duration": 0,
    "start_time": "2022-05-03T16:05:24.298Z"
   },
   {
    "duration": 0,
    "start_time": "2022-05-03T16:05:24.323Z"
   },
   {
    "duration": 0,
    "start_time": "2022-05-03T16:05:24.325Z"
   },
   {
    "duration": 1,
    "start_time": "2022-05-03T16:05:24.325Z"
   },
   {
    "duration": 0,
    "start_time": "2022-05-03T16:05:24.327Z"
   },
   {
    "duration": 0,
    "start_time": "2022-05-03T16:05:24.328Z"
   },
   {
    "duration": 0,
    "start_time": "2022-05-03T16:05:24.329Z"
   },
   {
    "duration": 0,
    "start_time": "2022-05-03T16:05:24.330Z"
   },
   {
    "duration": 0,
    "start_time": "2022-05-03T16:05:24.331Z"
   },
   {
    "duration": 0,
    "start_time": "2022-05-03T16:05:24.332Z"
   },
   {
    "duration": 0,
    "start_time": "2022-05-03T16:05:24.333Z"
   },
   {
    "duration": 0,
    "start_time": "2022-05-03T16:05:24.334Z"
   },
   {
    "duration": 0,
    "start_time": "2022-05-03T16:05:24.336Z"
   },
   {
    "duration": 0,
    "start_time": "2022-05-03T16:05:24.337Z"
   },
   {
    "duration": 0,
    "start_time": "2022-05-03T16:05:24.338Z"
   },
   {
    "duration": 0,
    "start_time": "2022-05-03T16:05:24.339Z"
   },
   {
    "duration": 0,
    "start_time": "2022-05-03T16:05:24.340Z"
   },
   {
    "duration": 0,
    "start_time": "2022-05-03T16:05:24.341Z"
   },
   {
    "duration": 0,
    "start_time": "2022-05-03T16:05:24.342Z"
   },
   {
    "duration": 0,
    "start_time": "2022-05-03T16:05:24.343Z"
   },
   {
    "duration": 0,
    "start_time": "2022-05-03T16:05:24.343Z"
   },
   {
    "duration": 0,
    "start_time": "2022-05-03T16:05:24.344Z"
   },
   {
    "duration": 0,
    "start_time": "2022-05-03T16:05:24.346Z"
   },
   {
    "duration": 0,
    "start_time": "2022-05-03T16:05:24.346Z"
   },
   {
    "duration": 0,
    "start_time": "2022-05-03T16:05:24.348Z"
   },
   {
    "duration": 0,
    "start_time": "2022-05-03T16:05:24.349Z"
   },
   {
    "duration": 0,
    "start_time": "2022-05-03T16:05:24.350Z"
   },
   {
    "duration": 5,
    "start_time": "2022-05-03T16:06:42.910Z"
   },
   {
    "duration": 16,
    "start_time": "2022-05-03T16:10:22.183Z"
   },
   {
    "duration": 13,
    "start_time": "2022-05-03T16:10:53.470Z"
   },
   {
    "duration": 115518,
    "start_time": "2022-05-03T16:11:40.073Z"
   },
   {
    "duration": 4,
    "start_time": "2022-05-03T16:13:50.826Z"
   },
   {
    "duration": 44433,
    "start_time": "2022-05-03T16:18:57.591Z"
   },
   {
    "duration": 5,
    "start_time": "2022-05-03T16:20:01.765Z"
   },
   {
    "duration": 45300,
    "start_time": "2022-05-03T16:24:30.548Z"
   },
   {
    "duration": 6,
    "start_time": "2022-05-03T16:25:20.691Z"
   },
   {
    "duration": 408,
    "start_time": "2022-05-03T16:25:54.014Z"
   },
   {
    "duration": 71,
    "start_time": "2022-05-03T16:25:54.424Z"
   },
   {
    "duration": 20,
    "start_time": "2022-05-03T16:25:54.506Z"
   },
   {
    "duration": 15,
    "start_time": "2022-05-03T16:25:55.344Z"
   },
   {
    "duration": 10,
    "start_time": "2022-05-03T16:25:57.805Z"
   },
   {
    "duration": 6,
    "start_time": "2022-05-03T16:25:59.491Z"
   },
   {
    "duration": 5,
    "start_time": "2022-05-03T16:26:01.651Z"
   },
   {
    "duration": 8,
    "start_time": "2022-05-03T16:26:05.945Z"
   },
   {
    "duration": 47883,
    "start_time": "2022-05-03T16:26:09.039Z"
   },
   {
    "duration": 5,
    "start_time": "2022-05-03T16:27:04.206Z"
   },
   {
    "duration": 3236,
    "start_time": "2022-05-03T16:41:54.683Z"
   },
   {
    "duration": 15,
    "start_time": "2022-05-03T16:52:33.667Z"
   },
   {
    "duration": 5,
    "start_time": "2022-05-03T16:57:52.581Z"
   },
   {
    "duration": 18,
    "start_time": "2022-05-03T16:59:45.959Z"
   },
   {
    "duration": 507,
    "start_time": "2022-05-03T17:00:01.919Z"
   },
   {
    "duration": 953,
    "start_time": "2022-05-03T17:00:02.428Z"
   },
   {
    "duration": 20,
    "start_time": "2022-05-03T17:00:03.384Z"
   },
   {
    "duration": 26,
    "start_time": "2022-05-03T17:00:03.947Z"
   },
   {
    "duration": 11,
    "start_time": "2022-05-03T17:00:11.507Z"
   },
   {
    "duration": 6,
    "start_time": "2022-05-03T17:00:14.813Z"
   },
   {
    "duration": 6,
    "start_time": "2022-05-03T17:00:18.358Z"
   },
   {
    "duration": 8,
    "start_time": "2022-05-03T17:00:21.466Z"
   },
   {
    "duration": 5,
    "start_time": "2022-05-03T17:00:27.566Z"
   },
   {
    "duration": 12,
    "start_time": "2022-05-03T17:00:32.109Z"
   },
   {
    "duration": 5,
    "start_time": "2022-05-03T17:00:33.421Z"
   },
   {
    "duration": 7,
    "start_time": "2022-05-03T17:01:01.091Z"
   },
   {
    "duration": 6,
    "start_time": "2022-05-03T17:01:05.031Z"
   },
   {
    "duration": 5,
    "start_time": "2022-05-03T17:01:19.599Z"
   },
   {
    "duration": 198,
    "start_time": "2022-05-03T17:02:52.277Z"
   },
   {
    "duration": 427,
    "start_time": "2022-05-03T17:03:10.724Z"
   },
   {
    "duration": 64,
    "start_time": "2022-05-03T17:03:11.153Z"
   },
   {
    "duration": 22,
    "start_time": "2022-05-03T17:03:11.749Z"
   },
   {
    "duration": 17,
    "start_time": "2022-05-03T17:03:13.123Z"
   },
   {
    "duration": 10,
    "start_time": "2022-05-03T17:03:22.341Z"
   },
   {
    "duration": 5,
    "start_time": "2022-05-03T17:03:34.461Z"
   },
   {
    "duration": 6,
    "start_time": "2022-05-03T17:03:37.770Z"
   },
   {
    "duration": 8,
    "start_time": "2022-05-03T17:03:40.339Z"
   },
   {
    "duration": 7,
    "start_time": "2022-05-03T17:03:45.648Z"
   },
   {
    "duration": 14,
    "start_time": "2022-05-03T17:03:46.761Z"
   },
   {
    "duration": 5,
    "start_time": "2022-05-03T17:03:50.222Z"
   },
   {
    "duration": 8,
    "start_time": "2022-05-03T17:03:55.554Z"
   },
   {
    "duration": 66,
    "start_time": "2022-05-03T17:03:57.087Z"
   },
   {
    "duration": 7,
    "start_time": "2022-05-03T17:04:57.938Z"
   },
   {
    "duration": 4,
    "start_time": "2022-05-03T17:05:22.687Z"
   },
   {
    "duration": 6,
    "start_time": "2022-05-03T17:05:26.418Z"
   },
   {
    "duration": 6,
    "start_time": "2022-05-03T17:05:36.777Z"
   },
   {
    "duration": 22,
    "start_time": "2022-05-03T17:05:40.057Z"
   },
   {
    "duration": 8,
    "start_time": "2022-05-03T17:05:43.322Z"
   },
   {
    "duration": 44,
    "start_time": "2022-05-03T17:05:45.350Z"
   },
   {
    "duration": 9,
    "start_time": "2022-05-03T17:05:47.192Z"
   },
   {
    "duration": 16,
    "start_time": "2022-05-03T17:05:50.696Z"
   },
   {
    "duration": 19,
    "start_time": "2022-05-03T17:06:14.806Z"
   },
   {
    "duration": 20,
    "start_time": "2022-05-03T17:06:15.495Z"
   },
   {
    "duration": 18,
    "start_time": "2022-05-03T17:06:16.710Z"
   },
   {
    "duration": 17,
    "start_time": "2022-05-03T17:06:17.230Z"
   },
   {
    "duration": 12,
    "start_time": "2022-05-03T17:06:17.567Z"
   },
   {
    "duration": 22,
    "start_time": "2022-05-03T17:06:17.723Z"
   },
   {
    "duration": 7,
    "start_time": "2022-05-03T17:06:17.910Z"
   },
   {
    "duration": 17,
    "start_time": "2022-05-03T17:06:18.399Z"
   },
   {
    "duration": 16,
    "start_time": "2022-05-03T17:06:19.244Z"
   },
   {
    "duration": 13,
    "start_time": "2022-05-03T17:06:19.940Z"
   },
   {
    "duration": 19,
    "start_time": "2022-05-03T17:06:21.680Z"
   },
   {
    "duration": 16,
    "start_time": "2022-05-03T17:06:22.690Z"
   },
   {
    "duration": 18,
    "start_time": "2022-05-03T17:06:23.818Z"
   },
   {
    "duration": 3,
    "start_time": "2022-05-03T17:06:28.325Z"
   },
   {
    "duration": 199,
    "start_time": "2022-05-03T17:06:33.740Z"
   },
   {
    "duration": 424,
    "start_time": "2022-05-04T09:52:13.242Z"
   },
   {
    "duration": 58,
    "start_time": "2022-05-04T09:52:15.208Z"
   },
   {
    "duration": 26,
    "start_time": "2022-05-04T09:52:15.268Z"
   },
   {
    "duration": 23,
    "start_time": "2022-05-04T09:52:16.070Z"
   },
   {
    "duration": 11,
    "start_time": "2022-05-04T09:52:18.224Z"
   },
   {
    "duration": 7,
    "start_time": "2022-05-04T09:52:18.972Z"
   },
   {
    "duration": 5,
    "start_time": "2022-05-04T09:52:22.541Z"
   },
   {
    "duration": 9,
    "start_time": "2022-05-04T09:52:23.842Z"
   },
   {
    "duration": 7,
    "start_time": "2022-05-04T09:52:25.534Z"
   },
   {
    "duration": 7,
    "start_time": "2022-05-04T09:52:28.885Z"
   },
   {
    "duration": 412,
    "start_time": "2022-05-04T09:53:16.536Z"
   },
   {
    "duration": 271,
    "start_time": "2022-05-04T09:53:16.950Z"
   },
   {
    "duration": 20,
    "start_time": "2022-05-04T09:53:17.223Z"
   },
   {
    "duration": 16,
    "start_time": "2022-05-04T09:53:17.341Z"
   },
   {
    "duration": 11,
    "start_time": "2022-05-04T09:53:19.086Z"
   },
   {
    "duration": 6,
    "start_time": "2022-05-04T09:53:19.714Z"
   },
   {
    "duration": 8,
    "start_time": "2022-05-04T09:53:20.569Z"
   },
   {
    "duration": 8,
    "start_time": "2022-05-04T09:53:21.131Z"
   },
   {
    "duration": 6,
    "start_time": "2022-05-04T09:53:22.017Z"
   },
   {
    "duration": 5,
    "start_time": "2022-05-04T09:53:25.128Z"
   },
   {
    "duration": 5,
    "start_time": "2022-05-04T09:54:07.184Z"
   },
   {
    "duration": 13,
    "start_time": "2022-05-04T09:54:07.913Z"
   },
   {
    "duration": 5,
    "start_time": "2022-05-04T09:54:08.321Z"
   },
   {
    "duration": 7,
    "start_time": "2022-05-04T09:54:08.812Z"
   },
   {
    "duration": 3,
    "start_time": "2022-05-04T09:54:09.724Z"
   },
   {
    "duration": 5,
    "start_time": "2022-05-04T09:54:10.085Z"
   },
   {
    "duration": 6,
    "start_time": "2022-05-04T09:54:12.223Z"
   },
   {
    "duration": 21,
    "start_time": "2022-05-04T09:54:13.772Z"
   },
   {
    "duration": 7,
    "start_time": "2022-05-04T09:54:15.515Z"
   },
   {
    "duration": 43,
    "start_time": "2022-05-04T09:54:15.994Z"
   },
   {
    "duration": 9,
    "start_time": "2022-05-04T09:54:17.362Z"
   },
   {
    "duration": 2293,
    "start_time": "2022-05-04T09:54:18.711Z"
   },
   {
    "duration": 18,
    "start_time": "2022-05-04T09:54:43.479Z"
   },
   {
    "duration": 139,
    "start_time": "2022-05-04T09:57:11.684Z"
   },
   {
    "duration": 4,
    "start_time": "2022-05-04T09:58:08.397Z"
   },
   {
    "duration": 4,
    "start_time": "2022-05-04T09:59:47.571Z"
   },
   {
    "duration": 4,
    "start_time": "2022-05-04T09:59:54.505Z"
   },
   {
    "duration": 3,
    "start_time": "2022-05-04T09:59:58.889Z"
   },
   {
    "duration": 4,
    "start_time": "2022-05-04T10:01:19.486Z"
   },
   {
    "duration": 5,
    "start_time": "2022-05-04T10:01:23.078Z"
   },
   {
    "duration": 6,
    "start_time": "2022-05-04T10:01:32.050Z"
   },
   {
    "duration": 434,
    "start_time": "2022-05-04T10:02:01.848Z"
   },
   {
    "duration": 58,
    "start_time": "2022-05-04T10:02:02.285Z"
   },
   {
    "duration": 30,
    "start_time": "2022-05-04T10:02:02.346Z"
   },
   {
    "duration": 17,
    "start_time": "2022-05-04T10:02:02.590Z"
   },
   {
    "duration": 11,
    "start_time": "2022-05-04T10:02:04.415Z"
   },
   {
    "duration": 6,
    "start_time": "2022-05-04T10:02:04.922Z"
   },
   {
    "duration": 4,
    "start_time": "2022-05-04T10:02:10.492Z"
   },
   {
    "duration": 6,
    "start_time": "2022-05-04T10:02:11.440Z"
   },
   {
    "duration": 7,
    "start_time": "2022-05-04T10:02:12.568Z"
   },
   {
    "duration": 5,
    "start_time": "2022-05-04T10:02:14.652Z"
   },
   {
    "duration": 5,
    "start_time": "2022-05-04T10:02:16.859Z"
   },
   {
    "duration": 12,
    "start_time": "2022-05-04T10:02:18.160Z"
   },
   {
    "duration": 6,
    "start_time": "2022-05-04T10:02:21.027Z"
   },
   {
    "duration": 8,
    "start_time": "2022-05-04T10:02:21.403Z"
   },
   {
    "duration": 3,
    "start_time": "2022-05-04T10:02:23.738Z"
   },
   {
    "duration": 5,
    "start_time": "2022-05-04T10:02:24.311Z"
   },
   {
    "duration": 6,
    "start_time": "2022-05-04T10:02:26.552Z"
   },
   {
    "duration": 19,
    "start_time": "2022-05-04T10:02:28.481Z"
   },
   {
    "duration": 9,
    "start_time": "2022-05-04T10:02:31.008Z"
   },
   {
    "duration": 41,
    "start_time": "2022-05-04T10:02:33.375Z"
   },
   {
    "duration": 9,
    "start_time": "2022-05-04T10:02:35.318Z"
   },
   {
    "duration": 16,
    "start_time": "2022-05-04T10:02:38.795Z"
   },
   {
    "duration": 15,
    "start_time": "2022-05-04T10:03:14.134Z"
   },
   {
    "duration": 5,
    "start_time": "2022-05-04T10:03:42.418Z"
   },
   {
    "duration": 4,
    "start_time": "2022-05-04T10:03:51.343Z"
   },
   {
    "duration": 64,
    "start_time": "2022-05-04T10:04:29.727Z"
   },
   {
    "duration": 5,
    "start_time": "2022-05-04T10:04:33.818Z"
   },
   {
    "duration": 9,
    "start_time": "2022-05-04T10:04:42.060Z"
   },
   {
    "duration": 4,
    "start_time": "2022-05-04T10:04:51.752Z"
   },
   {
    "duration": 7,
    "start_time": "2022-05-04T10:05:00.488Z"
   },
   {
    "duration": 4,
    "start_time": "2022-05-04T10:05:04.776Z"
   },
   {
    "duration": 4,
    "start_time": "2022-05-04T10:05:09.588Z"
   },
   {
    "duration": 8,
    "start_time": "2022-05-04T10:05:18.475Z"
   },
   {
    "duration": 4,
    "start_time": "2022-05-04T10:05:23.833Z"
   },
   {
    "duration": 4,
    "start_time": "2022-05-04T10:05:48.121Z"
   },
   {
    "duration": 5,
    "start_time": "2022-05-04T10:06:24.161Z"
   },
   {
    "duration": 5,
    "start_time": "2022-05-04T10:06:38.022Z"
   },
   {
    "duration": 10,
    "start_time": "2022-05-04T10:07:13.066Z"
   },
   {
    "duration": 4,
    "start_time": "2022-05-04T10:07:24.072Z"
   },
   {
    "duration": 4,
    "start_time": "2022-05-04T10:07:29.937Z"
   },
   {
    "duration": 4,
    "start_time": "2022-05-04T10:07:32.961Z"
   },
   {
    "duration": 17,
    "start_time": "2022-05-04T10:07:55.153Z"
   },
   {
    "duration": 399,
    "start_time": "2022-05-04T10:10:01.219Z"
   },
   {
    "duration": 67,
    "start_time": "2022-05-04T10:10:01.620Z"
   },
   {
    "duration": 28,
    "start_time": "2022-05-04T10:10:01.833Z"
   },
   {
    "duration": 18,
    "start_time": "2022-05-04T10:10:02.719Z"
   },
   {
    "duration": 20,
    "start_time": "2022-05-04T10:10:04.379Z"
   },
   {
    "duration": 7,
    "start_time": "2022-05-04T10:10:05.143Z"
   },
   {
    "duration": 6,
    "start_time": "2022-05-04T10:10:06.407Z"
   },
   {
    "duration": 10,
    "start_time": "2022-05-04T10:10:07.379Z"
   },
   {
    "duration": 9,
    "start_time": "2022-05-04T10:10:08.158Z"
   },
   {
    "duration": 5,
    "start_time": "2022-05-04T10:10:10.317Z"
   },
   {
    "duration": 5,
    "start_time": "2022-05-04T10:10:11.689Z"
   },
   {
    "duration": 13,
    "start_time": "2022-05-04T10:10:12.564Z"
   },
   {
    "duration": 6,
    "start_time": "2022-05-04T10:10:15.439Z"
   },
   {
    "duration": 8,
    "start_time": "2022-05-04T10:10:16.336Z"
   },
   {
    "duration": 4,
    "start_time": "2022-05-04T10:10:17.283Z"
   },
   {
    "duration": 5,
    "start_time": "2022-05-04T10:10:17.744Z"
   },
   {
    "duration": 8,
    "start_time": "2022-05-04T10:10:21.696Z"
   },
   {
    "duration": 31,
    "start_time": "2022-05-04T10:10:22.801Z"
   },
   {
    "duration": 10,
    "start_time": "2022-05-04T10:10:25.872Z"
   },
   {
    "duration": 74,
    "start_time": "2022-05-04T10:10:30.164Z"
   },
   {
    "duration": 434,
    "start_time": "2022-05-04T10:15:11.748Z"
   },
   {
    "duration": 62,
    "start_time": "2022-05-04T10:15:12.184Z"
   },
   {
    "duration": 26,
    "start_time": "2022-05-04T10:15:12.251Z"
   },
   {
    "duration": 17,
    "start_time": "2022-05-04T10:15:12.609Z"
   },
   {
    "duration": 12,
    "start_time": "2022-05-04T10:15:13.849Z"
   },
   {
    "duration": 7,
    "start_time": "2022-05-04T10:15:14.353Z"
   },
   {
    "duration": 5,
    "start_time": "2022-05-04T10:15:15.657Z"
   },
   {
    "duration": 7,
    "start_time": "2022-05-04T10:15:16.084Z"
   },
   {
    "duration": 7,
    "start_time": "2022-05-04T10:15:16.357Z"
   },
   {
    "duration": 5,
    "start_time": "2022-05-04T10:15:17.934Z"
   },
   {
    "duration": 5,
    "start_time": "2022-05-04T10:15:20.264Z"
   },
   {
    "duration": 15,
    "start_time": "2022-05-04T10:15:20.629Z"
   },
   {
    "duration": 6,
    "start_time": "2022-05-04T10:15:23.217Z"
   },
   {
    "duration": 9,
    "start_time": "2022-05-04T10:15:24.372Z"
   },
   {
    "duration": 3,
    "start_time": "2022-05-04T10:15:27.179Z"
   },
   {
    "duration": 5,
    "start_time": "2022-05-04T10:15:27.722Z"
   },
   {
    "duration": 7,
    "start_time": "2022-05-04T10:15:30.182Z"
   },
   {
    "duration": 21,
    "start_time": "2022-05-04T10:15:32.094Z"
   },
   {
    "duration": 9,
    "start_time": "2022-05-04T10:15:34.175Z"
   },
   {
    "duration": 70,
    "start_time": "2022-05-04T10:15:37.294Z"
   },
   {
    "duration": 14,
    "start_time": "2022-05-04T10:17:20.081Z"
   },
   {
    "duration": 11,
    "start_time": "2022-05-04T10:18:23.169Z"
   },
   {
    "duration": 12,
    "start_time": "2022-05-04T10:18:36.926Z"
   },
   {
    "duration": 368,
    "start_time": "2022-05-04T10:21:58.820Z"
   },
   {
    "duration": 59,
    "start_time": "2022-05-04T10:21:59.190Z"
   },
   {
    "duration": 21,
    "start_time": "2022-05-04T10:21:59.288Z"
   },
   {
    "duration": 16,
    "start_time": "2022-05-04T10:21:59.592Z"
   },
   {
    "duration": 12,
    "start_time": "2022-05-04T10:22:00.642Z"
   },
   {
    "duration": 6,
    "start_time": "2022-05-04T10:22:01.091Z"
   },
   {
    "duration": 6,
    "start_time": "2022-05-04T10:22:02.014Z"
   },
   {
    "duration": 8,
    "start_time": "2022-05-04T10:22:02.368Z"
   },
   {
    "duration": 7,
    "start_time": "2022-05-04T10:22:02.692Z"
   },
   {
    "duration": 5,
    "start_time": "2022-05-04T10:22:03.653Z"
   },
   {
    "duration": 5,
    "start_time": "2022-05-04T10:22:04.680Z"
   },
   {
    "duration": 13,
    "start_time": "2022-05-04T10:22:05.182Z"
   },
   {
    "duration": 6,
    "start_time": "2022-05-04T10:22:05.538Z"
   },
   {
    "duration": 8,
    "start_time": "2022-05-04T10:22:05.994Z"
   },
   {
    "duration": 3,
    "start_time": "2022-05-04T10:22:06.619Z"
   },
   {
    "duration": 6,
    "start_time": "2022-05-04T10:22:06.766Z"
   },
   {
    "duration": 6,
    "start_time": "2022-05-04T10:22:07.498Z"
   },
   {
    "duration": 20,
    "start_time": "2022-05-04T10:22:07.899Z"
   },
   {
    "duration": 9,
    "start_time": "2022-05-04T10:22:10.250Z"
   },
   {
    "duration": 67,
    "start_time": "2022-05-04T10:22:13.137Z"
   },
   {
    "duration": 415,
    "start_time": "2022-05-04T10:28:06.071Z"
   },
   {
    "duration": 61,
    "start_time": "2022-05-04T10:28:06.489Z"
   },
   {
    "duration": 24,
    "start_time": "2022-05-04T10:28:06.552Z"
   },
   {
    "duration": 16,
    "start_time": "2022-05-04T10:28:06.578Z"
   },
   {
    "duration": 10,
    "start_time": "2022-05-04T10:28:06.596Z"
   },
   {
    "duration": 6,
    "start_time": "2022-05-04T10:28:06.608Z"
   },
   {
    "duration": 6,
    "start_time": "2022-05-04T10:28:06.615Z"
   },
   {
    "duration": 16,
    "start_time": "2022-05-04T10:28:06.622Z"
   },
   {
    "duration": 38,
    "start_time": "2022-05-04T10:28:06.639Z"
   },
   {
    "duration": 6,
    "start_time": "2022-05-04T10:28:06.679Z"
   },
   {
    "duration": 7,
    "start_time": "2022-05-04T10:28:06.686Z"
   },
   {
    "duration": 17,
    "start_time": "2022-05-04T10:28:06.695Z"
   },
   {
    "duration": 6,
    "start_time": "2022-05-04T10:28:06.713Z"
   },
   {
    "duration": 11,
    "start_time": "2022-05-04T10:28:06.721Z"
   },
   {
    "duration": 6,
    "start_time": "2022-05-04T10:28:06.734Z"
   },
   {
    "duration": 35,
    "start_time": "2022-05-04T10:28:06.742Z"
   },
   {
    "duration": 9,
    "start_time": "2022-05-04T10:28:06.779Z"
   },
   {
    "duration": 19,
    "start_time": "2022-05-04T10:28:06.790Z"
   },
   {
    "duration": 6,
    "start_time": "2022-05-04T10:28:25.843Z"
   },
   {
    "duration": 18,
    "start_time": "2022-05-04T10:28:35.933Z"
   },
   {
    "duration": 6,
    "start_time": "2022-05-04T10:28:39.901Z"
   },
   {
    "duration": 18,
    "start_time": "2022-05-04T10:28:41.166Z"
   },
   {
    "duration": 412,
    "start_time": "2022-05-04T10:30:09.634Z"
   },
   {
    "duration": 67,
    "start_time": "2022-05-04T10:30:10.082Z"
   },
   {
    "duration": 23,
    "start_time": "2022-05-04T10:30:10.702Z"
   },
   {
    "duration": 16,
    "start_time": "2022-05-04T10:30:11.279Z"
   },
   {
    "duration": 11,
    "start_time": "2022-05-04T10:30:12.804Z"
   },
   {
    "duration": 6,
    "start_time": "2022-05-04T10:30:13.433Z"
   },
   {
    "duration": 5,
    "start_time": "2022-05-04T10:30:14.841Z"
   },
   {
    "duration": 7,
    "start_time": "2022-05-04T10:30:15.877Z"
   },
   {
    "duration": 7,
    "start_time": "2022-05-04T10:30:16.679Z"
   },
   {
    "duration": 6,
    "start_time": "2022-05-04T10:30:18.425Z"
   },
   {
    "duration": 5,
    "start_time": "2022-05-04T10:30:19.864Z"
   },
   {
    "duration": 13,
    "start_time": "2022-05-04T10:30:20.604Z"
   },
   {
    "duration": 5,
    "start_time": "2022-05-04T10:30:21.765Z"
   },
   {
    "duration": 8,
    "start_time": "2022-05-04T10:30:22.647Z"
   },
   {
    "duration": 3,
    "start_time": "2022-05-04T10:30:23.511Z"
   },
   {
    "duration": 5,
    "start_time": "2022-05-04T10:30:23.776Z"
   },
   {
    "duration": 6,
    "start_time": "2022-05-04T10:30:25.617Z"
   },
   {
    "duration": 18,
    "start_time": "2022-05-04T10:30:27.543Z"
   },
   {
    "duration": 7,
    "start_time": "2022-05-04T10:30:30.426Z"
   },
   {
    "duration": 6,
    "start_time": "2022-05-04T10:30:33.229Z"
   },
   {
    "duration": 19,
    "start_time": "2022-05-04T10:30:35.826Z"
   },
   {
    "duration": 5,
    "start_time": "2022-05-04T10:31:58.544Z"
   },
   {
    "duration": 23,
    "start_time": "2022-05-04T10:32:01.711Z"
   },
   {
    "duration": 41,
    "start_time": "2022-05-04T10:34:46.310Z"
   },
   {
    "duration": 9,
    "start_time": "2022-05-04T10:34:47.842Z"
   },
   {
    "duration": 19,
    "start_time": "2022-05-04T10:35:05.446Z"
   },
   {
    "duration": 19,
    "start_time": "2022-05-04T10:35:14.945Z"
   },
   {
    "duration": 19,
    "start_time": "2022-05-04T10:35:17.427Z"
   },
   {
    "duration": 18,
    "start_time": "2022-05-04T10:35:18.653Z"
   },
   {
    "duration": 16,
    "start_time": "2022-05-04T10:35:20.557Z"
   },
   {
    "duration": 12,
    "start_time": "2022-05-04T10:35:21.798Z"
   },
   {
    "duration": 22,
    "start_time": "2022-05-04T10:35:22.371Z"
   },
   {
    "duration": 6,
    "start_time": "2022-05-04T10:35:22.974Z"
   },
   {
    "duration": 15,
    "start_time": "2022-05-04T10:35:24.643Z"
   },
   {
    "duration": 14,
    "start_time": "2022-05-04T10:35:26.920Z"
   },
   {
    "duration": 11,
    "start_time": "2022-05-04T10:35:29.118Z"
   },
   {
    "duration": 20,
    "start_time": "2022-05-04T10:35:31.019Z"
   },
   {
    "duration": 15,
    "start_time": "2022-05-04T10:35:32.406Z"
   },
   {
    "duration": 17,
    "start_time": "2022-05-04T10:35:33.596Z"
   },
   {
    "duration": 3,
    "start_time": "2022-05-04T10:35:34.814Z"
   },
   {
    "duration": 219,
    "start_time": "2022-05-04T10:35:35.396Z"
   },
   {
    "duration": 20,
    "start_time": "2022-05-04T10:35:39.205Z"
   },
   {
    "duration": 16,
    "start_time": "2022-05-04T10:37:08.422Z"
   },
   {
    "duration": 123,
    "start_time": "2022-05-04T10:37:31.809Z"
   },
   {
    "duration": 18,
    "start_time": "2022-05-04T10:37:56.230Z"
   },
   {
    "duration": 17,
    "start_time": "2022-05-04T10:38:38.720Z"
   },
   {
    "duration": 142,
    "start_time": "2022-05-04T10:40:08.234Z"
   },
   {
    "duration": 3,
    "start_time": "2022-05-04T10:49:32.044Z"
   },
   {
    "duration": 3,
    "start_time": "2022-05-04T10:50:16.742Z"
   },
   {
    "duration": 24,
    "start_time": "2022-05-04T10:51:42.684Z"
   },
   {
    "duration": 177,
    "start_time": "2022-05-04T10:53:24.347Z"
   },
   {
    "duration": 465,
    "start_time": "2022-05-04T10:54:07.265Z"
   },
   {
    "duration": 60,
    "start_time": "2022-05-04T10:54:07.732Z"
   },
   {
    "duration": 20,
    "start_time": "2022-05-04T10:54:07.870Z"
   },
   {
    "duration": 17,
    "start_time": "2022-05-04T10:54:08.193Z"
   },
   {
    "duration": 11,
    "start_time": "2022-05-04T10:54:12.259Z"
   },
   {
    "duration": 6,
    "start_time": "2022-05-04T10:54:12.722Z"
   },
   {
    "duration": 5,
    "start_time": "2022-05-04T10:54:13.634Z"
   },
   {
    "duration": 8,
    "start_time": "2022-05-04T10:54:13.945Z"
   },
   {
    "duration": 7,
    "start_time": "2022-05-04T10:54:14.242Z"
   },
   {
    "duration": 6,
    "start_time": "2022-05-04T10:54:14.984Z"
   },
   {
    "duration": 7,
    "start_time": "2022-05-04T10:54:15.738Z"
   },
   {
    "duration": 13,
    "start_time": "2022-05-04T10:54:16.268Z"
   },
   {
    "duration": 5,
    "start_time": "2022-05-04T10:54:16.593Z"
   },
   {
    "duration": 8,
    "start_time": "2022-05-04T10:54:16.944Z"
   },
   {
    "duration": 3,
    "start_time": "2022-05-04T10:54:17.329Z"
   },
   {
    "duration": 5,
    "start_time": "2022-05-04T10:54:17.624Z"
   },
   {
    "duration": 6,
    "start_time": "2022-05-04T10:54:18.344Z"
   },
   {
    "duration": 20,
    "start_time": "2022-05-04T10:54:18.693Z"
   },
   {
    "duration": 8,
    "start_time": "2022-05-04T10:54:19.026Z"
   },
   {
    "duration": 43,
    "start_time": "2022-05-04T10:54:19.182Z"
   },
   {
    "duration": 9,
    "start_time": "2022-05-04T10:54:19.503Z"
   },
   {
    "duration": 18,
    "start_time": "2022-05-04T10:54:20.292Z"
   },
   {
    "duration": 15,
    "start_time": "2022-05-04T10:54:21.460Z"
   },
   {
    "duration": 12,
    "start_time": "2022-05-04T10:54:21.800Z"
   },
   {
    "duration": 21,
    "start_time": "2022-05-04T10:54:21.969Z"
   },
   {
    "duration": 10,
    "start_time": "2022-05-04T10:54:22.316Z"
   },
   {
    "duration": 16,
    "start_time": "2022-05-04T10:54:22.672Z"
   },
   {
    "duration": 15,
    "start_time": "2022-05-04T10:54:23.301Z"
   },
   {
    "duration": 11,
    "start_time": "2022-05-04T10:54:23.623Z"
   },
   {
    "duration": 18,
    "start_time": "2022-05-04T10:54:23.970Z"
   },
   {
    "duration": 15,
    "start_time": "2022-05-04T10:54:24.306Z"
   },
   {
    "duration": 28,
    "start_time": "2022-05-04T10:54:24.631Z"
   },
   {
    "duration": 25,
    "start_time": "2022-05-04T10:54:26.390Z"
   },
   {
    "duration": 17,
    "start_time": "2022-05-04T10:54:26.723Z"
   },
   {
    "duration": 17,
    "start_time": "2022-05-04T10:54:27.098Z"
   },
   {
    "duration": 24,
    "start_time": "2022-05-04T10:54:28.279Z"
   },
   {
    "duration": 21,
    "start_time": "2022-05-04T10:54:28.444Z"
   },
   {
    "duration": 7,
    "start_time": "2022-05-04T10:54:28.806Z"
   },
   {
    "duration": 13,
    "start_time": "2022-05-04T10:54:29.532Z"
   },
   {
    "duration": 130,
    "start_time": "2022-05-04T10:54:30.346Z"
   },
   {
    "duration": 3,
    "start_time": "2022-05-04T10:54:31.461Z"
   },
   {
    "duration": 199,
    "start_time": "2022-05-04T10:54:31.773Z"
   },
   {
    "duration": 18,
    "start_time": "2022-05-04T10:54:32.423Z"
   },
   {
    "duration": 9,
    "start_time": "2022-05-04T10:54:33.163Z"
   },
   {
    "duration": 78,
    "start_time": "2022-05-04T10:54:33.844Z"
   },
   {
    "duration": 1133,
    "start_time": "2022-05-04T10:54:34.196Z"
   },
   {
    "duration": 121,
    "start_time": "2022-05-04T10:54:35.331Z"
   },
   {
    "duration": 60,
    "start_time": "2022-05-04T10:54:35.454Z"
   },
   {
    "duration": 0,
    "start_time": "2022-05-04T10:54:35.516Z"
   },
   {
    "duration": 19,
    "start_time": "2022-05-04T10:54:36.651Z"
   },
   {
    "duration": 113,
    "start_time": "2022-05-04T10:54:36.992Z"
   },
   {
    "duration": 103,
    "start_time": "2022-05-04T10:54:37.221Z"
   },
   {
    "duration": 115,
    "start_time": "2022-05-04T10:54:38.227Z"
   },
   {
    "duration": 30,
    "start_time": "2022-05-04T10:54:38.344Z"
   },
   {
    "duration": 121,
    "start_time": "2022-05-04T10:54:38.766Z"
   },
   {
    "duration": 108,
    "start_time": "2022-05-04T10:54:38.934Z"
   },
   {
    "duration": 98,
    "start_time": "2022-05-04T10:54:39.592Z"
   },
   {
    "duration": 19,
    "start_time": "2022-05-04T10:54:41.143Z"
   },
   {
    "duration": 191,
    "start_time": "2022-05-04T10:54:41.460Z"
   },
   {
    "duration": 133,
    "start_time": "2022-05-04T10:54:41.653Z"
   },
   {
    "duration": 111,
    "start_time": "2022-05-04T10:54:41.939Z"
   },
   {
    "duration": 44,
    "start_time": "2022-05-04T11:05:10.629Z"
   },
   {
    "duration": 45,
    "start_time": "2022-05-04T11:08:41.263Z"
   },
   {
    "duration": 57,
    "start_time": "2022-05-04T11:10:49.959Z"
   },
   {
    "duration": 26,
    "start_time": "2022-05-04T11:11:19.955Z"
   },
   {
    "duration": 60,
    "start_time": "2022-05-04T11:11:30.029Z"
   },
   {
    "duration": 35,
    "start_time": "2022-05-04T11:12:48.160Z"
   },
   {
    "duration": 31,
    "start_time": "2022-05-04T11:14:18.784Z"
   },
   {
    "duration": 113,
    "start_time": "2022-05-04T11:14:49.634Z"
   },
   {
    "duration": 7,
    "start_time": "2022-05-04T11:15:04.539Z"
   },
   {
    "duration": 5,
    "start_time": "2022-05-04T11:15:16.950Z"
   },
   {
    "duration": 111,
    "start_time": "2022-05-04T11:15:31.710Z"
   },
   {
    "duration": 132,
    "start_time": "2022-05-04T11:16:17.774Z"
   },
   {
    "duration": 1819,
    "start_time": "2022-05-04T11:16:57.546Z"
   },
   {
    "duration": 120,
    "start_time": "2022-05-04T11:17:35.198Z"
   },
   {
    "duration": 29,
    "start_time": "2022-05-04T11:19:16.816Z"
   },
   {
    "duration": 39,
    "start_time": "2022-05-04T11:19:37.572Z"
   },
   {
    "duration": 32,
    "start_time": "2022-05-04T11:19:43.988Z"
   },
   {
    "duration": 38,
    "start_time": "2022-05-04T11:19:55.475Z"
   },
   {
    "duration": 119,
    "start_time": "2022-05-04T11:20:47.440Z"
   },
   {
    "duration": 122,
    "start_time": "2022-05-04T11:21:06.816Z"
   },
   {
    "duration": 2388,
    "start_time": "2022-05-04T11:21:20.232Z"
   },
   {
    "duration": 111,
    "start_time": "2022-05-04T11:21:26.295Z"
   },
   {
    "duration": 116,
    "start_time": "2022-05-04T11:21:30.952Z"
   },
   {
    "duration": 34,
    "start_time": "2022-05-04T11:23:42.178Z"
   },
   {
    "duration": 137,
    "start_time": "2022-05-04T11:24:25.100Z"
   },
   {
    "duration": 119,
    "start_time": "2022-05-04T11:24:43.610Z"
   },
   {
    "duration": 240,
    "start_time": "2022-05-04T11:25:02.595Z"
   },
   {
    "duration": 117,
    "start_time": "2022-05-04T11:26:28.396Z"
   },
   {
    "duration": 6,
    "start_time": "2022-05-04T11:38:24.091Z"
   },
   {
    "duration": 118,
    "start_time": "2022-05-04T11:38:46.071Z"
   },
   {
    "duration": 5,
    "start_time": "2022-05-04T11:38:50.489Z"
   },
   {
    "duration": 5,
    "start_time": "2022-05-04T11:38:53.495Z"
   },
   {
    "duration": 4,
    "start_time": "2022-05-04T11:39:02.407Z"
   },
   {
    "duration": 6,
    "start_time": "2022-05-04T11:39:24.434Z"
   },
   {
    "duration": 5,
    "start_time": "2022-05-04T11:40:38.322Z"
   },
   {
    "duration": 1995,
    "start_time": "2022-05-04T11:41:12.271Z"
   },
   {
    "duration": 6,
    "start_time": "2022-05-04T11:41:55.187Z"
   },
   {
    "duration": 16,
    "start_time": "2022-05-04T11:43:11.035Z"
   },
   {
    "duration": 1847,
    "start_time": "2022-05-04T11:46:45.870Z"
   },
   {
    "duration": 4,
    "start_time": "2022-05-04T11:54:30.486Z"
   },
   {
    "duration": 9,
    "start_time": "2022-05-04T12:00:21.537Z"
   },
   {
    "duration": 5,
    "start_time": "2022-05-04T12:00:28.121Z"
   },
   {
    "duration": 8,
    "start_time": "2022-05-04T12:01:16.754Z"
   },
   {
    "duration": 443,
    "start_time": "2022-05-04T12:01:29.837Z"
   },
   {
    "duration": 64,
    "start_time": "2022-05-04T12:01:30.282Z"
   },
   {
    "duration": 26,
    "start_time": "2022-05-04T12:01:30.348Z"
   },
   {
    "duration": 16,
    "start_time": "2022-05-04T12:01:30.624Z"
   },
   {
    "duration": 13,
    "start_time": "2022-05-04T12:01:31.985Z"
   },
   {
    "duration": 8,
    "start_time": "2022-05-04T12:01:32.662Z"
   },
   {
    "duration": 4,
    "start_time": "2022-05-04T12:01:33.547Z"
   },
   {
    "duration": 7,
    "start_time": "2022-05-04T12:01:33.853Z"
   },
   {
    "duration": 7,
    "start_time": "2022-05-04T12:01:34.154Z"
   },
   {
    "duration": 5,
    "start_time": "2022-05-04T12:01:34.762Z"
   },
   {
    "duration": 5,
    "start_time": "2022-05-04T12:01:35.285Z"
   },
   {
    "duration": 14,
    "start_time": "2022-05-04T12:01:35.618Z"
   },
   {
    "duration": 5,
    "start_time": "2022-05-04T12:01:35.965Z"
   },
   {
    "duration": 10,
    "start_time": "2022-05-04T12:01:36.569Z"
   },
   {
    "duration": 5,
    "start_time": "2022-05-04T12:01:39.079Z"
   },
   {
    "duration": 5,
    "start_time": "2022-05-04T12:01:39.225Z"
   },
   {
    "duration": 7,
    "start_time": "2022-05-04T12:01:39.860Z"
   },
   {
    "duration": 25,
    "start_time": "2022-05-04T12:01:40.204Z"
   },
   {
    "duration": 8,
    "start_time": "2022-05-04T12:01:43.860Z"
   },
   {
    "duration": 19,
    "start_time": "2022-05-04T12:01:48.739Z"
   },
   {
    "duration": 3165,
    "start_time": "2022-05-04T12:01:54.232Z"
   },
   {
    "duration": 6,
    "start_time": "2022-05-04T12:02:22.442Z"
   },
   {
    "duration": 19,
    "start_time": "2022-05-04T12:02:25.964Z"
   },
   {
    "duration": 8,
    "start_time": "2022-05-04T12:03:32.823Z"
   },
   {
    "duration": 7,
    "start_time": "2022-05-04T12:03:45.259Z"
   },
   {
    "duration": 7,
    "start_time": "2022-05-04T12:04:01.978Z"
   },
   {
    "duration": 6,
    "start_time": "2022-05-04T12:04:16.966Z"
   },
   {
    "duration": 5,
    "start_time": "2022-05-04T12:04:27.447Z"
   },
   {
    "duration": 18,
    "start_time": "2022-05-04T12:04:32.926Z"
   },
   {
    "duration": 53,
    "start_time": "2022-05-04T12:05:18.789Z"
   },
   {
    "duration": 8,
    "start_time": "2022-05-04T12:05:20.642Z"
   },
   {
    "duration": 3,
    "start_time": "2022-05-04T12:08:53.958Z"
   },
   {
    "duration": 467,
    "start_time": "2022-05-04T12:12:38.955Z"
   },
   {
    "duration": 65,
    "start_time": "2022-05-04T12:12:39.424Z"
   },
   {
    "duration": 25,
    "start_time": "2022-05-04T12:12:39.491Z"
   },
   {
    "duration": 17,
    "start_time": "2022-05-04T12:12:39.518Z"
   },
   {
    "duration": 13,
    "start_time": "2022-05-04T12:12:39.538Z"
   },
   {
    "duration": 24,
    "start_time": "2022-05-04T12:12:39.553Z"
   },
   {
    "duration": 27,
    "start_time": "2022-05-04T12:12:39.579Z"
   },
   {
    "duration": 13,
    "start_time": "2022-05-04T12:12:39.608Z"
   },
   {
    "duration": 9,
    "start_time": "2022-05-04T12:12:39.623Z"
   },
   {
    "duration": 7,
    "start_time": "2022-05-04T12:12:39.634Z"
   },
   {
    "duration": 7,
    "start_time": "2022-05-04T12:12:39.643Z"
   },
   {
    "duration": 32,
    "start_time": "2022-05-04T12:12:39.651Z"
   },
   {
    "duration": 23,
    "start_time": "2022-05-04T12:12:39.685Z"
   },
   {
    "duration": 12,
    "start_time": "2022-05-04T12:12:39.712Z"
   },
   {
    "duration": 11,
    "start_time": "2022-05-04T12:12:39.726Z"
   },
   {
    "duration": 13,
    "start_time": "2022-05-04T12:12:39.739Z"
   },
   {
    "duration": 8,
    "start_time": "2022-05-04T12:12:39.754Z"
   },
   {
    "duration": 25,
    "start_time": "2022-05-04T12:12:39.764Z"
   },
   {
    "duration": 20,
    "start_time": "2022-05-04T12:12:39.791Z"
   },
   {
    "duration": 41,
    "start_time": "2022-05-04T12:12:39.813Z"
   },
   {
    "duration": 12,
    "start_time": "2022-05-04T12:12:39.873Z"
   },
   {
    "duration": 38,
    "start_time": "2022-05-04T12:12:39.887Z"
   },
   {
    "duration": 15,
    "start_time": "2022-05-04T12:12:39.927Z"
   },
   {
    "duration": 11,
    "start_time": "2022-05-04T12:12:39.944Z"
   },
   {
    "duration": 47,
    "start_time": "2022-05-04T12:12:39.957Z"
   },
   {
    "duration": 22,
    "start_time": "2022-05-04T12:12:40.006Z"
   },
   {
    "duration": 17,
    "start_time": "2022-05-04T12:12:40.030Z"
   },
   {
    "duration": 25,
    "start_time": "2022-05-04T12:12:40.049Z"
   },
   {
    "duration": 19,
    "start_time": "2022-05-04T12:12:40.077Z"
   },
   {
    "duration": 27,
    "start_time": "2022-05-04T12:12:40.098Z"
   },
   {
    "duration": 15,
    "start_time": "2022-05-04T12:12:40.126Z"
   },
   {
    "duration": 36,
    "start_time": "2022-05-04T12:12:40.143Z"
   },
   {
    "duration": 42,
    "start_time": "2022-05-04T12:12:40.181Z"
   },
   {
    "duration": 17,
    "start_time": "2022-05-04T12:12:40.225Z"
   },
   {
    "duration": 17,
    "start_time": "2022-05-04T12:12:40.244Z"
   },
   {
    "duration": 45,
    "start_time": "2022-05-04T12:12:40.263Z"
   },
   {
    "duration": 32,
    "start_time": "2022-05-04T12:12:40.310Z"
   },
   {
    "duration": 6,
    "start_time": "2022-05-04T12:12:40.344Z"
   },
   {
    "duration": 13,
    "start_time": "2022-05-04T12:12:40.374Z"
   },
   {
    "duration": 199,
    "start_time": "2022-05-04T12:12:40.389Z"
   },
   {
    "duration": 3,
    "start_time": "2022-05-04T12:12:40.593Z"
   },
   {
    "duration": 252,
    "start_time": "2022-05-04T12:12:40.598Z"
   },
   {
    "duration": 24,
    "start_time": "2022-05-04T12:12:40.852Z"
   },
   {
    "duration": 12,
    "start_time": "2022-05-04T12:12:40.878Z"
   },
   {
    "duration": 49,
    "start_time": "2022-05-04T12:12:40.893Z"
   },
   {
    "duration": 77,
    "start_time": "2022-05-04T12:12:40.943Z"
   },
   {
    "duration": 0,
    "start_time": "2022-05-04T12:12:41.022Z"
   },
   {
    "duration": 0,
    "start_time": "2022-05-04T12:12:41.024Z"
   },
   {
    "duration": 0,
    "start_time": "2022-05-04T12:12:41.025Z"
   },
   {
    "duration": 0,
    "start_time": "2022-05-04T12:12:41.026Z"
   },
   {
    "duration": 0,
    "start_time": "2022-05-04T12:12:41.027Z"
   },
   {
    "duration": 0,
    "start_time": "2022-05-04T12:12:41.028Z"
   },
   {
    "duration": 0,
    "start_time": "2022-05-04T12:12:41.029Z"
   },
   {
    "duration": 0,
    "start_time": "2022-05-04T12:12:41.030Z"
   },
   {
    "duration": 0,
    "start_time": "2022-05-04T12:12:41.031Z"
   },
   {
    "duration": 0,
    "start_time": "2022-05-04T12:12:41.034Z"
   },
   {
    "duration": 919,
    "start_time": "2022-05-04T12:14:49.572Z"
   },
   {
    "duration": 117,
    "start_time": "2022-05-04T12:14:53.037Z"
   },
   {
    "duration": 116,
    "start_time": "2022-05-04T12:14:53.623Z"
   },
   {
    "duration": 35,
    "start_time": "2022-05-04T12:14:54.265Z"
   },
   {
    "duration": 128,
    "start_time": "2022-05-04T12:14:54.916Z"
   },
   {
    "duration": 111,
    "start_time": "2022-05-04T12:14:55.284Z"
   },
   {
    "duration": 116,
    "start_time": "2022-05-04T12:14:55.833Z"
   },
   {
    "duration": 31,
    "start_time": "2022-05-04T12:14:57.142Z"
   },
   {
    "duration": 121,
    "start_time": "2022-05-04T12:14:57.564Z"
   },
   {
    "duration": 125,
    "start_time": "2022-05-04T12:14:57.733Z"
   },
   {
    "duration": 113,
    "start_time": "2022-05-04T12:15:18.509Z"
   },
   {
    "duration": 114,
    "start_time": "2022-05-04T12:15:22.040Z"
   },
   {
    "duration": 453,
    "start_time": "2022-05-04T12:15:28.270Z"
   },
   {
    "duration": 60,
    "start_time": "2022-05-04T12:15:28.725Z"
   },
   {
    "duration": 23,
    "start_time": "2022-05-04T12:15:28.787Z"
   },
   {
    "duration": 16,
    "start_time": "2022-05-04T12:15:28.813Z"
   },
   {
    "duration": 10,
    "start_time": "2022-05-04T12:15:28.831Z"
   },
   {
    "duration": 38,
    "start_time": "2022-05-04T12:15:28.843Z"
   },
   {
    "duration": 11,
    "start_time": "2022-05-04T12:15:28.884Z"
   },
   {
    "duration": 15,
    "start_time": "2022-05-04T12:15:28.897Z"
   },
   {
    "duration": 12,
    "start_time": "2022-05-04T12:15:28.914Z"
   },
   {
    "duration": 5,
    "start_time": "2022-05-04T12:15:28.929Z"
   },
   {
    "duration": 10,
    "start_time": "2022-05-04T12:15:28.936Z"
   },
   {
    "duration": 26,
    "start_time": "2022-05-04T12:15:28.948Z"
   },
   {
    "duration": 6,
    "start_time": "2022-05-04T12:15:28.976Z"
   },
   {
    "duration": 12,
    "start_time": "2022-05-04T12:15:28.984Z"
   },
   {
    "duration": 17,
    "start_time": "2022-05-04T12:15:28.998Z"
   },
   {
    "duration": 9,
    "start_time": "2022-05-04T12:15:29.016Z"
   },
   {
    "duration": 9,
    "start_time": "2022-05-04T12:15:29.027Z"
   },
   {
    "duration": 41,
    "start_time": "2022-05-04T12:15:29.038Z"
   },
   {
    "duration": 22,
    "start_time": "2022-05-04T12:15:29.081Z"
   },
   {
    "duration": 38,
    "start_time": "2022-05-04T12:15:29.104Z"
   },
   {
    "duration": 30,
    "start_time": "2022-05-04T12:15:29.144Z"
   },
   {
    "duration": 24,
    "start_time": "2022-05-04T12:15:29.176Z"
   },
   {
    "duration": 15,
    "start_time": "2022-05-04T12:15:29.202Z"
   },
   {
    "duration": 12,
    "start_time": "2022-05-04T12:15:29.218Z"
   },
   {
    "duration": 66,
    "start_time": "2022-05-04T12:15:29.232Z"
   },
   {
    "duration": 11,
    "start_time": "2022-05-04T12:15:29.299Z"
   },
   {
    "duration": 16,
    "start_time": "2022-05-04T12:15:29.311Z"
   },
   {
    "duration": 14,
    "start_time": "2022-05-04T12:15:29.331Z"
   },
   {
    "duration": 44,
    "start_time": "2022-05-04T12:15:29.347Z"
   },
   {
    "duration": 25,
    "start_time": "2022-05-04T12:15:29.392Z"
   },
   {
    "duration": 17,
    "start_time": "2022-05-04T12:15:29.419Z"
   },
   {
    "duration": 50,
    "start_time": "2022-05-04T12:15:29.438Z"
   },
   {
    "duration": 24,
    "start_time": "2022-05-04T12:15:29.490Z"
   },
   {
    "duration": 22,
    "start_time": "2022-05-04T12:15:29.516Z"
   },
   {
    "duration": 48,
    "start_time": "2022-05-04T12:15:29.540Z"
   },
   {
    "duration": 34,
    "start_time": "2022-05-04T12:15:29.591Z"
   },
   {
    "duration": 21,
    "start_time": "2022-05-04T12:15:29.627Z"
   },
   {
    "duration": 30,
    "start_time": "2022-05-04T12:15:29.650Z"
   },
   {
    "duration": 23,
    "start_time": "2022-05-04T12:15:29.683Z"
   },
   {
    "duration": 152,
    "start_time": "2022-05-04T12:15:29.708Z"
   },
   {
    "duration": 3,
    "start_time": "2022-05-04T12:15:29.862Z"
   },
   {
    "duration": 239,
    "start_time": "2022-05-04T12:15:29.872Z"
   },
   {
    "duration": 20,
    "start_time": "2022-05-04T12:15:30.113Z"
   },
   {
    "duration": 11,
    "start_time": "2022-05-04T12:15:30.135Z"
   },
   {
    "duration": 49,
    "start_time": "2022-05-04T12:15:30.148Z"
   },
   {
    "duration": 1007,
    "start_time": "2022-05-04T12:15:30.199Z"
   },
   {
    "duration": 129,
    "start_time": "2022-05-04T12:15:31.208Z"
   },
   {
    "duration": 137,
    "start_time": "2022-05-04T12:15:31.339Z"
   },
   {
    "duration": 33,
    "start_time": "2022-05-04T12:15:31.479Z"
   },
   {
    "duration": 142,
    "start_time": "2022-05-04T12:15:31.514Z"
   },
   {
    "duration": 139,
    "start_time": "2022-05-04T12:15:31.657Z"
   },
   {
    "duration": 146,
    "start_time": "2022-05-04T12:15:31.798Z"
   },
   {
    "duration": 49,
    "start_time": "2022-05-04T12:15:31.946Z"
   },
   {
    "duration": 130,
    "start_time": "2022-05-04T12:15:31.996Z"
   },
   {
    "duration": 125,
    "start_time": "2022-05-04T12:15:32.128Z"
   },
   {
    "duration": 138,
    "start_time": "2022-05-04T12:15:32.255Z"
   },
   {
    "duration": 170,
    "start_time": "2022-05-04T12:39:23.556Z"
   },
   {
    "duration": 442,
    "start_time": "2022-05-04T12:39:39.173Z"
   },
   {
    "duration": 68,
    "start_time": "2022-05-04T12:39:39.617Z"
   },
   {
    "duration": 23,
    "start_time": "2022-05-04T12:39:39.687Z"
   },
   {
    "duration": 16,
    "start_time": "2022-05-04T12:39:39.712Z"
   },
   {
    "duration": 11,
    "start_time": "2022-05-04T12:39:39.730Z"
   },
   {
    "duration": 39,
    "start_time": "2022-05-04T12:39:39.742Z"
   },
   {
    "duration": 18,
    "start_time": "2022-05-04T12:39:39.783Z"
   },
   {
    "duration": 9,
    "start_time": "2022-05-04T12:39:39.803Z"
   },
   {
    "duration": 6,
    "start_time": "2022-05-04T12:39:39.814Z"
   },
   {
    "duration": 8,
    "start_time": "2022-05-04T12:39:39.821Z"
   },
   {
    "duration": 5,
    "start_time": "2022-05-04T12:39:39.831Z"
   },
   {
    "duration": 45,
    "start_time": "2022-05-04T12:39:39.837Z"
   },
   {
    "duration": 19,
    "start_time": "2022-05-04T12:39:39.887Z"
   },
   {
    "duration": 19,
    "start_time": "2022-05-04T12:39:39.908Z"
   },
   {
    "duration": 3,
    "start_time": "2022-05-04T12:39:39.929Z"
   },
   {
    "duration": 8,
    "start_time": "2022-05-04T12:39:39.934Z"
   },
   {
    "duration": 11,
    "start_time": "2022-05-04T12:39:39.944Z"
   },
   {
    "duration": 41,
    "start_time": "2022-05-04T12:39:39.956Z"
   },
   {
    "duration": 17,
    "start_time": "2022-05-04T12:39:39.999Z"
   },
   {
    "duration": 83,
    "start_time": "2022-05-04T12:39:40.018Z"
   },
   {
    "duration": 9,
    "start_time": "2022-05-04T12:39:40.102Z"
   },
   {
    "duration": 29,
    "start_time": "2022-05-04T12:39:40.113Z"
   },
   {
    "duration": 35,
    "start_time": "2022-05-04T12:39:40.144Z"
   },
   {
    "duration": 16,
    "start_time": "2022-05-04T12:39:40.182Z"
   },
   {
    "duration": 21,
    "start_time": "2022-05-04T12:39:40.200Z"
   },
   {
    "duration": 12,
    "start_time": "2022-05-04T12:39:40.222Z"
   },
   {
    "duration": 47,
    "start_time": "2022-05-04T12:39:40.236Z"
   },
   {
    "duration": 22,
    "start_time": "2022-05-04T12:39:40.286Z"
   },
   {
    "duration": 14,
    "start_time": "2022-05-04T12:39:40.310Z"
   },
   {
    "duration": 25,
    "start_time": "2022-05-04T12:39:40.326Z"
   },
   {
    "duration": 41,
    "start_time": "2022-05-04T12:39:40.353Z"
   },
   {
    "duration": 19,
    "start_time": "2022-05-04T12:39:40.396Z"
   },
   {
    "duration": 18,
    "start_time": "2022-05-04T12:39:40.417Z"
   },
   {
    "duration": 57,
    "start_time": "2022-05-04T12:39:40.437Z"
   },
   {
    "duration": 16,
    "start_time": "2022-05-04T12:39:40.496Z"
   },
   {
    "duration": 21,
    "start_time": "2022-05-04T12:39:40.514Z"
   },
   {
    "duration": 47,
    "start_time": "2022-05-04T12:39:40.537Z"
   },
   {
    "duration": 8,
    "start_time": "2022-05-04T12:39:40.586Z"
   },
   {
    "duration": 13,
    "start_time": "2022-05-04T12:39:40.596Z"
   },
   {
    "duration": 168,
    "start_time": "2022-05-04T12:39:40.614Z"
   },
   {
    "duration": 4,
    "start_time": "2022-05-04T12:39:40.785Z"
   },
   {
    "duration": 237,
    "start_time": "2022-05-04T12:39:40.791Z"
   },
   {
    "duration": 21,
    "start_time": "2022-05-04T12:39:41.030Z"
   },
   {
    "duration": 32,
    "start_time": "2022-05-04T12:39:41.053Z"
   },
   {
    "duration": 34,
    "start_time": "2022-05-04T12:39:41.087Z"
   },
   {
    "duration": 1041,
    "start_time": "2022-05-04T12:39:41.123Z"
   },
   {
    "duration": 136,
    "start_time": "2022-05-04T12:39:42.166Z"
   },
   {
    "duration": 145,
    "start_time": "2022-05-04T12:39:42.304Z"
   },
   {
    "duration": 41,
    "start_time": "2022-05-04T12:39:42.450Z"
   },
   {
    "duration": 131,
    "start_time": "2022-05-04T12:39:42.493Z"
   },
   {
    "duration": 119,
    "start_time": "2022-05-04T12:39:42.625Z"
   },
   {
    "duration": 144,
    "start_time": "2022-05-04T12:39:42.745Z"
   },
   {
    "duration": 35,
    "start_time": "2022-05-04T12:39:42.891Z"
   },
   {
    "duration": 171,
    "start_time": "2022-05-04T12:39:42.928Z"
   },
   {
    "duration": 142,
    "start_time": "2022-05-04T12:39:43.101Z"
   },
   {
    "duration": 134,
    "start_time": "2022-05-04T12:39:43.245Z"
   }
  ],
  "kernelspec": {
   "display_name": "Python 3 (ipykernel)",
   "language": "python",
   "name": "python3"
  },
  "language_info": {
   "codemirror_mode": {
    "name": "ipython",
    "version": 3
   },
   "file_extension": ".py",
   "mimetype": "text/x-python",
   "name": "python",
   "nbconvert_exporter": "python",
   "pygments_lexer": "ipython3",
   "version": "3.9.7"
  },
  "toc": {
   "base_numbering": 1,
   "nav_menu": {},
   "number_sections": true,
   "sideBar": true,
   "skip_h1_title": true,
   "title_cell": "Table of Contents",
   "title_sidebar": "Contents",
   "toc_cell": false,
   "toc_position": {},
   "toc_section_display": true,
   "toc_window_display": true
  }
 },
 "nbformat": 4,
 "nbformat_minor": 5
}
