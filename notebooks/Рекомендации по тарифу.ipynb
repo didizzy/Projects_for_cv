{
 "cells": [
  {
   "cell_type": "markdown",
   "metadata": {},
   "source": [
    "# Рекомендация тарифов"
   ]
  },
  {
   "cell_type": "markdown",
   "metadata": {},
   "source": [
    "В вашем распоряжении данные о поведении клиентов, которые уже перешли на эти тарифы (из проекта курса «Статистический анализ данных»).\n",
    "\n",
    "**Цель исследования** — построить модель для задачи классификации, которая выберет подходящий тариф.\n",
    "\n",
    "**Ход исследования**\n",
    "\n",
    "О качестве данных известно, что, как минимум, не требуется предобработка, однако, все равно проверим повторно. \n",
    "\n",
    "Таким образом, исследование пройдёт в три этапа:\n",
    " 1. Обзор данных.\n",
    " 2. Предобработка данных.\n",
    " 3. Анализ."
   ]
  },
  {
   "cell_type": "markdown",
   "metadata": {},
   "source": [
    "## Изучение данных"
   ]
  },
  {
   "cell_type": "code",
   "execution_count": 1,
   "metadata": {},
   "outputs": [
    {
     "name": "stdout",
     "output_type": "stream",
     "text": [
      "Collecting imbalanced-learn\n",
      "  Downloading imbalanced_learn-0.9.1-py3-none-any.whl (199 kB)\n",
      "\u001b[K     |████████████████████████████████| 199 kB 156 kB/s eta 0:00:01\n",
      "\u001b[?25hRequirement already satisfied: threadpoolctl>=2.0.0 in /Users/dianatyubeeva/opt/anaconda3/lib/python3.9/site-packages (from imbalanced-learn) (2.2.0)\n",
      "Requirement already satisfied: numpy>=1.17.3 in /Users/dianatyubeeva/opt/anaconda3/lib/python3.9/site-packages (from imbalanced-learn) (1.20.3)\n",
      "Requirement already satisfied: scipy>=1.3.2 in /Users/dianatyubeeva/opt/anaconda3/lib/python3.9/site-packages (from imbalanced-learn) (1.7.1)\n",
      "Collecting scikit-learn>=1.1.0\n",
      "  Downloading scikit_learn-1.1.2-cp39-cp39-macosx_10_9_x86_64.whl (8.7 MB)\n",
      "\u001b[K     |████████████████████████████████| 8.7 MB 1.8 MB/s eta 0:00:01\n",
      "\u001b[?25hRequirement already satisfied: joblib>=1.0.0 in /Users/dianatyubeeva/opt/anaconda3/lib/python3.9/site-packages (from imbalanced-learn) (1.1.0)\n",
      "Installing collected packages: scikit-learn, imbalanced-learn\n",
      "  Attempting uninstall: scikit-learn\n",
      "    Found existing installation: scikit-learn 0.24.2\n",
      "    Uninstalling scikit-learn-0.24.2:\n",
      "      Successfully uninstalled scikit-learn-0.24.2\n",
      "Successfully installed imbalanced-learn-0.9.1 scikit-learn-1.1.2\n",
      "Note: you may need to restart the kernel to use updated packages.\n"
     ]
    }
   ],
   "source": [
    "pip install -U imbalanced-learn"
   ]
  },
  {
   "cell_type": "code",
   "execution_count": 2,
   "metadata": {},
   "outputs": [],
   "source": [
    "import pandas as pd\n",
    "import matplotlib.pyplot as plt\n",
    "\n",
    "from sklearn.tree import DecisionTreeClassifier\n",
    "from sklearn.ensemble import RandomForestClassifier\n",
    "from sklearn.linear_model import LogisticRegression\n",
    "from sklearn.dummy import DummyClassifier\n",
    "\n",
    "from sklearn import tree\n",
    "from sklearn import metrics\n",
    "from sklearn.metrics import roc_curve, auc\n",
    "from sklearn.metrics import roc_auc_score\n",
    "from sklearn.model_selection import train_test_split\n",
    "from sklearn.metrics import confusion_matrix \n",
    "from sklearn.model_selection import GridSearchCV\n",
    "\n",
    "\n",
    "from collections import Counter\n",
    "from imblearn import under_sampling, over_sampling\n",
    "from imblearn.under_sampling import TomekLinks"
   ]
  },
  {
   "cell_type": "code",
   "execution_count": 4,
   "metadata": {},
   "outputs": [],
   "source": [
    "df = pd.read_csv('/Users/dianatyubeeva/Desktop/datasets/users_behavior.csv')"
   ]
  },
  {
   "cell_type": "markdown",
   "metadata": {},
   "source": [
    "Откроем файл и изучим документацию:"
   ]
  },
  {
   "cell_type": "code",
   "execution_count": 5,
   "metadata": {},
   "outputs": [
    {
     "data": {
      "text/html": [
       "<div>\n",
       "<style scoped>\n",
       "    .dataframe tbody tr th:only-of-type {\n",
       "        vertical-align: middle;\n",
       "    }\n",
       "\n",
       "    .dataframe tbody tr th {\n",
       "        vertical-align: top;\n",
       "    }\n",
       "\n",
       "    .dataframe thead th {\n",
       "        text-align: right;\n",
       "    }\n",
       "</style>\n",
       "<table border=\"1\" class=\"dataframe\">\n",
       "  <thead>\n",
       "    <tr style=\"text-align: right;\">\n",
       "      <th></th>\n",
       "      <th>calls</th>\n",
       "      <th>minutes</th>\n",
       "      <th>messages</th>\n",
       "      <th>mb_used</th>\n",
       "      <th>is_ultra</th>\n",
       "    </tr>\n",
       "  </thead>\n",
       "  <tbody>\n",
       "    <tr>\n",
       "      <th>0</th>\n",
       "      <td>40.0</td>\n",
       "      <td>311.90</td>\n",
       "      <td>83.0</td>\n",
       "      <td>19915.42</td>\n",
       "      <td>0</td>\n",
       "    </tr>\n",
       "    <tr>\n",
       "      <th>1</th>\n",
       "      <td>85.0</td>\n",
       "      <td>516.75</td>\n",
       "      <td>56.0</td>\n",
       "      <td>22696.96</td>\n",
       "      <td>0</td>\n",
       "    </tr>\n",
       "    <tr>\n",
       "      <th>2</th>\n",
       "      <td>77.0</td>\n",
       "      <td>467.66</td>\n",
       "      <td>86.0</td>\n",
       "      <td>21060.45</td>\n",
       "      <td>0</td>\n",
       "    </tr>\n",
       "    <tr>\n",
       "      <th>3</th>\n",
       "      <td>106.0</td>\n",
       "      <td>745.53</td>\n",
       "      <td>81.0</td>\n",
       "      <td>8437.39</td>\n",
       "      <td>1</td>\n",
       "    </tr>\n",
       "    <tr>\n",
       "      <th>4</th>\n",
       "      <td>66.0</td>\n",
       "      <td>418.74</td>\n",
       "      <td>1.0</td>\n",
       "      <td>14502.75</td>\n",
       "      <td>0</td>\n",
       "    </tr>\n",
       "  </tbody>\n",
       "</table>\n",
       "</div>"
      ],
      "text/plain": [
       "   calls  minutes  messages   mb_used  is_ultra\n",
       "0   40.0   311.90      83.0  19915.42         0\n",
       "1   85.0   516.75      56.0  22696.96         0\n",
       "2   77.0   467.66      86.0  21060.45         0\n",
       "3  106.0   745.53      81.0   8437.39         1\n",
       "4   66.0   418.74       1.0  14502.75         0"
      ]
     },
     "execution_count": 5,
     "metadata": {},
     "output_type": "execute_result"
    }
   ],
   "source": [
    "df.head(5)"
   ]
  },
  {
   "cell_type": "code",
   "execution_count": 6,
   "metadata": {},
   "outputs": [
    {
     "name": "stdout",
     "output_type": "stream",
     "text": [
      "<class 'pandas.core.frame.DataFrame'>\n",
      "RangeIndex: 3214 entries, 0 to 3213\n",
      "Data columns (total 5 columns):\n",
      " #   Column    Non-Null Count  Dtype  \n",
      "---  ------    --------------  -----  \n",
      " 0   calls     3214 non-null   float64\n",
      " 1   minutes   3214 non-null   float64\n",
      " 2   messages  3214 non-null   float64\n",
      " 3   mb_used   3214 non-null   float64\n",
      " 4   is_ultra  3214 non-null   int64  \n",
      "dtypes: float64(4), int64(1)\n",
      "memory usage: 125.7 KB\n"
     ]
    }
   ],
   "source": [
    "df.info()"
   ]
  },
  {
   "cell_type": "markdown",
   "metadata": {},
   "source": [
    "Каждый объект в наборе данных — это информация о поведении одного пользователя за месяц. Известно:\n",
    "* `сalls` — количество звонков,\n",
    "* `minutes` — суммарная длительность звонков в минутах,\n",
    "* `messages` — количество sms-сообщений,\n",
    "* `mb_used` — израсходованный интернет-трафик в Мб,\n",
    "* `is_ultra` — каким тарифом пользовался в течение месяца («Ультра» — 1, «Смарт» — 0)."
   ]
  },
  {
   "cell_type": "markdown",
   "metadata": {},
   "source": [
    "## Предобработка данных "
   ]
  },
  {
   "cell_type": "markdown",
   "metadata": {},
   "source": [
    "Убедимся в отсутствии пропусков и дубликатов:"
   ]
  },
  {
   "cell_type": "code",
   "execution_count": 7,
   "metadata": {},
   "outputs": [
    {
     "data": {
      "text/plain": [
       "calls       0\n",
       "minutes     0\n",
       "messages    0\n",
       "mb_used     0\n",
       "is_ultra    0\n",
       "dtype: int64"
      ]
     },
     "execution_count": 7,
     "metadata": {},
     "output_type": "execute_result"
    }
   ],
   "source": [
    "df.isna().sum()"
   ]
  },
  {
   "cell_type": "code",
   "execution_count": 8,
   "metadata": {},
   "outputs": [
    {
     "data": {
      "text/plain": [
       "True"
      ]
     },
     "execution_count": 8,
     "metadata": {},
     "output_type": "execute_result"
    }
   ],
   "source": [
    "df.duplicated().sum() == 0"
   ]
  },
  {
   "cell_type": "markdown",
   "metadata": {},
   "source": [
    "Оценим аномальность параметров:"
   ]
  },
  {
   "cell_type": "code",
   "execution_count": 9,
   "metadata": {},
   "outputs": [
    {
     "data": {
      "image/png": "[encoded data removed]",
      "text/plain": [
       "<Figure size 432x288 with 3 Axes>"
      ]
     },
     "metadata": {
      "needs_background": "light"
     },
     "output_type": "display_data"
    }
   ],
   "source": [
    "fig = plt.figure()\n",
    "\n",
    "ax_1 = fig.add_subplot(1, 5, 1)\n",
    "ax_2 = fig.add_subplot(1, 5, 3)\n",
    "ax_3 = fig.add_subplot(1, 5, 5)\n",
    "\n",
    "ax_1.boxplot(df['calls']);\n",
    "ax_1.set_title('Звонки');\n",
    "ax_2.boxplot(df['mb_used']);\n",
    "ax_2.set_title('Мб');\n",
    "ax_3.boxplot(df['messages']);\n",
    "ax_3.set_title('Смс');"
   ]
  },
  {
   "cell_type": "markdown",
   "metadata": {},
   "source": [
    "Все \"выбросы\" более-менее близки к реальности, поэтому ограничивать параметры мы не будем."
   ]
  },
  {
   "cell_type": "markdown",
   "metadata": {},
   "source": [
    "Проверим данные на сбалансированность классов (ибо мы решаем задачу классификации):"
   ]
  },
  {
   "cell_type": "code",
   "execution_count": 10,
   "metadata": {},
   "outputs": [
    {
     "name": "stdout",
     "output_type": "stream",
     "text": [
      "Данные несбалансированны по классам\n"
     ]
    }
   ],
   "source": [
    "assert df[df['is_ultra'] == 1].shape[0] / df[df['is_ultra'] == 0].shape[0] != 1, 'Данные сбалансированны по классам'\n",
    "print('Данные несбалансированны по классам')"
   ]
  },
  {
   "cell_type": "markdown",
   "metadata": {},
   "source": [
    "Предполагаемые причины дисбаланса:\n",
    "* Наличие дубликатов\n",
    "* Естественные причины (целевая переменная - генотипы и тп.)\n",
    "* Недостатка размеченных данных\n",
    "\n",
    "В нашем случая мы имеем стандартную задачу классификации, соответственно, рассмотрим следующую меру по перебалансировки - поиск связи Томека. Он состоит в поиске элементов противоположного класса на близком расстоянии. Это обеспечивает более точную классификацию."
   ]
  },
  {
   "cell_type": "code",
   "execution_count": 11,
   "metadata": {},
   "outputs": [
    {
     "name": "stdout",
     "output_type": "stream",
     "text": [
      "Original dataset shape Counter({0: 2229, 1: 985})\n",
      "Resampled dataset shape Counter({0: 1966, 1: 985})\n"
     ]
    }
   ],
   "source": [
    "X, y = df.drop(['is_ultra'], axis=1), df['is_ultra'] \n",
    "print('Original dataset shape %s' % Counter(y))\n",
    "ad = TomekLinks(sampling_strategy='majority')\n",
    "X_res, y_res = ad.fit_resample(X, y)\n",
    "print('Resampled dataset shape %s' % Counter(y_res))"
   ]
  },
  {
   "cell_type": "code",
   "execution_count": 12,
   "metadata": {},
   "outputs": [
    {
     "data": {
      "image/png": "[encoded data removed]",
      "text/plain": [
       "<Figure size 648x360 with 2 Axes>"
      ]
     },
     "metadata": {},
     "output_type": "display_data"
    }
   ],
   "source": [
    "fig, axs = plt.subplots(ncols=2, figsize=(9, 5))\n",
    "autopct = \"%.2f\"\n",
    "y.value_counts().plot.pie(autopct=autopct, ax=axs[0])\n",
    "axs[0].set_title(\"Original\")\n",
    "y_res.value_counts().plot.pie(autopct=autopct, ax=axs[1])\n",
    "axs[1].set_title(\"Resampled\")\n",
    "fig.tight_layout()"
   ]
  },
  {
   "cell_type": "markdown",
   "metadata": {},
   "source": [
    "Теперь когда данные более сбалансированны и предобработаны можем перейти к обучению моделей. "
   ]
  },
  {
   "cell_type": "markdown",
   "metadata": {},
   "source": [
    "## Разделение на выборки"
   ]
  },
  {
   "cell_type": "markdown",
   "metadata": {},
   "source": [
    "Прежде чем переходить к исследованию, необходимо разделить выборку на валидационную и тренировочную. Однако, перед этим определим признаки и целевую переменную:\n",
    "\n",
    "`target` - за нее возьмем столбец `ultra` (ибо мы решаем задачи классификации, где подбираем наилучший тариф)\n",
    "\n",
    "`features` - все кроме столбца `ultra`"
   ]
  },
  {
   "cell_type": "code",
   "execution_count": 13,
   "metadata": {},
   "outputs": [],
   "source": [
    "features = X_res\n",
    "target = y_res"
   ]
  },
  {
   "cell_type": "markdown",
   "metadata": {},
   "source": [
    "Спрятанной тестовой выборки нет. Значит, данные нужно разбить на три части: обучающую, валидационную и тестовую. Однако, для подбора гиперпараметров будем использовать GS, поэтому разобьем просто на тестовую и обучающую."
   ]
  },
  {
   "cell_type": "code",
   "execution_count": 14,
   "metadata": {},
   "outputs": [],
   "source": [
    "features_train, features_valid, target_train, target_valid = train_test_split(\n",
    "    features, target, \n",
    "    test_size=0.2, \n",
    "    random_state=42, \n",
    "    stratify=target\n",
    ")"
   ]
  },
  {
   "cell_type": "markdown",
   "metadata": {},
   "source": [
    "`features_train & target_train` - тренировочная выборка\n",
    "\n",
    "`features_valid & target_valid` - тестовая выборка"
   ]
  },
  {
   "cell_type": "markdown",
   "metadata": {},
   "source": [
    "## Исследование моделей "
   ]
  },
  {
   "cell_type": "markdown",
   "metadata": {},
   "source": [
    "### Решающие дерево "
   ]
  },
  {
   "cell_type": "markdown",
   "metadata": {},
   "source": [
    "#### Accuracy"
   ]
  },
  {
   "cell_type": "markdown",
   "metadata": {},
   "source": [
    "Сначала оценим долю правильных ответов на валидационной:"
   ]
  },
  {
   "cell_type": "code",
   "execution_count": 15,
   "metadata": {},
   "outputs": [
    {
     "data": {
      "text/plain": [
       "{'max_depth': 5, 'min_samples_leaf': 1, 'min_samples_split': 6}"
      ]
     },
     "execution_count": 15,
     "metadata": {},
     "output_type": "execute_result"
    }
   ],
   "source": [
    "#через GridSearchCV() найдем лучшие гиперпараметры для модели\n",
    "parametrs = {'max_depth': range(1, 10),\n",
    "             'min_samples_leaf': range(1,8),\n",
    "             'min_samples_split': range(2,10,2)}\n",
    "\n",
    "grid = GridSearchCV(DecisionTreeClassifier(random_state=42), parametrs, cv=5)\n",
    "grid.fit(features_train, target_train)\n",
    "grid.best_params_"
   ]
  },
  {
   "cell_type": "code",
   "execution_count": 16,
   "metadata": {},
   "outputs": [
    {
     "name": "stdout",
     "output_type": "stream",
     "text": [
      "Accuracy наилучшей модели на выборке: 0.8071065989847716\n"
     ]
    }
   ],
   "source": [
    "best_result_dt = grid.best_estimator_.score(features_valid, target_valid)\n",
    "print(\"Accuracy наилучшей модели на выборке:\", best_result_dt)"
   ]
  },
  {
   "cell_type": "markdown",
   "metadata": {},
   "source": [
    "Изобразим DecisionTreeClassifier() и посмотрим как выглядит модель с найденными гиперпараметрами:"
   ]
  },
  {
   "cell_type": "code",
   "execution_count": 17,
   "metadata": {},
   "outputs": [
    {
     "data": {
      "image/png": "[encoded data removed]",
      "text/plain": [
       "<Figure size 2520x1440 with 1 Axes>"
      ]
     },
     "metadata": {
      "needs_background": "light"
     },
     "output_type": "display_data"
    }
   ],
   "source": [
    "#через модуль tree и plot_tree изобразим DT\n",
    "fig = plt.figure(figsize=(35,20))\n",
    "_ = tree.plot_tree(grid.best_estimator_, \n",
    "                   feature_names=features.columns.values, \n",
    "                   class_names=['Smart','Ultra'],\n",
    "                   filled=True,\n",
    "                   fontsize = 15)"
   ]
  },
  {
   "cell_type": "markdown",
   "metadata": {},
   "source": [
    "**Наблюдение**: accurancy пвысокое на выборке, больше порога в 0,75. Получается лучшей из моделей типа TreeClassifier будет та, что имеет такие гиперпараметры:\n",
    "\n",
    "`model = DecisionTreeClassifier(random_state=42, max_depth=5,min_samples_leaf = 1, min_samples_split = 6)`"
   ]
  },
  {
   "cell_type": "markdown",
   "metadata": {},
   "source": [
    "#### Confusion matrix, recall, precision"
   ]
  },
  {
   "cell_type": "markdown",
   "metadata": {},
   "source": [
    "Не будем останавливаться на одном показателе accurancy, проанализируем работу модели через другую метрику - `Confusion matrix`."
   ]
  },
  {
   "cell_type": "code",
   "execution_count": 18,
   "metadata": {},
   "outputs": [],
   "source": [
    "tn_v, fp_v, fn_v, tp_v = confusion_matrix(target_valid, grid.best_estimator_.predict(features_valid), labels = [0, 1]).ravel() "
   ]
  },
  {
   "cell_type": "code",
   "execution_count": 19,
   "metadata": {},
   "outputs": [
    {
     "data": {
      "image/png": "[encoded data removed]",
      "text/plain": [
       "<Figure size 432x288 with 2 Axes>"
      ]
     },
     "metadata": {
      "needs_background": "light"
     },
     "output_type": "display_data"
    }
   ],
   "source": [
    "confusion_matrix_2 = confusion_matrix(target_valid, grid.best_estimator_.predict(features_valid))\n",
    "cm_display = metrics.ConfusionMatrixDisplay(confusion_matrix = confusion_matrix_2, display_labels = [0, 1])\n",
    "cm_display.plot()\n",
    "plt.title('Тестовая выборка')\n",
    "plt.show()"
   ]
  },
  {
   "cell_type": "markdown",
   "metadata": {},
   "source": [
    "Найдем значения других метрик, связанных с `Confusion matrix` - `recall`, `precision`:"
   ]
  },
  {
   "cell_type": "code",
   "execution_count": 20,
   "metadata": {},
   "outputs": [
    {
     "name": "stdout",
     "output_type": "stream",
     "text": [
      "Recall_valid = 0.5736040609137056\n",
      "Precision_valid = 0.7902097902097902\n"
     ]
    }
   ],
   "source": [
    "r_v_dt = tp_v / (tp_v + fn_v)\n",
    "p_v_dt = tp_v / (tp_v + fp_v)\n",
    "print(f'Recall_valid = {r_v_dt}')\n",
    "print(f'Precision_valid = {p_v_dt}')"
   ]
  },
  {
   "cell_type": "markdown",
   "metadata": {},
   "source": [
    "**Наблюдение**: значение recall говорит о средней доли правильно найденных положительных объектов среди всех объектов положительного класса, целых 57%. precision же говорит о правильных предсказания, чья доля составляет около 80%!"
   ]
  },
  {
   "cell_type": "markdown",
   "metadata": {},
   "source": [
    "### Случайный лес"
   ]
  },
  {
   "cell_type": "markdown",
   "metadata": {},
   "source": [
    "#### Accuracy"
   ]
  },
  {
   "cell_type": "markdown",
   "metadata": {},
   "source": [
    "Сначала оценим долю правильных ответов на валидационной:"
   ]
  },
  {
   "cell_type": "code",
   "execution_count": 21,
   "metadata": {},
   "outputs": [
    {
     "name": "stdout",
     "output_type": "stream",
     "text": [
      "CPU times: user 54.6 s, sys: 362 ms, total: 55 s\n",
      "Wall time: 55.1 s\n"
     ]
    },
    {
     "data": {
      "text/plain": [
       "{'max_depth': 9, 'min_samples_leaf': 4, 'n_estimators': 68}"
      ]
     },
     "execution_count": 21,
     "metadata": {},
     "output_type": "execute_result"
    }
   ],
   "source": [
    "%%time\n",
    "#через GridSearchCV() найдем лучшие гиперпараметры для модели\n",
    "parametrs = {'n_estimators': range(8,100,30),\n",
    "             'min_samples_leaf': range(2,5),\n",
    "             'max_depth': range(1, 10)}\n",
    "\n",
    "grid = GridSearchCV(RandomForestClassifier(random_state=42), parametrs, cv=5)\n",
    "grid.fit(features_train, target_train)\n",
    "grid.best_params_"
   ]
  },
  {
   "cell_type": "code",
   "execution_count": 22,
   "metadata": {},
   "outputs": [
    {
     "name": "stdout",
     "output_type": "stream",
     "text": [
      "Accuracy наилучшей модели на выборке: 0.8341793570219966\n"
     ]
    }
   ],
   "source": [
    "best_result_rf = grid.best_estimator_.score(features_valid, target_valid)\n",
    "print(\"Accuracy наилучшей модели на выборке:\", best_result_rf)"
   ]
  },
  {
   "cell_type": "markdown",
   "metadata": {},
   "source": [
    "**Наблюдение**: accurancy примерно высокое на выборке, больше 0,75. Получается лучшей из моделей типа RandomForestClassifier будет та, что имеет такие гиперпараметры:\n",
    "\n",
    "`model = DecisionTreeClassifier(random_state=42, n_estimators=68, min_samples_leaf=4, max_depth=9)`\n",
    "\n",
    "Более того, accuracy на тестовой выборке показал себя лучше, чем в предыдущей модели. "
   ]
  },
  {
   "cell_type": "markdown",
   "metadata": {},
   "source": [
    "#### Confusion matrix, recall, precision"
   ]
  },
  {
   "cell_type": "markdown",
   "metadata": {},
   "source": [
    "Не будем останавливаться на одном показателе accurancy, проанализируем работу модели через другую метрику - `Confusion matrix`."
   ]
  },
  {
   "cell_type": "code",
   "execution_count": 23,
   "metadata": {},
   "outputs": [],
   "source": [
    "tn_v, fp_v, fn_v, tp_v = confusion_matrix(target_valid, grid.best_estimator_.predict(features_valid), labels = [0, 1]).ravel() "
   ]
  },
  {
   "cell_type": "code",
   "execution_count": 24,
   "metadata": {},
   "outputs": [
    {
     "data": {
      "image/png": "[encoded data removed]",
      "text/plain": [
       "<Figure size 432x288 with 2 Axes>"
      ]
     },
     "metadata": {
      "needs_background": "light"
     },
     "output_type": "display_data"
    }
   ],
   "source": [
    "confusion_matrix_2 = confusion_matrix(target_valid, grid.best_estimator_.predict(features_valid))\n",
    "cm_display = metrics.ConfusionMatrixDisplay(confusion_matrix = confusion_matrix_2, display_labels = [0, 1])\n",
    "cm_display.plot()\n",
    "plt.title('Тестовая выборка')\n",
    "plt.show()"
   ]
  },
  {
   "cell_type": "markdown",
   "metadata": {},
   "source": [
    "Найдем значения других метрик, связанных с `Confusion matrix` - `recall`, `precision`:"
   ]
  },
  {
   "cell_type": "code",
   "execution_count": 25,
   "metadata": {},
   "outputs": [
    {
     "name": "stdout",
     "output_type": "stream",
     "text": [
      "Recall_valid = 0.6091370558375635\n",
      "Precision_valid = 0.851063829787234\n"
     ]
    }
   ],
   "source": [
    "r_v_rf = tp_v / (tp_v + fn_v)\n",
    "p_v_rf = tp_v / (tp_v + fp_v)\n",
    "print(f'Recall_valid = {r_v_rf}')\n",
    "print(f'Precision_valid = {p_v_rf}')"
   ]
  },
  {
   "cell_type": "markdown",
   "metadata": {},
   "source": [
    "**Наблюдение**: значение recall о средней доли правильно найденных положительных объектов среди всех объектов положительного класса, целых 60%. precision же говорит о правильных предсказания, чья доля составляет около 85%.\n",
    "\n",
    "Стоит отметить, что у предыдущей модели доля правильных предсказаний была ниже."
   ]
  },
  {
   "cell_type": "markdown",
   "metadata": {},
   "source": [
    "### Логическая регрессия"
   ]
  },
  {
   "cell_type": "markdown",
   "metadata": {},
   "source": [
    "#### Accuracy\n"
   ]
  },
  {
   "cell_type": "code",
   "execution_count": 26,
   "metadata": {},
   "outputs": [
    {
     "name": "stdout",
     "output_type": "stream",
     "text": [
      "Accuracy на валидационной выборке: 0.6717428087986463\n"
     ]
    }
   ],
   "source": [
    "model = LogisticRegression(random_state=42, solver='liblinear')\n",
    "model.fit(features_train, target_train)\n",
    "p_v = model.predict(features_valid)\n",
    "a_v = model.score(features_valid, target_valid)\n",
    "print(\"Accuracy на валидационной выборке:\", a_v)"
   ]
  },
  {
   "cell_type": "markdown",
   "metadata": {},
   "source": [
    "#### Confusion matrix, recall, precision"
   ]
  },
  {
   "cell_type": "markdown",
   "metadata": {},
   "source": [
    "Не будем останавливаться на одном показателе accurancy, проанализируем работу модели через другую метрику - `Confusion matrix`."
   ]
  },
  {
   "cell_type": "code",
   "execution_count": 27,
   "metadata": {},
   "outputs": [],
   "source": [
    "tn_v, fp_v, fn_v, tp_v = confusion_matrix(target_valid, model.predict(features_valid), labels = [0, 1]).ravel() "
   ]
  },
  {
   "cell_type": "code",
   "execution_count": 28,
   "metadata": {},
   "outputs": [
    {
     "data": {
      "image/png": "[encoded data removed]",
      "text/plain": [
       "<Figure size 432x288 with 2 Axes>"
      ]
     },
     "metadata": {
      "needs_background": "light"
     },
     "output_type": "display_data"
    }
   ],
   "source": [
    "confusion_matrix_2 = confusion_matrix(target_valid, model.predict(features_valid))\n",
    "cm_display = metrics.ConfusionMatrixDisplay(confusion_matrix = confusion_matrix_2, display_labels = [0, 1])\n",
    "cm_display.plot()\n",
    "plt.title('Тестовая выборка')\n",
    "plt.show()"
   ]
  },
  {
   "cell_type": "markdown",
   "metadata": {},
   "source": [
    "Найдем значения других метрик, связанных с `Confusion matrix` - `recall`, `precision`:"
   ]
  },
  {
   "cell_type": "code",
   "execution_count": 29,
   "metadata": {},
   "outputs": [
    {
     "name": "stdout",
     "output_type": "stream",
     "text": [
      "Recall_valid = 0.02030456852791878\n",
      "Precision_valid = 0.8\n"
     ]
    }
   ],
   "source": [
    "r_v = tp_v / (tp_v + fn_v)\n",
    "p_v = tp_v / (tp_v + fp_v)\n",
    "print(f'Recall_valid = {r_v}')\n",
    "print(f'Precision_valid = {p_v}')"
   ]
  },
  {
   "cell_type": "markdown",
   "metadata": {},
   "source": [
    "**Наблюдение**: recall очень низок, что говорит о мало найденных правильных объектов. precision же высок, но ниже, чем у предыдущей модели. "
   ]
  },
  {
   "cell_type": "markdown",
   "metadata": {},
   "source": [
    "## Выбор модели и доп. исследование на адекватность"
   ]
  },
  {
   "cell_type": "markdown",
   "metadata": {},
   "source": [
    "### Выбор модели"
   ]
  },
  {
   "cell_type": "markdown",
   "metadata": {},
   "source": [
    "Соберем все показатели в одну таблицу и выберем модель, которую далее будем проверять:"
   ]
  },
  {
   "cell_type": "code",
   "execution_count": 30,
   "metadata": {},
   "outputs": [
    {
     "data": {
      "text/html": [
       "<div>\n",
       "<style scoped>\n",
       "    .dataframe tbody tr th:only-of-type {\n",
       "        vertical-align: middle;\n",
       "    }\n",
       "\n",
       "    .dataframe tbody tr th {\n",
       "        vertical-align: top;\n",
       "    }\n",
       "\n",
       "    .dataframe thead th {\n",
       "        text-align: right;\n",
       "    }\n",
       "</style>\n",
       "<table border=\"1\" class=\"dataframe\">\n",
       "  <thead>\n",
       "    <tr style=\"text-align: right;\">\n",
       "      <th></th>\n",
       "      <th>model_type</th>\n",
       "      <th>accuracy</th>\n",
       "      <th>recall</th>\n",
       "      <th>precision</th>\n",
       "    </tr>\n",
       "  </thead>\n",
       "  <tbody>\n",
       "    <tr>\n",
       "      <th>0</th>\n",
       "      <td>Tree</td>\n",
       "      <td>0.807</td>\n",
       "      <td>0.574</td>\n",
       "      <td>0.790</td>\n",
       "    </tr>\n",
       "    <tr>\n",
       "      <th>1</th>\n",
       "      <td>Random Forest</td>\n",
       "      <td>0.834</td>\n",
       "      <td>0.609</td>\n",
       "      <td>0.851</td>\n",
       "    </tr>\n",
       "    <tr>\n",
       "      <th>2</th>\n",
       "      <td>Logistic Regression</td>\n",
       "      <td>0.672</td>\n",
       "      <td>0.020</td>\n",
       "      <td>0.800</td>\n",
       "    </tr>\n",
       "  </tbody>\n",
       "</table>\n",
       "</div>"
      ],
      "text/plain": [
       "            model_type  accuracy  recall  precision\n",
       "0                 Tree     0.807   0.574      0.790\n",
       "1        Random Forest     0.834   0.609      0.851\n",
       "2  Logistic Regression     0.672   0.020      0.800"
      ]
     },
     "execution_count": 30,
     "metadata": {},
     "output_type": "execute_result"
    }
   ],
   "source": [
    "all_in_one = {\n",
    "    'model_type' : ['Tree', 'Random Forest', 'Logistic Regression'],\n",
    "    'accuracy' : [round(best_result_dt,3), round(best_result_rf,3), round(a_v,3)],\n",
    "    'recall' : [round(r_v_dt, 3), round(r_v_rf, 3) , round(r_v, 3)],\n",
    "    'precision' : [round(p_v_dt, 3), round(p_v_rf, 3) , round(p_v, 3)]\n",
    "}\n",
    "all_in_one = pd.DataFrame(all_in_one)\n",
    "all_in_one"
   ]
  },
  {
   "cell_type": "markdown",
   "metadata": {},
   "source": [
    "Несмотря на медлительность модели, RandomForest явялется лучшей по почти всем показателям. Ее проверим на тест. выборке и дополнительно исследуем. "
   ]
  },
  {
   "cell_type": "markdown",
   "metadata": {},
   "source": [
    "#### Roc-curve, Auc"
   ]
  },
  {
   "cell_type": "markdown",
   "metadata": {},
   "source": [
    "Помимо вышеупомянутых метрик, посчитаем `Auc` и построим кривую `Roc`:"
   ]
  },
  {
   "cell_type": "code",
   "execution_count": 31,
   "metadata": {},
   "outputs": [
    {
     "name": "stdout",
     "output_type": "stream",
     "text": [
      "RandomForestClassifier: ROC AUC=0.853\n"
     ]
    },
    {
     "data": {
      "image/png": "[encoded data removed]",
      "text/plain": [
       "<Figure size 432x288 with 1 Axes>"
      ]
     },
     "metadata": {
      "needs_background": "light"
     },
     "output_type": "display_data"
    }
   ],
   "source": [
    "model = RandomForestClassifier(random_state=42, \n",
    "                               max_depth = grid.best_params_['max_depth'],\n",
    "                               min_samples_leaf = grid.best_params_['min_samples_leaf'],\n",
    "                               n_estimators = grid.best_params_['n_estimators'])\n",
    "model.fit(features_train, target_train)\n",
    "# получаем предказания\n",
    "lr_probs = model.predict_proba(features_valid)\n",
    "# сохраняем вероятности только для положительного исхода\n",
    "lr_probs = lr_probs[:, 1]\n",
    "# рассчитываем ROC AUC\n",
    "lr_auc = roc_auc_score(target_valid, lr_probs)\n",
    "print('RandomForestClassifier: ROC AUC=%.3f' % (lr_auc))\n",
    "# рассчитываем roc-кривую\n",
    "fpr, tpr, treshold = roc_curve(target_valid, lr_probs)\n",
    "roc_auc_rf = auc(fpr, tpr)\n",
    "# строим график\n",
    "plt.plot(fpr, tpr, color='darkorange',\n",
    "         label='ROC кривая (area = %0.2f)' % roc_auc_rf)\n",
    "plt.plot([0, 1], [0, 1], color='navy', linestyle='--')\n",
    "plt.xlim([0.0, 1.0])\n",
    "plt.ylim([0.0, 1.05])\n",
    "plt.xlabel('False Positive Rate')\n",
    "plt.ylabel('True Positive Rate')\n",
    "plt.title('Пример ROC-кривой')\n",
    "plt.legend(loc=\"lower right\")\n",
    "plt.show()"
   ]
  },
  {
   "cell_type": "markdown",
   "metadata": {},
   "source": [
    "Чем больше площадь под кривой (AUC), тем лучше классификация. В нашем случае `Auc` = 0.853. Оно близко к 1, что говорит о хорошем качестве модели. Другими словами, модель делает в целом правильные предсказания с вероятностью 0,85. "
   ]
  },
  {
   "cell_type": "markdown",
   "metadata": {},
   "source": [
    "### Сравнение с константной моделью"
   ]
  },
  {
   "cell_type": "markdown",
   "metadata": {},
   "source": [
    "#### Accuracy"
   ]
  },
  {
   "cell_type": "code",
   "execution_count": 32,
   "metadata": {},
   "outputs": [
    {
     "name": "stdout",
     "output_type": "stream",
     "text": [
      "Accuracy на тестовой выборке: 0.6666666666666666\n"
     ]
    }
   ],
   "source": [
    "dc = DummyClassifier(strategy='most_frequent', random_state=412)\n",
    "dc.fit(features_train, target_train)\n",
    "a_tr = dc.score(features_valid, target_valid)\n",
    "print(\"Accuracy на тестовой выборке:\", a_tr)"
   ]
  },
  {
   "cell_type": "markdown",
   "metadata": {},
   "source": [
    "#### Confusion matrix, recall, precision"
   ]
  },
  {
   "cell_type": "markdown",
   "metadata": {},
   "source": [
    "Не будем останавливаться на одном показателе accurancy, проанализируем работу модели через другую метрику - `Confusion matrix`."
   ]
  },
  {
   "cell_type": "code",
   "execution_count": 33,
   "metadata": {},
   "outputs": [],
   "source": [
    "tn_t, fp_t, fn_t, tp_t = confusion_matrix(target_valid, dc.predict(features_valid), labels = [0, 1]).ravel()"
   ]
  },
  {
   "cell_type": "code",
   "execution_count": 34,
   "metadata": {},
   "outputs": [
    {
     "name": "stdout",
     "output_type": "stream",
     "text": [
      "Recall_test = 0.0\n",
      "Precision_test = nan\n"
     ]
    },
    {
     "name": "stderr",
     "output_type": "stream",
     "text": [
      "/var/folders/sq/dt9h5cfs0jq5hdppzy0_9xfr0000gn/T/ipykernel_5089/657516081.py:2: RuntimeWarning: invalid value encountered in long_scalars\n",
      "  p_t = tp_t / (tp_t + fp_t)\n"
     ]
    }
   ],
   "source": [
    "r_t = tp_t / (tp_t + fn_t)\n",
    "p_t = tp_t / (tp_t + fp_t)\n",
    "print(f'Recall_test = {r_t}')\n",
    "print(f'Precision_test = {p_t}')"
   ]
  },
  {
   "cell_type": "markdown",
   "metadata": {},
   "source": [
    "Из-за особенности модели сложно опираться на метрики `recall`, `precision`, поэтому дополнительно оценим `Auc`."
   ]
  },
  {
   "cell_type": "markdown",
   "metadata": {},
   "source": [
    "#### Roc-curve, Auc"
   ]
  },
  {
   "cell_type": "markdown",
   "metadata": {},
   "source": [
    "Помимо вышеупомянутых метрик, посчитаем `Auc` и построим кривую `Roc`:"
   ]
  },
  {
   "cell_type": "code",
   "execution_count": 35,
   "metadata": {},
   "outputs": [
    {
     "name": "stdout",
     "output_type": "stream",
     "text": [
      "DummyClassifier: ROC AUC=0.500\n"
     ]
    },
    {
     "data": {
      "image/png": "[encoded data removed]",
      "text/plain": [
       "<Figure size 432x288 with 1 Axes>"
      ]
     },
     "metadata": {
      "needs_background": "light"
     },
     "output_type": "display_data"
    }
   ],
   "source": [
    "model = dc\n",
    "model.fit(features_train, target_train)\n",
    "# получаем предказания\n",
    "lr_probs = model.predict_proba(features_valid)\n",
    "# сохраняем вероятности только для положительного исхода\n",
    "lr_probs = lr_probs[:, 1]\n",
    "# рассчитываем ROC AUC\n",
    "lr_auc = roc_auc_score(target_valid, lr_probs)\n",
    "print('DummyClassifier: ROC AUC=%.3f' % (lr_auc))\n",
    "# рассчитываем roc-кривую\n",
    "fpr, tpr, treshold = roc_curve(target_valid, lr_probs)\n",
    "roc_auc_dc = auc(fpr, tpr)\n",
    "# строим график\n",
    "plt.plot(fpr, tpr, color='darkorange',\n",
    "         label='ROC кривая (area = %0.2f)' % roc_auc_dc)\n",
    "plt.plot([0, 1], [0, 1], color='navy', linestyle='--')\n",
    "plt.xlim([0.0, 1.0])\n",
    "plt.ylim([0.0, 1.05])\n",
    "plt.xlabel('False Positive Rate')\n",
    "plt.ylabel('True Positive Rate')\n",
    "plt.title('Пример ROC-кривой')\n",
    "plt.legend(loc=\"lower right\")\n",
    "plt.show()"
   ]
  },
  {
   "cell_type": "markdown",
   "metadata": {},
   "source": [
    "Auc = 0.5 это очень плохой показатель для модели, который говорит, что предсказания выбираются правильно лишь в 50%!"
   ]
  },
  {
   "cell_type": "markdown",
   "metadata": {},
   "source": [
    "#### Финальная таблица"
   ]
  },
  {
   "cell_type": "code",
   "execution_count": 36,
   "metadata": {},
   "outputs": [
    {
     "data": {
      "text/html": [
       "<div>\n",
       "<style scoped>\n",
       "    .dataframe tbody tr th:only-of-type {\n",
       "        vertical-align: middle;\n",
       "    }\n",
       "\n",
       "    .dataframe tbody tr th {\n",
       "        vertical-align: top;\n",
       "    }\n",
       "\n",
       "    .dataframe thead th {\n",
       "        text-align: right;\n",
       "    }\n",
       "</style>\n",
       "<table border=\"1\" class=\"dataframe\">\n",
       "  <thead>\n",
       "    <tr style=\"text-align: right;\">\n",
       "      <th></th>\n",
       "      <th>model_type</th>\n",
       "      <th>accuracy_test</th>\n",
       "      <th>recall_test</th>\n",
       "      <th>precision_test</th>\n",
       "      <th>roc_auc</th>\n",
       "    </tr>\n",
       "  </thead>\n",
       "  <tbody>\n",
       "    <tr>\n",
       "      <th>0</th>\n",
       "      <td>Random Forest</td>\n",
       "      <td>0.834</td>\n",
       "      <td>0.609</td>\n",
       "      <td>0.851</td>\n",
       "      <td>0.853</td>\n",
       "    </tr>\n",
       "    <tr>\n",
       "      <th>1</th>\n",
       "      <td>Dummy</td>\n",
       "      <td>0.667</td>\n",
       "      <td>0.020</td>\n",
       "      <td>0.800</td>\n",
       "      <td>0.500</td>\n",
       "    </tr>\n",
       "  </tbody>\n",
       "</table>\n",
       "</div>"
      ],
      "text/plain": [
       "      model_type  accuracy_test  recall_test  precision_test  roc_auc\n",
       "0  Random Forest          0.834        0.609           0.851    0.853\n",
       "1          Dummy          0.667        0.020           0.800    0.500"
      ]
     },
     "execution_count": 36,
     "metadata": {},
     "output_type": "execute_result"
    }
   ],
   "source": [
    "all_in_one = {\n",
    "    'model_type' : ['Random Forest', 'Dummy'],\n",
    "    'accuracy_test' : [round(best_result_rf, 3), round(a_tr, 3)],\n",
    "    'recall_test' : [round(r_v_rf, 3), round(r_v ,3)],\n",
    "    'precision_test' : [round(p_v_rf, 3), round(p_v ,3)],\n",
    "    'roc_auc' : [round(roc_auc_rf, 3), round(roc_auc_dc, 3)]\n",
    "}\n",
    "all_in_one = pd.DataFrame(all_in_one)\n",
    "all_in_one"
   ]
  },
  {
   "cell_type": "markdown",
   "metadata": {},
   "source": [
    "Модель прошла проверку!"
   ]
  },
  {
   "cell_type": "markdown",
   "metadata": {},
   "source": [
    "## Вывод"
   ]
  },
  {
   "cell_type": "markdown",
   "metadata": {},
   "source": [
    "Исходя из всех использованных метрик качества, пришли к тому, что RandomForest больше всего подойдет для определения подходящего тарифа, ибо доля правильных ответов у него наибольшее. Однако, он самый медлительный. Остальные модели не подошли не только из-за accurancy, но и точности, полности работы алгоритма. "
   ]
  }
 ],
 "metadata": {
  "ExecuteTimeLog": [
   {
    "duration": 462,
    "start_time": "2022-08-09T08:47:53.141Z"
   },
   {
    "duration": 779,
    "start_time": "2022-08-09T08:48:33.061Z"
   },
   {
    "duration": 31,
    "start_time": "2022-08-09T08:49:16.500Z"
   },
   {
    "duration": 18,
    "start_time": "2022-08-09T08:50:14.074Z"
   },
   {
    "duration": 11,
    "start_time": "2022-08-09T08:50:29.388Z"
   },
   {
    "duration": 12,
    "start_time": "2022-08-09T08:51:14.161Z"
   },
   {
    "duration": 6,
    "start_time": "2022-08-09T09:03:00.395Z"
   },
   {
    "duration": 133,
    "start_time": "2022-08-09T09:04:36.051Z"
   },
   {
    "duration": 4,
    "start_time": "2022-08-09T09:05:50.443Z"
   },
   {
    "duration": 5,
    "start_time": "2022-08-09T09:07:50.926Z"
   },
   {
    "duration": 9,
    "start_time": "2022-08-09T09:10:52.231Z"
   },
   {
    "duration": 31,
    "start_time": "2022-08-09T09:11:05.643Z"
   },
   {
    "duration": 19,
    "start_time": "2022-08-09T09:11:09.323Z"
   },
   {
    "duration": 542,
    "start_time": "2022-08-09T09:11:19.144Z"
   },
   {
    "duration": 185,
    "start_time": "2022-08-09T09:11:23.564Z"
   },
   {
    "duration": 146,
    "start_time": "2022-08-09T09:11:39.836Z"
   },
   {
    "duration": 31,
    "start_time": "2022-08-09T09:12:51.924Z"
   },
   {
    "duration": 7,
    "start_time": "2022-08-09T09:20:40.264Z"
   },
   {
    "duration": 6,
    "start_time": "2022-08-09T09:21:51.885Z"
   },
   {
    "duration": 5,
    "start_time": "2022-08-09T09:22:25.564Z"
   },
   {
    "duration": 25,
    "start_time": "2022-08-09T09:22:40.029Z"
   },
   {
    "duration": 4,
    "start_time": "2022-08-09T09:22:42.583Z"
   },
   {
    "duration": 4,
    "start_time": "2022-08-09T09:22:58.664Z"
   },
   {
    "duration": 16,
    "start_time": "2022-08-09T09:23:31.247Z"
   },
   {
    "duration": 13,
    "start_time": "2022-08-09T09:23:32.923Z"
   },
   {
    "duration": 17,
    "start_time": "2022-08-09T09:36:42.263Z"
   },
   {
    "duration": 33,
    "start_time": "2022-08-09T09:37:00.264Z"
   },
   {
    "duration": 36,
    "start_time": "2022-08-09T09:37:03.243Z"
   },
   {
    "duration": 18,
    "start_time": "2022-08-09T09:38:35.885Z"
   },
   {
    "duration": 38,
    "start_time": "2022-08-09T09:38:44.263Z"
   },
   {
    "duration": 39,
    "start_time": "2022-08-09T09:49:35.003Z"
   },
   {
    "duration": 39,
    "start_time": "2022-08-09T09:49:48.743Z"
   },
   {
    "duration": 77,
    "start_time": "2022-08-09T09:51:25.966Z"
   },
   {
    "duration": 39,
    "start_time": "2022-08-09T09:51:32.923Z"
   },
   {
    "duration": 41,
    "start_time": "2022-08-09T09:52:07.696Z"
   },
   {
    "duration": 41,
    "start_time": "2022-08-09T09:52:20.483Z"
   },
   {
    "duration": 44,
    "start_time": "2022-08-09T09:52:23.623Z"
   },
   {
    "duration": 5,
    "start_time": "2022-08-09T09:57:44.801Z"
   },
   {
    "duration": 3,
    "start_time": "2022-08-09T09:57:56.376Z"
   },
   {
    "duration": 4,
    "start_time": "2022-08-09T09:58:01.641Z"
   },
   {
    "duration": 54,
    "start_time": "2022-08-09T10:00:25.463Z"
   },
   {
    "duration": 1578,
    "start_time": "2022-08-09T10:00:37.260Z"
   },
   {
    "duration": 14,
    "start_time": "2022-08-09T10:00:38.841Z"
   },
   {
    "duration": 12,
    "start_time": "2022-08-09T10:00:38.857Z"
   },
   {
    "duration": 19,
    "start_time": "2022-08-09T10:00:38.870Z"
   },
   {
    "duration": 13,
    "start_time": "2022-08-09T10:00:38.891Z"
   },
   {
    "duration": 118,
    "start_time": "2022-08-09T10:00:39.516Z"
   },
   {
    "duration": 8,
    "start_time": "2022-08-09T10:00:48.500Z"
   },
   {
    "duration": 1479,
    "start_time": "2022-08-09T10:01:14.142Z"
   },
   {
    "duration": 15,
    "start_time": "2022-08-09T10:01:15.623Z"
   },
   {
    "duration": 18,
    "start_time": "2022-08-09T10:01:15.639Z"
   },
   {
    "duration": 11,
    "start_time": "2022-08-09T10:01:15.659Z"
   },
   {
    "duration": 5,
    "start_time": "2022-08-09T10:01:15.672Z"
   },
   {
    "duration": 12,
    "start_time": "2022-08-09T10:01:15.679Z"
   },
   {
    "duration": 39,
    "start_time": "2022-08-09T10:01:28.022Z"
   },
   {
    "duration": 40,
    "start_time": "2022-08-09T10:01:36.074Z"
   },
   {
    "duration": 5,
    "start_time": "2022-08-09T10:18:22.209Z"
   },
   {
    "duration": 7,
    "start_time": "2022-08-09T10:20:50.870Z"
   },
   {
    "duration": 41,
    "start_time": "2022-08-09T10:20:57.478Z"
   },
   {
    "duration": 41,
    "start_time": "2022-08-09T10:20:59.518Z"
   },
   {
    "duration": 35,
    "start_time": "2022-08-09T10:23:31.577Z"
   },
   {
    "duration": 128,
    "start_time": "2022-08-09T10:23:52.305Z"
   },
   {
    "duration": 35,
    "start_time": "2022-08-09T10:23:59.678Z"
   },
   {
    "duration": 34,
    "start_time": "2022-08-09T10:29:40.537Z"
   },
   {
    "duration": 3,
    "start_time": "2022-08-09T10:31:05.057Z"
   },
   {
    "duration": 35,
    "start_time": "2022-08-09T10:36:56.418Z"
   },
   {
    "duration": 34,
    "start_time": "2022-08-09T10:36:58.380Z"
   },
   {
    "duration": 27,
    "start_time": "2022-08-09T10:42:43.618Z"
   },
   {
    "duration": 32,
    "start_time": "2022-08-09T10:45:02.937Z"
   },
   {
    "duration": 13,
    "start_time": "2022-08-09T10:45:03.445Z"
   },
   {
    "duration": 22,
    "start_time": "2022-08-09T10:45:09.501Z"
   },
   {
    "duration": 11,
    "start_time": "2022-08-09T10:46:32.192Z"
   },
   {
    "duration": 1187,
    "start_time": "2022-08-09T10:46:55.023Z"
   },
   {
    "duration": 20,
    "start_time": "2022-08-09T10:46:56.213Z"
   },
   {
    "duration": 12,
    "start_time": "2022-08-09T10:46:56.234Z"
   },
   {
    "duration": 15,
    "start_time": "2022-08-09T10:46:56.248Z"
   },
   {
    "duration": 9,
    "start_time": "2022-08-09T10:46:56.265Z"
   },
   {
    "duration": 33,
    "start_time": "2022-08-09T10:46:56.276Z"
   },
   {
    "duration": 48,
    "start_time": "2022-08-09T10:46:56.311Z"
   },
   {
    "duration": 34,
    "start_time": "2022-08-09T10:46:56.362Z"
   },
   {
    "duration": 12,
    "start_time": "2022-08-09T10:46:56.707Z"
   },
   {
    "duration": 13,
    "start_time": "2022-08-09T10:47:25.385Z"
   },
   {
    "duration": 104,
    "start_time": "2022-08-09T10:48:54.515Z"
   },
   {
    "duration": 32,
    "start_time": "2022-08-09T10:49:18.180Z"
   },
   {
    "duration": 471,
    "start_time": "2022-08-09T10:49:37.210Z"
   },
   {
    "duration": 32,
    "start_time": "2022-08-09T10:49:54.695Z"
   },
   {
    "duration": 185,
    "start_time": "2022-08-09T10:49:58.472Z"
   },
   {
    "duration": 32,
    "start_time": "2022-08-09T10:50:28.174Z"
   },
   {
    "duration": 153,
    "start_time": "2022-08-09T10:50:31.577Z"
   },
   {
    "duration": 153,
    "start_time": "2022-08-09T10:51:00.206Z"
   },
   {
    "duration": 312,
    "start_time": "2022-08-09T10:55:03.083Z"
   },
   {
    "duration": 244,
    "start_time": "2022-08-09T10:55:29.347Z"
   },
   {
    "duration": 160,
    "start_time": "2022-08-09T10:55:39.543Z"
   },
   {
    "duration": 419,
    "start_time": "2022-08-09T10:55:43.578Z"
   },
   {
    "duration": 308,
    "start_time": "2022-08-09T10:56:44.079Z"
   },
   {
    "duration": 338,
    "start_time": "2022-08-09T10:56:58.846Z"
   },
   {
    "duration": 38,
    "start_time": "2022-08-09T11:02:25.681Z"
   },
   {
    "duration": 35,
    "start_time": "2022-08-09T11:02:55.694Z"
   },
   {
    "duration": 329,
    "start_time": "2022-08-09T11:03:07.445Z"
   },
   {
    "duration": 10,
    "start_time": "2022-08-09T11:06:56.508Z"
   },
   {
    "duration": 1540,
    "start_time": "2022-08-09T11:07:03.255Z"
   },
   {
    "duration": 15,
    "start_time": "2022-08-09T11:07:04.798Z"
   },
   {
    "duration": 13,
    "start_time": "2022-08-09T11:07:04.815Z"
   },
   {
    "duration": 13,
    "start_time": "2022-08-09T11:07:04.830Z"
   },
   {
    "duration": 7,
    "start_time": "2022-08-09T11:07:04.845Z"
   },
   {
    "duration": 39,
    "start_time": "2022-08-09T11:07:04.854Z"
   },
   {
    "duration": 35,
    "start_time": "2022-08-09T11:07:04.895Z"
   },
   {
    "duration": 33,
    "start_time": "2022-08-09T11:07:04.931Z"
   },
   {
    "duration": 368,
    "start_time": "2022-08-09T11:07:04.966Z"
   },
   {
    "duration": 6,
    "start_time": "2022-08-09T11:07:53.798Z"
   },
   {
    "duration": 1625,
    "start_time": "2022-08-09T11:08:00.954Z"
   },
   {
    "duration": 14,
    "start_time": "2022-08-09T11:08:02.581Z"
   },
   {
    "duration": 13,
    "start_time": "2022-08-09T11:08:02.597Z"
   },
   {
    "duration": 9,
    "start_time": "2022-08-09T11:08:02.612Z"
   },
   {
    "duration": 5,
    "start_time": "2022-08-09T11:08:02.623Z"
   },
   {
    "duration": 7,
    "start_time": "2022-08-09T11:08:02.630Z"
   },
   {
    "duration": 67,
    "start_time": "2022-08-09T11:08:02.639Z"
   },
   {
    "duration": 33,
    "start_time": "2022-08-09T11:08:02.707Z"
   },
   {
    "duration": 367,
    "start_time": "2022-08-09T11:08:02.741Z"
   },
   {
    "duration": 8,
    "start_time": "2022-08-09T11:08:19.800Z"
   },
   {
    "duration": 34,
    "start_time": "2022-08-09T11:08:23.892Z"
   },
   {
    "duration": 34,
    "start_time": "2022-08-09T11:08:26.221Z"
   },
   {
    "duration": 334,
    "start_time": "2022-08-09T11:08:29.308Z"
   },
   {
    "duration": 31,
    "start_time": "2022-08-09T11:11:59.371Z"
   },
   {
    "duration": 148,
    "start_time": "2022-08-09T11:12:31.965Z"
   },
   {
    "duration": 6,
    "start_time": "2022-08-09T11:12:42.530Z"
   },
   {
    "duration": 3,
    "start_time": "2022-08-09T11:12:47.487Z"
   },
   {
    "duration": 5,
    "start_time": "2022-08-09T11:13:47.897Z"
   },
   {
    "duration": 156,
    "start_time": "2022-08-09T11:14:21.633Z"
   },
   {
    "duration": 377,
    "start_time": "2022-08-09T11:15:10.678Z"
   },
   {
    "duration": 317,
    "start_time": "2022-08-09T11:16:23.290Z"
   },
   {
    "duration": 301,
    "start_time": "2022-08-09T11:19:17.411Z"
   },
   {
    "duration": 318,
    "start_time": "2022-08-09T11:22:36.008Z"
   },
   {
    "duration": 10,
    "start_time": "2022-08-09T11:24:28.212Z"
   },
   {
    "duration": 11,
    "start_time": "2022-08-09T11:25:22.259Z"
   },
   {
    "duration": 1416,
    "start_time": "2022-08-09T11:26:08.849Z"
   },
   {
    "duration": 15,
    "start_time": "2022-08-09T11:26:10.268Z"
   },
   {
    "duration": 16,
    "start_time": "2022-08-09T11:26:10.285Z"
   },
   {
    "duration": 7,
    "start_time": "2022-08-09T11:26:10.303Z"
   },
   {
    "duration": 7,
    "start_time": "2022-08-09T11:26:10.312Z"
   },
   {
    "duration": 9,
    "start_time": "2022-08-09T11:26:10.321Z"
   },
   {
    "duration": 62,
    "start_time": "2022-08-09T11:26:10.331Z"
   },
   {
    "duration": 36,
    "start_time": "2022-08-09T11:26:10.394Z"
   },
   {
    "duration": 125,
    "start_time": "2022-08-09T11:26:10.448Z"
   },
   {
    "duration": 6,
    "start_time": "2022-08-09T11:26:22.822Z"
   },
   {
    "duration": 332,
    "start_time": "2022-08-09T11:26:24.900Z"
   },
   {
    "duration": 4,
    "start_time": "2022-08-09T11:29:07.752Z"
   },
   {
    "duration": 4,
    "start_time": "2022-08-09T11:31:16.041Z"
   },
   {
    "duration": 148,
    "start_time": "2022-08-09T11:36:42.114Z"
   },
   {
    "duration": 293,
    "start_time": "2022-08-09T11:39:22.397Z"
   },
   {
    "duration": 92,
    "start_time": "2022-08-09T11:39:36.378Z"
   },
   {
    "duration": 34,
    "start_time": "2022-08-09T11:40:02.652Z"
   },
   {
    "duration": 294,
    "start_time": "2022-08-09T11:41:38.345Z"
   },
   {
    "duration": 22,
    "start_time": "2022-08-09T11:42:56.764Z"
   },
   {
    "duration": 20,
    "start_time": "2022-08-09T11:43:18.250Z"
   },
   {
    "duration": 312,
    "start_time": "2022-08-09T11:43:23.778Z"
   },
   {
    "duration": 306,
    "start_time": "2022-08-09T11:44:00.856Z"
   },
   {
    "duration": 300,
    "start_time": "2022-08-09T11:44:06.839Z"
   },
   {
    "duration": 312,
    "start_time": "2022-08-09T11:44:07.840Z"
   },
   {
    "duration": 87,
    "start_time": "2022-08-09T11:48:18.235Z"
   },
   {
    "duration": 11,
    "start_time": "2022-08-09T11:48:24.736Z"
   },
   {
    "duration": 1467,
    "start_time": "2022-08-09T11:48:51.311Z"
   },
   {
    "duration": 14,
    "start_time": "2022-08-09T11:48:52.780Z"
   },
   {
    "duration": 15,
    "start_time": "2022-08-09T11:48:52.796Z"
   },
   {
    "duration": 15,
    "start_time": "2022-08-09T11:48:52.813Z"
   },
   {
    "duration": 16,
    "start_time": "2022-08-09T11:48:52.830Z"
   },
   {
    "duration": 18,
    "start_time": "2022-08-09T11:48:52.848Z"
   },
   {
    "duration": 48,
    "start_time": "2022-08-09T11:48:52.867Z"
   },
   {
    "duration": 34,
    "start_time": "2022-08-09T11:48:52.917Z"
   },
   {
    "duration": 7,
    "start_time": "2022-08-09T11:48:52.954Z"
   },
   {
    "duration": 355,
    "start_time": "2022-08-09T11:48:52.963Z"
   },
   {
    "duration": 5,
    "start_time": "2022-08-09T11:48:53.320Z"
   },
   {
    "duration": 318,
    "start_time": "2022-08-09T11:48:53.327Z"
   },
   {
    "duration": 317,
    "start_time": "2022-08-09T11:48:53.647Z"
   },
   {
    "duration": 126,
    "start_time": "2022-08-09T11:48:53.967Z"
   },
   {
    "duration": 12,
    "start_time": "2022-08-09T11:49:23.747Z"
   },
   {
    "duration": 32,
    "start_time": "2022-08-09T11:50:57.762Z"
   },
   {
    "duration": 1544,
    "start_time": "2022-08-09T11:51:02.975Z"
   },
   {
    "duration": 14,
    "start_time": "2022-08-09T11:51:04.522Z"
   },
   {
    "duration": 13,
    "start_time": "2022-08-09T11:51:04.538Z"
   },
   {
    "duration": 7,
    "start_time": "2022-08-09T11:51:04.552Z"
   },
   {
    "duration": 4,
    "start_time": "2022-08-09T11:51:04.561Z"
   },
   {
    "duration": 24,
    "start_time": "2022-08-09T11:51:04.567Z"
   },
   {
    "duration": 33,
    "start_time": "2022-08-09T11:51:04.594Z"
   },
   {
    "duration": 33,
    "start_time": "2022-08-09T11:51:04.629Z"
   },
   {
    "duration": 29,
    "start_time": "2022-08-09T11:51:04.664Z"
   },
   {
    "duration": 347,
    "start_time": "2022-08-09T11:51:04.695Z"
   },
   {
    "duration": 5,
    "start_time": "2022-08-09T11:51:05.043Z"
   },
   {
    "duration": 329,
    "start_time": "2022-08-09T11:51:05.050Z"
   },
   {
    "duration": 308,
    "start_time": "2022-08-09T11:51:05.381Z"
   },
   {
    "duration": 123,
    "start_time": "2022-08-09T11:51:05.693Z"
   },
   {
    "duration": 11,
    "start_time": "2022-08-09T11:51:19.061Z"
   },
   {
    "duration": 1597,
    "start_time": "2022-08-09T11:52:03.906Z"
   },
   {
    "duration": 14,
    "start_time": "2022-08-09T11:52:05.505Z"
   },
   {
    "duration": 14,
    "start_time": "2022-08-09T11:52:05.521Z"
   },
   {
    "duration": 7,
    "start_time": "2022-08-09T11:52:05.536Z"
   },
   {
    "duration": 7,
    "start_time": "2022-08-09T11:52:05.545Z"
   },
   {
    "duration": 10,
    "start_time": "2022-08-09T11:52:05.554Z"
   },
   {
    "duration": 57,
    "start_time": "2022-08-09T11:52:05.566Z"
   },
   {
    "duration": 34,
    "start_time": "2022-08-09T11:52:05.624Z"
   },
   {
    "duration": 32,
    "start_time": "2022-08-09T11:52:05.660Z"
   },
   {
    "duration": 362,
    "start_time": "2022-08-09T11:52:05.694Z"
   },
   {
    "duration": 5,
    "start_time": "2022-08-09T11:52:06.058Z"
   },
   {
    "duration": 331,
    "start_time": "2022-08-09T11:52:06.066Z"
   },
   {
    "duration": 313,
    "start_time": "2022-08-09T11:52:06.399Z"
   },
   {
    "duration": 121,
    "start_time": "2022-08-09T11:52:14.257Z"
   },
   {
    "duration": 1463,
    "start_time": "2022-08-09T11:52:46.829Z"
   },
   {
    "duration": 14,
    "start_time": "2022-08-09T11:52:48.295Z"
   },
   {
    "duration": 14,
    "start_time": "2022-08-09T11:52:48.311Z"
   },
   {
    "duration": 8,
    "start_time": "2022-08-09T11:52:48.327Z"
   },
   {
    "duration": 6,
    "start_time": "2022-08-09T11:52:48.337Z"
   },
   {
    "duration": 9,
    "start_time": "2022-08-09T11:52:48.344Z"
   },
   {
    "duration": 65,
    "start_time": "2022-08-09T11:52:48.355Z"
   },
   {
    "duration": 34,
    "start_time": "2022-08-09T11:52:48.422Z"
   },
   {
    "duration": 7,
    "start_time": "2022-08-09T11:52:48.458Z"
   },
   {
    "duration": 331,
    "start_time": "2022-08-09T11:52:49.174Z"
   },
   {
    "duration": 299,
    "start_time": "2022-08-09T11:53:14.443Z"
   },
   {
    "duration": 305,
    "start_time": "2022-08-09T11:53:15.887Z"
   },
   {
    "duration": 122,
    "start_time": "2022-08-09T11:53:18.745Z"
   },
   {
    "duration": 305,
    "start_time": "2022-08-09T11:53:38.991Z"
   },
   {
    "duration": 304,
    "start_time": "2022-08-09T11:53:40.789Z"
   },
   {
    "duration": 6,
    "start_time": "2022-08-09T11:53:50.223Z"
   },
   {
    "duration": 15,
    "start_time": "2022-08-09T11:54:08.072Z"
   },
   {
    "duration": 1581,
    "start_time": "2022-08-09T11:54:40.680Z"
   },
   {
    "duration": 15,
    "start_time": "2022-08-09T11:54:42.263Z"
   },
   {
    "duration": 13,
    "start_time": "2022-08-09T11:54:42.279Z"
   },
   {
    "duration": 12,
    "start_time": "2022-08-09T11:54:42.294Z"
   },
   {
    "duration": 6,
    "start_time": "2022-08-09T11:54:42.309Z"
   },
   {
    "duration": 10,
    "start_time": "2022-08-09T11:54:42.317Z"
   },
   {
    "duration": 38,
    "start_time": "2022-08-09T11:54:42.329Z"
   },
   {
    "duration": 59,
    "start_time": "2022-08-09T11:54:42.369Z"
   },
   {
    "duration": 136,
    "start_time": "2022-08-09T11:54:42.430Z"
   },
   {
    "duration": 0,
    "start_time": "2022-08-09T11:54:42.568Z"
   },
   {
    "duration": 6,
    "start_time": "2022-08-09T11:54:52.579Z"
   },
   {
    "duration": 324,
    "start_time": "2022-08-09T11:54:53.368Z"
   },
   {
    "duration": 1474,
    "start_time": "2022-08-09T11:57:45.514Z"
   },
   {
    "duration": 16,
    "start_time": "2022-08-09T11:57:46.991Z"
   },
   {
    "duration": 13,
    "start_time": "2022-08-09T11:57:47.008Z"
   },
   {
    "duration": 8,
    "start_time": "2022-08-09T11:57:47.023Z"
   },
   {
    "duration": 5,
    "start_time": "2022-08-09T11:57:47.034Z"
   },
   {
    "duration": 18,
    "start_time": "2022-08-09T11:57:47.040Z"
   },
   {
    "duration": 68,
    "start_time": "2022-08-09T11:57:47.060Z"
   },
   {
    "duration": 40,
    "start_time": "2022-08-09T11:57:47.130Z"
   },
   {
    "duration": 147,
    "start_time": "2022-08-09T11:57:47.172Z"
   },
   {
    "duration": 35,
    "start_time": "2022-08-09T11:59:27.510Z"
   },
   {
    "duration": 38,
    "start_time": "2022-08-09T12:00:01.196Z"
   },
   {
    "duration": 9,
    "start_time": "2022-08-09T12:00:57.092Z"
   },
   {
    "duration": 16,
    "start_time": "2022-08-09T12:01:00.205Z"
   },
   {
    "duration": 1445,
    "start_time": "2022-08-09T12:01:08.246Z"
   },
   {
    "duration": 15,
    "start_time": "2022-08-09T12:01:09.693Z"
   },
   {
    "duration": 18,
    "start_time": "2022-08-09T12:01:09.710Z"
   },
   {
    "duration": 18,
    "start_time": "2022-08-09T12:01:09.730Z"
   },
   {
    "duration": 13,
    "start_time": "2022-08-09T12:01:09.750Z"
   },
   {
    "duration": 25,
    "start_time": "2022-08-09T12:01:09.765Z"
   },
   {
    "duration": 48,
    "start_time": "2022-08-09T12:01:09.791Z"
   },
   {
    "duration": 36,
    "start_time": "2022-08-09T12:01:09.840Z"
   },
   {
    "duration": 20,
    "start_time": "2022-08-09T12:01:09.878Z"
   },
   {
    "duration": 112,
    "start_time": "2022-08-09T12:01:12.118Z"
   },
   {
    "duration": 342,
    "start_time": "2022-08-09T12:01:49.456Z"
   },
   {
    "duration": 4,
    "start_time": "2022-08-09T12:01:54.346Z"
   },
   {
    "duration": 303,
    "start_time": "2022-08-09T12:02:37.299Z"
   },
   {
    "duration": 291,
    "start_time": "2022-08-09T12:03:08.864Z"
   },
   {
    "duration": 1509,
    "start_time": "2022-08-09T12:03:48.909Z"
   },
   {
    "duration": 15,
    "start_time": "2022-08-09T12:03:50.420Z"
   },
   {
    "duration": 15,
    "start_time": "2022-08-09T12:03:50.437Z"
   },
   {
    "duration": 7,
    "start_time": "2022-08-09T12:03:50.454Z"
   },
   {
    "duration": 6,
    "start_time": "2022-08-09T12:03:50.463Z"
   },
   {
    "duration": 11,
    "start_time": "2022-08-09T12:03:50.471Z"
   },
   {
    "duration": 35,
    "start_time": "2022-08-09T12:03:50.492Z"
   },
   {
    "duration": 34,
    "start_time": "2022-08-09T12:03:50.529Z"
   },
   {
    "duration": 30,
    "start_time": "2022-08-09T12:03:50.565Z"
   },
   {
    "duration": 360,
    "start_time": "2022-08-09T12:03:50.597Z"
   },
   {
    "duration": 4,
    "start_time": "2022-08-09T12:03:50.958Z"
   },
   {
    "duration": 309,
    "start_time": "2022-08-09T12:03:50.964Z"
   },
   {
    "duration": 309,
    "start_time": "2022-08-09T12:03:51.275Z"
   },
   {
    "duration": 123,
    "start_time": "2022-08-09T12:03:51.590Z"
   },
   {
    "duration": 1458,
    "start_time": "2022-08-09T12:04:17.903Z"
   },
   {
    "duration": 16,
    "start_time": "2022-08-09T12:04:19.364Z"
   },
   {
    "duration": 12,
    "start_time": "2022-08-09T12:04:19.382Z"
   },
   {
    "duration": 9,
    "start_time": "2022-08-09T12:04:19.395Z"
   },
   {
    "duration": 5,
    "start_time": "2022-08-09T12:04:19.407Z"
   },
   {
    "duration": 10,
    "start_time": "2022-08-09T12:04:19.414Z"
   },
   {
    "duration": 67,
    "start_time": "2022-08-09T12:04:19.426Z"
   },
   {
    "duration": 33,
    "start_time": "2022-08-09T12:04:19.494Z"
   },
   {
    "duration": 8,
    "start_time": "2022-08-09T12:04:19.529Z"
   },
   {
    "duration": 362,
    "start_time": "2022-08-09T12:04:19.539Z"
   },
   {
    "duration": 4,
    "start_time": "2022-08-09T12:04:19.903Z"
   },
   {
    "duration": 373,
    "start_time": "2022-08-09T12:04:19.909Z"
   },
   {
    "duration": 310,
    "start_time": "2022-08-09T12:04:20.284Z"
   },
   {
    "duration": 14,
    "start_time": "2022-08-09T12:04:20.597Z"
   },
   {
    "duration": 326,
    "start_time": "2022-08-09T12:04:37.759Z"
   },
   {
    "duration": 5,
    "start_time": "2022-08-09T12:05:07.295Z"
   },
   {
    "duration": 23509,
    "start_time": "2022-08-09T12:16:28.516Z"
   },
   {
    "duration": 23407,
    "start_time": "2022-08-09T12:17:22.773Z"
   },
   {
    "duration": 24408,
    "start_time": "2022-08-09T12:18:40.227Z"
   },
   {
    "duration": 128,
    "start_time": "2022-08-09T12:20:46.888Z"
   },
   {
    "duration": 1500,
    "start_time": "2022-08-09T12:22:29.424Z"
   },
   {
    "duration": 15,
    "start_time": "2022-08-09T12:22:30.927Z"
   },
   {
    "duration": 24,
    "start_time": "2022-08-09T12:22:30.944Z"
   },
   {
    "duration": 23,
    "start_time": "2022-08-09T12:22:30.970Z"
   },
   {
    "duration": 31,
    "start_time": "2022-08-09T12:22:30.994Z"
   },
   {
    "duration": 31,
    "start_time": "2022-08-09T12:22:31.027Z"
   },
   {
    "duration": 36,
    "start_time": "2022-08-09T12:22:32.115Z"
   },
   {
    "duration": 12,
    "start_time": "2022-08-09T12:22:34.380Z"
   },
   {
    "duration": 11,
    "start_time": "2022-08-09T12:23:19.220Z"
   },
   {
    "duration": 1568,
    "start_time": "2022-08-09T12:24:40.004Z"
   },
   {
    "duration": 17,
    "start_time": "2022-08-09T12:24:41.575Z"
   },
   {
    "duration": 23,
    "start_time": "2022-08-09T12:24:41.594Z"
   },
   {
    "duration": 9,
    "start_time": "2022-08-09T12:24:41.619Z"
   },
   {
    "duration": 5,
    "start_time": "2022-08-09T12:24:41.632Z"
   },
   {
    "duration": 22,
    "start_time": "2022-08-09T12:24:41.640Z"
   },
   {
    "duration": 56,
    "start_time": "2022-08-09T12:24:41.664Z"
   },
   {
    "duration": 10,
    "start_time": "2022-08-09T12:24:41.722Z"
   },
   {
    "duration": 163,
    "start_time": "2022-08-09T12:24:41.734Z"
   },
   {
    "duration": 0,
    "start_time": "2022-08-09T12:24:41.899Z"
   },
   {
    "duration": 0,
    "start_time": "2022-08-09T12:24:41.900Z"
   },
   {
    "duration": 7876,
    "start_time": "2022-08-09T12:24:42.220Z"
   },
   {
    "duration": 8758,
    "start_time": "2022-08-09T12:25:41.616Z"
   },
   {
    "duration": 7785,
    "start_time": "2022-08-09T12:26:28.281Z"
   },
   {
    "duration": 24,
    "start_time": "2022-08-09T12:26:50.688Z"
   },
   {
    "duration": 8664,
    "start_time": "2022-08-09T12:27:02.086Z"
   },
   {
    "duration": 55,
    "start_time": "2022-08-09T12:27:25.718Z"
   },
   {
    "duration": 1510,
    "start_time": "2022-08-09T12:28:15.304Z"
   },
   {
    "duration": 16,
    "start_time": "2022-08-09T12:28:16.816Z"
   },
   {
    "duration": 41,
    "start_time": "2022-08-09T12:28:16.834Z"
   },
   {
    "duration": 42,
    "start_time": "2022-08-09T12:28:16.877Z"
   },
   {
    "duration": 12,
    "start_time": "2022-08-09T12:28:16.922Z"
   },
   {
    "duration": 16,
    "start_time": "2022-08-09T12:28:16.935Z"
   },
   {
    "duration": 48,
    "start_time": "2022-08-09T12:28:16.952Z"
   },
   {
    "duration": 11,
    "start_time": "2022-08-09T12:28:17.003Z"
   },
   {
    "duration": 135,
    "start_time": "2022-08-09T12:28:17.016Z"
   },
   {
    "duration": 0,
    "start_time": "2022-08-09T12:28:17.157Z"
   },
   {
    "duration": 0,
    "start_time": "2022-08-09T12:28:17.159Z"
   },
   {
    "duration": 8410,
    "start_time": "2022-08-09T12:28:17.716Z"
   },
   {
    "duration": 201,
    "start_time": "2022-08-09T12:28:40.169Z"
   },
   {
    "duration": 14,
    "start_time": "2022-08-09T12:29:20.292Z"
   },
   {
    "duration": 32,
    "start_time": "2022-08-09T12:30:14.099Z"
   },
   {
    "duration": 362,
    "start_time": "2022-08-09T12:30:25.722Z"
   },
   {
    "duration": 4,
    "start_time": "2022-08-09T12:30:34.622Z"
   },
   {
    "duration": 1453,
    "start_time": "2022-08-09T12:31:26.418Z"
   },
   {
    "duration": 15,
    "start_time": "2022-08-09T12:31:27.873Z"
   },
   {
    "duration": 16,
    "start_time": "2022-08-09T12:31:27.890Z"
   },
   {
    "duration": 11,
    "start_time": "2022-08-09T12:31:27.908Z"
   },
   {
    "duration": 5,
    "start_time": "2022-08-09T12:31:27.920Z"
   },
   {
    "duration": 13,
    "start_time": "2022-08-09T12:31:27.927Z"
   },
   {
    "duration": 53,
    "start_time": "2022-08-09T12:31:27.942Z"
   },
   {
    "duration": 11,
    "start_time": "2022-08-09T12:31:27.997Z"
   },
   {
    "duration": 9,
    "start_time": "2022-08-09T12:31:28.010Z"
   },
   {
    "duration": 352,
    "start_time": "2022-08-09T12:31:29.469Z"
   },
   {
    "duration": 4,
    "start_time": "2022-08-09T12:31:32.972Z"
   },
   {
    "duration": 8159,
    "start_time": "2022-08-09T12:31:36.696Z"
   },
   {
    "duration": 196,
    "start_time": "2022-08-09T12:31:44.857Z"
   },
   {
    "duration": 179,
    "start_time": "2022-08-09T12:31:54.642Z"
   },
   {
    "duration": 28,
    "start_time": "2022-08-09T12:31:58.891Z"
   },
   {
    "duration": 360,
    "start_time": "2022-08-09T12:32:00.918Z"
   },
   {
    "duration": 5,
    "start_time": "2022-08-09T12:32:05.111Z"
   },
   {
    "duration": 4787,
    "start_time": "2022-08-09T12:32:45.262Z"
   },
   {
    "duration": 226,
    "start_time": "2022-08-09T12:33:00.738Z"
   },
   {
    "duration": 17769,
    "start_time": "2022-08-09T12:33:08.043Z"
   },
   {
    "duration": 62,
    "start_time": "2022-08-09T12:33:40.102Z"
   },
   {
    "duration": 34408,
    "start_time": "2022-08-09T12:33:49.470Z"
   },
   {
    "duration": 6878,
    "start_time": "2022-08-09T12:34:36.310Z"
   },
   {
    "duration": 14220,
    "start_time": "2022-08-09T12:34:52.358Z"
   },
   {
    "duration": 219,
    "start_time": "2022-08-09T12:35:11.972Z"
   },
   {
    "duration": 37579,
    "start_time": "2022-08-09T12:35:25.901Z"
   },
   {
    "duration": 302,
    "start_time": "2022-08-09T12:36:07.096Z"
   },
   {
    "duration": 21554,
    "start_time": "2022-08-09T12:36:27.621Z"
   },
   {
    "duration": 22,
    "start_time": "2022-08-09T12:36:54.541Z"
   },
   {
    "duration": 8637,
    "start_time": "2022-08-09T12:37:06.920Z"
   },
   {
    "duration": 53,
    "start_time": "2022-08-09T12:37:20.536Z"
   },
   {
    "duration": 4695,
    "start_time": "2022-08-09T12:37:26.232Z"
   },
   {
    "duration": 17635,
    "start_time": "2022-08-09T12:37:36.243Z"
   },
   {
    "duration": 7094,
    "start_time": "2022-08-09T12:38:02.203Z"
   },
   {
    "duration": 179,
    "start_time": "2022-08-09T12:38:13.650Z"
   },
   {
    "duration": 31,
    "start_time": "2022-08-09T12:38:22.289Z"
   },
   {
    "duration": 332,
    "start_time": "2022-08-09T12:38:23.102Z"
   },
   {
    "duration": 4,
    "start_time": "2022-08-09T12:38:37.562Z"
   },
   {
    "duration": 21234,
    "start_time": "2022-08-09T12:46:21.570Z"
   },
   {
    "duration": 1951,
    "start_time": "2022-08-09T12:46:45.811Z"
   },
   {
    "duration": 245,
    "start_time": "2022-08-09T12:46:51.854Z"
   },
   {
    "duration": 514,
    "start_time": "2022-08-09T12:47:44.388Z"
   },
   {
    "duration": 34,
    "start_time": "2022-08-09T12:48:10.262Z"
   },
   {
    "duration": 1536,
    "start_time": "2022-08-09T12:48:20.814Z"
   },
   {
    "duration": 14,
    "start_time": "2022-08-09T12:48:22.352Z"
   },
   {
    "duration": 12,
    "start_time": "2022-08-09T12:48:22.368Z"
   },
   {
    "duration": 14,
    "start_time": "2022-08-09T12:48:22.382Z"
   },
   {
    "duration": 5,
    "start_time": "2022-08-09T12:48:22.399Z"
   },
   {
    "duration": 17,
    "start_time": "2022-08-09T12:48:22.405Z"
   },
   {
    "duration": 40,
    "start_time": "2022-08-09T12:48:22.424Z"
   },
   {
    "duration": 11,
    "start_time": "2022-08-09T12:48:22.465Z"
   },
   {
    "duration": 10,
    "start_time": "2022-08-09T12:48:22.492Z"
   },
   {
    "duration": 333,
    "start_time": "2022-08-09T12:48:22.504Z"
   },
   {
    "duration": 5,
    "start_time": "2022-08-09T12:48:22.838Z"
   },
   {
    "duration": 7082,
    "start_time": "2022-08-09T12:48:22.844Z"
   },
   {
    "duration": 205,
    "start_time": "2022-08-09T12:48:29.928Z"
   },
   {
    "duration": 29,
    "start_time": "2022-08-09T12:48:30.136Z"
   },
   {
    "duration": 365,
    "start_time": "2022-08-09T12:48:30.167Z"
   },
   {
    "duration": 5,
    "start_time": "2022-08-09T12:48:30.534Z"
   },
   {
    "duration": 784,
    "start_time": "2022-08-09T12:48:30.540Z"
   },
   {
    "duration": 557,
    "start_time": "2022-08-09T12:48:46.242Z"
   },
   {
    "duration": 710,
    "start_time": "2022-08-09T12:49:08.083Z"
   },
   {
    "duration": 441,
    "start_time": "2022-08-09T12:49:12.761Z"
   },
   {
    "duration": 58,
    "start_time": "2022-08-09T12:49:15.541Z"
   },
   {
    "duration": 558,
    "start_time": "2022-08-09T12:49:21.043Z"
   },
   {
    "duration": 592,
    "start_time": "2022-08-09T12:49:27.109Z"
   },
   {
    "duration": 537,
    "start_time": "2022-08-09T12:49:32.864Z"
   },
   {
    "duration": 34,
    "start_time": "2022-08-09T12:50:08.938Z"
   },
   {
    "duration": 34,
    "start_time": "2022-08-09T12:51:46.690Z"
   },
   {
    "duration": 193,
    "start_time": "2022-08-09T12:52:05.489Z"
   },
   {
    "duration": 34,
    "start_time": "2022-08-09T12:52:14.497Z"
   },
   {
    "duration": 35,
    "start_time": "2022-08-09T12:52:42.539Z"
   },
   {
    "duration": 117,
    "start_time": "2022-08-09T12:53:11.594Z"
   },
   {
    "duration": 325,
    "start_time": "2022-08-09T12:53:43.647Z"
   },
   {
    "duration": 38,
    "start_time": "2022-08-09T12:53:50.780Z"
   },
   {
    "duration": 38,
    "start_time": "2022-08-09T12:54:05.757Z"
   },
   {
    "duration": 21,
    "start_time": "2022-08-09T12:54:37.853Z"
   },
   {
    "duration": 20,
    "start_time": "2022-08-09T12:54:42.589Z"
   },
   {
    "duration": 20,
    "start_time": "2022-08-09T12:54:45.906Z"
   },
   {
    "duration": 25,
    "start_time": "2022-08-09T12:55:31.850Z"
   },
   {
    "duration": 16,
    "start_time": "2022-08-09T12:55:49.776Z"
   },
   {
    "duration": 22,
    "start_time": "2022-08-09T12:56:43.449Z"
   },
   {
    "duration": 21,
    "start_time": "2022-08-09T12:56:58.972Z"
   },
   {
    "duration": 16,
    "start_time": "2022-08-09T12:57:12.027Z"
   },
   {
    "duration": 5,
    "start_time": "2022-08-09T12:58:02.985Z"
   },
   {
    "duration": 20,
    "start_time": "2022-08-09T12:58:07.263Z"
   },
   {
    "duration": 20,
    "start_time": "2022-08-09T12:58:13.077Z"
   },
   {
    "duration": 19,
    "start_time": "2022-08-09T12:58:17.188Z"
   },
   {
    "duration": 18,
    "start_time": "2022-08-09T12:58:24.027Z"
   },
   {
    "duration": 19,
    "start_time": "2022-08-09T12:58:30.448Z"
   },
   {
    "duration": 33,
    "start_time": "2022-08-09T12:59:05.048Z"
   },
   {
    "duration": 13,
    "start_time": "2022-08-09T12:59:57.944Z"
   },
   {
    "duration": 30,
    "start_time": "2022-08-09T13:00:07.247Z"
   },
   {
    "duration": 13,
    "start_time": "2022-08-09T13:00:18.279Z"
   },
   {
    "duration": 34,
    "start_time": "2022-08-09T13:00:36.465Z"
   },
   {
    "duration": 14,
    "start_time": "2022-08-09T13:00:40.544Z"
   },
   {
    "duration": 40,
    "start_time": "2022-08-09T13:00:47.491Z"
   },
   {
    "duration": 12,
    "start_time": "2022-08-09T13:01:00.867Z"
   },
   {
    "duration": 63,
    "start_time": "2022-08-09T13:01:17.909Z"
   },
   {
    "duration": 28,
    "start_time": "2022-08-09T13:01:28.453Z"
   },
   {
    "duration": 316,
    "start_time": "2022-08-09T13:02:55.020Z"
   },
   {
    "duration": 10,
    "start_time": "2022-08-09T13:03:12.939Z"
   },
   {
    "duration": 314,
    "start_time": "2022-08-09T13:03:13.516Z"
   },
   {
    "duration": 4,
    "start_time": "2022-08-09T13:03:28.263Z"
   },
   {
    "duration": 97,
    "start_time": "2022-08-09T13:09:50.086Z"
   },
   {
    "duration": 11,
    "start_time": "2022-08-09T13:16:16.613Z"
   },
   {
    "duration": 11,
    "start_time": "2022-08-09T13:16:28.365Z"
   },
   {
    "duration": 11,
    "start_time": "2022-08-09T13:19:31.045Z"
   },
   {
    "duration": 36,
    "start_time": "2022-08-09T13:19:51.116Z"
   },
   {
    "duration": 1477,
    "start_time": "2022-08-09T13:19:59.310Z"
   },
   {
    "duration": 15,
    "start_time": "2022-08-09T13:20:00.789Z"
   },
   {
    "duration": 28,
    "start_time": "2022-08-09T13:20:00.806Z"
   },
   {
    "duration": 10,
    "start_time": "2022-08-09T13:20:00.836Z"
   },
   {
    "duration": 9,
    "start_time": "2022-08-09T13:20:00.849Z"
   },
   {
    "duration": 28,
    "start_time": "2022-08-09T13:20:00.860Z"
   },
   {
    "duration": 57,
    "start_time": "2022-08-09T13:20:00.890Z"
   },
   {
    "duration": 21,
    "start_time": "2022-08-09T13:20:00.950Z"
   },
   {
    "duration": 42,
    "start_time": "2022-08-09T13:20:00.973Z"
   },
   {
    "duration": 361,
    "start_time": "2022-08-09T13:20:01.017Z"
   },
   {
    "duration": 12,
    "start_time": "2022-08-09T13:20:01.379Z"
   },
   {
    "duration": 7179,
    "start_time": "2022-08-09T13:20:01.393Z"
   },
   {
    "duration": 189,
    "start_time": "2022-08-09T13:20:08.574Z"
   },
   {
    "duration": 39,
    "start_time": "2022-08-09T13:20:08.766Z"
   },
   {
    "duration": 345,
    "start_time": "2022-08-09T13:20:08.807Z"
   },
   {
    "duration": 4,
    "start_time": "2022-08-09T13:20:09.154Z"
   },
   {
    "duration": 40,
    "start_time": "2022-08-09T13:20:09.160Z"
   },
   {
    "duration": 9,
    "start_time": "2022-08-09T13:20:09.202Z"
   },
   {
    "duration": 433,
    "start_time": "2022-08-09T13:20:09.213Z"
   },
   {
    "duration": 4,
    "start_time": "2022-08-09T13:20:09.648Z"
   },
   {
    "duration": 16,
    "start_time": "2022-08-09T13:20:09.653Z"
   },
   {
    "duration": 21,
    "start_time": "2022-08-09T13:20:09.671Z"
   },
   {
    "duration": 6,
    "start_time": "2022-08-09T13:20:32.196Z"
   },
   {
    "duration": 10,
    "start_time": "2022-08-09T13:22:45.932Z"
   },
   {
    "duration": 11,
    "start_time": "2022-08-09T13:25:03.403Z"
   },
   {
    "duration": 11,
    "start_time": "2022-08-09T13:25:18.550Z"
   },
   {
    "duration": 1540,
    "start_time": "2022-08-09T13:27:14.056Z"
   },
   {
    "duration": 14,
    "start_time": "2022-08-09T13:27:15.598Z"
   },
   {
    "duration": 12,
    "start_time": "2022-08-09T13:27:15.614Z"
   },
   {
    "duration": 8,
    "start_time": "2022-08-09T13:27:15.628Z"
   },
   {
    "duration": 4,
    "start_time": "2022-08-09T13:27:15.638Z"
   },
   {
    "duration": 13,
    "start_time": "2022-08-09T13:27:15.643Z"
   },
   {
    "duration": 65,
    "start_time": "2022-08-09T13:27:15.658Z"
   },
   {
    "duration": 10,
    "start_time": "2022-08-09T13:27:15.725Z"
   },
   {
    "duration": 9,
    "start_time": "2022-08-09T13:27:15.737Z"
   },
   {
    "duration": 368,
    "start_time": "2022-08-09T13:27:15.748Z"
   },
   {
    "duration": 4,
    "start_time": "2022-08-09T13:27:16.118Z"
   },
   {
    "duration": 6974,
    "start_time": "2022-08-09T13:27:16.123Z"
   },
   {
    "duration": 189,
    "start_time": "2022-08-09T13:27:23.099Z"
   },
   {
    "duration": 32,
    "start_time": "2022-08-09T13:27:23.292Z"
   },
   {
    "duration": 368,
    "start_time": "2022-08-09T13:27:23.326Z"
   },
   {
    "duration": 5,
    "start_time": "2022-08-09T13:27:23.696Z"
   },
   {
    "duration": 23,
    "start_time": "2022-08-09T13:27:23.703Z"
   },
   {
    "duration": 10,
    "start_time": "2022-08-09T13:27:23.728Z"
   },
   {
    "duration": 442,
    "start_time": "2022-08-09T13:27:23.740Z"
   },
   {
    "duration": 10,
    "start_time": "2022-08-09T13:27:24.184Z"
   },
   {
    "duration": 21,
    "start_time": "2022-08-09T13:27:24.195Z"
   },
   {
    "duration": 16,
    "start_time": "2022-08-09T13:27:24.219Z"
   },
   {
    "duration": 15,
    "start_time": "2022-08-09T13:27:24.238Z"
   },
   {
    "duration": 1920,
    "start_time": "2022-08-09T14:02:59.077Z"
   },
   {
    "duration": 15,
    "start_time": "2022-08-09T14:03:00.999Z"
   },
   {
    "duration": 25,
    "start_time": "2022-08-09T14:03:01.015Z"
   },
   {
    "duration": 18,
    "start_time": "2022-08-09T14:03:01.043Z"
   },
   {
    "duration": 24,
    "start_time": "2022-08-09T14:03:01.063Z"
   },
   {
    "duration": 28,
    "start_time": "2022-08-09T14:03:01.089Z"
   },
   {
    "duration": 39,
    "start_time": "2022-08-09T14:03:01.119Z"
   },
   {
    "duration": 9,
    "start_time": "2022-08-09T14:03:01.159Z"
   },
   {
    "duration": 10,
    "start_time": "2022-08-09T14:03:01.169Z"
   },
   {
    "duration": 316,
    "start_time": "2022-08-09T14:03:01.181Z"
   },
   {
    "duration": 4,
    "start_time": "2022-08-09T14:03:01.500Z"
   },
   {
    "duration": 6419,
    "start_time": "2022-08-09T14:03:01.505Z"
   },
   {
    "duration": 174,
    "start_time": "2022-08-09T14:03:07.925Z"
   },
   {
    "duration": 26,
    "start_time": "2022-08-09T14:03:08.101Z"
   },
   {
    "duration": 306,
    "start_time": "2022-08-09T14:03:08.129Z"
   },
   {
    "duration": 4,
    "start_time": "2022-08-09T14:03:08.437Z"
   },
   {
    "duration": 25,
    "start_time": "2022-08-09T14:03:08.442Z"
   },
   {
    "duration": 18,
    "start_time": "2022-08-09T14:03:08.469Z"
   },
   {
    "duration": 360,
    "start_time": "2022-08-09T14:03:08.488Z"
   },
   {
    "duration": 4,
    "start_time": "2022-08-09T14:03:08.850Z"
   },
   {
    "duration": 19,
    "start_time": "2022-08-09T14:03:08.855Z"
   },
   {
    "duration": 56,
    "start_time": "2022-08-09T14:03:08.875Z"
   },
   {
    "duration": 27,
    "start_time": "2022-08-09T14:03:08.932Z"
   },
   {
    "duration": 52,
    "start_time": "2022-08-09T18:25:16.957Z"
   },
   {
    "duration": 1402,
    "start_time": "2022-08-09T18:25:24.549Z"
   },
   {
    "duration": 109,
    "start_time": "2022-08-09T18:25:25.953Z"
   },
   {
    "duration": 12,
    "start_time": "2022-08-09T18:25:26.064Z"
   },
   {
    "duration": 11,
    "start_time": "2022-08-09T18:25:26.077Z"
   },
   {
    "duration": 12,
    "start_time": "2022-08-09T18:25:26.090Z"
   },
   {
    "duration": 6,
    "start_time": "2022-08-09T18:25:30.155Z"
   },
   {
    "duration": 5,
    "start_time": "2022-08-09T18:25:41.676Z"
   },
   {
    "duration": 97,
    "start_time": "2022-08-09T18:28:37.530Z"
   },
   {
    "duration": 11,
    "start_time": "2022-08-09T18:28:55.724Z"
   },
   {
    "duration": 10,
    "start_time": "2022-08-09T18:29:41.054Z"
   },
   {
    "duration": 12,
    "start_time": "2022-08-09T18:29:53.333Z"
   },
   {
    "duration": 6,
    "start_time": "2022-08-09T18:30:36.013Z"
   },
   {
    "duration": 11,
    "start_time": "2022-08-09T18:30:44.397Z"
   },
   {
    "duration": 6,
    "start_time": "2022-08-09T18:30:51.234Z"
   },
   {
    "duration": 2090,
    "start_time": "2022-08-14T14:37:23.682Z"
   },
   {
    "duration": 71,
    "start_time": "2022-08-14T14:37:25.774Z"
   },
   {
    "duration": 20,
    "start_time": "2022-08-14T14:37:25.847Z"
   },
   {
    "duration": 15,
    "start_time": "2022-08-14T14:37:25.870Z"
   },
   {
    "duration": 10,
    "start_time": "2022-08-14T14:37:25.887Z"
   },
   {
    "duration": 255,
    "start_time": "2022-08-14T14:37:30.685Z"
   },
   {
    "duration": 114,
    "start_time": "2022-08-14T15:01:15.549Z"
   },
   {
    "duration": 81,
    "start_time": "2022-08-17T07:10:49.899Z"
   },
   {
    "duration": 1484,
    "start_time": "2022-08-17T07:12:57.899Z"
   },
   {
    "duration": 115,
    "start_time": "2022-08-17T07:12:59.385Z"
   },
   {
    "duration": 13,
    "start_time": "2022-08-17T07:12:59.501Z"
   },
   {
    "duration": 13,
    "start_time": "2022-08-17T07:12:59.515Z"
   },
   {
    "duration": 7,
    "start_time": "2022-08-17T07:12:59.530Z"
   },
   {
    "duration": 226,
    "start_time": "2022-08-17T07:12:59.539Z"
   },
   {
    "duration": 122,
    "start_time": "2022-08-17T07:13:00.296Z"
   },
   {
    "duration": 6,
    "start_time": "2022-08-17T07:13:19.445Z"
   },
   {
    "duration": 15,
    "start_time": "2022-08-17T07:43:21.687Z"
   },
   {
    "duration": 1433,
    "start_time": "2022-08-17T07:43:28.572Z"
   },
   {
    "duration": 0,
    "start_time": "2022-08-17T07:43:30.007Z"
   },
   {
    "duration": 0,
    "start_time": "2022-08-17T07:43:30.008Z"
   },
   {
    "duration": 0,
    "start_time": "2022-08-17T07:43:30.009Z"
   },
   {
    "duration": 0,
    "start_time": "2022-08-17T07:43:30.010Z"
   },
   {
    "duration": 0,
    "start_time": "2022-08-17T07:43:30.011Z"
   },
   {
    "duration": 0,
    "start_time": "2022-08-17T07:43:30.012Z"
   },
   {
    "duration": 10,
    "start_time": "2022-08-17T07:43:31.411Z"
   },
   {
    "duration": 1551,
    "start_time": "2022-08-17T07:43:40.955Z"
   },
   {
    "duration": 0,
    "start_time": "2022-08-17T07:43:42.508Z"
   },
   {
    "duration": 0,
    "start_time": "2022-08-17T07:43:42.509Z"
   },
   {
    "duration": 0,
    "start_time": "2022-08-17T07:43:42.511Z"
   },
   {
    "duration": 0,
    "start_time": "2022-08-17T07:43:42.511Z"
   },
   {
    "duration": 0,
    "start_time": "2022-08-17T07:43:42.512Z"
   },
   {
    "duration": 0,
    "start_time": "2022-08-17T07:43:42.513Z"
   },
   {
    "duration": 0,
    "start_time": "2022-08-17T07:43:42.514Z"
   },
   {
    "duration": 10,
    "start_time": "2022-08-17T07:45:51.324Z"
   },
   {
    "duration": 7192,
    "start_time": "2022-08-17T07:51:51.826Z"
   },
   {
    "duration": 38,
    "start_time": "2022-08-17T07:52:14.424Z"
   },
   {
    "duration": 20,
    "start_time": "2022-08-17T07:53:26.683Z"
   },
   {
    "duration": 18,
    "start_time": "2022-08-17T07:54:00.194Z"
   },
   {
    "duration": 10,
    "start_time": "2022-08-17T07:54:28.996Z"
   },
   {
    "duration": 29,
    "start_time": "2022-08-17T07:55:41.487Z"
   },
   {
    "duration": 30018,
    "start_time": "2022-08-17T07:57:07.014Z"
   },
   {
    "duration": 46,
    "start_time": "2022-08-17T07:57:48.602Z"
   },
   {
    "duration": 10,
    "start_time": "2022-08-17T07:58:08.990Z"
   },
   {
    "duration": 2405,
    "start_time": "2022-08-17T07:58:21.327Z"
   },
   {
    "duration": 14,
    "start_time": "2022-08-17T07:59:22.836Z"
   },
   {
    "duration": 3,
    "start_time": "2022-08-17T07:59:36.403Z"
   },
   {
    "duration": 11,
    "start_time": "2022-08-17T07:59:58.096Z"
   },
   {
    "duration": 2432,
    "start_time": "2022-08-17T08:00:09.968Z"
   },
   {
    "duration": 1218,
    "start_time": "2022-08-17T08:00:12.403Z"
   },
   {
    "duration": 32,
    "start_time": "2022-08-17T08:00:13.623Z"
   },
   {
    "duration": 13,
    "start_time": "2022-08-17T08:00:13.657Z"
   },
   {
    "duration": 19,
    "start_time": "2022-08-17T08:00:13.671Z"
   },
   {
    "duration": 7,
    "start_time": "2022-08-17T08:00:13.692Z"
   },
   {
    "duration": 213,
    "start_time": "2022-08-17T08:00:13.701Z"
   },
   {
    "duration": 8,
    "start_time": "2022-08-17T08:00:13.916Z"
   },
   {
    "duration": 20,
    "start_time": "2022-08-17T08:00:17.333Z"
   },
   {
    "duration": 124,
    "start_time": "2022-08-17T08:00:41.792Z"
   },
   {
    "duration": 12,
    "start_time": "2022-08-17T08:00:49.713Z"
   },
   {
    "duration": 19,
    "start_time": "2022-08-17T08:01:19.232Z"
   },
   {
    "duration": 2368,
    "start_time": "2022-08-17T08:08:23.500Z"
   },
   {
    "duration": 1160,
    "start_time": "2022-08-17T08:08:25.871Z"
   },
   {
    "duration": 30,
    "start_time": "2022-08-17T08:08:27.033Z"
   },
   {
    "duration": 15,
    "start_time": "2022-08-17T08:08:27.065Z"
   },
   {
    "duration": 12,
    "start_time": "2022-08-17T08:08:27.082Z"
   },
   {
    "duration": 20,
    "start_time": "2022-08-17T08:08:27.096Z"
   },
   {
    "duration": 232,
    "start_time": "2022-08-17T08:08:27.118Z"
   },
   {
    "duration": 7,
    "start_time": "2022-08-17T08:08:27.352Z"
   },
   {
    "duration": 31,
    "start_time": "2022-08-17T08:08:27.361Z"
   },
   {
    "duration": 2625,
    "start_time": "2022-08-17T08:09:14.290Z"
   },
   {
    "duration": 1126,
    "start_time": "2022-08-17T08:09:16.917Z"
   },
   {
    "duration": 30,
    "start_time": "2022-08-17T08:09:18.044Z"
   },
   {
    "duration": 12,
    "start_time": "2022-08-17T08:09:18.076Z"
   },
   {
    "duration": 10,
    "start_time": "2022-08-17T08:09:18.090Z"
   },
   {
    "duration": 6,
    "start_time": "2022-08-17T08:09:18.101Z"
   },
   {
    "duration": 210,
    "start_time": "2022-08-17T08:09:18.108Z"
   },
   {
    "duration": 6,
    "start_time": "2022-08-17T08:09:18.320Z"
   },
   {
    "duration": 19,
    "start_time": "2022-08-17T08:09:18.327Z"
   },
   {
    "duration": 303,
    "start_time": "2022-08-17T08:09:18.347Z"
   },
   {
    "duration": 228,
    "start_time": "2022-08-17T08:10:18.317Z"
   },
   {
    "duration": 2332,
    "start_time": "2022-08-17T08:17:29.720Z"
   },
   {
    "duration": 1132,
    "start_time": "2022-08-17T08:17:32.055Z"
   },
   {
    "duration": 29,
    "start_time": "2022-08-17T08:17:33.188Z"
   },
   {
    "duration": 12,
    "start_time": "2022-08-17T08:17:33.219Z"
   },
   {
    "duration": 9,
    "start_time": "2022-08-17T08:17:33.233Z"
   },
   {
    "duration": 6,
    "start_time": "2022-08-17T08:17:33.243Z"
   },
   {
    "duration": 216,
    "start_time": "2022-08-17T08:17:33.250Z"
   },
   {
    "duration": 6,
    "start_time": "2022-08-17T08:17:33.468Z"
   },
   {
    "duration": 129,
    "start_time": "2022-08-17T08:17:41.194Z"
   },
   {
    "duration": 29,
    "start_time": "2022-08-17T08:17:55.671Z"
   },
   {
    "duration": 282,
    "start_time": "2022-08-17T08:18:03.364Z"
   },
   {
    "duration": 2312,
    "start_time": "2022-08-17T08:20:16.324Z"
   },
   {
    "duration": 1094,
    "start_time": "2022-08-17T08:20:18.639Z"
   },
   {
    "duration": 30,
    "start_time": "2022-08-17T08:20:19.735Z"
   },
   {
    "duration": 16,
    "start_time": "2022-08-17T08:20:19.767Z"
   },
   {
    "duration": 11,
    "start_time": "2022-08-17T08:20:19.787Z"
   },
   {
    "duration": 14,
    "start_time": "2022-08-17T08:20:19.799Z"
   },
   {
    "duration": 229,
    "start_time": "2022-08-17T08:20:19.814Z"
   },
   {
    "duration": 7,
    "start_time": "2022-08-17T08:20:20.045Z"
   },
   {
    "duration": 54,
    "start_time": "2022-08-17T08:20:20.053Z"
   },
   {
    "duration": 309,
    "start_time": "2022-08-17T08:20:20.109Z"
   },
   {
    "duration": 2,
    "start_time": "2022-08-17T08:20:20.420Z"
   },
   {
    "duration": 10,
    "start_time": "2022-08-17T08:20:21.387Z"
   },
   {
    "duration": 37,
    "start_time": "2022-08-17T08:22:03.571Z"
   },
   {
    "duration": 108,
    "start_time": "2022-08-17T08:22:19.274Z"
   },
   {
    "duration": 399,
    "start_time": "2022-08-17T08:22:24.940Z"
   },
   {
    "duration": 94,
    "start_time": "2022-08-17T08:22:32.259Z"
   },
   {
    "duration": 6,
    "start_time": "2022-08-17T08:22:49.581Z"
   },
   {
    "duration": 142,
    "start_time": "2022-08-17T08:22:51.810Z"
   },
   {
    "duration": 4,
    "start_time": "2022-08-17T08:22:56.416Z"
   },
   {
    "duration": 7712,
    "start_time": "2022-08-17T08:23:08.285Z"
   },
   {
    "duration": 2376,
    "start_time": "2022-08-17T08:24:20.718Z"
   },
   {
    "duration": 1193,
    "start_time": "2022-08-17T08:24:23.097Z"
   },
   {
    "duration": 32,
    "start_time": "2022-08-17T08:24:24.292Z"
   },
   {
    "duration": 16,
    "start_time": "2022-08-17T08:24:24.325Z"
   },
   {
    "duration": 12,
    "start_time": "2022-08-17T08:24:24.344Z"
   },
   {
    "duration": 6,
    "start_time": "2022-08-17T08:24:24.358Z"
   },
   {
    "duration": 293,
    "start_time": "2022-08-17T08:24:24.366Z"
   },
   {
    "duration": 7,
    "start_time": "2022-08-17T08:24:24.660Z"
   },
   {
    "duration": 136,
    "start_time": "2022-08-17T08:24:24.668Z"
   },
   {
    "duration": 0,
    "start_time": "2022-08-17T08:24:24.806Z"
   },
   {
    "duration": 0,
    "start_time": "2022-08-17T08:24:24.807Z"
   },
   {
    "duration": 0,
    "start_time": "2022-08-17T08:24:24.809Z"
   },
   {
    "duration": 0,
    "start_time": "2022-08-17T08:24:24.810Z"
   },
   {
    "duration": 19,
    "start_time": "2022-08-17T08:24:48.175Z"
   },
   {
    "duration": 272,
    "start_time": "2022-08-17T08:24:50.099Z"
   },
   {
    "duration": 3,
    "start_time": "2022-08-17T08:24:55.337Z"
   },
   {
    "duration": 12,
    "start_time": "2022-08-17T08:24:55.699Z"
   },
   {
    "duration": 63,
    "start_time": "2022-08-17T08:25:00.063Z"
   },
   {
    "duration": 8,
    "start_time": "2022-08-17T08:25:06.882Z"
   },
   {
    "duration": 210,
    "start_time": "2022-08-17T08:25:07.528Z"
   },
   {
    "duration": 4,
    "start_time": "2022-08-17T08:25:10.393Z"
   },
   {
    "duration": 6613,
    "start_time": "2022-08-17T08:25:18.248Z"
   },
   {
    "duration": 15,
    "start_time": "2022-08-17T08:28:08.202Z"
   },
   {
    "duration": 142,
    "start_time": "2022-08-17T08:28:08.783Z"
   },
   {
    "duration": 4,
    "start_time": "2022-08-17T08:28:22.843Z"
   },
   {
    "duration": 12,
    "start_time": "2022-08-17T08:28:33.126Z"
   },
   {
    "duration": 6,
    "start_time": "2022-08-17T08:28:37.193Z"
   },
   {
    "duration": 197,
    "start_time": "2022-08-17T08:28:38.107Z"
   },
   {
    "duration": 4,
    "start_time": "2022-08-17T08:28:40.442Z"
   },
   {
    "duration": 12,
    "start_time": "2022-08-17T08:28:47.073Z"
   },
   {
    "duration": 6,
    "start_time": "2022-08-17T08:28:59.110Z"
   },
   {
    "duration": 256,
    "start_time": "2022-08-17T08:29:03.215Z"
   },
   {
    "duration": 17,
    "start_time": "2022-08-17T08:29:05.647Z"
   },
   {
    "duration": 147,
    "start_time": "2022-08-17T08:29:08.641Z"
   },
   {
    "duration": 4,
    "start_time": "2022-08-17T08:29:11.414Z"
   },
   {
    "duration": 23,
    "start_time": "2022-08-17T08:29:15.833Z"
   },
   {
    "duration": 12,
    "start_time": "2022-08-17T08:29:24.137Z"
   },
   {
    "duration": 4,
    "start_time": "2022-08-17T08:29:32.284Z"
   },
   {
    "duration": 2408,
    "start_time": "2022-08-17T08:30:29.780Z"
   },
   {
    "duration": 1194,
    "start_time": "2022-08-17T08:30:32.191Z"
   },
   {
    "duration": 30,
    "start_time": "2022-08-17T08:30:33.387Z"
   },
   {
    "duration": 14,
    "start_time": "2022-08-17T08:30:33.419Z"
   },
   {
    "duration": 11,
    "start_time": "2022-08-17T08:30:33.434Z"
   },
   {
    "duration": 9,
    "start_time": "2022-08-17T08:30:33.446Z"
   },
   {
    "duration": 247,
    "start_time": "2022-08-17T08:30:33.457Z"
   },
   {
    "duration": 6,
    "start_time": "2022-08-17T08:30:33.706Z"
   },
   {
    "duration": 20,
    "start_time": "2022-08-17T08:30:33.713Z"
   },
   {
    "duration": 322,
    "start_time": "2022-08-17T08:30:33.735Z"
   },
   {
    "duration": 3,
    "start_time": "2022-08-17T08:30:34.059Z"
   },
   {
    "duration": 14,
    "start_time": "2022-08-17T08:30:34.063Z"
   },
   {
    "duration": 82,
    "start_time": "2022-08-17T08:30:34.078Z"
   },
   {
    "duration": 6,
    "start_time": "2022-08-17T08:30:34.162Z"
   },
   {
    "duration": 191,
    "start_time": "2022-08-17T08:30:34.170Z"
   },
   {
    "duration": 4,
    "start_time": "2022-08-17T08:30:34.362Z"
   },
   {
    "duration": 6306,
    "start_time": "2022-08-17T08:30:34.367Z"
   },
   {
    "duration": 24,
    "start_time": "2022-08-17T08:30:40.675Z"
   },
   {
    "duration": 175,
    "start_time": "2022-08-17T08:30:40.701Z"
   },
   {
    "duration": 4,
    "start_time": "2022-08-17T08:30:40.878Z"
   },
   {
    "duration": 25,
    "start_time": "2022-08-17T08:30:40.884Z"
   },
   {
    "duration": 5,
    "start_time": "2022-08-17T08:30:40.912Z"
   },
   {
    "duration": 223,
    "start_time": "2022-08-17T08:30:40.920Z"
   },
   {
    "duration": 9,
    "start_time": "2022-08-17T08:30:41.145Z"
   },
   {
    "duration": 19,
    "start_time": "2022-08-17T08:30:41.156Z"
   },
   {
    "duration": 21,
    "start_time": "2022-08-17T08:30:41.177Z"
   },
   {
    "duration": 273,
    "start_time": "2022-08-17T08:30:41.201Z"
   },
   {
    "duration": 26,
    "start_time": "2022-08-17T08:30:41.478Z"
   },
   {
    "duration": 173,
    "start_time": "2022-08-17T08:30:41.506Z"
   },
   {
    "duration": 4,
    "start_time": "2022-08-17T08:30:41.681Z"
   },
   {
    "duration": 30,
    "start_time": "2022-08-17T08:30:41.687Z"
   },
   {
    "duration": 4,
    "start_time": "2022-08-17T08:30:41.719Z"
   },
   {
    "duration": 142,
    "start_time": "2022-08-17T08:30:41.725Z"
   },
   {
    "duration": 11,
    "start_time": "2022-08-17T08:30:59.533Z"
   },
   {
    "duration": 11,
    "start_time": "2022-08-17T08:31:17.471Z"
   },
   {
    "duration": 6,
    "start_time": "2022-08-17T08:31:48.415Z"
   },
   {
    "duration": 3,
    "start_time": "2022-08-17T08:31:49.416Z"
   },
   {
    "duration": 3,
    "start_time": "2022-08-17T08:32:13.889Z"
   },
   {
    "duration": 10,
    "start_time": "2022-08-17T08:32:15.313Z"
   },
   {
    "duration": 2440,
    "start_time": "2022-08-17T08:42:21.984Z"
   },
   {
    "duration": 1158,
    "start_time": "2022-08-17T08:42:24.427Z"
   },
   {
    "duration": 33,
    "start_time": "2022-08-17T08:42:25.587Z"
   },
   {
    "duration": 15,
    "start_time": "2022-08-17T08:42:25.622Z"
   },
   {
    "duration": 11,
    "start_time": "2022-08-17T08:42:25.640Z"
   },
   {
    "duration": 12,
    "start_time": "2022-08-17T08:42:25.653Z"
   },
   {
    "duration": 260,
    "start_time": "2022-08-17T08:42:25.667Z"
   },
   {
    "duration": 7,
    "start_time": "2022-08-17T08:42:25.929Z"
   },
   {
    "duration": 23,
    "start_time": "2022-08-17T08:42:25.938Z"
   },
   {
    "duration": 303,
    "start_time": "2022-08-17T08:42:25.963Z"
   },
   {
    "duration": 3,
    "start_time": "2022-08-17T08:42:26.268Z"
   },
   {
    "duration": 25,
    "start_time": "2022-08-17T08:42:26.273Z"
   },
   {
    "duration": 125,
    "start_time": "2022-08-17T08:42:28.184Z"
   },
   {
    "duration": 10,
    "start_time": "2022-08-17T08:43:52.222Z"
   },
   {
    "duration": 4,
    "start_time": "2022-08-17T08:44:30.891Z"
   },
   {
    "duration": 10,
    "start_time": "2022-08-17T08:44:38.697Z"
   },
   {
    "duration": 25,
    "start_time": "2022-08-17T08:45:23.881Z"
   },
   {
    "duration": 25,
    "start_time": "2022-08-17T08:48:11.759Z"
   },
   {
    "duration": 32,
    "start_time": "2022-08-17T08:49:06.127Z"
   },
   {
    "duration": 31,
    "start_time": "2022-08-17T08:50:39.134Z"
   },
   {
    "duration": 22,
    "start_time": "2022-08-17T08:55:24.778Z"
   },
   {
    "duration": 26,
    "start_time": "2022-08-17T08:56:35.850Z"
   },
   {
    "duration": 2541,
    "start_time": "2022-08-17T08:58:33.737Z"
   },
   {
    "duration": 1190,
    "start_time": "2022-08-17T08:58:36.280Z"
   },
   {
    "duration": 30,
    "start_time": "2022-08-17T08:58:37.472Z"
   },
   {
    "duration": 13,
    "start_time": "2022-08-17T08:58:37.503Z"
   },
   {
    "duration": 11,
    "start_time": "2022-08-17T08:58:37.518Z"
   },
   {
    "duration": 8,
    "start_time": "2022-08-17T08:58:37.530Z"
   },
   {
    "duration": 231,
    "start_time": "2022-08-17T08:58:37.539Z"
   },
   {
    "duration": 6,
    "start_time": "2022-08-17T08:58:37.772Z"
   },
   {
    "duration": 27,
    "start_time": "2022-08-17T08:58:37.779Z"
   },
   {
    "duration": 261,
    "start_time": "2022-08-17T08:58:37.808Z"
   },
   {
    "duration": 3,
    "start_time": "2022-08-17T08:58:38.070Z"
   },
   {
    "duration": 27,
    "start_time": "2022-08-17T08:58:38.075Z"
   },
   {
    "duration": 69,
    "start_time": "2022-08-17T08:58:38.104Z"
   },
   {
    "duration": 7780,
    "start_time": "2022-08-17T08:58:38.176Z"
   },
   {
    "duration": 119,
    "start_time": "2022-08-17T08:59:53.188Z"
   },
   {
    "duration": 9,
    "start_time": "2022-08-17T09:00:10.556Z"
   },
   {
    "duration": 4,
    "start_time": "2022-08-17T09:00:23.161Z"
   },
   {
    "duration": 287,
    "start_time": "2022-08-17T09:01:32.276Z"
   },
   {
    "duration": 178,
    "start_time": "2022-08-17T09:01:53.031Z"
   },
   {
    "duration": 14,
    "start_time": "2022-08-17T09:02:02.682Z"
   },
   {
    "duration": 12,
    "start_time": "2022-08-17T09:02:29.003Z"
   },
   {
    "duration": 7,
    "start_time": "2022-08-17T09:03:17.763Z"
   },
   {
    "duration": 141,
    "start_time": "2022-08-17T09:03:18.460Z"
   },
   {
    "duration": 4,
    "start_time": "2022-08-17T09:03:21.139Z"
   },
   {
    "duration": 59247,
    "start_time": "2022-08-17T09:04:55.326Z"
   },
   {
    "duration": 15,
    "start_time": "2022-08-17T09:05:59.957Z"
   },
   {
    "duration": 290,
    "start_time": "2022-08-17T09:06:19.090Z"
   },
   {
    "duration": 16,
    "start_time": "2022-08-17T09:06:42.115Z"
   },
   {
    "duration": 142,
    "start_time": "2022-08-17T09:06:42.835Z"
   },
   {
    "duration": 4,
    "start_time": "2022-08-17T09:06:45.349Z"
   },
   {
    "duration": 11,
    "start_time": "2022-08-17T09:08:07.799Z"
   },
   {
    "duration": 7,
    "start_time": "2022-08-17T09:08:13.118Z"
   },
   {
    "duration": 148,
    "start_time": "2022-08-17T09:08:13.724Z"
   },
   {
    "duration": 4,
    "start_time": "2022-08-17T09:08:16.399Z"
   },
   {
    "duration": 11,
    "start_time": "2022-08-17T09:08:21.042Z"
   },
   {
    "duration": 7,
    "start_time": "2022-08-17T09:08:40.773Z"
   },
   {
    "duration": 10,
    "start_time": "2022-08-17T09:08:42.077Z"
   },
   {
    "duration": 342,
    "start_time": "2022-08-17T09:12:19.198Z"
   },
   {
    "duration": 27,
    "start_time": "2022-08-17T09:12:25.369Z"
   },
   {
    "duration": 159,
    "start_time": "2022-08-17T09:12:26.248Z"
   },
   {
    "duration": 3,
    "start_time": "2022-08-17T09:12:28.597Z"
   },
   {
    "duration": 6,
    "start_time": "2022-08-17T09:12:29.679Z"
   },
   {
    "duration": 4,
    "start_time": "2022-08-17T09:12:31.452Z"
   },
   {
    "duration": 15,
    "start_time": "2022-08-17T09:12:33.239Z"
   },
   {
    "duration": 13,
    "start_time": "2022-08-17T09:16:00.943Z"
   },
   {
    "duration": 5,
    "start_time": "2022-08-17T09:16:36.441Z"
   },
   {
    "duration": 4,
    "start_time": "2022-08-17T09:16:55.821Z"
   },
   {
    "duration": 4,
    "start_time": "2022-08-17T09:19:41.406Z"
   },
   {
    "duration": 4,
    "start_time": "2022-08-17T09:19:42.053Z"
   },
   {
    "duration": 4,
    "start_time": "2022-08-17T09:20:43.734Z"
   },
   {
    "duration": 4,
    "start_time": "2022-08-17T09:20:49.868Z"
   },
   {
    "duration": 4,
    "start_time": "2022-08-17T09:20:56.026Z"
   },
   {
    "duration": 4,
    "start_time": "2022-08-17T09:20:59.938Z"
   },
   {
    "duration": 4,
    "start_time": "2022-08-17T09:21:31.453Z"
   },
   {
    "duration": 2403,
    "start_time": "2022-08-17T09:21:38.417Z"
   },
   {
    "duration": 1184,
    "start_time": "2022-08-17T09:21:40.823Z"
   },
   {
    "duration": 32,
    "start_time": "2022-08-17T09:21:42.008Z"
   },
   {
    "duration": 15,
    "start_time": "2022-08-17T09:21:42.041Z"
   },
   {
    "duration": 11,
    "start_time": "2022-08-17T09:21:42.058Z"
   },
   {
    "duration": 7,
    "start_time": "2022-08-17T09:21:42.071Z"
   },
   {
    "duration": 243,
    "start_time": "2022-08-17T09:21:42.080Z"
   },
   {
    "duration": 7,
    "start_time": "2022-08-17T09:21:42.325Z"
   },
   {
    "duration": 23,
    "start_time": "2022-08-17T09:21:42.334Z"
   },
   {
    "duration": 300,
    "start_time": "2022-08-17T09:21:42.359Z"
   },
   {
    "duration": 2,
    "start_time": "2022-08-17T09:21:42.661Z"
   },
   {
    "duration": 11,
    "start_time": "2022-08-17T09:21:42.665Z"
   },
   {
    "duration": 7834,
    "start_time": "2022-08-17T09:21:42.678Z"
   },
   {
    "duration": 131,
    "start_time": "2022-08-17T09:21:50.515Z"
   },
   {
    "duration": 0,
    "start_time": "2022-08-17T09:21:50.648Z"
   },
   {
    "duration": 0,
    "start_time": "2022-08-17T09:21:50.649Z"
   },
   {
    "duration": 0,
    "start_time": "2022-08-17T09:21:50.650Z"
   },
   {
    "duration": 0,
    "start_time": "2022-08-17T09:21:50.651Z"
   },
   {
    "duration": 0,
    "start_time": "2022-08-17T09:21:50.652Z"
   },
   {
    "duration": 0,
    "start_time": "2022-08-17T09:21:50.653Z"
   },
   {
    "duration": 0,
    "start_time": "2022-08-17T09:21:50.655Z"
   },
   {
    "duration": 0,
    "start_time": "2022-08-17T09:21:50.656Z"
   },
   {
    "duration": 0,
    "start_time": "2022-08-17T09:21:50.657Z"
   },
   {
    "duration": 0,
    "start_time": "2022-08-17T09:21:50.658Z"
   },
   {
    "duration": 0,
    "start_time": "2022-08-17T09:21:50.659Z"
   },
   {
    "duration": 0,
    "start_time": "2022-08-17T09:21:50.660Z"
   },
   {
    "duration": 0,
    "start_time": "2022-08-17T09:21:50.661Z"
   },
   {
    "duration": 0,
    "start_time": "2022-08-17T09:21:50.663Z"
   },
   {
    "duration": 0,
    "start_time": "2022-08-17T09:21:50.664Z"
   },
   {
    "duration": 0,
    "start_time": "2022-08-17T09:21:50.665Z"
   },
   {
    "duration": 0,
    "start_time": "2022-08-17T09:21:50.666Z"
   },
   {
    "duration": 0,
    "start_time": "2022-08-17T09:21:50.699Z"
   },
   {
    "duration": 0,
    "start_time": "2022-08-17T09:21:50.700Z"
   },
   {
    "duration": 0,
    "start_time": "2022-08-17T09:21:50.701Z"
   },
   {
    "duration": 0,
    "start_time": "2022-08-17T09:21:50.702Z"
   },
   {
    "duration": 0,
    "start_time": "2022-08-17T09:21:50.703Z"
   },
   {
    "duration": 14,
    "start_time": "2022-08-17T09:22:04.929Z"
   },
   {
    "duration": 6,
    "start_time": "2022-08-17T09:22:08.164Z"
   },
   {
    "duration": 132,
    "start_time": "2022-08-17T09:22:08.172Z"
   },
   {
    "duration": 3,
    "start_time": "2022-08-17T09:22:08.306Z"
   },
   {
    "duration": 61699,
    "start_time": "2022-08-17T09:22:08.310Z"
   },
   {
    "duration": 332,
    "start_time": "2022-08-17T09:23:10.012Z"
   },
   {
    "duration": 28,
    "start_time": "2022-08-17T09:23:10.346Z"
   },
   {
    "duration": 162,
    "start_time": "2022-08-17T09:23:10.375Z"
   },
   {
    "duration": 3,
    "start_time": "2022-08-17T09:23:10.540Z"
   },
   {
    "duration": 20,
    "start_time": "2022-08-17T09:23:10.544Z"
   },
   {
    "duration": 5,
    "start_time": "2022-08-17T09:23:10.565Z"
   },
   {
    "duration": 146,
    "start_time": "2022-08-17T09:23:10.572Z"
   },
   {
    "duration": 4,
    "start_time": "2022-08-17T09:23:10.721Z"
   },
   {
    "duration": 15,
    "start_time": "2022-08-17T09:23:10.727Z"
   },
   {
    "duration": 13,
    "start_time": "2022-08-17T09:23:10.745Z"
   },
   {
    "duration": 364,
    "start_time": "2022-08-17T09:23:10.760Z"
   },
   {
    "duration": 19,
    "start_time": "2022-08-17T09:23:11.125Z"
   },
   {
    "duration": 163,
    "start_time": "2022-08-17T09:23:11.145Z"
   },
   {
    "duration": 4,
    "start_time": "2022-08-17T09:23:11.309Z"
   },
   {
    "duration": 9,
    "start_time": "2022-08-17T09:23:11.315Z"
   },
   {
    "duration": 3,
    "start_time": "2022-08-17T09:23:11.326Z"
   },
   {
    "duration": 6,
    "start_time": "2022-08-17T09:23:11.330Z"
   },
   {
    "duration": 12,
    "start_time": "2022-08-17T09:23:11.338Z"
   },
   {
    "duration": 6,
    "start_time": "2022-08-17T09:24:36.302Z"
   },
   {
    "duration": 22412,
    "start_time": "2022-08-17T09:40:05.406Z"
   },
   {
    "duration": 11,
    "start_time": "2022-08-17T09:40:31.530Z"
   },
   {
    "duration": 12,
    "start_time": "2022-08-17T09:40:52.190Z"
   },
   {
    "duration": 12,
    "start_time": "2022-08-17T09:41:01.638Z"
   },
   {
    "duration": 10,
    "start_time": "2022-08-17T09:43:24.244Z"
   },
   {
    "duration": 2327,
    "start_time": "2022-08-17T09:43:47.446Z"
   },
   {
    "duration": 1201,
    "start_time": "2022-08-17T09:43:49.775Z"
   },
   {
    "duration": 30,
    "start_time": "2022-08-17T09:43:50.978Z"
   },
   {
    "duration": 14,
    "start_time": "2022-08-17T09:43:51.009Z"
   },
   {
    "duration": 11,
    "start_time": "2022-08-17T09:43:51.025Z"
   },
   {
    "duration": 7,
    "start_time": "2022-08-17T09:43:51.038Z"
   },
   {
    "duration": 242,
    "start_time": "2022-08-17T09:43:51.047Z"
   },
   {
    "duration": 12,
    "start_time": "2022-08-17T09:43:51.290Z"
   },
   {
    "duration": 29,
    "start_time": "2022-08-17T09:43:51.303Z"
   },
   {
    "duration": 322,
    "start_time": "2022-08-17T09:43:51.334Z"
   },
   {
    "duration": 3,
    "start_time": "2022-08-17T09:43:51.658Z"
   },
   {
    "duration": 20,
    "start_time": "2022-08-17T09:43:51.663Z"
   },
   {
    "duration": 7780,
    "start_time": "2022-08-17T09:43:51.685Z"
   },
   {
    "duration": 11,
    "start_time": "2022-08-17T09:43:59.467Z"
   },
   {
    "duration": 1219,
    "start_time": "2022-08-17T09:43:59.479Z"
   },
   {
    "duration": 4,
    "start_time": "2022-08-17T09:46:44.732Z"
   },
   {
    "duration": 125,
    "start_time": "2022-08-17T09:46:52.010Z"
   },
   {
    "duration": 309,
    "start_time": "2022-08-17T09:47:16.867Z"
   },
   {
    "duration": 273,
    "start_time": "2022-08-17T09:49:16.409Z"
   },
   {
    "duration": 1543,
    "start_time": "2022-08-17T09:49:26.399Z"
   },
   {
    "duration": 1684,
    "start_time": "2022-08-17T09:49:42.726Z"
   },
   {
    "duration": 4,
    "start_time": "2022-08-17T09:57:31.115Z"
   },
   {
    "duration": 15,
    "start_time": "2022-08-17T09:58:54.987Z"
   },
   {
    "duration": 16,
    "start_time": "2022-08-17T09:59:05.763Z"
   },
   {
    "duration": 2350,
    "start_time": "2022-08-17T09:59:15.555Z"
   },
   {
    "duration": 1271,
    "start_time": "2022-08-17T09:59:17.908Z"
   },
   {
    "duration": 34,
    "start_time": "2022-08-17T09:59:19.181Z"
   },
   {
    "duration": 17,
    "start_time": "2022-08-17T09:59:19.216Z"
   },
   {
    "duration": 11,
    "start_time": "2022-08-17T09:59:19.235Z"
   },
   {
    "duration": 10,
    "start_time": "2022-08-17T09:59:19.248Z"
   },
   {
    "duration": 243,
    "start_time": "2022-08-17T09:59:19.259Z"
   },
   {
    "duration": 8,
    "start_time": "2022-08-17T09:59:19.504Z"
   },
   {
    "duration": 21,
    "start_time": "2022-08-17T09:59:19.514Z"
   },
   {
    "duration": 317,
    "start_time": "2022-08-17T09:59:19.537Z"
   },
   {
    "duration": 2,
    "start_time": "2022-08-17T09:59:19.856Z"
   },
   {
    "duration": 10,
    "start_time": "2022-08-17T09:59:19.860Z"
   },
   {
    "duration": 8325,
    "start_time": "2022-08-17T09:59:19.872Z"
   },
   {
    "duration": 11,
    "start_time": "2022-08-17T09:59:28.200Z"
   },
   {
    "duration": 1625,
    "start_time": "2022-08-17T09:59:28.212Z"
   },
   {
    "duration": 6,
    "start_time": "2022-08-17T09:59:29.839Z"
   },
   {
    "duration": 197,
    "start_time": "2022-08-17T09:59:29.847Z"
   },
   {
    "duration": 4,
    "start_time": "2022-08-17T09:59:30.045Z"
   },
   {
    "duration": 60222,
    "start_time": "2022-08-17T09:59:30.051Z"
   },
   {
    "duration": 310,
    "start_time": "2022-08-17T10:00:30.274Z"
   },
   {
    "duration": 23,
    "start_time": "2022-08-17T10:00:30.585Z"
   },
   {
    "duration": 182,
    "start_time": "2022-08-17T10:00:30.610Z"
   },
   {
    "duration": 6,
    "start_time": "2022-08-17T10:00:30.794Z"
   },
   {
    "duration": 77,
    "start_time": "2022-08-17T10:00:30.801Z"
   },
   {
    "duration": 39,
    "start_time": "2022-08-17T10:00:30.880Z"
   },
   {
    "duration": 166,
    "start_time": "2022-08-17T10:00:30.921Z"
   },
   {
    "duration": 5,
    "start_time": "2022-08-17T10:00:31.088Z"
   },
   {
    "duration": 17,
    "start_time": "2022-08-17T10:00:31.099Z"
   },
   {
    "duration": 18,
    "start_time": "2022-08-17T10:00:31.117Z"
   },
   {
    "duration": 363,
    "start_time": "2022-08-17T10:00:31.136Z"
   },
   {
    "duration": 21,
    "start_time": "2022-08-17T10:00:31.502Z"
   },
   {
    "duration": 173,
    "start_time": "2022-08-17T10:00:31.525Z"
   },
   {
    "duration": 4,
    "start_time": "2022-08-17T10:00:31.700Z"
   },
   {
    "duration": 151,
    "start_time": "2022-08-17T10:00:31.706Z"
   },
   {
    "duration": 14,
    "start_time": "2022-08-17T10:02:01.811Z"
   },
   {
    "duration": 2418,
    "start_time": "2022-08-17T10:02:09.027Z"
   },
   {
    "duration": 1120,
    "start_time": "2022-08-17T10:02:11.448Z"
   },
   {
    "duration": 30,
    "start_time": "2022-08-17T10:02:12.569Z"
   },
   {
    "duration": 12,
    "start_time": "2022-08-17T10:02:12.601Z"
   },
   {
    "duration": 11,
    "start_time": "2022-08-17T10:02:12.615Z"
   },
   {
    "duration": 8,
    "start_time": "2022-08-17T10:02:12.627Z"
   },
   {
    "duration": 236,
    "start_time": "2022-08-17T10:02:12.636Z"
   },
   {
    "duration": 8,
    "start_time": "2022-08-17T10:02:12.873Z"
   },
   {
    "duration": 41,
    "start_time": "2022-08-17T10:02:12.882Z"
   },
   {
    "duration": 325,
    "start_time": "2022-08-17T10:02:12.925Z"
   },
   {
    "duration": 3,
    "start_time": "2022-08-17T10:02:13.251Z"
   },
   {
    "duration": 9,
    "start_time": "2022-08-17T10:02:13.255Z"
   },
   {
    "duration": 7788,
    "start_time": "2022-08-17T10:02:13.266Z"
   },
   {
    "duration": 12,
    "start_time": "2022-08-17T10:02:21.055Z"
   },
   {
    "duration": 1692,
    "start_time": "2022-08-17T10:02:21.070Z"
   },
   {
    "duration": 8,
    "start_time": "2022-08-17T10:02:22.763Z"
   },
   {
    "duration": 210,
    "start_time": "2022-08-17T10:02:22.773Z"
   },
   {
    "duration": 4,
    "start_time": "2022-08-17T10:02:22.985Z"
   },
   {
    "duration": 60559,
    "start_time": "2022-08-17T10:02:22.998Z"
   },
   {
    "duration": 298,
    "start_time": "2022-08-17T10:03:23.559Z"
   },
   {
    "duration": 17,
    "start_time": "2022-08-17T10:03:23.858Z"
   },
   {
    "duration": 163,
    "start_time": "2022-08-17T10:03:23.877Z"
   },
   {
    "duration": 4,
    "start_time": "2022-08-17T10:03:24.041Z"
   },
   {
    "duration": 13,
    "start_time": "2022-08-17T10:03:24.047Z"
   },
   {
    "duration": 5,
    "start_time": "2022-08-17T10:03:24.062Z"
   },
   {
    "duration": 160,
    "start_time": "2022-08-17T10:03:24.068Z"
   },
   {
    "duration": 4,
    "start_time": "2022-08-17T10:03:24.229Z"
   },
   {
    "duration": 11,
    "start_time": "2022-08-17T10:03:24.236Z"
   },
   {
    "duration": 7,
    "start_time": "2022-08-17T10:03:24.249Z"
   },
   {
    "duration": 418,
    "start_time": "2022-08-17T10:03:24.258Z"
   },
   {
    "duration": 29,
    "start_time": "2022-08-17T10:03:24.678Z"
   },
   {
    "duration": 171,
    "start_time": "2022-08-17T10:03:24.708Z"
   },
   {
    "duration": 4,
    "start_time": "2022-08-17T10:03:24.881Z"
   },
   {
    "duration": 481,
    "start_time": "2022-08-17T10:04:09.113Z"
   },
   {
    "duration": 386,
    "start_time": "2022-08-17T10:04:41.868Z"
   },
   {
    "duration": 492,
    "start_time": "2022-08-17T10:04:56.000Z"
   },
   {
    "duration": 11,
    "start_time": "2022-08-17T10:06:43.218Z"
   },
   {
    "duration": 8,
    "start_time": "2022-08-17T10:06:49.625Z"
   },
   {
    "duration": 11,
    "start_time": "2022-08-17T10:06:50.151Z"
   },
   {
    "duration": 4,
    "start_time": "2022-08-17T10:06:56.665Z"
   },
   {
    "duration": 169,
    "start_time": "2022-08-17T10:06:59.070Z"
   },
   {
    "duration": 4,
    "start_time": "2022-08-17T10:07:26.960Z"
   },
   {
    "duration": 498,
    "start_time": "2022-08-17T10:08:38.242Z"
   },
   {
    "duration": 142,
    "start_time": "2022-08-17T10:08:42.296Z"
   },
   {
    "duration": 16,
    "start_time": "2022-08-17T10:08:46.290Z"
   },
   {
    "duration": 15,
    "start_time": "2022-08-17T10:09:04.415Z"
   },
   {
    "duration": 10,
    "start_time": "2022-08-17T10:18:43.081Z"
   },
   {
    "duration": 7,
    "start_time": "2022-08-17T10:19:37.516Z"
   },
   {
    "duration": 2,
    "start_time": "2022-08-17T10:45:35.094Z"
   },
   {
    "duration": 7,
    "start_time": "2022-08-17T11:02:52.524Z"
   },
   {
    "duration": 7,
    "start_time": "2022-08-17T11:03:12.470Z"
   },
   {
    "duration": 8,
    "start_time": "2022-08-17T11:06:25.635Z"
   },
   {
    "duration": 8892,
    "start_time": "2022-08-17T12:39:39.909Z"
   },
   {
    "duration": 1129,
    "start_time": "2022-08-17T12:39:48.803Z"
   },
   {
    "duration": 29,
    "start_time": "2022-08-17T12:39:49.935Z"
   },
   {
    "duration": 12,
    "start_time": "2022-08-17T12:39:49.966Z"
   },
   {
    "duration": 17,
    "start_time": "2022-08-17T12:39:49.980Z"
   },
   {
    "duration": 13,
    "start_time": "2022-08-17T12:39:49.999Z"
   },
   {
    "duration": 24,
    "start_time": "2022-08-17T12:39:50.013Z"
   },
   {
    "duration": 202,
    "start_time": "2022-08-17T12:39:50.039Z"
   },
   {
    "duration": 6,
    "start_time": "2022-08-17T12:39:50.242Z"
   },
   {
    "duration": 21,
    "start_time": "2022-08-17T12:39:50.249Z"
   },
   {
    "duration": 287,
    "start_time": "2022-08-17T12:39:50.271Z"
   },
   {
    "duration": 3,
    "start_time": "2022-08-17T12:39:50.560Z"
   },
   {
    "duration": 13,
    "start_time": "2022-08-17T12:39:50.565Z"
   },
   {
    "duration": 7496,
    "start_time": "2022-08-17T12:39:50.582Z"
   },
   {
    "duration": 11,
    "start_time": "2022-08-17T12:39:58.080Z"
   },
   {
    "duration": 1424,
    "start_time": "2022-08-17T12:39:58.093Z"
   },
   {
    "duration": 5,
    "start_time": "2022-08-17T12:39:59.518Z"
   },
   {
    "duration": 134,
    "start_time": "2022-08-17T12:39:59.525Z"
   },
   {
    "duration": 4,
    "start_time": "2022-08-17T12:39:59.661Z"
   },
   {
    "duration": 57824,
    "start_time": "2022-08-17T12:39:59.667Z"
   },
   {
    "duration": 289,
    "start_time": "2022-08-17T12:40:57.493Z"
   },
   {
    "duration": 17,
    "start_time": "2022-08-17T12:40:57.783Z"
   },
   {
    "duration": 141,
    "start_time": "2022-08-17T12:40:57.810Z"
   },
   {
    "duration": 4,
    "start_time": "2022-08-17T12:40:57.952Z"
   },
   {
    "duration": 20,
    "start_time": "2022-08-17T12:40:57.957Z"
   },
   {
    "duration": 16,
    "start_time": "2022-08-17T12:40:57.978Z"
   },
   {
    "duration": 140,
    "start_time": "2022-08-17T12:40:57.995Z"
   },
   {
    "duration": 3,
    "start_time": "2022-08-17T12:40:58.137Z"
   },
   {
    "duration": 24,
    "start_time": "2022-08-17T12:40:58.142Z"
   },
   {
    "duration": 23,
    "start_time": "2022-08-17T12:40:58.167Z"
   },
   {
    "duration": 352,
    "start_time": "2022-08-17T12:40:58.192Z"
   },
   {
    "duration": 16,
    "start_time": "2022-08-17T12:40:58.546Z"
   },
   {
    "duration": 149,
    "start_time": "2022-08-17T12:40:58.564Z"
   },
   {
    "duration": 3,
    "start_time": "2022-08-17T12:40:58.714Z"
   },
   {
    "duration": 462,
    "start_time": "2022-08-17T12:40:58.719Z"
   },
   {
    "duration": 6,
    "start_time": "2022-08-17T12:40:59.182Z"
   },
   {
    "duration": 6,
    "start_time": "2022-08-17T12:40:59.189Z"
   },
   {
    "duration": 20,
    "start_time": "2022-08-17T12:40:59.196Z"
   },
   {
    "duration": 125,
    "start_time": "2022-08-17T12:40:59.218Z"
   },
   {
    "duration": 10,
    "start_time": "2022-08-17T12:40:59.345Z"
   },
   {
    "duration": 116,
    "start_time": "2022-08-17T12:41:54.164Z"
   },
   {
    "duration": 10,
    "start_time": "2022-08-17T12:42:08.984Z"
   },
   {
    "duration": 267,
    "start_time": "2022-08-17T12:42:21.241Z"
   },
   {
    "duration": 13,
    "start_time": "2022-08-17T12:43:11.520Z"
   },
   {
    "duration": 2346,
    "start_time": "2022-08-17T12:43:41.731Z"
   },
   {
    "duration": 1147,
    "start_time": "2022-08-17T12:43:44.079Z"
   },
   {
    "duration": 28,
    "start_time": "2022-08-17T12:43:45.228Z"
   },
   {
    "duration": 12,
    "start_time": "2022-08-17T12:43:45.259Z"
   },
   {
    "duration": 10,
    "start_time": "2022-08-17T12:43:45.273Z"
   },
   {
    "duration": 5,
    "start_time": "2022-08-17T12:43:45.285Z"
   },
   {
    "duration": 6,
    "start_time": "2022-08-17T12:43:45.292Z"
   },
   {
    "duration": 213,
    "start_time": "2022-08-17T12:43:45.300Z"
   },
   {
    "duration": 7,
    "start_time": "2022-08-17T12:43:45.514Z"
   },
   {
    "duration": 17,
    "start_time": "2022-08-17T12:43:45.524Z"
   },
   {
    "duration": 306,
    "start_time": "2022-08-17T12:43:45.543Z"
   },
   {
    "duration": 2,
    "start_time": "2022-08-17T12:43:45.851Z"
   },
   {
    "duration": 10,
    "start_time": "2022-08-17T12:43:45.854Z"
   },
   {
    "duration": 7624,
    "start_time": "2022-08-17T12:43:45.866Z"
   },
   {
    "duration": 19,
    "start_time": "2022-08-17T12:43:53.492Z"
   },
   {
    "duration": 1490,
    "start_time": "2022-08-17T12:43:53.513Z"
   },
   {
    "duration": 1522,
    "start_time": "2022-08-17T12:43:55.004Z"
   },
   {
    "duration": 6,
    "start_time": "2022-08-17T12:43:56.528Z"
   },
   {
    "duration": 142,
    "start_time": "2022-08-17T12:43:56.535Z"
   },
   {
    "duration": 4,
    "start_time": "2022-08-17T12:43:56.679Z"
   },
   {
    "duration": 57628,
    "start_time": "2022-08-17T12:43:56.684Z"
   },
   {
    "duration": 299,
    "start_time": "2022-08-17T12:44:54.314Z"
   },
   {
    "duration": 18,
    "start_time": "2022-08-17T12:44:54.615Z"
   },
   {
    "duration": 144,
    "start_time": "2022-08-17T12:44:54.635Z"
   },
   {
    "duration": 4,
    "start_time": "2022-08-17T12:44:54.780Z"
   },
   {
    "duration": 26,
    "start_time": "2022-08-17T12:44:54.785Z"
   },
   {
    "duration": 6,
    "start_time": "2022-08-17T12:44:54.813Z"
   },
   {
    "duration": 137,
    "start_time": "2022-08-17T12:44:54.823Z"
   },
   {
    "duration": 3,
    "start_time": "2022-08-17T12:44:54.962Z"
   },
   {
    "duration": 24,
    "start_time": "2022-08-17T12:44:54.967Z"
   },
   {
    "duration": 20,
    "start_time": "2022-08-17T12:44:54.993Z"
   },
   {
    "duration": 343,
    "start_time": "2022-08-17T12:44:55.015Z"
   },
   {
    "duration": 17,
    "start_time": "2022-08-17T12:44:55.359Z"
   },
   {
    "duration": 151,
    "start_time": "2022-08-17T12:44:55.378Z"
   },
   {
    "duration": 2,
    "start_time": "2022-08-17T12:44:55.531Z"
   },
   {
    "duration": 476,
    "start_time": "2022-08-17T12:44:55.535Z"
   },
   {
    "duration": 5,
    "start_time": "2022-08-17T12:44:56.013Z"
   },
   {
    "duration": 4,
    "start_time": "2022-08-17T12:44:56.020Z"
   },
   {
    "duration": 5,
    "start_time": "2022-08-17T12:44:56.025Z"
   },
   {
    "duration": 148,
    "start_time": "2022-08-17T12:44:56.031Z"
   },
   {
    "duration": 11,
    "start_time": "2022-08-17T12:44:56.181Z"
   },
   {
    "duration": 400,
    "start_time": "2022-08-17T12:44:56.193Z"
   },
   {
    "duration": 2342,
    "start_time": "2022-08-17T12:48:26.921Z"
   },
   {
    "duration": 1168,
    "start_time": "2022-08-17T12:48:29.265Z"
   },
   {
    "duration": 41,
    "start_time": "2022-08-17T12:48:30.434Z"
   },
   {
    "duration": 14,
    "start_time": "2022-08-17T12:48:30.478Z"
   },
   {
    "duration": 22,
    "start_time": "2022-08-17T12:48:30.494Z"
   },
   {
    "duration": 12,
    "start_time": "2022-08-17T12:48:30.518Z"
   },
   {
    "duration": 20,
    "start_time": "2022-08-17T12:48:30.532Z"
   },
   {
    "duration": 222,
    "start_time": "2022-08-17T12:48:30.554Z"
   },
   {
    "duration": 5,
    "start_time": "2022-08-17T12:48:30.778Z"
   },
   {
    "duration": 34,
    "start_time": "2022-08-17T12:48:30.786Z"
   },
   {
    "duration": 255,
    "start_time": "2022-08-17T12:48:30.821Z"
   },
   {
    "duration": 2,
    "start_time": "2022-08-17T12:48:31.078Z"
   },
   {
    "duration": 31,
    "start_time": "2022-08-17T12:48:31.081Z"
   },
   {
    "duration": 7608,
    "start_time": "2022-08-17T12:48:31.113Z"
   },
   {
    "duration": 11,
    "start_time": "2022-08-17T12:48:38.723Z"
   },
   {
    "duration": 1462,
    "start_time": "2022-08-17T12:48:38.735Z"
   },
   {
    "duration": 1578,
    "start_time": "2022-08-17T12:48:40.199Z"
   },
   {
    "duration": 6,
    "start_time": "2022-08-17T12:48:41.779Z"
   },
   {
    "duration": 156,
    "start_time": "2022-08-17T12:48:41.787Z"
   },
   {
    "duration": 4,
    "start_time": "2022-08-17T12:48:41.945Z"
   },
   {
    "duration": 57590,
    "start_time": "2022-08-17T12:48:41.951Z"
   },
   {
    "duration": 300,
    "start_time": "2022-08-17T12:49:39.542Z"
   },
   {
    "duration": 16,
    "start_time": "2022-08-17T12:49:39.844Z"
   },
   {
    "duration": 149,
    "start_time": "2022-08-17T12:49:39.862Z"
   },
   {
    "duration": 4,
    "start_time": "2022-08-17T12:49:40.012Z"
   },
   {
    "duration": 15,
    "start_time": "2022-08-17T12:49:40.017Z"
   },
   {
    "duration": 6,
    "start_time": "2022-08-17T12:49:40.033Z"
   },
   {
    "duration": 146,
    "start_time": "2022-08-17T12:49:40.042Z"
   },
   {
    "duration": 4,
    "start_time": "2022-08-17T12:49:40.190Z"
   },
   {
    "duration": 25,
    "start_time": "2022-08-17T12:49:40.195Z"
   },
   {
    "duration": 7,
    "start_time": "2022-08-17T12:49:40.221Z"
   },
   {
    "duration": 353,
    "start_time": "2022-08-17T12:49:40.229Z"
   },
   {
    "duration": 17,
    "start_time": "2022-08-17T12:49:40.583Z"
   },
   {
    "duration": 151,
    "start_time": "2022-08-17T12:49:40.610Z"
   },
   {
    "duration": 4,
    "start_time": "2022-08-17T12:49:40.762Z"
   },
   {
    "duration": 472,
    "start_time": "2022-08-17T12:49:40.767Z"
   },
   {
    "duration": 7,
    "start_time": "2022-08-17T12:49:41.240Z"
   },
   {
    "duration": 7,
    "start_time": "2022-08-17T12:49:41.249Z"
   },
   {
    "duration": 5,
    "start_time": "2022-08-17T12:49:41.257Z"
   },
   {
    "duration": 154,
    "start_time": "2022-08-17T12:49:41.264Z"
   },
   {
    "duration": 15,
    "start_time": "2022-08-17T12:49:41.421Z"
   },
   {
    "duration": 6310,
    "start_time": "2022-08-17T13:26:15.554Z"
   },
   {
    "duration": 1180,
    "start_time": "2022-08-17T13:26:21.866Z"
   },
   {
    "duration": 64,
    "start_time": "2022-08-17T13:26:23.047Z"
   },
   {
    "duration": 12,
    "start_time": "2022-08-17T13:26:23.112Z"
   },
   {
    "duration": 13,
    "start_time": "2022-08-17T13:26:23.126Z"
   },
   {
    "duration": 6,
    "start_time": "2022-08-17T13:26:23.140Z"
   },
   {
    "duration": 10,
    "start_time": "2022-08-17T13:26:23.148Z"
   },
   {
    "duration": 216,
    "start_time": "2022-08-17T13:26:23.160Z"
   },
   {
    "duration": 5,
    "start_time": "2022-08-17T13:26:23.377Z"
   },
   {
    "duration": 16,
    "start_time": "2022-08-17T13:26:23.384Z"
   },
   {
    "duration": 318,
    "start_time": "2022-08-17T13:26:23.402Z"
   },
   {
    "duration": 2,
    "start_time": "2022-08-17T13:26:23.722Z"
   },
   {
    "duration": 7,
    "start_time": "2022-08-17T13:26:23.725Z"
   },
   {
    "duration": 7106,
    "start_time": "2022-08-17T13:26:23.734Z"
   },
   {
    "duration": 5,
    "start_time": "2022-08-17T13:26:36.097Z"
   },
   {
    "duration": 55486,
    "start_time": "2022-08-17T13:31:23.586Z"
   },
   {
    "duration": 16,
    "start_time": "2022-08-17T13:32:22.487Z"
   },
   {
    "duration": 95,
    "start_time": "2022-08-17T13:32:34.252Z"
   },
   {
    "duration": 10,
    "start_time": "2022-08-17T13:32:51.508Z"
   },
   {
    "duration": 2056,
    "start_time": "2022-08-17T14:48:22.393Z"
   },
   {
    "duration": 4,
    "start_time": "2022-08-17T14:48:24.451Z"
   },
   {
    "duration": 64,
    "start_time": "2022-08-17T14:48:24.457Z"
   },
   {
    "duration": 10,
    "start_time": "2022-08-17T14:48:24.523Z"
   },
   {
    "duration": 29,
    "start_time": "2022-08-17T14:48:24.536Z"
   },
   {
    "duration": 26,
    "start_time": "2022-08-17T14:48:24.567Z"
   },
   {
    "duration": 13,
    "start_time": "2022-08-17T14:48:24.594Z"
   },
   {
    "duration": 188,
    "start_time": "2022-08-17T14:48:24.609Z"
   },
   {
    "duration": 7,
    "start_time": "2022-08-17T14:48:24.799Z"
   },
   {
    "duration": 36,
    "start_time": "2022-08-17T14:48:24.807Z"
   },
   {
    "duration": 294,
    "start_time": "2022-08-17T14:48:24.844Z"
   },
   {
    "duration": 3,
    "start_time": "2022-08-17T14:48:25.140Z"
   },
   {
    "duration": 41,
    "start_time": "2022-08-17T14:48:25.146Z"
   },
   {
    "duration": 7218,
    "start_time": "2022-08-17T14:48:25.189Z"
   },
   {
    "duration": 4,
    "start_time": "2022-08-17T14:48:32.409Z"
   },
   {
    "duration": 1892,
    "start_time": "2022-08-17T14:48:32.415Z"
   },
   {
    "duration": 10,
    "start_time": "2022-08-17T14:48:34.309Z"
   },
   {
    "duration": 0,
    "start_time": "2022-08-17T14:48:34.320Z"
   },
   {
    "duration": 0,
    "start_time": "2022-08-17T14:48:34.321Z"
   },
   {
    "duration": 56503,
    "start_time": "2022-08-17T14:48:37.341Z"
   },
   {
    "duration": 17,
    "start_time": "2022-08-17T14:50:28.537Z"
   },
   {
    "duration": 155,
    "start_time": "2022-08-17T14:50:37.016Z"
   },
   {
    "duration": 3,
    "start_time": "2022-08-17T14:50:40.795Z"
   },
   {
    "duration": 8,
    "start_time": "2022-08-17T14:51:33.285Z"
   },
   {
    "duration": 14,
    "start_time": "2022-08-17T14:51:40.078Z"
   },
   {
    "duration": 5,
    "start_time": "2022-08-17T14:51:42.361Z"
   },
   {
    "duration": 118,
    "start_time": "2022-08-17T14:51:43.669Z"
   },
   {
    "duration": 4,
    "start_time": "2022-08-17T14:51:48.090Z"
   },
   {
    "duration": 3116,
    "start_time": "2022-08-17T14:56:44.904Z"
   },
   {
    "duration": 1027,
    "start_time": "2022-08-17T14:56:48.022Z"
   },
   {
    "duration": 28,
    "start_time": "2022-08-17T14:56:49.050Z"
   },
   {
    "duration": 12,
    "start_time": "2022-08-17T14:56:49.080Z"
   },
   {
    "duration": 10,
    "start_time": "2022-08-17T14:56:49.093Z"
   },
   {
    "duration": 5,
    "start_time": "2022-08-17T14:56:49.104Z"
   },
   {
    "duration": 10,
    "start_time": "2022-08-17T14:56:49.110Z"
   },
   {
    "duration": 193,
    "start_time": "2022-08-17T14:56:49.121Z"
   },
   {
    "duration": 5,
    "start_time": "2022-08-17T14:56:49.316Z"
   },
   {
    "duration": 19,
    "start_time": "2022-08-17T14:56:49.323Z"
   },
   {
    "duration": 258,
    "start_time": "2022-08-17T14:56:49.343Z"
   },
   {
    "duration": 2,
    "start_time": "2022-08-17T14:56:49.603Z"
   },
   {
    "duration": 8,
    "start_time": "2022-08-17T14:56:49.606Z"
   },
   {
    "duration": 6964,
    "start_time": "2022-08-17T14:56:49.615Z"
   },
   {
    "duration": 4,
    "start_time": "2022-08-17T14:56:56.581Z"
   },
   {
    "duration": 1974,
    "start_time": "2022-08-17T14:56:56.586Z"
   },
   {
    "duration": 5,
    "start_time": "2022-08-17T14:56:58.562Z"
   },
   {
    "duration": 132,
    "start_time": "2022-08-17T14:56:58.568Z"
   },
   {
    "duration": 3,
    "start_time": "2022-08-17T14:56:58.701Z"
   },
   {
    "duration": 56294,
    "start_time": "2022-08-17T14:56:58.705Z"
   },
   {
    "duration": 16,
    "start_time": "2022-08-17T14:57:55.000Z"
   },
   {
    "duration": 14,
    "start_time": "2022-08-17T14:57:55.018Z"
   },
   {
    "duration": 151,
    "start_time": "2022-08-17T14:57:55.034Z"
   },
   {
    "duration": 3,
    "start_time": "2022-08-17T14:57:55.187Z"
   },
   {
    "duration": 15,
    "start_time": "2022-08-17T14:57:55.191Z"
   },
   {
    "duration": 4,
    "start_time": "2022-08-17T14:57:55.207Z"
   },
   {
    "duration": 133,
    "start_time": "2022-08-17T14:57:55.213Z"
   },
   {
    "duration": 3,
    "start_time": "2022-08-17T14:57:55.348Z"
   },
   {
    "duration": 9,
    "start_time": "2022-08-17T14:57:55.359Z"
   },
   {
    "duration": 101,
    "start_time": "2022-08-17T14:57:55.370Z"
   },
   {
    "duration": 0,
    "start_time": "2022-08-17T14:57:55.472Z"
   },
   {
    "duration": 1,
    "start_time": "2022-08-17T14:57:55.473Z"
   },
   {
    "duration": 0,
    "start_time": "2022-08-17T14:57:55.474Z"
   },
   {
    "duration": 0,
    "start_time": "2022-08-17T14:57:55.475Z"
   },
   {
    "duration": 0,
    "start_time": "2022-08-17T14:57:55.476Z"
   },
   {
    "duration": 301,
    "start_time": "2022-08-17T15:03:06.039Z"
   },
   {
    "duration": 11,
    "start_time": "2022-08-17T15:04:05.155Z"
   },
   {
    "duration": 6,
    "start_time": "2022-08-17T15:04:19.735Z"
   },
   {
    "duration": 4,
    "start_time": "2022-08-17T15:04:35.517Z"
   },
   {
    "duration": 3,
    "start_time": "2022-08-17T15:04:37.583Z"
   },
   {
    "duration": 111,
    "start_time": "2022-08-17T15:05:02.138Z"
   },
   {
    "duration": 10,
    "start_time": "2022-08-17T15:05:25.495Z"
   },
   {
    "duration": 11,
    "start_time": "2022-08-17T15:05:50.150Z"
   },
   {
    "duration": 14,
    "start_time": "2022-08-17T15:06:08.462Z"
   }
  ],
  "kernelspec": {
   "display_name": "Python 3 (ipykernel)",
   "language": "python",
   "name": "python3"
  },
  "language_info": {
   "codemirror_mode": {
    "name": "ipython",
    "version": 3
   },
   "file_extension": ".py",
   "mimetype": "text/x-python",
   "name": "python",
   "nbconvert_exporter": "python",
   "pygments_lexer": "ipython3",
   "version": "3.9.7"
  },
  "toc": {
   "base_numbering": 1,
   "nav_menu": {},
   "number_sections": true,
   "sideBar": true,
   "skip_h1_title": true,
   "title_cell": "Table of Contents",
   "title_sidebar": "Contents",
   "toc_cell": false,
   "toc_position": {
    "height": "calc(100% - 180px)",
    "left": "10px",
    "top": "150px",
    "width": "228px"
   },
   "toc_section_display": true,
   "toc_window_display": true
  }
 },
 "nbformat": 4,
 "nbformat_minor": 2
}
