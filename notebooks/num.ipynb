{
 "cells": [
  {
   "cell_type": "markdown",
   "metadata": {},
   "source": [
    "# Определение стоимости автомобилей"
   ]
  },
  {
   "cell_type": "markdown",
   "metadata": {},
   "source": [
    "Сервис по продаже автомобилей с пробегом «Не бит, не крашен» разрабатывает приложение для привлечения новых клиентов. В нём можно быстро узнать рыночную стоимость своего автомобиля. В вашем распоряжении исторические данные: технические характеристики, комплектации и цены автомобилей. Вам нужно построить модель для определения стоимости. \n",
    "\n",
    "Заказчику важны:\n",
    "\n",
    "- качество предсказания;\n",
    "- скорость предсказания;\n",
    "- время обучения."
   ]
  },
  {
   "cell_type": "markdown",
   "metadata": {},
   "source": [
    "## Подготовка данных"
   ]
  },
  {
   "cell_type": "code",
   "execution_count": 1,
   "metadata": {},
   "outputs": [],
   "source": [
    "import pandas as pd\n",
    "import matplotlib.pyplot as plt\n",
    "import seaborn as sns\n",
    "import numpy as np\n",
    "import time\n",
    "\n",
    "\n",
    "from sklearn.preprocessing import OneHotEncoder, LabelEncoder\n",
    "from sklearn.model_selection import cross_val_score, KFold, GridSearchCV, train_test_split\n",
    "from sklearn.metrics import mean_squared_error as mse\n",
    "from sklearn.linear_model import SGDRegressor \n",
    "\n",
    "from sklearn.linear_model import LinearRegression, Lasso, Ridge\n",
    "from sklearn.ensemble import RandomForestRegressor\n",
    "\n",
    "from catboost import CatBoostRegressor\n",
    "from lightgbm import LGBMRegressor\n",
    "\n",
    "import warnings\n",
    "warnings.filterwarnings('ignore')"
   ]
  },
  {
   "cell_type": "code",
   "execution_count": 1,
   "metadata": {},
   "outputs": [
    {
     "ename": "NameError",
     "evalue": "name 'pd' is not defined",
     "output_type": "error",
     "traceback": [
      "\u001b[0;31m---------------------------------------------------------------------------\u001b[0m",
      "\u001b[0;31mNameError\u001b[0m                                 Traceback (most recent call last)",
      "\u001b[0;32m/tmp/ipykernel_48/2246749803.py\u001b[0m in \u001b[0;36m<module>\u001b[0;34m\u001b[0m\n\u001b[0;32m----> 1\u001b[0;31m \u001b[0mdf\u001b[0m \u001b[0;34m=\u001b[0m \u001b[0mpd\u001b[0m\u001b[0;34m.\u001b[0m\u001b[0mread_csv\u001b[0m\u001b[0;34m(\u001b[0m\u001b[0;34m'/datasets/autos.csv'\u001b[0m\u001b[0;34m)\u001b[0m\u001b[0;34m\u001b[0m\u001b[0;34m\u001b[0m\u001b[0m\n\u001b[0m",
      "\u001b[0;31mNameError\u001b[0m: name 'pd' is not defined"
     ]
    }
   ],
   "source": [
    "df = pd.read_csv('/datasets/autos.csv')"
   ]
  },
  {
   "cell_type": "markdown",
   "metadata": {},
   "source": [
    "Откроем файл и изучим документацию:"
   ]
  },
  {
   "cell_type": "code",
   "execution_count": 3,
   "metadata": {},
   "outputs": [
    {
     "data": {
      "text/html": [
       "<div>\n",
       "<style scoped>\n",
       "    .dataframe tbody tr th:only-of-type {\n",
       "        vertical-align: middle;\n",
       "    }\n",
       "\n",
       "    .dataframe tbody tr th {\n",
       "        vertical-align: top;\n",
       "    }\n",
       "\n",
       "    .dataframe thead th {\n",
       "        text-align: right;\n",
       "    }\n",
       "</style>\n",
       "<table border=\"1\" class=\"dataframe\">\n",
       "  <thead>\n",
       "    <tr style=\"text-align: right;\">\n",
       "      <th></th>\n",
       "      <th>DateCrawled</th>\n",
       "      <th>Price</th>\n",
       "      <th>VehicleType</th>\n",
       "      <th>RegistrationYear</th>\n",
       "      <th>Gearbox</th>\n",
       "      <th>Power</th>\n",
       "      <th>Model</th>\n",
       "      <th>Kilometer</th>\n",
       "      <th>RegistrationMonth</th>\n",
       "      <th>FuelType</th>\n",
       "      <th>Brand</th>\n",
       "      <th>Repaired</th>\n",
       "      <th>DateCreated</th>\n",
       "      <th>NumberOfPictures</th>\n",
       "      <th>PostalCode</th>\n",
       "      <th>LastSeen</th>\n",
       "    </tr>\n",
       "  </thead>\n",
       "  <tbody>\n",
       "    <tr>\n",
       "      <th>0</th>\n",
       "      <td>2016-03-24 11:52:17</td>\n",
       "      <td>480</td>\n",
       "      <td>NaN</td>\n",
       "      <td>1993</td>\n",
       "      <td>manual</td>\n",
       "      <td>0</td>\n",
       "      <td>golf</td>\n",
       "      <td>150000</td>\n",
       "      <td>0</td>\n",
       "      <td>petrol</td>\n",
       "      <td>volkswagen</td>\n",
       "      <td>NaN</td>\n",
       "      <td>2016-03-24 00:00:00</td>\n",
       "      <td>0</td>\n",
       "      <td>70435</td>\n",
       "      <td>2016-04-07 03:16:57</td>\n",
       "    </tr>\n",
       "    <tr>\n",
       "      <th>1</th>\n",
       "      <td>2016-03-24 10:58:45</td>\n",
       "      <td>18300</td>\n",
       "      <td>coupe</td>\n",
       "      <td>2011</td>\n",
       "      <td>manual</td>\n",
       "      <td>190</td>\n",
       "      <td>NaN</td>\n",
       "      <td>125000</td>\n",
       "      <td>5</td>\n",
       "      <td>gasoline</td>\n",
       "      <td>audi</td>\n",
       "      <td>yes</td>\n",
       "      <td>2016-03-24 00:00:00</td>\n",
       "      <td>0</td>\n",
       "      <td>66954</td>\n",
       "      <td>2016-04-07 01:46:50</td>\n",
       "    </tr>\n",
       "    <tr>\n",
       "      <th>2</th>\n",
       "      <td>2016-03-14 12:52:21</td>\n",
       "      <td>9800</td>\n",
       "      <td>suv</td>\n",
       "      <td>2004</td>\n",
       "      <td>auto</td>\n",
       "      <td>163</td>\n",
       "      <td>grand</td>\n",
       "      <td>125000</td>\n",
       "      <td>8</td>\n",
       "      <td>gasoline</td>\n",
       "      <td>jeep</td>\n",
       "      <td>NaN</td>\n",
       "      <td>2016-03-14 00:00:00</td>\n",
       "      <td>0</td>\n",
       "      <td>90480</td>\n",
       "      <td>2016-04-05 12:47:46</td>\n",
       "    </tr>\n",
       "    <tr>\n",
       "      <th>3</th>\n",
       "      <td>2016-03-17 16:54:04</td>\n",
       "      <td>1500</td>\n",
       "      <td>small</td>\n",
       "      <td>2001</td>\n",
       "      <td>manual</td>\n",
       "      <td>75</td>\n",
       "      <td>golf</td>\n",
       "      <td>150000</td>\n",
       "      <td>6</td>\n",
       "      <td>petrol</td>\n",
       "      <td>volkswagen</td>\n",
       "      <td>no</td>\n",
       "      <td>2016-03-17 00:00:00</td>\n",
       "      <td>0</td>\n",
       "      <td>91074</td>\n",
       "      <td>2016-03-17 17:40:17</td>\n",
       "    </tr>\n",
       "    <tr>\n",
       "      <th>4</th>\n",
       "      <td>2016-03-31 17:25:20</td>\n",
       "      <td>3600</td>\n",
       "      <td>small</td>\n",
       "      <td>2008</td>\n",
       "      <td>manual</td>\n",
       "      <td>69</td>\n",
       "      <td>fabia</td>\n",
       "      <td>90000</td>\n",
       "      <td>7</td>\n",
       "      <td>gasoline</td>\n",
       "      <td>skoda</td>\n",
       "      <td>no</td>\n",
       "      <td>2016-03-31 00:00:00</td>\n",
       "      <td>0</td>\n",
       "      <td>60437</td>\n",
       "      <td>2016-04-06 10:17:21</td>\n",
       "    </tr>\n",
       "  </tbody>\n",
       "</table>\n",
       "</div>"
      ],
      "text/plain": [
       "           DateCrawled  Price VehicleType  RegistrationYear Gearbox  Power  \\\n",
       "0  2016-03-24 11:52:17    480         NaN              1993  manual      0   \n",
       "1  2016-03-24 10:58:45  18300       coupe              2011  manual    190   \n",
       "2  2016-03-14 12:52:21   9800         suv              2004    auto    163   \n",
       "3  2016-03-17 16:54:04   1500       small              2001  manual     75   \n",
       "4  2016-03-31 17:25:20   3600       small              2008  manual     69   \n",
       "\n",
       "   Model  Kilometer  RegistrationMonth  FuelType       Brand Repaired  \\\n",
       "0   golf     150000                  0    petrol  volkswagen      NaN   \n",
       "1    NaN     125000                  5  gasoline        audi      yes   \n",
       "2  grand     125000                  8  gasoline        jeep      NaN   \n",
       "3   golf     150000                  6    petrol  volkswagen       no   \n",
       "4  fabia      90000                  7  gasoline       skoda       no   \n",
       "\n",
       "           DateCreated  NumberOfPictures  PostalCode             LastSeen  \n",
       "0  2016-03-24 00:00:00                 0       70435  2016-04-07 03:16:57  \n",
       "1  2016-03-24 00:00:00                 0       66954  2016-04-07 01:46:50  \n",
       "2  2016-03-14 00:00:00                 0       90480  2016-04-05 12:47:46  \n",
       "3  2016-03-17 00:00:00                 0       91074  2016-03-17 17:40:17  \n",
       "4  2016-03-31 00:00:00                 0       60437  2016-04-06 10:17:21  "
      ]
     },
     "execution_count": 3,
     "metadata": {},
     "output_type": "execute_result"
    }
   ],
   "source": [
    "df.head(5)"
   ]
  },
  {
   "cell_type": "code",
   "execution_count": 4,
   "metadata": {},
   "outputs": [
    {
     "name": "stdout",
     "output_type": "stream",
     "text": [
      "<class 'pandas.core.frame.DataFrame'>\n",
      "RangeIndex: 354369 entries, 0 to 354368\n",
      "Data columns (total 16 columns):\n",
      " #   Column             Non-Null Count   Dtype \n",
      "---  ------             --------------   ----- \n",
      " 0   DateCrawled        354369 non-null  object\n",
      " 1   Price              354369 non-null  int64 \n",
      " 2   VehicleType        316879 non-null  object\n",
      " 3   RegistrationYear   354369 non-null  int64 \n",
      " 4   Gearbox            334536 non-null  object\n",
      " 5   Power              354369 non-null  int64 \n",
      " 6   Model              334664 non-null  object\n",
      " 7   Kilometer          354369 non-null  int64 \n",
      " 8   RegistrationMonth  354369 non-null  int64 \n",
      " 9   FuelType           321474 non-null  object\n",
      " 10  Brand              354369 non-null  object\n",
      " 11  Repaired           283215 non-null  object\n",
      " 12  DateCreated        354369 non-null  object\n",
      " 13  NumberOfPictures   354369 non-null  int64 \n",
      " 14  PostalCode         354369 non-null  int64 \n",
      " 15  LastSeen           354369 non-null  object\n",
      "dtypes: int64(7), object(9)\n",
      "memory usage: 43.3+ MB\n"
     ]
    }
   ],
   "source": [
    "df.info()"
   ]
  },
  {
   "cell_type": "markdown",
   "metadata": {},
   "source": [
    "Итак, в таблице 16 столбцв. Тип данных в столбцах — object, int64.\n",
    "\n",
    "Согласно документации к данным:\n",
    "\n",
    "**Признаки**\n",
    "\n",
    "* DateCrawled — дата скачивания анкеты из базы\n",
    "* VehicleType — тип автомобильного кузова\n",
    "* RegistrationYear — год регистрации автомобиля\n",
    "* Gearbox — тип коробки передач\n",
    "* Power — мощность (л. с.)\n",
    "* Model — модель автомобиля\n",
    "* Kilometer — пробег (км)\n",
    "* RegistrationMonth — месяц регистрации автомобиля\n",
    "* FuelType — тип топлива\n",
    "* Brand — марка автомобиля\n",
    "* Repaired — была машина в ремонте или нет\n",
    "* DateCreated — дата создания анкеты\n",
    "* NumberOfPictures — количество фотографий автомобиля\n",
    "* PostalCode — почтовый индекс владельца анкеты (пользователя)\n",
    "* LastSeen — дата последней активности пользователя\n",
    "\n",
    "**Целевой признак**\n",
    "\n",
    "* Price — цена (евро)"
   ]
  },
  {
   "cell_type": "markdown",
   "metadata": {},
   "source": [
    "Количество значений в столбцах отличаются от общего размера таблицы. Значит, в данных есть пропущенные значения, причину которых нужно выяснить.\n",
    "\n",
    "**Выводы**\n",
    "\n",
    "Данные представляют собой полную сводку информации о моделях машины. \n",
    "\n",
    "Предварительно можно утверждать, что данных достаточно для исследования, но встречаются пропуски.\n",
    "\n",
    "Чтобы двигаться дальше, нужно устранить проблемы в данных."
   ]
  },
  {
   "cell_type": "markdown",
   "metadata": {},
   "source": [
    "## Предобработка данных"
   ]
  },
  {
   "cell_type": "markdown",
   "metadata": {},
   "source": [
    "### Стиль колонок, дубликаты"
   ]
  },
  {
   "cell_type": "markdown",
   "metadata": {},
   "source": [
    "Хороший стиль обязывает перевести названия столбцов в нижний регистр.\n",
    "\n",
    "Тогда сделаем следующее:"
   ]
  },
  {
   "cell_type": "code",
   "execution_count": 5,
   "metadata": {},
   "outputs": [],
   "source": [
    "df.columns = df.columns.str.lower()"
   ]
  },
  {
   "cell_type": "code",
   "execution_count": 6,
   "metadata": {},
   "outputs": [
    {
     "data": {
      "text/plain": [
       "Index(['datecrawled', 'price', 'vehicletype', 'registrationyear', 'gearbox',\n",
       "       'power', 'model', 'kilometer', 'registrationmonth', 'fueltype', 'brand',\n",
       "       'repaired', 'datecreated', 'numberofpictures', 'postalcode',\n",
       "       'lastseen'],\n",
       "      dtype='object')"
      ]
     },
     "execution_count": 6,
     "metadata": {},
     "output_type": "execute_result"
    }
   ],
   "source": [
    "df.columns"
   ]
  },
  {
   "cell_type": "code",
   "execution_count": 7,
   "metadata": {},
   "outputs": [],
   "source": [
    "df = df.rename(columns={'datecrawled': 'date_crawled', \n",
    "                        'vehicletype' : 'vehicle_type',\n",
    "                        'registrationyear' : 'registration_year', \n",
    "                        'gearbox' : 'gear_box', \n",
    "                        'registrationmonth' : 'registration_month',\n",
    "                        'fueltype' : 'fuel_type', \n",
    "                       'datecreated' : 'date_created',\n",
    "                       'numberofpictures' : 'number_of_pictures', \n",
    "                       'postalcode' : 'postal_code',\n",
    "                       'lastseen' : 'last_seen'})"
   ]
  },
  {
   "cell_type": "markdown",
   "metadata": {},
   "source": [
    "Убедимся в отсутствии дубликатов:"
   ]
  },
  {
   "cell_type": "code",
   "execution_count": 8,
   "metadata": {},
   "outputs": [
    {
     "data": {
      "text/plain": [
       "False"
      ]
     },
     "execution_count": 8,
     "metadata": {},
     "output_type": "execute_result"
    }
   ],
   "source": [
    "df.duplicated().sum() == 0"
   ]
  },
  {
   "cell_type": "code",
   "execution_count": 9,
   "metadata": {},
   "outputs": [
    {
     "name": "stdout",
     "output_type": "stream",
     "text": [
      "Количество дубликатов: 4\n"
     ]
    }
   ],
   "source": [
    "print(f'Количество дубликатов: {df.duplicated().sum()}')"
   ]
  },
  {
   "cell_type": "markdown",
   "metadata": {},
   "source": [
    "Удалим дубликаты:"
   ]
  },
  {
   "cell_type": "code",
   "execution_count": 10,
   "metadata": {},
   "outputs": [
    {
     "data": {
      "text/html": [
       "<div>\n",
       "<style scoped>\n",
       "    .dataframe tbody tr th:only-of-type {\n",
       "        vertical-align: middle;\n",
       "    }\n",
       "\n",
       "    .dataframe tbody tr th {\n",
       "        vertical-align: top;\n",
       "    }\n",
       "\n",
       "    .dataframe thead th {\n",
       "        text-align: right;\n",
       "    }\n",
       "</style>\n",
       "<table border=\"1\" class=\"dataframe\">\n",
       "  <thead>\n",
       "    <tr style=\"text-align: right;\">\n",
       "      <th></th>\n",
       "      <th>date_crawled</th>\n",
       "      <th>price</th>\n",
       "      <th>vehicle_type</th>\n",
       "      <th>registration_year</th>\n",
       "      <th>gear_box</th>\n",
       "      <th>power</th>\n",
       "      <th>model</th>\n",
       "      <th>kilometer</th>\n",
       "      <th>registration_month</th>\n",
       "      <th>fuel_type</th>\n",
       "      <th>brand</th>\n",
       "      <th>repaired</th>\n",
       "      <th>date_created</th>\n",
       "      <th>number_of_pictures</th>\n",
       "      <th>postal_code</th>\n",
       "      <th>last_seen</th>\n",
       "    </tr>\n",
       "  </thead>\n",
       "  <tbody>\n",
       "    <tr>\n",
       "      <th>0</th>\n",
       "      <td>2016-03-24 11:52:17</td>\n",
       "      <td>480</td>\n",
       "      <td>NaN</td>\n",
       "      <td>1993</td>\n",
       "      <td>manual</td>\n",
       "      <td>0</td>\n",
       "      <td>golf</td>\n",
       "      <td>150000</td>\n",
       "      <td>0</td>\n",
       "      <td>petrol</td>\n",
       "      <td>volkswagen</td>\n",
       "      <td>NaN</td>\n",
       "      <td>2016-03-24 00:00:00</td>\n",
       "      <td>0</td>\n",
       "      <td>70435</td>\n",
       "      <td>2016-04-07 03:16:57</td>\n",
       "    </tr>\n",
       "    <tr>\n",
       "      <th>1</th>\n",
       "      <td>2016-03-24 10:58:45</td>\n",
       "      <td>18300</td>\n",
       "      <td>coupe</td>\n",
       "      <td>2011</td>\n",
       "      <td>manual</td>\n",
       "      <td>190</td>\n",
       "      <td>NaN</td>\n",
       "      <td>125000</td>\n",
       "      <td>5</td>\n",
       "      <td>gasoline</td>\n",
       "      <td>audi</td>\n",
       "      <td>yes</td>\n",
       "      <td>2016-03-24 00:00:00</td>\n",
       "      <td>0</td>\n",
       "      <td>66954</td>\n",
       "      <td>2016-04-07 01:46:50</td>\n",
       "    </tr>\n",
       "    <tr>\n",
       "      <th>2</th>\n",
       "      <td>2016-03-14 12:52:21</td>\n",
       "      <td>9800</td>\n",
       "      <td>suv</td>\n",
       "      <td>2004</td>\n",
       "      <td>auto</td>\n",
       "      <td>163</td>\n",
       "      <td>grand</td>\n",
       "      <td>125000</td>\n",
       "      <td>8</td>\n",
       "      <td>gasoline</td>\n",
       "      <td>jeep</td>\n",
       "      <td>NaN</td>\n",
       "      <td>2016-03-14 00:00:00</td>\n",
       "      <td>0</td>\n",
       "      <td>90480</td>\n",
       "      <td>2016-04-05 12:47:46</td>\n",
       "    </tr>\n",
       "    <tr>\n",
       "      <th>3</th>\n",
       "      <td>2016-03-17 16:54:04</td>\n",
       "      <td>1500</td>\n",
       "      <td>small</td>\n",
       "      <td>2001</td>\n",
       "      <td>manual</td>\n",
       "      <td>75</td>\n",
       "      <td>golf</td>\n",
       "      <td>150000</td>\n",
       "      <td>6</td>\n",
       "      <td>petrol</td>\n",
       "      <td>volkswagen</td>\n",
       "      <td>no</td>\n",
       "      <td>2016-03-17 00:00:00</td>\n",
       "      <td>0</td>\n",
       "      <td>91074</td>\n",
       "      <td>2016-03-17 17:40:17</td>\n",
       "    </tr>\n",
       "    <tr>\n",
       "      <th>4</th>\n",
       "      <td>2016-03-31 17:25:20</td>\n",
       "      <td>3600</td>\n",
       "      <td>small</td>\n",
       "      <td>2008</td>\n",
       "      <td>manual</td>\n",
       "      <td>69</td>\n",
       "      <td>fabia</td>\n",
       "      <td>90000</td>\n",
       "      <td>7</td>\n",
       "      <td>gasoline</td>\n",
       "      <td>skoda</td>\n",
       "      <td>no</td>\n",
       "      <td>2016-03-31 00:00:00</td>\n",
       "      <td>0</td>\n",
       "      <td>60437</td>\n",
       "      <td>2016-04-06 10:17:21</td>\n",
       "    </tr>\n",
       "    <tr>\n",
       "      <th>...</th>\n",
       "      <td>...</td>\n",
       "      <td>...</td>\n",
       "      <td>...</td>\n",
       "      <td>...</td>\n",
       "      <td>...</td>\n",
       "      <td>...</td>\n",
       "      <td>...</td>\n",
       "      <td>...</td>\n",
       "      <td>...</td>\n",
       "      <td>...</td>\n",
       "      <td>...</td>\n",
       "      <td>...</td>\n",
       "      <td>...</td>\n",
       "      <td>...</td>\n",
       "      <td>...</td>\n",
       "      <td>...</td>\n",
       "    </tr>\n",
       "    <tr>\n",
       "      <th>354360</th>\n",
       "      <td>2016-03-21 09:50:58</td>\n",
       "      <td>0</td>\n",
       "      <td>NaN</td>\n",
       "      <td>2005</td>\n",
       "      <td>manual</td>\n",
       "      <td>0</td>\n",
       "      <td>colt</td>\n",
       "      <td>150000</td>\n",
       "      <td>7</td>\n",
       "      <td>petrol</td>\n",
       "      <td>mitsubishi</td>\n",
       "      <td>yes</td>\n",
       "      <td>2016-03-21 00:00:00</td>\n",
       "      <td>0</td>\n",
       "      <td>2694</td>\n",
       "      <td>2016-03-21 10:42:49</td>\n",
       "    </tr>\n",
       "    <tr>\n",
       "      <th>354361</th>\n",
       "      <td>2016-03-14 17:48:27</td>\n",
       "      <td>2200</td>\n",
       "      <td>NaN</td>\n",
       "      <td>2005</td>\n",
       "      <td>NaN</td>\n",
       "      <td>0</td>\n",
       "      <td>NaN</td>\n",
       "      <td>20000</td>\n",
       "      <td>1</td>\n",
       "      <td>NaN</td>\n",
       "      <td>sonstige_autos</td>\n",
       "      <td>NaN</td>\n",
       "      <td>2016-03-14 00:00:00</td>\n",
       "      <td>0</td>\n",
       "      <td>39576</td>\n",
       "      <td>2016-04-06 00:46:52</td>\n",
       "    </tr>\n",
       "    <tr>\n",
       "      <th>354362</th>\n",
       "      <td>2016-03-05 19:56:21</td>\n",
       "      <td>1199</td>\n",
       "      <td>convertible</td>\n",
       "      <td>2000</td>\n",
       "      <td>auto</td>\n",
       "      <td>101</td>\n",
       "      <td>fortwo</td>\n",
       "      <td>125000</td>\n",
       "      <td>3</td>\n",
       "      <td>petrol</td>\n",
       "      <td>smart</td>\n",
       "      <td>no</td>\n",
       "      <td>2016-03-05 00:00:00</td>\n",
       "      <td>0</td>\n",
       "      <td>26135</td>\n",
       "      <td>2016-03-11 18:17:12</td>\n",
       "    </tr>\n",
       "    <tr>\n",
       "      <th>354363</th>\n",
       "      <td>2016-03-19 18:57:12</td>\n",
       "      <td>9200</td>\n",
       "      <td>bus</td>\n",
       "      <td>1996</td>\n",
       "      <td>manual</td>\n",
       "      <td>102</td>\n",
       "      <td>transporter</td>\n",
       "      <td>150000</td>\n",
       "      <td>3</td>\n",
       "      <td>gasoline</td>\n",
       "      <td>volkswagen</td>\n",
       "      <td>no</td>\n",
       "      <td>2016-03-19 00:00:00</td>\n",
       "      <td>0</td>\n",
       "      <td>87439</td>\n",
       "      <td>2016-04-07 07:15:26</td>\n",
       "    </tr>\n",
       "    <tr>\n",
       "      <th>354364</th>\n",
       "      <td>2016-03-20 19:41:08</td>\n",
       "      <td>3400</td>\n",
       "      <td>wagon</td>\n",
       "      <td>2002</td>\n",
       "      <td>manual</td>\n",
       "      <td>100</td>\n",
       "      <td>golf</td>\n",
       "      <td>150000</td>\n",
       "      <td>6</td>\n",
       "      <td>gasoline</td>\n",
       "      <td>volkswagen</td>\n",
       "      <td>NaN</td>\n",
       "      <td>2016-03-20 00:00:00</td>\n",
       "      <td>0</td>\n",
       "      <td>40764</td>\n",
       "      <td>2016-03-24 12:45:21</td>\n",
       "    </tr>\n",
       "  </tbody>\n",
       "</table>\n",
       "<p>354365 rows × 16 columns</p>\n",
       "</div>"
      ],
      "text/plain": [
       "               date_crawled  price vehicle_type  registration_year gear_box  \\\n",
       "0       2016-03-24 11:52:17    480          NaN               1993   manual   \n",
       "1       2016-03-24 10:58:45  18300        coupe               2011   manual   \n",
       "2       2016-03-14 12:52:21   9800          suv               2004     auto   \n",
       "3       2016-03-17 16:54:04   1500        small               2001   manual   \n",
       "4       2016-03-31 17:25:20   3600        small               2008   manual   \n",
       "...                     ...    ...          ...                ...      ...   \n",
       "354360  2016-03-21 09:50:58      0          NaN               2005   manual   \n",
       "354361  2016-03-14 17:48:27   2200          NaN               2005      NaN   \n",
       "354362  2016-03-05 19:56:21   1199  convertible               2000     auto   \n",
       "354363  2016-03-19 18:57:12   9200          bus               1996   manual   \n",
       "354364  2016-03-20 19:41:08   3400        wagon               2002   manual   \n",
       "\n",
       "        power        model  kilometer  registration_month fuel_type  \\\n",
       "0           0         golf     150000                   0    petrol   \n",
       "1         190          NaN     125000                   5  gasoline   \n",
       "2         163        grand     125000                   8  gasoline   \n",
       "3          75         golf     150000                   6    petrol   \n",
       "4          69        fabia      90000                   7  gasoline   \n",
       "...       ...          ...        ...                 ...       ...   \n",
       "354360      0         colt     150000                   7    petrol   \n",
       "354361      0          NaN      20000                   1       NaN   \n",
       "354362    101       fortwo     125000                   3    petrol   \n",
       "354363    102  transporter     150000                   3  gasoline   \n",
       "354364    100         golf     150000                   6  gasoline   \n",
       "\n",
       "                 brand repaired         date_created  number_of_pictures  \\\n",
       "0           volkswagen      NaN  2016-03-24 00:00:00                   0   \n",
       "1                 audi      yes  2016-03-24 00:00:00                   0   \n",
       "2                 jeep      NaN  2016-03-14 00:00:00                   0   \n",
       "3           volkswagen       no  2016-03-17 00:00:00                   0   \n",
       "4                skoda       no  2016-03-31 00:00:00                   0   \n",
       "...                ...      ...                  ...                 ...   \n",
       "354360      mitsubishi      yes  2016-03-21 00:00:00                   0   \n",
       "354361  sonstige_autos      NaN  2016-03-14 00:00:00                   0   \n",
       "354362           smart       no  2016-03-05 00:00:00                   0   \n",
       "354363      volkswagen       no  2016-03-19 00:00:00                   0   \n",
       "354364      volkswagen      NaN  2016-03-20 00:00:00                   0   \n",
       "\n",
       "        postal_code            last_seen  \n",
       "0             70435  2016-04-07 03:16:57  \n",
       "1             66954  2016-04-07 01:46:50  \n",
       "2             90480  2016-04-05 12:47:46  \n",
       "3             91074  2016-03-17 17:40:17  \n",
       "4             60437  2016-04-06 10:17:21  \n",
       "...             ...                  ...  \n",
       "354360         2694  2016-03-21 10:42:49  \n",
       "354361        39576  2016-04-06 00:46:52  \n",
       "354362        26135  2016-03-11 18:17:12  \n",
       "354363        87439  2016-04-07 07:15:26  \n",
       "354364        40764  2016-03-24 12:45:21  \n",
       "\n",
       "[354365 rows x 16 columns]"
      ]
     },
     "execution_count": 10,
     "metadata": {},
     "output_type": "execute_result"
    }
   ],
   "source": [
    "df.drop_duplicates().reset_index(drop=True)"
   ]
  },
  {
   "cell_type": "markdown",
   "metadata": {},
   "source": [
    "### Определение и заполнение пропусков"
   ]
  },
  {
   "cell_type": "markdown",
   "metadata": {},
   "source": [
    "Проверим дествительно ли есть пропуски и в каких столбцах конкретно:"
   ]
  },
  {
   "cell_type": "code",
   "execution_count": 11,
   "metadata": {},
   "outputs": [
    {
     "data": {
      "text/plain": [
       "date_crawled           0.000000\n",
       "price                  0.000000\n",
       "vehicle_type          10.579368\n",
       "registration_year      0.000000\n",
       "gear_box               5.596709\n",
       "power                  0.000000\n",
       "model                  5.560588\n",
       "kilometer              0.000000\n",
       "registration_month     0.000000\n",
       "fuel_type              9.282697\n",
       "brand                  0.000000\n",
       "repaired              20.079070\n",
       "date_created           0.000000\n",
       "number_of_pictures     0.000000\n",
       "postal_code            0.000000\n",
       "last_seen              0.000000\n",
       "dtype: float64"
      ]
     },
     "execution_count": 11,
     "metadata": {},
     "output_type": "execute_result"
    }
   ],
   "source": [
    "df.isna().mean()*100"
   ]
  },
  {
   "cell_type": "markdown",
   "metadata": {},
   "source": [
    "Около 40% данных отсутствуют в датасете. Более того, пропуски преимущественно находятся в столбце `repaired`. Предполагаемой причиной может являться банальная ошибка системы. Также если в `repaired` пропущено, можем считать, что продавец имеет ввиду отсутствие ремонта, тогда:"
   ]
  },
  {
   "cell_type": "code",
   "execution_count": 12,
   "metadata": {},
   "outputs": [
    {
     "data": {
      "text/plain": [
       "array([nan, 'yes', 'no'], dtype=object)"
      ]
     },
     "execution_count": 12,
     "metadata": {},
     "output_type": "execute_result"
    }
   ],
   "source": [
    "df['repaired'].unique()"
   ]
  },
  {
   "cell_type": "code",
   "execution_count": 13,
   "metadata": {},
   "outputs": [],
   "source": [
    "df[\"repaired\"].fillna(\"no\", inplace=True)"
   ]
  },
  {
   "cell_type": "markdown",
   "metadata": {},
   "source": [
    "Теперь же обработаем пропуски в `vehicle_type`:"
   ]
  },
  {
   "cell_type": "markdown",
   "metadata": {},
   "source": [
    "Предлагаю следующий образ заполнения пропусков - заполним пропуски заглушками \"unknown\":"
   ]
  },
  {
   "cell_type": "code",
   "execution_count": 14,
   "metadata": {},
   "outputs": [],
   "source": [
    "df[\"vehicle_type\"] = df[\"vehicle_type\"].fillna(\"unknown\")\n",
    "df[\"model\"] = df[\"model\"].fillna(\"unknown\")"
   ]
  },
  {
   "cell_type": "markdown",
   "metadata": {},
   "source": [
    "Остальные пропуски удалим:"
   ]
  },
  {
   "cell_type": "code",
   "execution_count": 15,
   "metadata": {},
   "outputs": [],
   "source": [
    "df.dropna(inplace=True)"
   ]
  },
  {
   "cell_type": "markdown",
   "metadata": {},
   "source": [
    "Также удалим ненужные для дальнейшей работы колонки:"
   ]
  },
  {
   "cell_type": "code",
   "execution_count": 16,
   "metadata": {},
   "outputs": [],
   "source": [
    "df = df.drop([\"postal_code\", \"last_seen\", \"registration_month\", \"registration_year\"], axis=1)"
   ]
  },
  {
   "cell_type": "code",
   "execution_count": 17,
   "metadata": {},
   "outputs": [],
   "source": [
    "df[\"date_crawled\"] = pd.to_datetime(df[\"date_crawled\"]).dt.round(\"D\")\n",
    "df[\"date_created\"] = pd.to_datetime(df[\"date_created\"]).dt.round(\"D\")"
   ]
  },
  {
   "cell_type": "code",
   "execution_count": 18,
   "metadata": {},
   "outputs": [
    {
     "data": {
      "text/plain": [
       "1 days    243436\n",
       "0 days     64857\n",
       "2 days       977\n",
       "3 days       431\n",
       "7 days        76\n",
       "dtype: int64"
      ]
     },
     "execution_count": 18,
     "metadata": {},
     "output_type": "execute_result"
    }
   ],
   "source": [
    "difference = (df[\"date_crawled\"] - df[\"date_created\"])\n",
    "\n",
    "difference.value_counts()[:5]"
   ]
  },
  {
   "cell_type": "markdown",
   "metadata": {},
   "source": [
    "Большинство данных были собраны в тот же или на следующий день после выставки на продажу. Поэтому сохранять оба столбца не имеет смысла - удалим `date_crawled`:"
   ]
  },
  {
   "cell_type": "code",
   "execution_count": 19,
   "metadata": {},
   "outputs": [],
   "source": [
    "df.drop(\"date_crawled\", axis=1, inplace=True)"
   ]
  },
  {
   "cell_type": "markdown",
   "metadata": {},
   "source": [
    "### Аномалии"
   ]
  },
  {
   "cell_type": "markdown",
   "metadata": {},
   "source": [
    "Оценим аномальность параметров:"
   ]
  },
  {
   "cell_type": "code",
   "execution_count": 20,
   "metadata": {},
   "outputs": [
    {
     "data": {
      "image/png": "[encoded data removed]",
      "text/plain": [
       "<Figure size 432x288 with 3 Axes>"
      ]
     },
     "metadata": {
      "needs_background": "light"
     },
     "output_type": "display_data"
    }
   ],
   "source": [
    "fig = plt.figure()\n",
    "\n",
    "ax_1 = fig.add_subplot(1, 5, 1)\n",
    "ax_2 = fig.add_subplot(1, 5, 3)\n",
    "ax_3 = fig.add_subplot(1, 5, 5)\n",
    "\n",
    "ax_1.boxplot(df['price']);\n",
    "ax_1.set_title('price');\n",
    "ax_2.boxplot(df['power']);\n",
    "ax_2.set_title('power');\n",
    "ax_3.boxplot(df['kilometer']);\n",
    "ax_3.set_title('kilometer');\n"
   ]
  },
  {
   "cell_type": "markdown",
   "metadata": {},
   "source": [
    "Все \"выбросы\" более-менее близки к реальности, поэтому ограничивать параметры мы не будем."
   ]
  },
  {
   "cell_type": "markdown",
   "metadata": {},
   "source": [
    "### Добавим новые столбцы"
   ]
  },
  {
   "cell_type": "code",
   "execution_count": 21,
   "metadata": {},
   "outputs": [],
   "source": [
    "df[\"weekday\"] = df[\"date_created\"].dt.weekday\n",
    "df[\"month\"] = df[\"date_created\"].dt.month\n",
    "df[\"year\"] = df[\"date_created\"].dt.year\n",
    "\n",
    "df.drop('date_created', axis=1, inplace=True)"
   ]
  },
  {
   "cell_type": "markdown",
   "metadata": {},
   "source": [
    "## Обучение моделей"
   ]
  },
  {
   "cell_type": "markdown",
   "metadata": {},
   "source": [
    "### Разделение на выборки"
   ]
  },
  {
   "cell_type": "markdown",
   "metadata": {},
   "source": [
    "#### Label Encoding"
   ]
  },
  {
   "cell_type": "code",
   "execution_count": 22,
   "metadata": {},
   "outputs": [],
   "source": [
    "categorical = df.select_dtypes(include='object').columns.to_list() + ['weekday', 'month', 'year']"
   ]
  },
  {
   "cell_type": "code",
   "execution_count": 23,
   "metadata": {},
   "outputs": [],
   "source": [
    "label_encoder = LabelEncoder()\n",
    "\n",
    "for col in categorical:\n",
    "    df[col] = label_encoder.fit_transform(df[col])"
   ]
  },
  {
   "cell_type": "code",
   "execution_count": 24,
   "metadata": {},
   "outputs": [],
   "source": [
    "X_with_cat = df.drop(\"price\", axis=1)\n",
    "y = df[\"price\"]\n",
    "\n",
    "X_train_cat, X_test_cat, y_train_cat, y_test_cat = train_test_split(X_with_cat, y, test_size=0.2, random_state=421)"
   ]
  },
  {
   "cell_type": "markdown",
   "metadata": {},
   "source": [
    "#### OHE"
   ]
  },
  {
   "cell_type": "code",
   "execution_count": 25,
   "metadata": {},
   "outputs": [],
   "source": [
    "df_ohe = pd.get_dummies(df, columns=categorical, drop_first=True)"
   ]
  },
  {
   "cell_type": "code",
   "execution_count": 26,
   "metadata": {},
   "outputs": [],
   "source": [
    "X_with_cat = df_ohe.drop(\"price\", axis=1)\n",
    "y = df_ohe[\"price\"]"
   ]
  },
  {
   "cell_type": "code",
   "execution_count": 27,
   "metadata": {},
   "outputs": [],
   "source": [
    "X_train, X_test, y_train, y_test = train_test_split(\n",
    "    X_with_cat, y, \n",
    "    test_size=0.2, \n",
    "    random_state=42)"
   ]
  },
  {
   "cell_type": "markdown",
   "metadata": {},
   "source": [
    "### CatBoost"
   ]
  },
  {
   "cell_type": "code",
   "execution_count": 28,
   "metadata": {
    "scrolled": false
   },
   "outputs": [
    {
     "name": "stdout",
     "output_type": "stream",
     "text": [
      "0:\tlearn: 4138.0193631\ttotal: 144ms\tremaining: 21.5s\n",
      "10:\tlearn: 2813.8487105\ttotal: 817ms\tremaining: 10.3s\n",
      "20:\tlearn: 2685.1784944\ttotal: 1.42s\tremaining: 8.75s\n",
      "30:\tlearn: 2631.8303406\ttotal: 2.04s\tremaining: 7.85s\n",
      "40:\tlearn: 2595.4386168\ttotal: 2.69s\tremaining: 7.14s\n",
      "50:\tlearn: 2565.0103412\ttotal: 3.31s\tremaining: 6.42s\n",
      "60:\tlearn: 2542.9521930\ttotal: 3.93s\tremaining: 5.74s\n",
      "70:\tlearn: 2516.3311600\ttotal: 4.55s\tremaining: 5.06s\n",
      "80:\tlearn: 2489.2788750\ttotal: 5.17s\tremaining: 4.41s\n",
      "90:\tlearn: 2471.2300360\ttotal: 5.79s\tremaining: 3.75s\n",
      "100:\tlearn: 2456.6431523\ttotal: 6.42s\tremaining: 3.11s\n",
      "110:\tlearn: 2445.8752913\ttotal: 7.04s\tremaining: 2.47s\n",
      "120:\tlearn: 2433.3813647\ttotal: 7.65s\tremaining: 1.83s\n",
      "130:\tlearn: 2422.7109502\ttotal: 8.28s\tremaining: 1.2s\n",
      "140:\tlearn: 2414.4450555\ttotal: 8.89s\tremaining: 568ms\n",
      "149:\tlearn: 2407.7308521\ttotal: 9.43s\tremaining: 0us\n",
      "0:\tlearn: 4153.5282968\ttotal: 77.7ms\tremaining: 11.6s\n",
      "10:\tlearn: 2829.4701144\ttotal: 714ms\tremaining: 9.02s\n",
      "20:\tlearn: 2690.6891565\ttotal: 1.32s\tremaining: 8.12s\n",
      "30:\tlearn: 2635.1346530\ttotal: 1.94s\tremaining: 7.46s\n",
      "40:\tlearn: 2595.4664187\ttotal: 2.57s\tremaining: 6.84s\n",
      "50:\tlearn: 2571.3063560\ttotal: 3.19s\tremaining: 6.2s\n",
      "60:\tlearn: 2541.8001043\ttotal: 3.82s\tremaining: 5.57s\n",
      "70:\tlearn: 2516.2574754\ttotal: 4.43s\tremaining: 4.93s\n",
      "80:\tlearn: 2496.8927311\ttotal: 5.06s\tremaining: 4.31s\n",
      "90:\tlearn: 2479.9711892\ttotal: 5.7s\tremaining: 3.7s\n",
      "100:\tlearn: 2464.7345608\ttotal: 6.34s\tremaining: 3.08s\n",
      "110:\tlearn: 2454.6624306\ttotal: 6.96s\tremaining: 2.45s\n",
      "120:\tlearn: 2442.7413664\ttotal: 7.56s\tremaining: 1.81s\n",
      "130:\tlearn: 2431.4194234\ttotal: 8.18s\tremaining: 1.19s\n",
      "140:\tlearn: 2420.3958818\ttotal: 8.78s\tremaining: 560ms\n",
      "149:\tlearn: 2413.7002875\ttotal: 9.39s\tremaining: 0us\n",
      "0:\tlearn: 4146.2520586\ttotal: 75ms\tremaining: 11.2s\n",
      "10:\tlearn: 2830.2696820\ttotal: 696ms\tremaining: 8.8s\n",
      "20:\tlearn: 2689.4075559\ttotal: 1.31s\tremaining: 8.04s\n",
      "30:\tlearn: 2642.8911074\ttotal: 1.93s\tremaining: 7.4s\n",
      "40:\tlearn: 2599.7673669\ttotal: 2.58s\tremaining: 6.87s\n",
      "50:\tlearn: 2563.4737012\ttotal: 3.21s\tremaining: 6.22s\n",
      "60:\tlearn: 2537.5859788\ttotal: 3.81s\tremaining: 5.55s\n",
      "70:\tlearn: 2513.7227958\ttotal: 4.45s\tremaining: 4.95s\n",
      "80:\tlearn: 2486.5793312\ttotal: 5.07s\tremaining: 4.32s\n",
      "90:\tlearn: 2472.8787415\ttotal: 5.7s\tremaining: 3.7s\n",
      "100:\tlearn: 2456.1488114\ttotal: 6.33s\tremaining: 3.07s\n",
      "110:\tlearn: 2445.7933712\ttotal: 6.96s\tremaining: 2.44s\n",
      "120:\tlearn: 2432.8256324\ttotal: 7.57s\tremaining: 1.81s\n",
      "130:\tlearn: 2421.5845653\ttotal: 8.19s\tremaining: 1.19s\n",
      "140:\tlearn: 2410.9911496\ttotal: 8.87s\tremaining: 566ms\n",
      "149:\tlearn: 2403.3434137\ttotal: 9.41s\tremaining: 0us\n",
      "0:\tlearn: 4225.7830354\ttotal: 85.7ms\tremaining: 12.8s\n",
      "10:\tlearn: 2910.8279610\ttotal: 726ms\tremaining: 9.18s\n",
      "20:\tlearn: 2719.2061835\ttotal: 1.37s\tremaining: 8.43s\n",
      "30:\tlearn: 2661.2494454\ttotal: 2.01s\tremaining: 7.72s\n",
      "40:\tlearn: 2627.4476759\ttotal: 2.65s\tremaining: 7.05s\n",
      "50:\tlearn: 2597.4318272\ttotal: 3.26s\tremaining: 6.33s\n",
      "60:\tlearn: 2572.2213680\ttotal: 3.87s\tremaining: 5.64s\n",
      "70:\tlearn: 2550.7668785\ttotal: 4.48s\tremaining: 4.99s\n",
      "80:\tlearn: 2526.6771584\ttotal: 5.11s\tremaining: 4.35s\n",
      "90:\tlearn: 2510.6616577\ttotal: 5.73s\tremaining: 3.71s\n",
      "100:\tlearn: 2490.6788901\ttotal: 6.33s\tremaining: 3.07s\n",
      "110:\tlearn: 2477.7050453\ttotal: 6.96s\tremaining: 2.44s\n",
      "120:\tlearn: 2463.3768211\ttotal: 7.57s\tremaining: 1.81s\n",
      "130:\tlearn: 2454.3660431\ttotal: 8.25s\tremaining: 1.2s\n",
      "140:\tlearn: 2444.8025105\ttotal: 8.88s\tremaining: 567ms\n",
      "149:\tlearn: 2437.0297670\ttotal: 9.42s\tremaining: 0us\n",
      "0:\tlearn: 4241.2678362\ttotal: 76.6ms\tremaining: 11.4s\n",
      "10:\tlearn: 2923.7386539\ttotal: 691ms\tremaining: 8.73s\n",
      "20:\tlearn: 2730.0493481\ttotal: 1.29s\tremaining: 7.94s\n",
      "30:\tlearn: 2669.0903894\ttotal: 1.93s\tremaining: 7.4s\n",
      "40:\tlearn: 2636.8739781\ttotal: 2.54s\tremaining: 6.76s\n",
      "50:\tlearn: 2600.8707537\ttotal: 3.2s\tremaining: 6.21s\n",
      "60:\tlearn: 2573.7859580\ttotal: 3.82s\tremaining: 5.58s\n",
      "70:\tlearn: 2551.8421326\ttotal: 4.43s\tremaining: 4.93s\n",
      "80:\tlearn: 2533.4523234\ttotal: 5.06s\tremaining: 4.31s\n",
      "90:\tlearn: 2516.1719412\ttotal: 5.67s\tremaining: 3.68s\n",
      "100:\tlearn: 2496.5175665\ttotal: 6.28s\tremaining: 3.05s\n",
      "110:\tlearn: 2483.4804843\ttotal: 6.91s\tremaining: 2.43s\n",
      "120:\tlearn: 2471.9600931\ttotal: 7.52s\tremaining: 1.8s\n",
      "130:\tlearn: 2461.4271914\ttotal: 8.2s\tremaining: 1.19s\n",
      "140:\tlearn: 2449.9056581\ttotal: 8.82s\tremaining: 563ms\n",
      "149:\tlearn: 2441.3844916\ttotal: 9.36s\tremaining: 0us\n",
      "0:\tlearn: 4232.8303542\ttotal: 75.9ms\tremaining: 11.3s\n",
      "10:\tlearn: 2919.3720319\ttotal: 717ms\tremaining: 9.06s\n",
      "20:\tlearn: 2726.7512856\ttotal: 1.35s\tremaining: 8.29s\n",
      "30:\tlearn: 2665.4941673\ttotal: 1.99s\tremaining: 7.65s\n",
      "40:\tlearn: 2632.8710278\ttotal: 2.63s\tremaining: 7s\n",
      "50:\tlearn: 2599.8981106\ttotal: 3.25s\tremaining: 6.32s\n",
      "60:\tlearn: 2576.9134184\ttotal: 3.87s\tremaining: 5.65s\n",
      "70:\tlearn: 2550.8086120\ttotal: 4.51s\tremaining: 5.02s\n",
      "80:\tlearn: 2528.0775011\ttotal: 5.13s\tremaining: 4.37s\n",
      "90:\tlearn: 2510.6757473\ttotal: 5.74s\tremaining: 3.72s\n",
      "100:\tlearn: 2494.3950472\ttotal: 6.34s\tremaining: 3.08s\n",
      "110:\tlearn: 2481.2966567\ttotal: 6.95s\tremaining: 2.44s\n",
      "120:\tlearn: 2467.4318461\ttotal: 7.62s\tremaining: 1.82s\n",
      "130:\tlearn: 2459.0341126\ttotal: 8.22s\tremaining: 1.19s\n",
      "140:\tlearn: 2447.4446782\ttotal: 8.83s\tremaining: 564ms\n",
      "149:\tlearn: 2440.6037118\ttotal: 9.39s\tremaining: 0us\n",
      "0:\tlearn: 4138.0193631\ttotal: 80.3ms\tremaining: 7.95s\n",
      "10:\tlearn: 2813.8487105\ttotal: 759ms\tremaining: 6.14s\n",
      "20:\tlearn: 2685.1784944\ttotal: 1.38s\tremaining: 5.21s\n",
      "30:\tlearn: 2631.8303406\ttotal: 2.03s\tremaining: 4.52s\n",
      "40:\tlearn: 2595.4386168\ttotal: 2.67s\tremaining: 3.84s\n",
      "50:\tlearn: 2565.0103412\ttotal: 3.28s\tremaining: 3.15s\n",
      "60:\tlearn: 2542.9521930\ttotal: 3.92s\tremaining: 2.5s\n",
      "70:\tlearn: 2516.3311600\ttotal: 4.53s\tremaining: 1.85s\n",
      "80:\tlearn: 2489.2788750\ttotal: 5.12s\tremaining: 1.2s\n",
      "90:\tlearn: 2471.2300360\ttotal: 5.74s\tremaining: 568ms\n",
      "99:\tlearn: 2457.3602610\ttotal: 6.28s\tremaining: 0us\n",
      "0:\tlearn: 4153.5282968\ttotal: 74.9ms\tremaining: 7.41s\n",
      "10:\tlearn: 2829.4701144\ttotal: 685ms\tremaining: 5.54s\n",
      "20:\tlearn: 2690.6891565\ttotal: 1.3s\tremaining: 4.9s\n",
      "30:\tlearn: 2635.1346530\ttotal: 1.91s\tremaining: 4.25s\n",
      "40:\tlearn: 2595.4664187\ttotal: 2.52s\tremaining: 3.63s\n",
      "50:\tlearn: 2571.3063560\ttotal: 3.13s\tremaining: 3s\n",
      "60:\tlearn: 2541.8001043\ttotal: 3.73s\tremaining: 2.39s\n",
      "70:\tlearn: 2516.2574754\ttotal: 4.36s\tremaining: 1.78s\n",
      "80:\tlearn: 2496.8927311\ttotal: 4.98s\tremaining: 1.17s\n",
      "90:\tlearn: 2479.9711892\ttotal: 5.58s\tremaining: 552ms\n",
      "99:\tlearn: 2465.4780484\ttotal: 6.14s\tremaining: 0us\n",
      "0:\tlearn: 4146.2520586\ttotal: 74ms\tremaining: 7.32s\n",
      "10:\tlearn: 2830.2696820\ttotal: 694ms\tremaining: 5.61s\n",
      "20:\tlearn: 2689.4075559\ttotal: 1.28s\tremaining: 4.84s\n",
      "30:\tlearn: 2642.8911074\ttotal: 1.89s\tremaining: 4.2s\n",
      "40:\tlearn: 2599.7673669\ttotal: 2.5s\tremaining: 3.6s\n",
      "50:\tlearn: 2563.4737012\ttotal: 3.13s\tremaining: 3s\n",
      "60:\tlearn: 2537.5859788\ttotal: 3.76s\tremaining: 2.4s\n",
      "70:\tlearn: 2513.7227958\ttotal: 4.38s\tremaining: 1.79s\n",
      "80:\tlearn: 2486.5793312\ttotal: 5.01s\tremaining: 1.17s\n",
      "90:\tlearn: 2472.8787415\ttotal: 5.62s\tremaining: 556ms\n",
      "99:\tlearn: 2457.5670980\ttotal: 6.16s\tremaining: 0us\n",
      "0:\tlearn: 4225.7830354\ttotal: 76.8ms\tremaining: 7.6s\n",
      "10:\tlearn: 2910.8279610\ttotal: 698ms\tremaining: 5.64s\n",
      "20:\tlearn: 2719.2061835\ttotal: 1.34s\tremaining: 5.05s\n",
      "30:\tlearn: 2661.2494454\ttotal: 1.96s\tremaining: 4.35s\n",
      "40:\tlearn: 2627.4476759\ttotal: 2.59s\tremaining: 3.72s\n",
      "50:\tlearn: 2597.4318272\ttotal: 3.2s\tremaining: 3.07s\n",
      "60:\tlearn: 2572.2213680\ttotal: 3.8s\tremaining: 2.43s\n",
      "70:\tlearn: 2550.7668785\ttotal: 4.41s\tremaining: 1.8s\n",
      "80:\tlearn: 2526.6771584\ttotal: 5.02s\tremaining: 1.18s\n",
      "90:\tlearn: 2510.6616577\ttotal: 5.7s\tremaining: 564ms\n",
      "99:\tlearn: 2492.2144886\ttotal: 6.24s\tremaining: 0us\n",
      "0:\tlearn: 4241.2678362\ttotal: 77.7ms\tremaining: 7.69s\n",
      "10:\tlearn: 2923.7386539\ttotal: 713ms\tremaining: 5.77s\n",
      "20:\tlearn: 2730.0493481\ttotal: 1.32s\tremaining: 4.96s\n",
      "30:\tlearn: 2669.0903894\ttotal: 1.94s\tremaining: 4.31s\n",
      "40:\tlearn: 2636.8739781\ttotal: 2.55s\tremaining: 3.67s\n",
      "50:\tlearn: 2600.8707537\ttotal: 3.15s\tremaining: 3.03s\n",
      "60:\tlearn: 2573.7859580\ttotal: 3.78s\tremaining: 2.42s\n",
      "70:\tlearn: 2551.8421326\ttotal: 4.4s\tremaining: 1.8s\n",
      "80:\tlearn: 2533.4523234\ttotal: 5.01s\tremaining: 1.17s\n",
      "90:\tlearn: 2516.1719412\ttotal: 5.62s\tremaining: 556ms\n",
      "99:\tlearn: 2499.5361182\ttotal: 6.17s\tremaining: 0us\n",
      "0:\tlearn: 4232.8303542\ttotal: 77.3ms\tremaining: 7.66s\n",
      "10:\tlearn: 2919.3720319\ttotal: 698ms\tremaining: 5.65s\n",
      "20:\tlearn: 2726.7512856\ttotal: 1.36s\tremaining: 5.11s\n",
      "30:\tlearn: 2665.4941673\ttotal: 1.96s\tremaining: 4.37s\n",
      "40:\tlearn: 2632.8710278\ttotal: 2.57s\tremaining: 3.7s\n",
      "50:\tlearn: 2599.8981106\ttotal: 3.18s\tremaining: 3.06s\n",
      "60:\tlearn: 2576.9134184\ttotal: 3.78s\tremaining: 2.42s\n",
      "70:\tlearn: 2550.8086120\ttotal: 4.38s\tremaining: 1.79s\n",
      "80:\tlearn: 2528.0775011\ttotal: 5s\tremaining: 1.17s\n",
      "90:\tlearn: 2510.6757473\ttotal: 5.64s\tremaining: 558ms\n",
      "99:\tlearn: 2497.2320292\ttotal: 6.21s\tremaining: 0us\n",
      "0:\tlearn: 4145.0516745\ttotal: 141ms\tremaining: 21s\n",
      "10:\tlearn: 2824.8075868\ttotal: 1.11s\tremaining: 14s\n",
      "20:\tlearn: 2689.8154447\ttotal: 2.05s\tremaining: 12.6s\n",
      "30:\tlearn: 2638.4012646\ttotal: 2.99s\tremaining: 11.5s\n",
      "40:\tlearn: 2605.1684916\ttotal: 3.97s\tremaining: 10.5s\n",
      "50:\tlearn: 2574.0463879\ttotal: 4.87s\tremaining: 9.46s\n",
      "60:\tlearn: 2542.4134843\ttotal: 5.9s\tremaining: 8.61s\n",
      "70:\tlearn: 2517.1373346\ttotal: 6.87s\tremaining: 7.64s\n",
      "80:\tlearn: 2496.4395544\ttotal: 7.82s\tremaining: 6.66s\n",
      "90:\tlearn: 2476.2406257\ttotal: 8.75s\tremaining: 5.67s\n",
      "100:\tlearn: 2462.3366042\ttotal: 9.69s\tremaining: 4.7s\n",
      "110:\tlearn: 2447.7080888\ttotal: 10.6s\tremaining: 3.74s\n",
      "120:\tlearn: 2436.0612140\ttotal: 11.6s\tremaining: 2.77s\n",
      "130:\tlearn: 2426.0251966\ttotal: 12.5s\tremaining: 1.81s\n",
      "140:\tlearn: 2418.2170409\ttotal: 13.4s\tremaining: 857ms\n",
      "149:\tlearn: 2408.7024370\ttotal: 14.3s\tremaining: 0us\n",
      "Время работы кода: 121.03\n"
     ]
    }
   ],
   "source": [
    "start_time = time.time()\n",
    "cat = CatBoostRegressor(cat_features=categorical, verbose=10)\n",
    "params_cat = {\n",
    "            'learning_rate' : [0.2, 0.16],\n",
    "            'iterations'    : [150, 100]\n",
    "                 }\n",
    "grid_cat = GridSearchCV(estimator=cat, param_grid=params_cat,  scoring='neg_root_mean_squared_error' ,cv=3, n_jobs=-1)\n",
    "grid_cat.fit(X_train_cat, y_train_cat)\n",
    "best_1 = -1*grid_cat.best_score_\n",
    "\n",
    "end_time = time.time() # запоминаем текущее время после выполнения кода\n",
    "total_time_cat = round(end_time - start_time, 2) # вычисляем время работы кода\n",
    "\n",
    "print(\"Время работы кода:\", total_time_cat)"
   ]
  },
  {
   "cell_type": "markdown",
   "metadata": {},
   "source": [
    "### LightGBM"
   ]
  },
  {
   "cell_type": "code",
   "execution_count": 35,
   "metadata": {},
   "outputs": [],
   "source": [
    "X_train_cat_lgb = X_train_cat.copy(deep=True)\n",
    "X_test_cat_lgb = X_test_cat.copy(deep=True)\n",
    "y_test_cat_lgb = y_test_cat.copy(deep=True)\n",
    "for categories in categorical:\n",
    "    X_train_cat_lgb[categories] = X_train_cat_lgb[categories].astype('category')\n",
    "    X_test_cat_lgb[categories] = X_test_cat_lgb[categories].astype('category')"
   ]
  },
  {
   "cell_type": "code",
   "execution_count": 31,
   "metadata": {
    "scrolled": false
   },
   "outputs": [
    {
     "name": "stdout",
     "output_type": "stream",
     "text": [
      "Время работы кода: 44.5\n"
     ]
    }
   ],
   "source": [
    "start_time = time.time()\n",
    "model_LGB = LGBMRegressor(random_state=12345, categorical_feature=categorical)\n",
    "\n",
    "params = {\n",
    "          'max_depth' : [6, 8]\n",
    "         }\n",
    "grid_lgb = GridSearchCV(model_LGB, params, scoring='neg_root_mean_squared_error', cv =3)\n",
    "grid_lgb.fit(X_train_cat_lgb,y_train_cat)\n",
    "\n",
    "best_2 = -1*grid_lgb.best_score_\n",
    "\n",
    "end_time = time.time() # запоминаем текущее время после выполнения кода\n",
    "total_time_lgb = round(end_time - start_time, 2) # вычисляем время работы кода\n",
    "\n",
    "print(\"Время работы кода:\", total_time_lgb)"
   ]
  },
  {
   "cell_type": "markdown",
   "metadata": {},
   "source": [
    "### Random Forest"
   ]
  },
  {
   "cell_type": "code",
   "execution_count": 32,
   "metadata": {},
   "outputs": [
    {
     "name": "stdout",
     "output_type": "stream",
     "text": [
      "Время работы кода: 232.38\n"
     ]
    }
   ],
   "source": [
    "start_time = time.time()\n",
    "#через GridSearchCV() найдем лучшие гиперпараметры для модели\n",
    "parametrs = {'n_estimators': range(1,20,10)}\n",
    "\n",
    "grid = GridSearchCV(RandomForestRegressor(random_state=42), parametrs, cv=3, scoring='neg_root_mean_squared_error')\n",
    "grid.fit(X_train, y_train)\n",
    "best_3 = -1*grid.best_score_\n",
    "end_time = time.time() # запоминаем текущее время после выполнения кода\n",
    "\n",
    "total_time_for = round(end_time - start_time, 2) # вычисляем время работы кода\n",
    "\n",
    "print(\"Время работы кода:\", total_time_for)"
   ]
  },
  {
   "cell_type": "markdown",
   "metadata": {},
   "source": [
    "## Анализ моделей"
   ]
  },
  {
   "cell_type": "code",
   "execution_count": 33,
   "metadata": {
    "scrolled": true
   },
   "outputs": [
    {
     "data": {
      "text/html": [
       "<div>\n",
       "<style scoped>\n",
       "    .dataframe tbody tr th:only-of-type {\n",
       "        vertical-align: middle;\n",
       "    }\n",
       "\n",
       "    .dataframe tbody tr th {\n",
       "        vertical-align: top;\n",
       "    }\n",
       "\n",
       "    .dataframe thead th {\n",
       "        text-align: right;\n",
       "    }\n",
       "</style>\n",
       "<table border=\"1\" class=\"dataframe\">\n",
       "  <thead>\n",
       "    <tr style=\"text-align: right;\">\n",
       "      <th></th>\n",
       "      <th>model_type</th>\n",
       "      <th>time</th>\n",
       "      <th>best_score</th>\n",
       "    </tr>\n",
       "  </thead>\n",
       "  <tbody>\n",
       "    <tr>\n",
       "      <th>0</th>\n",
       "      <td>Cat Boost</td>\n",
       "      <td>121.03</td>\n",
       "      <td>2432.57</td>\n",
       "    </tr>\n",
       "    <tr>\n",
       "      <th>1</th>\n",
       "      <td>LightGBM</td>\n",
       "      <td>44.50</td>\n",
       "      <td>2354.19</td>\n",
       "    </tr>\n",
       "    <tr>\n",
       "      <th>2</th>\n",
       "      <td>Random Forest</td>\n",
       "      <td>232.38</td>\n",
       "      <td>2338.87</td>\n",
       "    </tr>\n",
       "  </tbody>\n",
       "</table>\n",
       "</div>"
      ],
      "text/plain": [
       "      model_type    time  best_score\n",
       "0      Cat Boost  121.03     2432.57\n",
       "1       LightGBM   44.50     2354.19\n",
       "2  Random Forest  232.38     2338.87"
      ]
     },
     "execution_count": 33,
     "metadata": {},
     "output_type": "execute_result"
    }
   ],
   "source": [
    "all_in_one = {\n",
    "    'model_type' : ['Cat Boost', 'LightGBM', 'Random Forest'],\n",
    "    'time' : [total_time_cat, total_time_lgb, total_time_for],\n",
    "    'best_score' : [round(best_1, 2), round(best_2, 2), round(best_3, 2)]}\n",
    "all_in_one = pd.DataFrame(all_in_one)\n",
    "all_in_one"
   ]
  },
  {
   "cell_type": "markdown",
   "metadata": {},
   "source": [
    "Наилучшим образом себя показала модель `LightGBM` -  значение метрики качества меньше 2500 и время обучения наименьшее. Ее и проверим на тесте:"
   ]
  },
  {
   "cell_type": "code",
   "execution_count": 37,
   "metadata": {
    "scrolled": true
   },
   "outputs": [
    {
     "name": "stdout",
     "output_type": "stream",
     "text": [
      "CPU times: user 640 ms, sys: 0 ns, total: 640 ms\n",
      "Wall time: 623 ms\n"
     ]
    }
   ],
   "source": [
    "%%time\n",
    "light_pred = grid_lgb.predict(X_test_cat_lgb)"
   ]
  },
  {
   "cell_type": "code",
   "execution_count": 39,
   "metadata": {},
   "outputs": [
    {
     "name": "stdout",
     "output_type": "stream",
     "text": [
      "RMSE на тесте:  2346.42\n"
     ]
    }
   ],
   "source": [
    "print(\"RMSE на тесте: \", round(mse(y_test_cat_lgb, light_pred)**(.5), 2))"
   ]
  },
  {
   "cell_type": "markdown",
   "metadata": {},
   "source": [
    "**Вывод:** `LightGBM` больше всего подойдет для опредления стоимости"
   ]
  }
 ],
 "metadata": {
  "ExecuteTimeLog": [
   {
    "duration": 796,
    "start_time": "2022-12-06T23:30:08.396Z"
   },
   {
    "duration": 2973,
    "start_time": "2022-12-06T23:30:44.052Z"
   },
   {
    "duration": 19,
    "start_time": "2022-12-06T23:31:14.057Z"
   },
   {
    "duration": 100,
    "start_time": "2022-12-06T23:31:42.771Z"
   },
   {
    "duration": 4,
    "start_time": "2022-12-06T23:41:40.278Z"
   },
   {
    "duration": 5,
    "start_time": "2022-12-06T23:42:06.202Z"
   },
   {
    "duration": 57,
    "start_time": "2022-12-06T23:44:51.825Z"
   },
   {
    "duration": 465,
    "start_time": "2022-12-06T23:46:19.332Z"
   },
   {
    "duration": 550,
    "start_time": "2022-12-06T23:51:21.880Z"
   },
   {
    "duration": 440,
    "start_time": "2022-12-06T23:52:32.682Z"
   },
   {
    "duration": 103,
    "start_time": "2022-12-06T23:55:11.761Z"
   },
   {
    "duration": 19,
    "start_time": "2022-12-07T00:31:26.781Z"
   },
   {
    "duration": 18,
    "start_time": "2022-12-07T00:31:39.309Z"
   },
   {
    "duration": 21,
    "start_time": "2022-12-07T00:33:44.594Z"
   },
   {
    "duration": 136,
    "start_time": "2022-12-07T00:39:20.654Z"
   },
   {
    "duration": 482,
    "start_time": "2022-12-07T00:39:41.245Z"
   },
   {
    "duration": 103,
    "start_time": "2022-12-07T00:39:45.963Z"
   },
   {
    "duration": 16414,
    "start_time": "2022-12-07T00:39:52.631Z"
   },
   {
    "duration": 20,
    "start_time": "2022-12-07T00:40:30.942Z"
   },
   {
    "duration": 21,
    "start_time": "2022-12-07T00:40:37.424Z"
   },
   {
    "duration": 19,
    "start_time": "2022-12-07T00:40:52.661Z"
   },
   {
    "duration": 10,
    "start_time": "2022-12-07T00:41:06.181Z"
   },
   {
    "duration": 2752,
    "start_time": "2022-12-07T00:41:13.203Z"
   },
   {
    "duration": 2278,
    "start_time": "2022-12-07T00:41:27.200Z"
   },
   {
    "duration": 2177,
    "start_time": "2022-12-07T00:41:37.208Z"
   },
   {
    "duration": 2323,
    "start_time": "2022-12-07T00:41:47.563Z"
   },
   {
    "duration": 2220,
    "start_time": "2022-12-07T00:41:54.177Z"
   },
   {
    "duration": 2214,
    "start_time": "2022-12-07T00:42:17.583Z"
   },
   {
    "duration": 2342,
    "start_time": "2022-12-07T00:42:25.119Z"
   },
   {
    "duration": 2203,
    "start_time": "2022-12-07T00:47:26.239Z"
   },
   {
    "duration": 30,
    "start_time": "2022-12-07T00:55:21.733Z"
   },
   {
    "duration": 143,
    "start_time": "2022-12-07T00:56:17.145Z"
   },
   {
    "duration": 11,
    "start_time": "2022-12-07T00:56:32.247Z"
   },
   {
    "duration": 87,
    "start_time": "2022-12-07T00:56:35.639Z"
   },
   {
    "duration": 71,
    "start_time": "2022-12-07T00:57:31.987Z"
   },
   {
    "duration": 38,
    "start_time": "2022-12-07T00:58:29.001Z"
   },
   {
    "duration": 74,
    "start_time": "2022-12-07T00:59:14.623Z"
   },
   {
    "duration": 1118,
    "start_time": "2022-12-07T00:59:41.859Z"
   },
   {
    "duration": 124,
    "start_time": "2022-12-07T01:00:06.162Z"
   },
   {
    "duration": 1173,
    "start_time": "2022-12-07T01:00:16.962Z"
   },
   {
    "duration": 13,
    "start_time": "2022-12-07T01:00:33.166Z"
   },
   {
    "duration": 25,
    "start_time": "2022-12-07T01:01:18.412Z"
   },
   {
    "duration": 58,
    "start_time": "2022-12-07T01:03:50.975Z"
   },
   {
    "duration": 360,
    "start_time": "2022-12-07T01:04:23.012Z"
   },
   {
    "duration": 14,
    "start_time": "2022-12-07T01:08:04.413Z"
   },
   {
    "duration": 395,
    "start_time": "2022-12-07T01:08:25.143Z"
   },
   {
    "duration": 28,
    "start_time": "2022-12-07T01:08:31.289Z"
   },
   {
    "duration": 75,
    "start_time": "2022-12-07T01:08:43.170Z"
   },
   {
    "duration": 10,
    "start_time": "2022-12-07T01:09:44.572Z"
   },
   {
    "duration": 18,
    "start_time": "2022-12-07T01:10:11.951Z"
   },
   {
    "duration": 862,
    "start_time": "2022-12-07T01:10:13.675Z"
   },
   {
    "duration": 3,
    "start_time": "2022-12-07T01:11:03.699Z"
   },
   {
    "duration": 813,
    "start_time": "2022-12-07T01:11:06.697Z"
   },
   {
    "duration": 61,
    "start_time": "2022-12-07T01:12:50.216Z"
   },
   {
    "duration": 310,
    "start_time": "2022-12-07T01:14:16.854Z"
   },
   {
    "duration": 51,
    "start_time": "2022-12-07T01:14:18.874Z"
   },
   {
    "duration": 72,
    "start_time": "2022-12-07T01:14:24.614Z"
   },
   {
    "duration": 43,
    "start_time": "2022-12-07T01:14:26.957Z"
   },
   {
    "duration": 109,
    "start_time": "2022-12-07T18:42:29.130Z"
   },
   {
    "duration": 40,
    "start_time": "2022-12-07T18:42:33.407Z"
   },
   {
    "duration": 1618,
    "start_time": "2022-12-07T18:42:46.781Z"
   },
   {
    "duration": 1408,
    "start_time": "2022-12-07T18:42:58.038Z"
   },
   {
    "duration": 3218,
    "start_time": "2022-12-07T18:42:59.447Z"
   },
   {
    "duration": 14,
    "start_time": "2022-12-07T18:43:02.667Z"
   },
   {
    "duration": 134,
    "start_time": "2022-12-07T18:43:02.683Z"
   },
   {
    "duration": 3,
    "start_time": "2022-12-07T18:43:02.819Z"
   },
   {
    "duration": 16,
    "start_time": "2022-12-07T18:43:02.824Z"
   },
   {
    "duration": 65,
    "start_time": "2022-12-07T18:43:02.842Z"
   },
   {
    "duration": 436,
    "start_time": "2022-12-07T18:43:02.909Z"
   },
   {
    "duration": 405,
    "start_time": "2022-12-07T18:43:03.346Z"
   },
   {
    "duration": 567,
    "start_time": "2022-12-07T18:43:03.753Z"
   },
   {
    "duration": 116,
    "start_time": "2022-12-07T18:43:04.322Z"
   },
   {
    "duration": 18,
    "start_time": "2022-12-07T18:43:04.439Z"
   },
   {
    "duration": 29,
    "start_time": "2022-12-07T18:43:04.459Z"
   },
   {
    "duration": 34,
    "start_time": "2022-12-07T18:43:04.490Z"
   },
   {
    "duration": 169,
    "start_time": "2022-12-07T18:43:04.526Z"
   },
   {
    "duration": 34,
    "start_time": "2022-12-07T18:43:04.697Z"
   },
   {
    "duration": 138,
    "start_time": "2022-12-07T18:43:04.732Z"
   },
   {
    "duration": 15,
    "start_time": "2022-12-07T18:43:04.871Z"
   },
   {
    "duration": 18,
    "start_time": "2022-12-07T18:43:04.888Z"
   },
   {
    "duration": 336,
    "start_time": "2022-12-07T18:43:04.908Z"
   },
   {
    "duration": 81,
    "start_time": "2022-12-07T18:43:05.246Z"
   },
   {
    "duration": 17,
    "start_time": "2022-12-07T18:43:05.329Z"
   },
   {
    "duration": 347,
    "start_time": "2022-12-07T18:43:05.347Z"
   },
   {
    "duration": 135,
    "start_time": "2022-12-07T18:43:09.905Z"
   },
   {
    "duration": 51,
    "start_time": "2022-12-07T18:45:13.301Z"
   },
   {
    "duration": 1302,
    "start_time": "2022-12-07T18:45:17.443Z"
   },
   {
    "duration": 815,
    "start_time": "2022-12-07T18:45:18.746Z"
   },
   {
    "duration": 18,
    "start_time": "2022-12-07T18:45:19.563Z"
   },
   {
    "duration": 141,
    "start_time": "2022-12-07T18:45:19.583Z"
   },
   {
    "duration": 3,
    "start_time": "2022-12-07T18:45:19.725Z"
   },
   {
    "duration": 8,
    "start_time": "2022-12-07T18:45:19.730Z"
   },
   {
    "duration": 66,
    "start_time": "2022-12-07T18:45:19.739Z"
   },
   {
    "duration": 459,
    "start_time": "2022-12-07T18:45:19.806Z"
   },
   {
    "duration": 439,
    "start_time": "2022-12-07T18:45:20.266Z"
   },
   {
    "duration": 543,
    "start_time": "2022-12-07T18:45:20.709Z"
   },
   {
    "duration": 128,
    "start_time": "2022-12-07T18:45:21.254Z"
   },
   {
    "duration": 20,
    "start_time": "2022-12-07T18:45:21.384Z"
   },
   {
    "duration": 19,
    "start_time": "2022-12-07T18:45:21.405Z"
   },
   {
    "duration": 34,
    "start_time": "2022-12-07T18:45:21.426Z"
   },
   {
    "duration": 167,
    "start_time": "2022-12-07T18:45:21.477Z"
   },
   {
    "duration": 39,
    "start_time": "2022-12-07T18:45:21.646Z"
   },
   {
    "duration": 133,
    "start_time": "2022-12-07T18:45:21.687Z"
   },
   {
    "duration": 10,
    "start_time": "2022-12-07T18:45:21.821Z"
   },
   {
    "duration": 30,
    "start_time": "2022-12-07T18:45:21.833Z"
   },
   {
    "duration": 312,
    "start_time": "2022-12-07T18:45:21.865Z"
   },
   {
    "duration": 69,
    "start_time": "2022-12-07T18:45:22.179Z"
   },
   {
    "duration": 17,
    "start_time": "2022-12-07T18:45:22.249Z"
   },
   {
    "duration": 106,
    "start_time": "2022-12-07T18:45:23.613Z"
   },
   {
    "duration": 4,
    "start_time": "2022-12-07T18:46:48.369Z"
   },
   {
    "duration": 855,
    "start_time": "2022-12-07T18:46:52.166Z"
   },
   {
    "duration": 341,
    "start_time": "2022-12-07T18:47:35.309Z"
   },
   {
    "duration": 72,
    "start_time": "2022-12-07T18:47:37.950Z"
   },
   {
    "duration": 800,
    "start_time": "2022-12-07T18:47:39.708Z"
   },
   {
    "duration": 109,
    "start_time": "2022-12-07T18:49:18.160Z"
   },
   {
    "duration": 785,
    "start_time": "2022-12-07T18:49:39.004Z"
   },
   {
    "duration": 4,
    "start_time": "2022-12-07T18:50:07.788Z"
   },
   {
    "duration": 3,
    "start_time": "2022-12-07T18:50:08.672Z"
   },
   {
    "duration": 681518,
    "start_time": "2022-12-07T18:50:09.408Z"
   },
   {
    "duration": 0,
    "start_time": "2022-12-07T19:01:30.928Z"
   },
   {
    "duration": 0,
    "start_time": "2022-12-07T19:01:30.929Z"
   },
   {
    "duration": 0,
    "start_time": "2022-12-07T19:01:30.931Z"
   },
   {
    "duration": 1450,
    "start_time": "2022-12-07T19:02:48.158Z"
   },
   {
    "duration": 864,
    "start_time": "2022-12-07T19:02:49.609Z"
   },
   {
    "duration": 19,
    "start_time": "2022-12-07T19:02:50.474Z"
   },
   {
    "duration": 144,
    "start_time": "2022-12-07T19:02:50.494Z"
   },
   {
    "duration": 3,
    "start_time": "2022-12-07T19:02:50.641Z"
   },
   {
    "duration": 12,
    "start_time": "2022-12-07T19:02:50.645Z"
   },
   {
    "duration": 67,
    "start_time": "2022-12-07T19:02:50.659Z"
   },
   {
    "duration": 487,
    "start_time": "2022-12-07T19:02:50.728Z"
   },
   {
    "duration": 430,
    "start_time": "2022-12-07T19:02:51.217Z"
   },
   {
    "duration": 530,
    "start_time": "2022-12-07T19:02:51.649Z"
   },
   {
    "duration": 120,
    "start_time": "2022-12-07T19:02:52.181Z"
   },
   {
    "duration": 18,
    "start_time": "2022-12-07T19:02:52.302Z"
   },
   {
    "duration": 19,
    "start_time": "2022-12-07T19:02:52.322Z"
   },
   {
    "duration": 46,
    "start_time": "2022-12-07T19:02:52.343Z"
   },
   {
    "duration": 163,
    "start_time": "2022-12-07T19:02:52.391Z"
   },
   {
    "duration": 42,
    "start_time": "2022-12-07T19:02:52.555Z"
   },
   {
    "duration": 135,
    "start_time": "2022-12-07T19:02:52.598Z"
   },
   {
    "duration": 11,
    "start_time": "2022-12-07T19:02:52.735Z"
   },
   {
    "duration": 33,
    "start_time": "2022-12-07T19:02:52.747Z"
   },
   {
    "duration": 355,
    "start_time": "2022-12-07T19:02:52.781Z"
   },
   {
    "duration": 15,
    "start_time": "2022-12-07T19:02:53.138Z"
   },
   {
    "duration": 323,
    "start_time": "2022-12-07T19:02:53.155Z"
   },
   {
    "duration": 66,
    "start_time": "2022-12-07T19:02:53.480Z"
   },
   {
    "duration": 37,
    "start_time": "2022-12-07T19:02:53.547Z"
   },
   {
    "duration": 23,
    "start_time": "2022-12-07T19:02:53.586Z"
   },
   {
    "duration": 43,
    "start_time": "2022-12-07T19:02:53.610Z"
   },
   {
    "duration": 80115,
    "start_time": "2022-12-07T19:02:53.654Z"
   },
   {
    "duration": 289,
    "start_time": "2022-12-07T19:04:13.771Z"
   },
   {
    "duration": 134,
    "start_time": "2022-12-07T19:04:14.062Z"
   },
   {
    "duration": 0,
    "start_time": "2022-12-07T19:04:14.198Z"
   },
   {
    "duration": 0,
    "start_time": "2022-12-07T19:04:14.199Z"
   },
   {
    "duration": 0,
    "start_time": "2022-12-07T19:04:14.200Z"
   },
   {
    "duration": 0,
    "start_time": "2022-12-07T19:04:14.201Z"
   },
   {
    "duration": 4,
    "start_time": "2022-12-07T19:04:34.807Z"
   },
   {
    "duration": 5,
    "start_time": "2022-12-07T19:04:41.956Z"
   },
   {
    "duration": 245,
    "start_time": "2022-12-07T19:04:44.854Z"
   },
   {
    "duration": 13,
    "start_time": "2022-12-07T19:04:45.351Z"
   },
   {
    "duration": 9,
    "start_time": "2022-12-07T19:04:45.997Z"
   },
   {
    "duration": 236,
    "start_time": "2022-12-07T19:06:22.091Z"
   },
   {
    "duration": 588,
    "start_time": "2022-12-07T19:07:41.298Z"
   },
   {
    "duration": 67,
    "start_time": "2022-12-07T19:07:45.002Z"
   },
   {
    "duration": 244,
    "start_time": "2022-12-07T19:08:36.466Z"
   },
   {
    "duration": 58,
    "start_time": "2022-12-07T19:09:43.283Z"
   },
   {
    "duration": 197,
    "start_time": "2022-12-07T19:10:05.934Z"
   },
   {
    "duration": 278,
    "start_time": "2022-12-07T19:10:08.339Z"
   },
   {
    "duration": 225,
    "start_time": "2022-12-07T19:10:11.390Z"
   },
   {
    "duration": 53,
    "start_time": "2022-12-07T19:10:43.717Z"
   },
   {
    "duration": 18,
    "start_time": "2022-12-07T19:10:51.693Z"
   },
   {
    "duration": 15,
    "start_time": "2022-12-07T19:10:59.480Z"
   },
   {
    "duration": 1687,
    "start_time": "2022-12-07T19:11:56.591Z"
   },
   {
    "duration": 122,
    "start_time": "2022-12-07T19:12:19.850Z"
   },
   {
    "duration": 5,
    "start_time": "2022-12-07T19:12:45.746Z"
   },
   {
    "duration": 1532,
    "start_time": "2022-12-07T19:12:59.904Z"
   },
   {
    "duration": 820,
    "start_time": "2022-12-07T19:13:01.438Z"
   },
   {
    "duration": 21,
    "start_time": "2022-12-07T19:13:02.260Z"
   },
   {
    "duration": 145,
    "start_time": "2022-12-07T19:13:02.282Z"
   },
   {
    "duration": 3,
    "start_time": "2022-12-07T19:13:02.430Z"
   },
   {
    "duration": 9,
    "start_time": "2022-12-07T19:13:02.435Z"
   },
   {
    "duration": 75,
    "start_time": "2022-12-07T19:13:02.446Z"
   },
   {
    "duration": 519,
    "start_time": "2022-12-07T19:13:02.523Z"
   },
   {
    "duration": 446,
    "start_time": "2022-12-07T19:13:03.046Z"
   },
   {
    "duration": 616,
    "start_time": "2022-12-07T19:13:03.494Z"
   },
   {
    "duration": 156,
    "start_time": "2022-12-07T19:13:04.112Z"
   },
   {
    "duration": 39,
    "start_time": "2022-12-07T19:13:04.270Z"
   },
   {
    "duration": 35,
    "start_time": "2022-12-07T19:13:04.310Z"
   },
   {
    "duration": 40,
    "start_time": "2022-12-07T19:13:04.348Z"
   },
   {
    "duration": 168,
    "start_time": "2022-12-07T19:13:04.389Z"
   },
   {
    "duration": 48,
    "start_time": "2022-12-07T19:13:04.558Z"
   },
   {
    "duration": 164,
    "start_time": "2022-12-07T19:13:04.608Z"
   },
   {
    "duration": 14,
    "start_time": "2022-12-07T19:13:04.774Z"
   },
   {
    "duration": 26,
    "start_time": "2022-12-07T19:13:04.791Z"
   },
   {
    "duration": 349,
    "start_time": "2022-12-07T19:13:04.819Z"
   },
   {
    "duration": 126,
    "start_time": "2022-12-07T19:13:05.170Z"
   },
   {
    "duration": 17,
    "start_time": "2022-12-07T19:13:05.302Z"
   },
   {
    "duration": 395,
    "start_time": "2022-12-07T19:13:05.320Z"
   },
   {
    "duration": 103,
    "start_time": "2022-12-07T19:13:05.717Z"
   },
   {
    "duration": 627,
    "start_time": "2022-12-07T19:13:05.821Z"
   },
   {
    "duration": 197,
    "start_time": "2022-12-07T19:13:06.450Z"
   },
   {
    "duration": 301,
    "start_time": "2022-12-07T19:13:06.649Z"
   },
   {
    "duration": 123930,
    "start_time": "2022-12-07T19:13:06.952Z"
   },
   {
    "duration": 313,
    "start_time": "2022-12-07T19:15:10.884Z"
   },
   {
    "duration": 4,
    "start_time": "2022-12-07T19:15:11.199Z"
   },
   {
    "duration": 28786,
    "start_time": "2022-12-07T19:15:11.205Z"
   },
   {
    "duration": 385,
    "start_time": "2022-12-07T19:15:39.993Z"
   },
   {
    "duration": 6,
    "start_time": "2022-12-07T19:15:40.383Z"
   },
   {
    "duration": 310,
    "start_time": "2022-12-07T19:15:40.478Z"
   },
   {
    "duration": 119,
    "start_time": "2022-12-07T19:21:47.375Z"
   },
   {
    "duration": 150,
    "start_time": "2022-12-07T19:21:51.859Z"
   },
   {
    "duration": 22017,
    "start_time": "2022-12-07T19:22:22.532Z"
   },
   {
    "duration": 6,
    "start_time": "2022-12-07T19:23:47.775Z"
   },
   {
    "duration": 69,
    "start_time": "2022-12-07T19:27:20.786Z"
   },
   {
    "duration": 1450,
    "start_time": "2022-12-07T19:55:15.163Z"
   },
   {
    "duration": 796,
    "start_time": "2022-12-07T19:55:16.615Z"
   },
   {
    "duration": 18,
    "start_time": "2022-12-07T19:55:17.412Z"
   },
   {
    "duration": 149,
    "start_time": "2022-12-07T19:55:17.432Z"
   },
   {
    "duration": 3,
    "start_time": "2022-12-07T19:55:17.583Z"
   },
   {
    "duration": 11,
    "start_time": "2022-12-07T19:55:17.588Z"
   },
   {
    "duration": 62,
    "start_time": "2022-12-07T19:55:17.600Z"
   },
   {
    "duration": 466,
    "start_time": "2022-12-07T19:55:17.663Z"
   },
   {
    "duration": 433,
    "start_time": "2022-12-07T19:55:18.130Z"
   },
   {
    "duration": 550,
    "start_time": "2022-12-07T19:55:18.565Z"
   },
   {
    "duration": 223,
    "start_time": "2022-12-07T19:55:19.117Z"
   },
   {
    "duration": 20,
    "start_time": "2022-12-07T19:55:19.342Z"
   },
   {
    "duration": 27,
    "start_time": "2022-12-07T19:55:19.364Z"
   },
   {
    "duration": 38,
    "start_time": "2022-12-07T19:55:19.394Z"
   },
   {
    "duration": 185,
    "start_time": "2022-12-07T19:55:19.433Z"
   },
   {
    "duration": 41,
    "start_time": "2022-12-07T19:55:19.619Z"
   },
   {
    "duration": 163,
    "start_time": "2022-12-07T19:55:19.662Z"
   },
   {
    "duration": 15,
    "start_time": "2022-12-07T19:55:19.828Z"
   },
   {
    "duration": 34,
    "start_time": "2022-12-07T19:55:19.845Z"
   },
   {
    "duration": 353,
    "start_time": "2022-12-07T19:55:19.881Z"
   },
   {
    "duration": 110,
    "start_time": "2022-12-07T19:55:20.236Z"
   },
   {
    "duration": 16,
    "start_time": "2022-12-07T19:55:20.348Z"
   },
   {
    "duration": 379,
    "start_time": "2022-12-07T19:55:20.366Z"
   },
   {
    "duration": 91,
    "start_time": "2022-12-07T19:55:20.747Z"
   },
   {
    "duration": 579,
    "start_time": "2022-12-07T19:55:20.840Z"
   },
   {
    "duration": 214,
    "start_time": "2022-12-07T19:55:21.421Z"
   },
   {
    "duration": 287,
    "start_time": "2022-12-07T19:55:21.639Z"
   },
   {
    "duration": 123725,
    "start_time": "2022-12-07T19:55:21.928Z"
   },
   {
    "duration": 296,
    "start_time": "2022-12-07T19:57:25.655Z"
   },
   {
    "duration": 4,
    "start_time": "2022-12-07T19:57:25.953Z"
   },
   {
    "duration": 28427,
    "start_time": "2022-12-07T19:57:25.958Z"
   },
   {
    "duration": 291,
    "start_time": "2022-12-07T19:57:54.387Z"
   },
   {
    "duration": 96,
    "start_time": "2022-12-07T19:57:54.682Z"
   },
   {
    "duration": 65,
    "start_time": "2022-12-07T19:57:54.780Z"
   },
   {
    "duration": 896682,
    "start_time": "2022-12-07T19:57:54.848Z"
   },
   {
    "duration": 39493,
    "start_time": "2022-12-07T20:12:53.694Z"
   },
   {
    "duration": 41173,
    "start_time": "2022-12-07T20:13:42.716Z"
   },
   {
    "duration": 61,
    "start_time": "2022-12-07T20:14:48.828Z"
   },
   {
    "duration": 86278,
    "start_time": "2022-12-07T20:14:56.005Z"
   },
   {
    "duration": 20679,
    "start_time": "2022-12-07T20:17:55.153Z"
   },
   {
    "duration": 61607,
    "start_time": "2022-12-07T20:18:27.978Z"
   },
   {
    "duration": 4,
    "start_time": "2022-12-07T20:19:40.795Z"
   },
   {
    "duration": 69436,
    "start_time": "2022-12-07T20:19:44.343Z"
   },
   {
    "duration": 146,
    "start_time": "2022-12-07T20:24:16.124Z"
   },
   {
    "duration": 4,
    "start_time": "2022-12-07T20:24:50.054Z"
   },
   {
    "duration": 315953,
    "start_time": "2022-12-07T20:30:44.899Z"
   },
   {
    "duration": 1242882,
    "start_time": "2022-12-07T20:36:00.864Z"
   },
   {
    "duration": 1887,
    "start_time": "2022-12-08T13:07:46.200Z"
   },
   {
    "duration": 2931,
    "start_time": "2022-12-08T13:07:48.090Z"
   },
   {
    "duration": 18,
    "start_time": "2022-12-08T13:07:51.022Z"
   },
   {
    "duration": 122,
    "start_time": "2022-12-08T13:07:51.042Z"
   },
   {
    "duration": 3,
    "start_time": "2022-12-08T13:07:51.167Z"
   },
   {
    "duration": 10,
    "start_time": "2022-12-08T13:07:51.171Z"
   },
   {
    "duration": 62,
    "start_time": "2022-12-08T13:07:51.183Z"
   },
   {
    "duration": 483,
    "start_time": "2022-12-08T13:07:51.247Z"
   },
   {
    "duration": 446,
    "start_time": "2022-12-08T13:07:51.732Z"
   },
   {
    "duration": 579,
    "start_time": "2022-12-08T13:07:52.180Z"
   },
   {
    "duration": 112,
    "start_time": "2022-12-08T13:07:52.760Z"
   },
   {
    "duration": 19,
    "start_time": "2022-12-08T13:07:52.874Z"
   },
   {
    "duration": 29,
    "start_time": "2022-12-08T13:07:52.895Z"
   },
   {
    "duration": 37,
    "start_time": "2022-12-08T13:07:52.927Z"
   },
   {
    "duration": 174,
    "start_time": "2022-12-08T13:07:52.965Z"
   },
   {
    "duration": 34,
    "start_time": "2022-12-08T13:07:53.141Z"
   },
   {
    "duration": 145,
    "start_time": "2022-12-08T13:07:53.177Z"
   },
   {
    "duration": 12,
    "start_time": "2022-12-08T13:07:53.324Z"
   },
   {
    "duration": 22,
    "start_time": "2022-12-08T13:07:53.338Z"
   },
   {
    "duration": 372,
    "start_time": "2022-12-08T13:07:53.362Z"
   },
   {
    "duration": 118,
    "start_time": "2022-12-08T13:07:53.736Z"
   },
   {
    "duration": 22,
    "start_time": "2022-12-08T13:07:53.856Z"
   },
   {
    "duration": 360,
    "start_time": "2022-12-08T13:07:53.880Z"
   },
   {
    "duration": 95,
    "start_time": "2022-12-08T13:07:54.242Z"
   },
   {
    "duration": 791,
    "start_time": "2022-12-08T13:07:54.339Z"
   },
   {
    "duration": 201,
    "start_time": "2022-12-08T13:07:55.132Z"
   },
   {
    "duration": 313,
    "start_time": "2022-12-08T13:07:55.335Z"
   },
   {
    "duration": 1660241,
    "start_time": "2022-12-08T13:07:55.649Z"
   },
   {
    "duration": 78,
    "start_time": "2022-12-08T13:35:35.893Z"
   },
   {
    "duration": 1689,
    "start_time": "2022-12-08T13:36:10.118Z"
   },
   {
    "duration": 862,
    "start_time": "2022-12-08T13:36:11.809Z"
   },
   {
    "duration": 17,
    "start_time": "2022-12-08T13:36:12.673Z"
   },
   {
    "duration": 121,
    "start_time": "2022-12-08T13:36:12.692Z"
   },
   {
    "duration": 4,
    "start_time": "2022-12-08T13:36:12.814Z"
   },
   {
    "duration": 10,
    "start_time": "2022-12-08T13:36:12.820Z"
   },
   {
    "duration": 59,
    "start_time": "2022-12-08T13:36:12.832Z"
   },
   {
    "duration": 527,
    "start_time": "2022-12-08T13:36:12.893Z"
   },
   {
    "duration": 489,
    "start_time": "2022-12-08T13:36:13.422Z"
   },
   {
    "duration": 618,
    "start_time": "2022-12-08T13:36:13.913Z"
   },
   {
    "duration": 114,
    "start_time": "2022-12-08T13:36:14.533Z"
   },
   {
    "duration": 23,
    "start_time": "2022-12-08T13:36:14.648Z"
   },
   {
    "duration": 45,
    "start_time": "2022-12-08T13:36:14.673Z"
   },
   {
    "duration": 51,
    "start_time": "2022-12-08T13:36:14.720Z"
   },
   {
    "duration": 182,
    "start_time": "2022-12-08T13:36:14.772Z"
   },
   {
    "duration": 42,
    "start_time": "2022-12-08T13:36:14.956Z"
   },
   {
    "duration": 153,
    "start_time": "2022-12-08T13:36:15.000Z"
   },
   {
    "duration": 13,
    "start_time": "2022-12-08T13:36:15.155Z"
   },
   {
    "duration": 22,
    "start_time": "2022-12-08T13:36:15.170Z"
   },
   {
    "duration": 382,
    "start_time": "2022-12-08T13:36:15.193Z"
   },
   {
    "duration": 118,
    "start_time": "2022-12-08T13:36:15.577Z"
   },
   {
    "duration": 22,
    "start_time": "2022-12-08T13:36:15.696Z"
   },
   {
    "duration": 395,
    "start_time": "2022-12-08T13:36:15.720Z"
   },
   {
    "duration": 100,
    "start_time": "2022-12-08T13:36:16.117Z"
   },
   {
    "duration": 844,
    "start_time": "2022-12-08T13:36:16.219Z"
   },
   {
    "duration": 202,
    "start_time": "2022-12-08T13:36:17.065Z"
   },
   {
    "duration": 313,
    "start_time": "2022-12-08T13:36:17.269Z"
   },
   {
    "duration": 208,
    "start_time": "2022-12-08T13:36:32.812Z"
   },
   {
    "duration": 30682,
    "start_time": "2022-12-08T13:36:40.172Z"
   },
   {
    "duration": 71221,
    "start_time": "2022-12-08T13:37:13.239Z"
   },
   {
    "duration": 99,
    "start_time": "2022-12-08T13:38:33.352Z"
   },
   {
    "duration": 94,
    "start_time": "2022-12-08T13:38:42.405Z"
   },
   {
    "duration": 97251,
    "start_time": "2022-12-08T13:38:55.046Z"
   },
   {
    "duration": 93,
    "start_time": "2022-12-08T13:40:40.453Z"
   },
   {
    "duration": 30584,
    "start_time": "2022-12-08T13:41:11.821Z"
   },
   {
    "duration": 15879,
    "start_time": "2022-12-08T13:41:48.570Z"
   },
   {
    "duration": 35483,
    "start_time": "2022-12-08T13:42:06.480Z"
   },
   {
    "duration": 24199,
    "start_time": "2022-12-08T13:43:09.846Z"
   },
   {
    "duration": 78043,
    "start_time": "2022-12-08T13:43:37.669Z"
   },
   {
    "duration": 16425,
    "start_time": "2022-12-08T13:45:12.142Z"
   },
   {
    "duration": 130928,
    "start_time": "2022-12-08T13:45:33.834Z"
   },
   {
    "duration": 66,
    "start_time": "2022-12-08T13:48:03.606Z"
   },
   {
    "duration": 312612,
    "start_time": "2022-12-08T13:48:24.012Z"
   },
   {
    "duration": 14114,
    "start_time": "2022-12-08T13:55:36.457Z"
   },
   {
    "duration": 1024856,
    "start_time": "2022-12-08T14:07:30.835Z"
   },
   {
    "duration": 451992,
    "start_time": "2022-12-08T14:24:35.842Z"
   },
   {
    "duration": 94,
    "start_time": "2022-12-11T10:15:37.792Z"
   },
   {
    "duration": 1657,
    "start_time": "2022-12-11T10:16:13.346Z"
   },
   {
    "duration": 1127,
    "start_time": "2022-12-11T10:16:15.006Z"
   },
   {
    "duration": 19,
    "start_time": "2022-12-11T10:16:16.135Z"
   },
   {
    "duration": 135,
    "start_time": "2022-12-11T10:16:16.156Z"
   },
   {
    "duration": 3,
    "start_time": "2022-12-11T10:16:16.294Z"
   },
   {
    "duration": 8,
    "start_time": "2022-12-11T10:16:16.299Z"
   },
   {
    "duration": 80,
    "start_time": "2022-12-11T10:16:16.309Z"
   },
   {
    "duration": 508,
    "start_time": "2022-12-11T10:16:16.390Z"
   },
   {
    "duration": 818,
    "start_time": "2022-12-11T10:16:16.899Z"
   },
   {
    "duration": 1168,
    "start_time": "2022-12-11T10:16:17.719Z"
   },
   {
    "duration": 115,
    "start_time": "2022-12-11T10:16:18.888Z"
   },
   {
    "duration": 21,
    "start_time": "2022-12-11T10:16:19.004Z"
   },
   {
    "duration": 20,
    "start_time": "2022-12-11T10:16:19.027Z"
   },
   {
    "duration": 58,
    "start_time": "2022-12-11T10:16:19.050Z"
   },
   {
    "duration": 173,
    "start_time": "2022-12-11T10:16:19.110Z"
   },
   {
    "duration": 40,
    "start_time": "2022-12-11T10:16:19.285Z"
   },
   {
    "duration": 152,
    "start_time": "2022-12-11T10:16:19.326Z"
   },
   {
    "duration": 13,
    "start_time": "2022-12-11T10:16:19.480Z"
   },
   {
    "duration": 22,
    "start_time": "2022-12-11T10:16:19.494Z"
   },
   {
    "duration": 356,
    "start_time": "2022-12-11T10:16:19.518Z"
   },
   {
    "duration": 126,
    "start_time": "2022-12-11T10:16:19.877Z"
   },
   {
    "duration": 19,
    "start_time": "2022-12-11T10:16:20.005Z"
   },
   {
    "duration": 418,
    "start_time": "2022-12-11T10:16:20.025Z"
   },
   {
    "duration": 103,
    "start_time": "2022-12-11T10:16:20.445Z"
   },
   {
    "duration": 719,
    "start_time": "2022-12-11T10:16:20.550Z"
   },
   {
    "duration": 217,
    "start_time": "2022-12-11T10:16:21.271Z"
   },
   {
    "duration": 328,
    "start_time": "2022-12-11T10:16:21.490Z"
   },
   {
    "duration": 128595,
    "start_time": "2022-12-11T10:16:21.819Z"
   },
   {
    "duration": 68,
    "start_time": "2022-12-11T10:18:30.416Z"
   },
   {
    "duration": 1948,
    "start_time": "2022-12-11T10:19:32.956Z"
   },
   {
    "duration": 1402,
    "start_time": "2022-12-11T10:19:34.906Z"
   },
   {
    "duration": 17,
    "start_time": "2022-12-11T10:19:36.310Z"
   },
   {
    "duration": 130,
    "start_time": "2022-12-11T10:19:36.329Z"
   },
   {
    "duration": 4,
    "start_time": "2022-12-11T10:19:36.462Z"
   },
   {
    "duration": 13,
    "start_time": "2022-12-11T10:19:36.468Z"
   },
   {
    "duration": 65,
    "start_time": "2022-12-11T10:19:36.482Z"
   },
   {
    "duration": 528,
    "start_time": "2022-12-11T10:19:36.549Z"
   },
   {
    "duration": 510,
    "start_time": "2022-12-11T10:19:37.079Z"
   },
   {
    "duration": 661,
    "start_time": "2022-12-11T10:19:37.591Z"
   },
   {
    "duration": 131,
    "start_time": "2022-12-11T10:19:38.254Z"
   },
   {
    "duration": 20,
    "start_time": "2022-12-11T10:19:38.387Z"
   },
   {
    "duration": 22,
    "start_time": "2022-12-11T10:19:38.408Z"
   },
   {
    "duration": 51,
    "start_time": "2022-12-11T10:19:38.432Z"
   },
   {
    "duration": 174,
    "start_time": "2022-12-11T10:19:38.485Z"
   },
   {
    "duration": 50,
    "start_time": "2022-12-11T10:19:38.661Z"
   },
   {
    "duration": 153,
    "start_time": "2022-12-11T10:19:38.712Z"
   },
   {
    "duration": 19,
    "start_time": "2022-12-11T10:19:38.867Z"
   },
   {
    "duration": 28,
    "start_time": "2022-12-11T10:19:38.887Z"
   },
   {
    "duration": 368,
    "start_time": "2022-12-11T10:19:38.917Z"
   },
   {
    "duration": 123,
    "start_time": "2022-12-11T10:19:39.286Z"
   },
   {
    "duration": 18,
    "start_time": "2022-12-11T10:19:39.411Z"
   },
   {
    "duration": 377,
    "start_time": "2022-12-11T10:19:39.431Z"
   },
   {
    "duration": 99,
    "start_time": "2022-12-11T10:19:39.809Z"
   },
   {
    "duration": 767,
    "start_time": "2022-12-11T10:19:39.910Z"
   },
   {
    "duration": 213,
    "start_time": "2022-12-11T10:19:40.679Z"
   },
   {
    "duration": 338,
    "start_time": "2022-12-11T10:19:40.894Z"
   },
   {
    "duration": 129458,
    "start_time": "2022-12-11T10:19:41.234Z"
   },
   {
    "duration": 67,
    "start_time": "2022-12-11T10:21:50.694Z"
   },
   {
    "duration": 59822,
    "start_time": "2022-12-11T10:21:50.763Z"
   },
   {
    "duration": 997436,
    "start_time": "2022-12-11T10:22:50.587Z"
   },
   {
    "duration": 46,
    "start_time": "2022-12-11T10:39:28.024Z"
   },
   {
    "duration": 0,
    "start_time": "2022-12-11T10:39:28.073Z"
   },
   {
    "duration": 0,
    "start_time": "2022-12-11T10:39:28.074Z"
   },
   {
    "duration": 1,
    "start_time": "2022-12-11T10:39:28.075Z"
   },
   {
    "duration": 1798,
    "start_time": "2023-03-02T20:43:54.616Z"
   },
   {
    "duration": 3061,
    "start_time": "2023-03-02T20:43:56.416Z"
   },
   {
    "duration": 18,
    "start_time": "2023-03-02T20:43:59.479Z"
   },
   {
    "duration": 118,
    "start_time": "2023-03-02T20:43:59.499Z"
   },
   {
    "duration": 3,
    "start_time": "2023-03-02T20:43:59.619Z"
   },
   {
    "duration": 5,
    "start_time": "2023-03-02T20:43:59.624Z"
   },
   {
    "duration": 61,
    "start_time": "2023-03-02T20:43:59.631Z"
   },
   {
    "duration": 484,
    "start_time": "2023-03-02T20:43:59.694Z"
   },
   {
    "duration": 447,
    "start_time": "2023-03-02T20:44:00.180Z"
   },
   {
    "duration": 609,
    "start_time": "2023-03-02T20:44:00.631Z"
   },
   {
    "duration": 131,
    "start_time": "2023-03-02T20:44:01.242Z"
   },
   {
    "duration": 26,
    "start_time": "2023-03-02T20:44:01.376Z"
   },
   {
    "duration": 26,
    "start_time": "2023-03-02T20:44:01.403Z"
   },
   {
    "duration": 51,
    "start_time": "2023-03-02T20:44:01.431Z"
   },
   {
    "duration": 172,
    "start_time": "2023-03-02T20:44:01.485Z"
   },
   {
    "duration": 36,
    "start_time": "2023-03-02T20:44:01.667Z"
   },
   {
    "duration": 173,
    "start_time": "2023-03-02T20:44:01.705Z"
   },
   {
    "duration": 13,
    "start_time": "2023-03-02T20:44:01.880Z"
   },
   {
    "duration": 26,
    "start_time": "2023-03-02T20:44:01.895Z"
   },
   {
    "duration": 349,
    "start_time": "2023-03-02T20:44:01.922Z"
   },
   {
    "duration": 104,
    "start_time": "2023-03-02T20:44:02.273Z"
   },
   {
    "duration": 14,
    "start_time": "2023-03-02T20:44:02.379Z"
   },
   {
    "duration": 382,
    "start_time": "2023-03-02T20:44:02.395Z"
   },
   {
    "duration": 101,
    "start_time": "2023-03-02T20:44:02.779Z"
   },
   {
    "duration": 583,
    "start_time": "2023-03-02T20:44:02.881Z"
   },
   {
    "duration": 207,
    "start_time": "2023-03-02T20:44:03.466Z"
   },
   {
    "duration": 300,
    "start_time": "2023-03-02T20:44:03.675Z"
   },
   {
    "duration": 122666,
    "start_time": "2023-03-02T20:44:03.978Z"
   },
   {
    "duration": 80,
    "start_time": "2023-03-02T20:46:06.646Z"
   },
   {
    "duration": 1875,
    "start_time": "2023-03-02T21:06:41.100Z"
   },
   {
    "duration": 1101,
    "start_time": "2023-03-02T21:06:42.982Z"
   },
   {
    "duration": 31,
    "start_time": "2023-03-02T21:06:44.091Z"
   },
   {
    "duration": 182,
    "start_time": "2023-03-02T21:06:44.124Z"
   },
   {
    "duration": 5,
    "start_time": "2023-03-02T21:06:44.308Z"
   },
   {
    "duration": 20,
    "start_time": "2023-03-02T21:06:44.316Z"
   },
   {
    "duration": 75,
    "start_time": "2023-03-02T21:06:44.339Z"
   },
   {
    "duration": 630,
    "start_time": "2023-03-02T21:06:44.416Z"
   },
   {
    "duration": 691,
    "start_time": "2023-03-02T21:06:45.048Z"
   },
   {
    "duration": 709,
    "start_time": "2023-03-02T21:06:45.742Z"
   },
   {
    "duration": 158,
    "start_time": "2023-03-02T21:06:46.453Z"
   },
   {
    "duration": 31,
    "start_time": "2023-03-02T21:06:46.616Z"
   },
   {
    "duration": 37,
    "start_time": "2023-03-02T21:06:46.650Z"
   },
   {
    "duration": 52,
    "start_time": "2023-03-02T21:06:46.689Z"
   },
   {
    "duration": 237,
    "start_time": "2023-03-02T21:06:46.743Z"
   },
   {
    "duration": 41,
    "start_time": "2023-03-02T21:06:46.984Z"
   },
   {
    "duration": 194,
    "start_time": "2023-03-02T21:06:47.027Z"
   },
   {
    "duration": 14,
    "start_time": "2023-03-02T21:06:47.223Z"
   },
   {
    "duration": 40,
    "start_time": "2023-03-02T21:06:47.239Z"
   },
   {
    "duration": 399,
    "start_time": "2023-03-02T21:06:47.287Z"
   },
   {
    "duration": 122,
    "start_time": "2023-03-02T21:06:47.687Z"
   },
   {
    "duration": 17,
    "start_time": "2023-03-02T21:06:47.814Z"
   },
   {
    "duration": 492,
    "start_time": "2023-03-02T21:06:47.833Z"
   },
   {
    "duration": 120,
    "start_time": "2023-03-02T21:06:48.327Z"
   },
   {
    "duration": 684,
    "start_time": "2023-03-02T21:06:48.449Z"
   },
   {
    "duration": 200,
    "start_time": "2023-03-02T21:06:49.134Z"
   },
   {
    "duration": 336,
    "start_time": "2023-03-02T21:06:49.336Z"
   },
   {
    "duration": 165689,
    "start_time": "2023-03-02T21:06:49.684Z"
   },
   {
    "duration": 91,
    "start_time": "2023-03-02T21:09:35.382Z"
   },
   {
    "duration": 45,
    "start_time": "2023-03-10T09:33:23.646Z"
   },
   {
    "duration": 0,
    "start_time": "2023-03-10T09:33:23.693Z"
   },
   {
    "duration": 1623,
    "start_time": "2023-03-10T09:34:31.808Z"
   },
   {
    "duration": 2990,
    "start_time": "2023-03-10T09:34:33.433Z"
   },
   {
    "duration": 19,
    "start_time": "2023-03-10T09:34:36.425Z"
   },
   {
    "duration": 151,
    "start_time": "2023-03-10T09:34:36.445Z"
   },
   {
    "duration": 4,
    "start_time": "2023-03-10T09:34:36.597Z"
   },
   {
    "duration": 5,
    "start_time": "2023-03-10T09:34:36.603Z"
   },
   {
    "duration": 55,
    "start_time": "2023-03-10T09:34:36.623Z"
   },
   {
    "duration": 504,
    "start_time": "2023-03-10T09:34:36.679Z"
   },
   {
    "duration": 507,
    "start_time": "2023-03-10T09:34:37.185Z"
   },
   {
    "duration": 630,
    "start_time": "2023-03-10T09:34:37.694Z"
   },
   {
    "duration": 133,
    "start_time": "2023-03-10T09:34:38.326Z"
   },
   {
    "duration": 23,
    "start_time": "2023-03-10T09:34:38.461Z"
   },
   {
    "duration": 47,
    "start_time": "2023-03-10T09:34:38.486Z"
   },
   {
    "duration": 50,
    "start_time": "2023-03-10T09:34:38.536Z"
   },
   {
    "duration": 188,
    "start_time": "2023-03-10T09:34:38.588Z"
   },
   {
    "duration": 50,
    "start_time": "2023-03-10T09:34:38.779Z"
   },
   {
    "duration": 174,
    "start_time": "2023-03-10T09:34:38.832Z"
   },
   {
    "duration": 18,
    "start_time": "2023-03-10T09:34:39.009Z"
   },
   {
    "duration": 25,
    "start_time": "2023-03-10T09:34:39.028Z"
   },
   {
    "duration": 357,
    "start_time": "2023-03-10T09:34:39.055Z"
   },
   {
    "duration": 109,
    "start_time": "2023-03-10T09:34:39.414Z"
   },
   {
    "duration": 19,
    "start_time": "2023-03-10T09:34:39.525Z"
   },
   {
    "duration": 406,
    "start_time": "2023-03-10T09:34:39.546Z"
   },
   {
    "duration": 77,
    "start_time": "2023-03-10T09:34:39.954Z"
   },
   {
    "duration": 730,
    "start_time": "2023-03-10T09:34:40.033Z"
   },
   {
    "duration": 209,
    "start_time": "2023-03-10T09:34:40.765Z"
   },
   {
    "duration": 304,
    "start_time": "2023-03-10T09:34:40.976Z"
   },
   {
    "duration": 120281,
    "start_time": "2023-03-10T09:34:41.283Z"
   },
   {
    "duration": 61,
    "start_time": "2023-03-10T09:36:41.566Z"
   },
   {
    "duration": 48398,
    "start_time": "2023-03-10T09:36:41.629Z"
   },
   {
    "duration": 813097,
    "start_time": "2023-03-10T09:38:08.983Z"
   },
   {
    "duration": 0,
    "start_time": "2023-03-10T09:51:42.082Z"
   },
   {
    "duration": 3,
    "start_time": "2023-03-10T09:51:49.339Z"
   },
   {
    "duration": 118956,
    "start_time": "2023-03-10T09:52:44.145Z"
   },
   {
    "duration": 130761,
    "start_time": "2023-03-10T09:56:24.469Z"
   },
   {
    "duration": 1528,
    "start_time": "2023-03-10T10:01:12.429Z"
   },
   {
    "duration": 865,
    "start_time": "2023-03-10T10:01:13.960Z"
   },
   {
    "duration": 17,
    "start_time": "2023-03-10T10:01:14.827Z"
   },
   {
    "duration": 205,
    "start_time": "2023-03-10T10:01:14.846Z"
   },
   {
    "duration": 4,
    "start_time": "2023-03-10T10:01:15.054Z"
   },
   {
    "duration": 8,
    "start_time": "2023-03-10T10:01:15.060Z"
   },
   {
    "duration": 84,
    "start_time": "2023-03-10T10:01:15.070Z"
   },
   {
    "duration": 519,
    "start_time": "2023-03-10T10:01:15.156Z"
   },
   {
    "duration": 1147,
    "start_time": "2023-03-10T10:01:15.678Z"
   },
   {
    "duration": 923,
    "start_time": "2023-03-10T10:01:16.827Z"
   },
   {
    "duration": 142,
    "start_time": "2023-03-10T10:01:17.752Z"
   },
   {
    "duration": 19,
    "start_time": "2023-03-10T10:01:17.896Z"
   },
   {
    "duration": 24,
    "start_time": "2023-03-10T10:01:17.924Z"
   },
   {
    "duration": 59,
    "start_time": "2023-03-10T10:01:17.951Z"
   },
   {
    "duration": 172,
    "start_time": "2023-03-10T10:01:18.012Z"
   },
   {
    "duration": 47,
    "start_time": "2023-03-10T10:01:18.186Z"
   },
   {
    "duration": 171,
    "start_time": "2023-03-10T10:01:18.235Z"
   },
   {
    "duration": 11,
    "start_time": "2023-03-10T10:01:18.408Z"
   },
   {
    "duration": 23,
    "start_time": "2023-03-10T10:01:18.423Z"
   },
   {
    "duration": 357,
    "start_time": "2023-03-10T10:01:18.448Z"
   },
   {
    "duration": 119,
    "start_time": "2023-03-10T10:01:18.807Z"
   },
   {
    "duration": 29,
    "start_time": "2023-03-10T10:01:18.929Z"
   },
   {
    "duration": 519,
    "start_time": "2023-03-10T10:01:18.963Z"
   },
   {
    "duration": 102,
    "start_time": "2023-03-10T10:01:19.484Z"
   },
   {
    "duration": 661,
    "start_time": "2023-03-10T10:01:19.588Z"
   },
   {
    "duration": 206,
    "start_time": "2023-03-10T10:01:20.251Z"
   },
   {
    "duration": 321,
    "start_time": "2023-03-10T10:01:20.459Z"
   },
   {
    "duration": 129080,
    "start_time": "2023-03-10T10:01:20.782Z"
   },
   {
    "duration": 62,
    "start_time": "2023-03-10T10:03:29.864Z"
   },
   {
    "duration": 1522,
    "start_time": "2023-03-10T10:22:17.702Z"
   },
   {
    "duration": 864,
    "start_time": "2023-03-10T10:22:19.227Z"
   },
   {
    "duration": 16,
    "start_time": "2023-03-10T10:22:20.093Z"
   },
   {
    "duration": 152,
    "start_time": "2023-03-10T10:22:20.111Z"
   },
   {
    "duration": 4,
    "start_time": "2023-03-10T10:22:20.266Z"
   },
   {
    "duration": 5,
    "start_time": "2023-03-10T10:22:20.272Z"
   },
   {
    "duration": 84,
    "start_time": "2023-03-10T10:22:20.279Z"
   },
   {
    "duration": 505,
    "start_time": "2023-03-10T10:22:20.364Z"
   },
   {
    "duration": 460,
    "start_time": "2023-03-10T10:22:20.871Z"
   },
   {
    "duration": 613,
    "start_time": "2023-03-10T10:22:21.332Z"
   },
   {
    "duration": 144,
    "start_time": "2023-03-10T10:22:21.947Z"
   },
   {
    "duration": 45,
    "start_time": "2023-03-10T10:22:22.093Z"
   },
   {
    "duration": 31,
    "start_time": "2023-03-10T10:22:22.140Z"
   },
   {
    "duration": 45,
    "start_time": "2023-03-10T10:22:22.174Z"
   },
   {
    "duration": 187,
    "start_time": "2023-03-10T10:22:22.220Z"
   },
   {
    "duration": 47,
    "start_time": "2023-03-10T10:22:22.409Z"
   },
   {
    "duration": 142,
    "start_time": "2023-03-10T10:22:22.458Z"
   },
   {
    "duration": 12,
    "start_time": "2023-03-10T10:22:22.602Z"
   },
   {
    "duration": 20,
    "start_time": "2023-03-10T10:22:22.624Z"
   },
   {
    "duration": 353,
    "start_time": "2023-03-10T10:22:22.646Z"
   },
   {
    "duration": 120,
    "start_time": "2023-03-10T10:22:23.000Z"
   },
   {
    "duration": 19,
    "start_time": "2023-03-10T10:22:23.121Z"
   },
   {
    "duration": 418,
    "start_time": "2023-03-10T10:22:23.142Z"
   },
   {
    "duration": 93,
    "start_time": "2023-03-10T10:22:23.562Z"
   },
   {
    "duration": 667,
    "start_time": "2023-03-10T10:22:23.657Z"
   },
   {
    "duration": 203,
    "start_time": "2023-03-10T10:22:24.326Z"
   },
   {
    "duration": 293,
    "start_time": "2023-03-10T10:22:24.531Z"
   },
   {
    "duration": 123214,
    "start_time": "2023-03-10T10:22:24.826Z"
   },
   {
    "duration": 62,
    "start_time": "2023-03-10T10:24:28.043Z"
   },
   {
    "duration": 1770,
    "start_time": "2023-03-10T15:46:40.263Z"
   },
   {
    "duration": 3513,
    "start_time": "2023-03-10T15:46:42.036Z"
   },
   {
    "duration": 19,
    "start_time": "2023-03-10T15:46:45.551Z"
   },
   {
    "duration": 136,
    "start_time": "2023-03-10T15:46:45.572Z"
   },
   {
    "duration": 8,
    "start_time": "2023-03-10T15:46:45.710Z"
   },
   {
    "duration": 5,
    "start_time": "2023-03-10T15:46:45.720Z"
   },
   {
    "duration": 56,
    "start_time": "2023-03-10T15:46:45.727Z"
   },
   {
    "duration": 573,
    "start_time": "2023-03-10T15:46:45.785Z"
   },
   {
    "duration": 549,
    "start_time": "2023-03-10T15:46:46.360Z"
   },
   {
    "duration": 728,
    "start_time": "2023-03-10T15:46:46.912Z"
   },
   {
    "duration": 128,
    "start_time": "2023-03-10T15:46:47.642Z"
   },
   {
    "duration": 21,
    "start_time": "2023-03-10T15:46:47.772Z"
   },
   {
    "duration": 41,
    "start_time": "2023-03-10T15:46:47.795Z"
   },
   {
    "duration": 48,
    "start_time": "2023-03-10T15:46:47.840Z"
   },
   {
    "duration": 202,
    "start_time": "2023-03-10T15:46:47.890Z"
   },
   {
    "duration": 52,
    "start_time": "2023-03-10T15:46:48.094Z"
   },
   {
    "duration": 153,
    "start_time": "2023-03-10T15:46:48.148Z"
   },
   {
    "duration": 23,
    "start_time": "2023-03-10T15:46:48.303Z"
   },
   {
    "duration": 28,
    "start_time": "2023-03-10T15:46:48.329Z"
   },
   {
    "duration": 418,
    "start_time": "2023-03-10T15:46:48.359Z"
   },
   {
    "duration": 122,
    "start_time": "2023-03-10T15:46:48.778Z"
   },
   {
    "duration": 18,
    "start_time": "2023-03-10T15:46:48.903Z"
   },
   {
    "duration": 451,
    "start_time": "2023-03-10T15:46:48.923Z"
   },
   {
    "duration": 104,
    "start_time": "2023-03-10T15:46:49.376Z"
   },
   {
    "duration": 1149,
    "start_time": "2023-03-10T15:46:49.482Z"
   },
   {
    "duration": 379,
    "start_time": "2023-03-10T15:46:50.633Z"
   },
   {
    "duration": 374,
    "start_time": "2023-03-10T15:46:51.015Z"
   },
   {
    "duration": 122543,
    "start_time": "2023-03-10T15:46:51.391Z"
   },
   {
    "duration": 60,
    "start_time": "2023-03-10T15:48:53.935Z"
   },
   {
    "duration": 39022,
    "start_time": "2023-03-10T15:48:53.997Z"
   },
   {
    "duration": 236951,
    "start_time": "2023-03-10T15:50:00.939Z"
   },
   {
    "duration": 229393,
    "start_time": "2023-03-10T15:55:22.552Z"
   },
   {
    "duration": 8,
    "start_time": "2023-03-10T15:59:11.947Z"
   },
   {
    "duration": 10,
    "start_time": "2023-03-10T16:00:07.729Z"
   },
   {
    "duration": 126,
    "start_time": "2023-03-10T16:03:17.722Z"
   },
   {
    "duration": 1451,
    "start_time": "2023-03-10T16:04:26.899Z"
   },
   {
    "duration": 807,
    "start_time": "2023-03-10T16:04:28.352Z"
   },
   {
    "duration": 17,
    "start_time": "2023-03-10T16:04:29.161Z"
   },
   {
    "duration": 129,
    "start_time": "2023-03-10T16:04:29.180Z"
   },
   {
    "duration": 3,
    "start_time": "2023-03-10T16:04:29.311Z"
   },
   {
    "duration": 9,
    "start_time": "2023-03-10T16:04:29.315Z"
   },
   {
    "duration": 55,
    "start_time": "2023-03-10T16:04:29.326Z"
   },
   {
    "duration": 508,
    "start_time": "2023-03-10T16:04:29.382Z"
   },
   {
    "duration": 487,
    "start_time": "2023-03-10T16:04:29.891Z"
   },
   {
    "duration": 616,
    "start_time": "2023-03-10T16:04:30.380Z"
   },
   {
    "duration": 124,
    "start_time": "2023-03-10T16:04:30.998Z"
   },
   {
    "duration": 51,
    "start_time": "2023-03-10T16:04:31.123Z"
   },
   {
    "duration": 58,
    "start_time": "2023-03-10T16:04:31.177Z"
   },
   {
    "duration": 69,
    "start_time": "2023-03-10T16:04:31.238Z"
   },
   {
    "duration": 196,
    "start_time": "2023-03-10T16:04:31.309Z"
   },
   {
    "duration": 41,
    "start_time": "2023-03-10T16:04:31.506Z"
   },
   {
    "duration": 158,
    "start_time": "2023-03-10T16:04:31.549Z"
   },
   {
    "duration": 12,
    "start_time": "2023-03-10T16:04:31.709Z"
   },
   {
    "duration": 29,
    "start_time": "2023-03-10T16:04:31.723Z"
   },
   {
    "duration": 351,
    "start_time": "2023-03-10T16:04:31.754Z"
   },
   {
    "duration": 107,
    "start_time": "2023-03-10T16:04:32.106Z"
   },
   {
    "duration": 16,
    "start_time": "2023-03-10T16:04:32.215Z"
   },
   {
    "duration": 374,
    "start_time": "2023-03-10T16:04:32.233Z"
   },
   {
    "duration": 76,
    "start_time": "2023-03-10T16:04:32.609Z"
   },
   {
    "duration": 672,
    "start_time": "2023-03-10T16:04:32.687Z"
   },
   {
    "duration": 201,
    "start_time": "2023-03-10T16:04:33.361Z"
   },
   {
    "duration": 306,
    "start_time": "2023-03-10T16:04:33.564Z"
   },
   {
    "duration": 121032,
    "start_time": "2023-03-10T16:04:33.872Z"
   },
   {
    "duration": 62,
    "start_time": "2023-03-10T16:06:34.906Z"
   },
   {
    "duration": 118,
    "start_time": "2023-03-10T16:06:34.970Z"
   },
   {
    "duration": 0,
    "start_time": "2023-03-10T16:06:35.090Z"
   },
   {
    "duration": 0,
    "start_time": "2023-03-10T16:06:35.092Z"
   },
   {
    "duration": 0,
    "start_time": "2023-03-10T16:06:35.093Z"
   },
   {
    "duration": 0,
    "start_time": "2023-03-10T16:06:35.095Z"
   },
   {
    "duration": 44587,
    "start_time": "2023-03-10T16:06:53.526Z"
   },
   {
    "duration": 232387,
    "start_time": "2023-03-10T16:07:56.066Z"
   },
   {
    "duration": 9,
    "start_time": "2023-03-10T16:11:48.455Z"
   },
   {
    "duration": 74,
    "start_time": "2023-03-10T16:12:30.278Z"
   },
   {
    "duration": 111,
    "start_time": "2023-03-10T16:15:01.529Z"
   },
   {
    "duration": 61,
    "start_time": "2023-03-10T16:15:06.262Z"
   },
   {
    "duration": 627,
    "start_time": "2023-03-10T16:15:12.998Z"
   },
   {
    "duration": 5,
    "start_time": "2023-03-10T16:15:23.417Z"
   },
   {
    "duration": 4,
    "start_time": "2023-03-10T16:16:07.950Z"
   },
   {
    "duration": 55,
    "start_time": "2023-03-12T21:12:04.636Z"
   }
  ],
  "kernelspec": {
   "display_name": "Python 3 (ipykernel)",
   "language": "python",
   "name": "python3"
  },
  "language_info": {
   "codemirror_mode": {
    "name": "ipython",
    "version": 3
   },
   "file_extension": ".py",
   "mimetype": "text/x-python",
   "name": "python",
   "nbconvert_exporter": "python",
   "pygments_lexer": "ipython3",
   "version": "3.9.5"
  },
  "toc": {
   "base_numbering": 1,
   "nav_menu": {},
   "number_sections": true,
   "sideBar": true,
   "skip_h1_title": true,
   "title_cell": "Table of Contents",
   "title_sidebar": "Contents",
   "toc_cell": false,
   "toc_position": {
    "height": "calc(100% - 180px)",
    "left": "10px",
    "top": "150px",
    "width": "165px"
   },
   "toc_section_display": true,
   "toc_window_display": true
  }
 },
 "nbformat": 4,
 "nbformat_minor": 2
}
