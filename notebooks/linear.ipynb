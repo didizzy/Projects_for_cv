{
 "cells": [
  {
   "cell_type": "markdown",
   "metadata": {
    "toc": true
   },
   "source": [
    "<h1>Содержание<span class=\"tocSkip\"></span></h1>\n",
    "<div class=\"toc\"><ul class=\"toc-item\"><li><span><a href=\"#Загрузка-данных\" data-toc-modified-id=\"Загрузка-данных-1\"><span class=\"toc-item-num\">1&nbsp;&nbsp;</span>Загрузка данных</a></span></li><li><span><a href=\"#Исследование-данных\" data-toc-modified-id=\"Исследование-данных-2\"><span class=\"toc-item-num\">2&nbsp;&nbsp;</span>Исследование данных</a></span></li><li><span><a href=\"#Умножение-матриц\" data-toc-modified-id=\"Умножение-матриц-3\"><span class=\"toc-item-num\">3&nbsp;&nbsp;</span>Умножение матриц</a></span></li><li><span><a href=\"#Алгоритм-преобразования\" data-toc-modified-id=\"Алгоритм-преобразования-4\"><span class=\"toc-item-num\">4&nbsp;&nbsp;</span>Алгоритм преобразования</a></span></li><li><span><a href=\"#Проверка-алгоритма\" data-toc-modified-id=\"Проверка-алгоритма-5\"><span class=\"toc-item-num\">5&nbsp;&nbsp;</span>Проверка алгоритма</a></span></li></ul></div>"
   ]
  },
  {
   "cell_type": "markdown",
   "metadata": {},
   "source": [
    "# Защита персональных данных клиентов"
   ]
  },
  {
   "cell_type": "markdown",
   "metadata": {},
   "source": [
    "Вам нужно защитить данные клиентов страховой компании «Хоть потоп». Обоснуйте корректность его работы.\n",
    "\n",
    "Нужно защитить данные, чтобы при преобразовании качество моделей машинного обучения не ухудшилось. Подбирать наилучшую модель не требуется."
   ]
  },
  {
   "cell_type": "markdown",
   "metadata": {},
   "source": [
    "**Цель исследования** — разработать такой метод преобразования данных, чтобы по ним было сложно восстановить персональную информацию\n",
    "\n",
    "**Ход исследования**\n",
    "\n",
    "О качестве данных известно, что, как минимум, не требуется предобработка, однако, все равно проверим повторно.\n",
    "\n",
    "Таким образом, исследование пройдёт в три этапа:\n",
    "\n",
    "1) Обзор данных.\n",
    "\n",
    "2) Предобработка данных.\n",
    "\n",
    "3) Анализ.\n"
   ]
  },
  {
   "cell_type": "markdown",
   "metadata": {},
   "source": [
    "## Загрузка данных"
   ]
  },
  {
   "cell_type": "code",
   "execution_count": 1,
   "metadata": {},
   "outputs": [],
   "source": [
    "import pandas as pd\n",
    "import numpy as np\n",
    "import matplotlib.pyplot as plt\n",
    "from sklearn.linear_model import LinearRegression"
   ]
  },
  {
   "cell_type": "code",
   "execution_count": 2,
   "metadata": {},
   "outputs": [],
   "source": [
    "df = pd.read_csv('/datasets/insurance.csv')"
   ]
  },
  {
   "cell_type": "markdown",
   "metadata": {},
   "source": [
    "Откроем файл и изучим документацию:"
   ]
  },
  {
   "cell_type": "code",
   "execution_count": 3,
   "metadata": {},
   "outputs": [
    {
     "data": {
      "text/html": [
       "<div>\n",
       "<style scoped>\n",
       "    .dataframe tbody tr th:only-of-type {\n",
       "        vertical-align: middle;\n",
       "    }\n",
       "\n",
       "    .dataframe tbody tr th {\n",
       "        vertical-align: top;\n",
       "    }\n",
       "\n",
       "    .dataframe thead th {\n",
       "        text-align: right;\n",
       "    }\n",
       "</style>\n",
       "<table border=\"1\" class=\"dataframe\">\n",
       "  <thead>\n",
       "    <tr style=\"text-align: right;\">\n",
       "      <th></th>\n",
       "      <th>Пол</th>\n",
       "      <th>Возраст</th>\n",
       "      <th>Зарплата</th>\n",
       "      <th>Члены семьи</th>\n",
       "      <th>Страховые выплаты</th>\n",
       "    </tr>\n",
       "  </thead>\n",
       "  <tbody>\n",
       "    <tr>\n",
       "      <th>0</th>\n",
       "      <td>1</td>\n",
       "      <td>41.0</td>\n",
       "      <td>49600.0</td>\n",
       "      <td>1</td>\n",
       "      <td>0</td>\n",
       "    </tr>\n",
       "    <tr>\n",
       "      <th>1</th>\n",
       "      <td>0</td>\n",
       "      <td>46.0</td>\n",
       "      <td>38000.0</td>\n",
       "      <td>1</td>\n",
       "      <td>1</td>\n",
       "    </tr>\n",
       "    <tr>\n",
       "      <th>2</th>\n",
       "      <td>0</td>\n",
       "      <td>29.0</td>\n",
       "      <td>21000.0</td>\n",
       "      <td>0</td>\n",
       "      <td>0</td>\n",
       "    </tr>\n",
       "    <tr>\n",
       "      <th>3</th>\n",
       "      <td>0</td>\n",
       "      <td>21.0</td>\n",
       "      <td>41700.0</td>\n",
       "      <td>2</td>\n",
       "      <td>0</td>\n",
       "    </tr>\n",
       "    <tr>\n",
       "      <th>4</th>\n",
       "      <td>1</td>\n",
       "      <td>28.0</td>\n",
       "      <td>26100.0</td>\n",
       "      <td>0</td>\n",
       "      <td>0</td>\n",
       "    </tr>\n",
       "  </tbody>\n",
       "</table>\n",
       "</div>"
      ],
      "text/plain": [
       "   Пол  Возраст  Зарплата  Члены семьи  Страховые выплаты\n",
       "0    1     41.0   49600.0            1                  0\n",
       "1    0     46.0   38000.0            1                  1\n",
       "2    0     29.0   21000.0            0                  0\n",
       "3    0     21.0   41700.0            2                  0\n",
       "4    1     28.0   26100.0            0                  0"
      ]
     },
     "execution_count": 3,
     "metadata": {},
     "output_type": "execute_result"
    }
   ],
   "source": [
    "df.head(5)"
   ]
  },
  {
   "cell_type": "code",
   "execution_count": 4,
   "metadata": {},
   "outputs": [
    {
     "name": "stdout",
     "output_type": "stream",
     "text": [
      "<class 'pandas.core.frame.DataFrame'>\n",
      "RangeIndex: 5000 entries, 0 to 4999\n",
      "Data columns (total 5 columns):\n",
      " #   Column             Non-Null Count  Dtype  \n",
      "---  ------             --------------  -----  \n",
      " 0   Пол                5000 non-null   int64  \n",
      " 1   Возраст            5000 non-null   float64\n",
      " 2   Зарплата           5000 non-null   float64\n",
      " 3   Члены семьи        5000 non-null   int64  \n",
      " 4   Страховые выплаты  5000 non-null   int64  \n",
      "dtypes: float64(2), int64(3)\n",
      "memory usage: 195.4 KB\n"
     ]
    }
   ],
   "source": [
    "df.info()\n",
    "\n"
   ]
  },
  {
   "cell_type": "markdown",
   "metadata": {},
   "source": [
    "Каждый объект в наборе данных — это информация о пользователя страховой компании «Хоть потоп». Известно:\n",
    "\n",
    "* пол \n",
    "* возраст \n",
    "* зарплата \n",
    "* члены семьи \n",
    "* страховые выплаты \n",
    "\n",
    "Пропусков нет!"
   ]
  },
  {
   "cell_type": "markdown",
   "metadata": {},
   "source": [
    "## Исследование данных"
   ]
  },
  {
   "cell_type": "markdown",
   "metadata": {},
   "source": [
    "Оценим аномальность параметров:"
   ]
  },
  {
   "cell_type": "code",
   "execution_count": 7,
   "metadata": {},
   "outputs": [
    {
     "data": {
      "image/png": "[encoded data removed]",
      "text/plain": [
       "<Figure size 432x288 with 2 Axes>"
      ]
     },
     "metadata": {
      "needs_background": "light"
     },
     "output_type": "display_data"
    }
   ],
   "source": [
    "fig = plt.figure()\n",
    "\n",
    "ax_1 = fig.add_subplot(1, 5, 1)\n",
    "ax_2 = fig.add_subplot(1, 5, 3)\n",
    "\n",
    "ax_1.boxplot(df['Возраст']);\n",
    "ax_1.set_title('Возраст');\n",
    "ax_2.boxplot(df['Зарплата']);\n",
    "ax_2.set_title('Зарплата');\n"
   ]
  },
  {
   "cell_type": "markdown",
   "metadata": {},
   "source": [
    "Все \"выбросы\" более-менее близки к реальности, поэтому ограничивать параметры мы не будем."
   ]
  },
  {
   "cell_type": "markdown",
   "metadata": {},
   "source": [
    "Оценим связь параметров:"
   ]
  },
  {
   "cell_type": "code",
   "execution_count": 6,
   "metadata": {},
   "outputs": [
    {
     "data": {
      "text/html": [
       "<style  type=\"text/css\" >\n",
       "#T_22442_row0_col0,#T_22442_row1_col1,#T_22442_row2_col2,#T_22442_row3_col3,#T_22442_row4_col4{\n",
       "            background-color:  #b40426;\n",
       "            color:  #f1f1f1;\n",
       "        }#T_22442_row0_col1,#T_22442_row2_col4{\n",
       "            background-color:  #4055c8;\n",
       "            color:  #f1f1f1;\n",
       "        }#T_22442_row0_col2,#T_22442_row0_col4{\n",
       "            background-color:  #485fd1;\n",
       "            color:  #f1f1f1;\n",
       "        }#T_22442_row0_col3,#T_22442_row2_col0{\n",
       "            background-color:  #4257c9;\n",
       "            color:  #f1f1f1;\n",
       "        }#T_22442_row1_col0,#T_22442_row1_col2{\n",
       "            background-color:  #3d50c3;\n",
       "            color:  #f1f1f1;\n",
       "        }#T_22442_row1_col3{\n",
       "            background-color:  #4358cb;\n",
       "            color:  #f1f1f1;\n",
       "        }#T_22442_row1_col4{\n",
       "            background-color:  #f7b99e;\n",
       "            color:  #000000;\n",
       "        }#T_22442_row2_col1,#T_22442_row3_col0,#T_22442_row3_col2,#T_22442_row3_col4,#T_22442_row4_col3{\n",
       "            background-color:  #3b4cc0;\n",
       "            color:  #f1f1f1;\n",
       "        }#T_22442_row2_col3{\n",
       "            background-color:  #3c4ec2;\n",
       "            color:  #f1f1f1;\n",
       "        }#T_22442_row3_col1,#T_22442_row4_col2{\n",
       "            background-color:  #3e51c5;\n",
       "            color:  #f1f1f1;\n",
       "        }#T_22442_row4_col0{\n",
       "            background-color:  #3f53c6;\n",
       "            color:  #f1f1f1;\n",
       "        }#T_22442_row4_col1{\n",
       "            background-color:  #f7ba9f;\n",
       "            color:  #000000;\n",
       "        }</style><table id=\"T_22442_\" ><thead>    <tr>        <th class=\"blank level0\" ></th>        <th class=\"col_heading level0 col0\" >Пол</th>        <th class=\"col_heading level0 col1\" >Возраст</th>        <th class=\"col_heading level0 col2\" >Зарплата</th>        <th class=\"col_heading level0 col3\" >Члены семьи</th>        <th class=\"col_heading level0 col4\" >Страховые выплаты</th>    </tr></thead><tbody>\n",
       "                <tr>\n",
       "                        <th id=\"T_22442_level0_row0\" class=\"row_heading level0 row0\" >Пол</th>\n",
       "                        <td id=\"T_22442_row0_col0\" class=\"data row0 col0\" >1.000000</td>\n",
       "                        <td id=\"T_22442_row0_col1\" class=\"data row0 col1\" >0.002074</td>\n",
       "                        <td id=\"T_22442_row0_col2\" class=\"data row0 col2\" >0.014910</td>\n",
       "                        <td id=\"T_22442_row0_col3\" class=\"data row0 col3\" >-0.008991</td>\n",
       "                        <td id=\"T_22442_row0_col4\" class=\"data row0 col4\" >0.010140</td>\n",
       "            </tr>\n",
       "            <tr>\n",
       "                        <th id=\"T_22442_level0_row1\" class=\"row_heading level0 row1\" >Возраст</th>\n",
       "                        <td id=\"T_22442_row1_col0\" class=\"data row1 col0\" >0.002074</td>\n",
       "                        <td id=\"T_22442_row1_col1\" class=\"data row1 col1\" >1.000000</td>\n",
       "                        <td id=\"T_22442_row1_col2\" class=\"data row1 col2\" >-0.019093</td>\n",
       "                        <td id=\"T_22442_row1_col3\" class=\"data row1 col3\" >-0.006692</td>\n",
       "                        <td id=\"T_22442_row1_col4\" class=\"data row1 col4\" >0.651030</td>\n",
       "            </tr>\n",
       "            <tr>\n",
       "                        <th id=\"T_22442_level0_row2\" class=\"row_heading level0 row2\" >Зарплата</th>\n",
       "                        <td id=\"T_22442_row2_col0\" class=\"data row2 col0\" >0.014910</td>\n",
       "                        <td id=\"T_22442_row2_col1\" class=\"data row2 col1\" >-0.019093</td>\n",
       "                        <td id=\"T_22442_row2_col2\" class=\"data row2 col2\" >1.000000</td>\n",
       "                        <td id=\"T_22442_row2_col3\" class=\"data row2 col3\" >-0.030296</td>\n",
       "                        <td id=\"T_22442_row2_col4\" class=\"data row2 col4\" >-0.014963</td>\n",
       "            </tr>\n",
       "            <tr>\n",
       "                        <th id=\"T_22442_level0_row3\" class=\"row_heading level0 row3\" >Члены семьи</th>\n",
       "                        <td id=\"T_22442_row3_col0\" class=\"data row3 col0\" >-0.008991</td>\n",
       "                        <td id=\"T_22442_row3_col1\" class=\"data row3 col1\" >-0.006692</td>\n",
       "                        <td id=\"T_22442_row3_col2\" class=\"data row3 col2\" >-0.030296</td>\n",
       "                        <td id=\"T_22442_row3_col3\" class=\"data row3 col3\" >1.000000</td>\n",
       "                        <td id=\"T_22442_row3_col4\" class=\"data row3 col4\" >-0.036290</td>\n",
       "            </tr>\n",
       "            <tr>\n",
       "                        <th id=\"T_22442_level0_row4\" class=\"row_heading level0 row4\" >Страховые выплаты</th>\n",
       "                        <td id=\"T_22442_row4_col0\" class=\"data row4 col0\" >0.010140</td>\n",
       "                        <td id=\"T_22442_row4_col1\" class=\"data row4 col1\" >0.651030</td>\n",
       "                        <td id=\"T_22442_row4_col2\" class=\"data row4 col2\" >-0.014963</td>\n",
       "                        <td id=\"T_22442_row4_col3\" class=\"data row4 col3\" >-0.036290</td>\n",
       "                        <td id=\"T_22442_row4_col4\" class=\"data row4 col4\" >1.000000</td>\n",
       "            </tr>\n",
       "    </tbody></table>"
      ],
      "text/plain": [
       "<pandas.io.formats.style.Styler at 0x7f9729f97970>"
      ]
     },
     "execution_count": 6,
     "metadata": {},
     "output_type": "execute_result"
    }
   ],
   "source": [
    "corr_0 = df.corr()\n",
    "corr_0.style.background_gradient(cmap='coolwarm')"
   ]
  },
  {
   "cell_type": "markdown",
   "metadata": {},
   "source": [
    "Заметим, что сильную связь между собой имеют параметры \"Возраст\" и \"Страховые выплаты\". Скорее всего, это связано с тем, что люди в возрасте больше подвержены рискам различных заболеваний.  "
   ]
  },
  {
   "cell_type": "markdown",
   "metadata": {},
   "source": [
    "Посмотрим на распределение полов:"
   ]
  },
  {
   "cell_type": "code",
   "execution_count": 16,
   "metadata": {},
   "outputs": [
    {
     "data": {
      "image/png": "[encoded data removed]",
      "text/plain": [
       "<Figure size 432x288 with 1 Axes>"
      ]
     },
     "metadata": {},
     "output_type": "display_data"
    }
   ],
   "source": [
    "autopct = \"%.2f\"\n",
    "df['Пол'].value_counts().plot.pie(autopct=autopct);"
   ]
  },
  {
   "cell_type": "markdown",
   "metadata": {},
   "source": [
    "Соотношение мужчин и женщин стремится к 1!"
   ]
  },
  {
   "cell_type": "markdown",
   "metadata": {},
   "source": [
    "## Умножение матриц"
   ]
  },
  {
   "cell_type": "markdown",
   "metadata": {},
   "source": [
    "В этом задании вы можете записывать формулы в *Jupyter Notebook.*\n",
    "\n",
    "Чтобы записать формулу внутри текста, окружите её символами доллара \\\\$; если снаружи —  двойными символами \\\\$\\\\$. Эти формулы записываются на языке вёрстки *LaTeX.* \n",
    "\n",
    "Для примера мы записали формулы линейной регрессии. Можете их скопировать и отредактировать, чтобы решить задачу.\n",
    "\n",
    "Работать в *LaTeX* необязательно."
   ]
  },
  {
   "cell_type": "markdown",
   "metadata": {},
   "source": [
    "Обозначения:\n",
    "\n",
    "- $X$ — матрица признаков (нулевой столбец состоит из единиц)\n",
    "\n",
    "- $y$ — вектор целевого признака\n",
    "\n",
    "- $P$ — матрица, на которую умножаются признаки\n",
    "\n",
    "- $w$ — вектор весов линейной регрессии (нулевой элемент равен сдвигу)"
   ]
  },
  {
   "cell_type": "markdown",
   "metadata": {},
   "source": [
    "Предсказания:\n",
    "\n",
    "$$\n",
    "a = Xw\n",
    "$$\n",
    "\n",
    "Задача обучения:\n",
    "\n",
    "$$\n",
    "w = \\arg\\min_w MSE(Xw, y)\n",
    "$$\n",
    "\n",
    "Формула обучения:\n",
    "\n",
    "$$\n",
    "w = (X^T X)^{-1} X^T y\n",
    "$$"
   ]
  },
  {
   "cell_type": "markdown",
   "metadata": {},
   "source": [
    "**Ответ:** Качество модели не изменится, ибо вектор предсказаний не меняется в ходе преобразований:\n",
    "\n",
    "**Обоснование:** \n",
    "\n",
    "\n",
    "Пусть:\n",
    "$$\n",
    "a = X w\n",
    "$$\n",
    "\n",
    "$$\n",
    "a = Xw = XEw = XPP^{-1}w = (XP)P^{-1}w = (XP)w'\n",
    "$$\n",
    "\n",
    "$$\n",
    "w' = ((XP)^T XP)^{-1} (XP)^T y\n",
    "$$\n",
    "$$\n",
    "w' = (P^T (X^T X) P)^{-1} (XP)^T y\n",
    "$$\n",
    "$$\n",
    "w' = P^{-1} (X^T X)^{-1} (P^T)^{-1} (XP)^T y\n",
    "$$\n",
    "$$\n",
    "w' = P^{-1} (X^T X)^{-1} ((P^T)^{-1}(P)^T) X^T y\n",
    "$$\n",
    "$$\n",
    "w' = P^{-1} (X^T X)^{-1}X^T y\n",
    "$$\n",
    "$$\n",
    "w' = P^{-1} w\n",
    "$$"
   ]
  },
  {
   "cell_type": "markdown",
   "metadata": {},
   "source": [
    "Проверим утверждения на практике:"
   ]
  },
  {
   "cell_type": "code",
   "execution_count": 5,
   "metadata": {},
   "outputs": [],
   "source": [
    "#разделим данные на выборки\n",
    "X = df.drop(\"Страховые выплаты\", axis=1)\n",
    "y = df[\"Страховые выплаты\"]"
   ]
  },
  {
   "cell_type": "code",
   "execution_count": 6,
   "metadata": {},
   "outputs": [
    {
     "data": {
      "text/plain": [
       "array([[-1.31601504e+00, -3.67898020e-03, -1.06350288e+00,\n",
       "         2.29658044e+00],\n",
       "       [ 3.64529832e+00,  2.07964797e+00, -4.56709437e-01,\n",
       "        -4.93429404e+00],\n",
       "       [-1.87024212e+00,  1.01285403e+01, -1.17977916e+00,\n",
       "        -9.30171209e+00],\n",
       "       [-2.21945562e-01, -7.65748259e+00,  2.47734197e+00,\n",
       "         8.11982735e+00]])"
      ]
     },
     "execution_count": 6,
     "metadata": {},
     "output_type": "execute_result"
    }
   ],
   "source": [
    "#учитывая, что у нас всего 4 признака без таргета, то матрица должна быть 4х4\n",
    "randomchik = np.random.rand(4,4)\n",
    "\n",
    "#проверим, обратима ли матрица\n",
    "np.linalg.inv(randomchik)"
   ]
  },
  {
   "cell_type": "markdown",
   "metadata": {},
   "source": [
    "def generate_invertible_matrix(size):\n",
    "    try:\n",
    "        matrix = np.random.normal(size=(size, size))\n",
    "        # проверим матрицу на обратимость, если нет, пробуем сгенерировать еще раз\n",
    "        # таким образом гарантируем, что матрица стопроцентно будет обратимой\n",
    "        np.linalg.inv(matrix)\n",
    "    except np.linalg.LinAlgError:\n",
    "        matrix = generate_invertible_matrix()\n",
    "    \n",
    "    return matrix"
   ]
  },
  {
   "cell_type": "code",
   "execution_count": 7,
   "metadata": {},
   "outputs": [
    {
     "name": "stdout",
     "output_type": "stream",
     "text": [
      "Качество модели: 0.4249455028666801\n"
     ]
    }
   ],
   "source": [
    "#обучим модель \n",
    "lr = LinearRegression()\n",
    "lr.fit(X, y)\n",
    "r2 = lr.score(X, y)\n",
    "print(f'Качество модели: {r2}')"
   ]
  },
  {
   "cell_type": "code",
   "execution_count": 8,
   "metadata": {},
   "outputs": [
    {
     "name": "stdout",
     "output_type": "stream",
     "text": [
      "Качество модели с преобразованными данными: 0.4249455028666931\n"
     ]
    }
   ],
   "source": [
    "#преобразуем Х и снова обучим моедль \n",
    "X_new = X @ randomchik\n",
    "\n",
    "lr = LinearRegression()\n",
    "lr.fit(X_new, y)\n",
    "r2 = lr.score(X_new, y)\n",
    "print(f'Качество модели с преобразованными данными: {r2}')"
   ]
  },
  {
   "cell_type": "markdown",
   "metadata": {},
   "source": [
    "Качество не изменилось, чтд!"
   ]
  },
  {
   "cell_type": "markdown",
   "metadata": {},
   "source": [
    "## Алгоритм преобразования"
   ]
  },
  {
   "cell_type": "markdown",
   "metadata": {},
   "source": [
    "**Алгоритм**\n",
    "\n",
    "1. Умножим матрицу признаков на 3400\n",
    "2. Прибавим к матрице 50\n",
    "3. Умножим на случайную обратимую матрицу A"
   ]
  },
  {
   "cell_type": "markdown",
   "metadata": {},
   "source": [
    "## Проверка алгоритма"
   ]
  },
  {
   "cell_type": "code",
   "execution_count": 9,
   "metadata": {},
   "outputs": [
    {
     "data": {
      "text/html": [
       "<div>\n",
       "<style scoped>\n",
       "    .dataframe tbody tr th:only-of-type {\n",
       "        vertical-align: middle;\n",
       "    }\n",
       "\n",
       "    .dataframe tbody tr th {\n",
       "        vertical-align: top;\n",
       "    }\n",
       "\n",
       "    .dataframe thead th {\n",
       "        text-align: right;\n",
       "    }\n",
       "</style>\n",
       "<table border=\"1\" class=\"dataframe\">\n",
       "  <thead>\n",
       "    <tr style=\"text-align: right;\">\n",
       "      <th></th>\n",
       "      <th>0</th>\n",
       "      <th>1</th>\n",
       "      <th>2</th>\n",
       "      <th>3</th>\n",
       "    </tr>\n",
       "  </thead>\n",
       "  <tbody>\n",
       "    <tr>\n",
       "      <th>0</th>\n",
       "      <td>1.086703e+08</td>\n",
       "      <td>1.538175e+08</td>\n",
       "      <td>1.253585e+08</td>\n",
       "      <td>6.610881e+07</td>\n",
       "    </tr>\n",
       "    <tr>\n",
       "      <th>1</th>\n",
       "      <td>8.328558e+07</td>\n",
       "      <td>1.178666e+08</td>\n",
       "      <td>9.606276e+07</td>\n",
       "      <td>5.069480e+07</td>\n",
       "    </tr>\n",
       "    <tr>\n",
       "      <th>2</th>\n",
       "      <td>4.603225e+07</td>\n",
       "      <td>6.514252e+07</td>\n",
       "      <td>5.309111e+07</td>\n",
       "      <td>2.802522e+07</td>\n",
       "    </tr>\n",
       "    <tr>\n",
       "      <th>3</th>\n",
       "      <td>9.133410e+07</td>\n",
       "      <td>1.292948e+08</td>\n",
       "      <td>1.053747e+08</td>\n",
       "      <td>5.554019e+07</td>\n",
       "    </tr>\n",
       "    <tr>\n",
       "      <th>4</th>\n",
       "      <td>5.719699e+07</td>\n",
       "      <td>8.095175e+07</td>\n",
       "      <td>6.597335e+07</td>\n",
       "      <td>3.480596e+07</td>\n",
       "    </tr>\n",
       "  </tbody>\n",
       "</table>\n",
       "</div>"
      ],
      "text/plain": [
       "              0             1             2             3\n",
       "0  1.086703e+08  1.538175e+08  1.253585e+08  6.610881e+07\n",
       "1  8.328558e+07  1.178666e+08  9.606276e+07  5.069480e+07\n",
       "2  4.603225e+07  6.514252e+07  5.309111e+07  2.802522e+07\n",
       "3  9.133410e+07  1.292948e+08  1.053747e+08  5.554019e+07\n",
       "4  5.719699e+07  8.095175e+07  6.597335e+07  3.480596e+07"
      ]
     },
     "execution_count": 9,
     "metadata": {},
     "output_type": "execute_result"
    }
   ],
   "source": [
    "X_new = (X*3400 + 50) @ randomchik\n",
    "\n",
    "X_new.head()"
   ]
  },
  {
   "cell_type": "code",
   "execution_count": 10,
   "metadata": {},
   "outputs": [
    {
     "name": "stdout",
     "output_type": "stream",
     "text": [
      "Качество модели с преобразованными данными: 0.42494550286667976\n"
     ]
    }
   ],
   "source": [
    "lr = LinearRegression()\n",
    "lr.fit(X_new, y)\n",
    "r2 = lr.score(X_new, y)\n",
    "print(f'Качество модели с преобразованными данными: {r2}')"
   ]
  },
  {
   "cell_type": "markdown",
   "metadata": {},
   "source": [
    "**Вывод:**\n",
    "\n",
    "!Качество линейной регрессии никак не поменялось!"
   ]
  }
 ],
 "metadata": {
  "ExecuteTimeLog": [
   {
    "duration": 50,
    "start_time": "2022-12-05T19:59:29.344Z"
   },
   {
    "duration": 427,
    "start_time": "2022-12-05T20:00:26.023Z"
   },
   {
    "duration": 104,
    "start_time": "2022-12-05T20:00:27.247Z"
   },
   {
    "duration": 734,
    "start_time": "2022-12-05T20:01:43.877Z"
   },
   {
    "duration": 30,
    "start_time": "2022-12-05T20:01:47.558Z"
   },
   {
    "duration": 18,
    "start_time": "2022-12-05T20:02:25.355Z"
   },
   {
    "duration": 13,
    "start_time": "2022-12-05T20:02:46.646Z"
   },
   {
    "duration": 4,
    "start_time": "2022-12-05T20:24:35.654Z"
   },
   {
    "duration": 6,
    "start_time": "2022-12-05T20:26:48.137Z"
   },
   {
    "duration": 67,
    "start_time": "2022-12-05T20:28:40.996Z"
   },
   {
    "duration": 32,
    "start_time": "2022-12-05T20:28:51.520Z"
   },
   {
    "duration": 12,
    "start_time": "2022-12-05T20:29:01.926Z"
   },
   {
    "duration": 13,
    "start_time": "2022-12-05T20:29:07.184Z"
   },
   {
    "duration": 20,
    "start_time": "2022-12-05T20:29:21.790Z"
   },
   {
    "duration": 16,
    "start_time": "2022-12-05T20:30:35.652Z"
   },
   {
    "duration": 33,
    "start_time": "2022-12-05T20:33:09.228Z"
   },
   {
    "duration": 11,
    "start_time": "2022-12-05T20:33:38.603Z"
   },
   {
    "duration": 71,
    "start_time": "2022-12-05T20:34:03.078Z"
   },
   {
    "duration": 1216,
    "start_time": "2022-12-05T20:35:16.726Z"
   },
   {
    "duration": 29,
    "start_time": "2022-12-05T20:35:17.944Z"
   },
   {
    "duration": 21,
    "start_time": "2022-12-05T20:35:17.975Z"
   },
   {
    "duration": 17,
    "start_time": "2022-12-05T20:35:17.997Z"
   },
   {
    "duration": 14,
    "start_time": "2022-12-05T20:35:18.016Z"
   },
   {
    "duration": 20,
    "start_time": "2022-12-05T20:35:18.032Z"
   },
   {
    "duration": 113,
    "start_time": "2022-12-05T20:35:18.055Z"
   },
   {
    "duration": 18,
    "start_time": "2022-12-05T20:35:18.251Z"
   },
   {
    "duration": 194,
    "start_time": "2022-12-05T20:35:18.271Z"
   },
   {
    "duration": 13,
    "start_time": "2022-12-05T20:35:18.467Z"
   },
   {
    "duration": 1818,
    "start_time": "2022-12-06T08:38:44.571Z"
   },
   {
    "duration": 29,
    "start_time": "2022-12-06T08:38:46.391Z"
   },
   {
    "duration": 14,
    "start_time": "2022-12-06T08:38:55.272Z"
   },
   {
    "duration": 10,
    "start_time": "2022-12-06T08:38:55.697Z"
   },
   {
    "duration": 4,
    "start_time": "2022-12-06T08:45:59.409Z"
   },
   {
    "duration": 7,
    "start_time": "2022-12-06T08:46:00.025Z"
   },
   {
    "duration": 56,
    "start_time": "2022-12-06T13:58:53.731Z"
   },
   {
    "duration": 44,
    "start_time": "2022-12-06T14:00:14.108Z"
   },
   {
    "duration": 1501,
    "start_time": "2022-12-06T14:00:51.194Z"
   },
   {
    "duration": 310,
    "start_time": "2022-12-06T14:00:55.390Z"
   },
   {
    "duration": 1239,
    "start_time": "2022-12-06T14:01:16.365Z"
   },
   {
    "duration": 76,
    "start_time": "2022-12-06T14:01:17.606Z"
   },
   {
    "duration": 14,
    "start_time": "2022-12-06T14:01:17.684Z"
   },
   {
    "duration": 33,
    "start_time": "2022-12-06T14:01:17.701Z"
   },
   {
    "duration": 262,
    "start_time": "2022-12-06T14:01:20.282Z"
   },
   {
    "duration": 52,
    "start_time": "2022-12-06T14:04:59.026Z"
   },
   {
    "duration": 170,
    "start_time": "2022-12-06T14:13:00.684Z"
   },
   {
    "duration": 6580,
    "start_time": "2022-12-06T14:22:34.294Z"
   },
   {
    "duration": 7431,
    "start_time": "2022-12-06T14:23:07.838Z"
   },
   {
    "duration": 29047,
    "start_time": "2022-12-06T14:23:40.142Z"
   },
   {
    "duration": 159,
    "start_time": "2022-12-06T14:24:48.793Z"
   },
   {
    "duration": 73,
    "start_time": "2022-12-06T14:30:17.959Z"
   },
   {
    "duration": 169,
    "start_time": "2022-12-06T14:30:20.758Z"
   },
   {
    "duration": 164,
    "start_time": "2022-12-06T14:30:25.629Z"
   },
   {
    "duration": 65,
    "start_time": "2022-12-06T14:30:35.567Z"
   },
   {
    "duration": 68,
    "start_time": "2022-12-06T14:30:43.205Z"
   }
  ],
  "kernelspec": {
   "display_name": "Python 3 (ipykernel)",
   "language": "python",
   "name": "python3"
  },
  "language_info": {
   "codemirror_mode": {
    "name": "ipython",
    "version": 3
   },
   "file_extension": ".py",
   "mimetype": "text/x-python",
   "name": "python",
   "nbconvert_exporter": "python",
   "pygments_lexer": "ipython3",
   "version": "3.9.5"
  },
  "toc": {
   "base_numbering": 1,
   "nav_menu": {},
   "number_sections": true,
   "sideBar": true,
   "skip_h1_title": true,
   "title_cell": "Содержание",
   "title_sidebar": "Contents",
   "toc_cell": true,
   "toc_position": {},
   "toc_section_display": true,
   "toc_window_display": true
  }
 },
 "nbformat": 4,
 "nbformat_minor": 2
}
