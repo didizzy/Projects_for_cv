{
 "cells": [
  {
   "cell_type": "markdown",
   "metadata": {},
   "source": [
    "# Рекомендация тарифов"
   ]
  },
  {
   "cell_type": "markdown",
   "metadata": {},
   "source": [
    "В вашем распоряжении данные о поведении клиентов, которые уже перешли на эти тарифы (из проекта курса «Статистический анализ данных»). Нужно построить модель для задачи классификации, которая выберет подходящий тариф. Предобработка данных не понадобится — вы её уже сделали.\n",
    "\n",
    "Постройте модель с максимально большим значением *accuracy*. Чтобы сдать проект успешно, нужно довести долю правильных ответов по крайней мере до 0.75. Проверьте *accuracy* на тестовой выборке самостоятельно."
   ]
  },
  {
   "cell_type": "markdown",
   "metadata": {},
   "source": [
    "## Изучение данных"
   ]
  },
  {
   "cell_type": "code",
   "execution_count": 1,
   "metadata": {},
   "outputs": [],
   "source": [
    "import pandas as pd\n",
    "import matplotlib.pyplot as plt\n",
    "\n",
    "from sklearn.tree import DecisionTreeClassifier\n",
    "from sklearn.ensemble import RandomForestClassifier\n",
    "from sklearn.linear_model import LogisticRegression\n",
    "from sklearn.dummy import DummyClassifier\n",
    "\n",
    "from sklearn.model_selection import train_test_split\n",
    "from sklearn.metrics import confusion_matrix \n",
    "from sklearn import metrics"
   ]
  },
  {
   "cell_type": "code",
   "execution_count": 2,
   "metadata": {},
   "outputs": [],
   "source": [
    "df = pd.read_csv('/Users/dianatyubeeva/Desktop/datasets/users_behavior.csv')"
   ]
  },
  {
   "cell_type": "markdown",
   "metadata": {},
   "source": [
    "Откроем файл и изучим документацию:"
   ]
  },
  {
   "cell_type": "code",
   "execution_count": 3,
   "metadata": {},
   "outputs": [
    {
     "data": {
      "text/html": [
       "<div>\n",
       "<style scoped>\n",
       "    .dataframe tbody tr th:only-of-type {\n",
       "        vertical-align: middle;\n",
       "    }\n",
       "\n",
       "    .dataframe tbody tr th {\n",
       "        vertical-align: top;\n",
       "    }\n",
       "\n",
       "    .dataframe thead th {\n",
       "        text-align: right;\n",
       "    }\n",
       "</style>\n",
       "<table border=\"1\" class=\"dataframe\">\n",
       "  <thead>\n",
       "    <tr style=\"text-align: right;\">\n",
       "      <th></th>\n",
       "      <th>calls</th>\n",
       "      <th>minutes</th>\n",
       "      <th>messages</th>\n",
       "      <th>mb_used</th>\n",
       "      <th>is_ultra</th>\n",
       "    </tr>\n",
       "  </thead>\n",
       "  <tbody>\n",
       "    <tr>\n",
       "      <th>0</th>\n",
       "      <td>40.0</td>\n",
       "      <td>311.90</td>\n",
       "      <td>83.0</td>\n",
       "      <td>19915.42</td>\n",
       "      <td>0</td>\n",
       "    </tr>\n",
       "    <tr>\n",
       "      <th>1</th>\n",
       "      <td>85.0</td>\n",
       "      <td>516.75</td>\n",
       "      <td>56.0</td>\n",
       "      <td>22696.96</td>\n",
       "      <td>0</td>\n",
       "    </tr>\n",
       "    <tr>\n",
       "      <th>2</th>\n",
       "      <td>77.0</td>\n",
       "      <td>467.66</td>\n",
       "      <td>86.0</td>\n",
       "      <td>21060.45</td>\n",
       "      <td>0</td>\n",
       "    </tr>\n",
       "    <tr>\n",
       "      <th>3</th>\n",
       "      <td>106.0</td>\n",
       "      <td>745.53</td>\n",
       "      <td>81.0</td>\n",
       "      <td>8437.39</td>\n",
       "      <td>1</td>\n",
       "    </tr>\n",
       "    <tr>\n",
       "      <th>4</th>\n",
       "      <td>66.0</td>\n",
       "      <td>418.74</td>\n",
       "      <td>1.0</td>\n",
       "      <td>14502.75</td>\n",
       "      <td>0</td>\n",
       "    </tr>\n",
       "  </tbody>\n",
       "</table>\n",
       "</div>"
      ],
      "text/plain": [
       "   calls  minutes  messages   mb_used  is_ultra\n",
       "0   40.0   311.90      83.0  19915.42         0\n",
       "1   85.0   516.75      56.0  22696.96         0\n",
       "2   77.0   467.66      86.0  21060.45         0\n",
       "3  106.0   745.53      81.0   8437.39         1\n",
       "4   66.0   418.74       1.0  14502.75         0"
      ]
     },
     "execution_count": 3,
     "metadata": {},
     "output_type": "execute_result"
    }
   ],
   "source": [
    "df.head(5)"
   ]
  },
  {
   "cell_type": "markdown",
   "metadata": {},
   "source": [
    "## Предобработка данных "
   ]
  },
  {
   "cell_type": "markdown",
   "metadata": {},
   "source": [
    "Убедимся в отсутствии пропусков и дубликатов:"
   ]
  },
  {
   "cell_type": "code",
   "execution_count": 4,
   "metadata": {},
   "outputs": [
    {
     "name": "stdout",
     "output_type": "stream",
     "text": [
      "<class 'pandas.core.frame.DataFrame'>\n",
      "RangeIndex: 3214 entries, 0 to 3213\n",
      "Data columns (total 5 columns):\n",
      " #   Column    Non-Null Count  Dtype  \n",
      "---  ------    --------------  -----  \n",
      " 0   calls     3214 non-null   float64\n",
      " 1   minutes   3214 non-null   float64\n",
      " 2   messages  3214 non-null   float64\n",
      " 3   mb_used   3214 non-null   float64\n",
      " 4   is_ultra  3214 non-null   int64  \n",
      "dtypes: float64(4), int64(1)\n",
      "memory usage: 125.7 KB\n"
     ]
    }
   ],
   "source": [
    "df.info()"
   ]
  },
  {
   "cell_type": "code",
   "execution_count": 5,
   "metadata": {},
   "outputs": [
    {
     "data": {
      "text/plain": [
       "True"
      ]
     },
     "execution_count": 5,
     "metadata": {},
     "output_type": "execute_result"
    }
   ],
   "source": [
    "df.duplicated().sum() == 0"
   ]
  },
  {
   "cell_type": "markdown",
   "metadata": {},
   "source": [
    "Оценим аномальность параметров:"
   ]
  },
  {
   "cell_type": "code",
   "execution_count": 6,
   "metadata": {},
   "outputs": [
    {
     "data": {
      "image/png": "[encoded data removed]",
      "text/plain": [
       "<Figure size 432x288 with 3 Axes>"
      ]
     },
     "metadata": {
      "needs_background": "light"
     },
     "output_type": "display_data"
    }
   ],
   "source": [
    "fig = plt.figure()\n",
    "\n",
    "ax_1 = fig.add_subplot(1, 5, 1)\n",
    "ax_2 = fig.add_subplot(1, 5, 3)\n",
    "ax_3 = fig.add_subplot(1, 5, 5)\n",
    "\n",
    "ax_1.boxplot(df['calls']);\n",
    "ax_1.set_title('Звонки');\n",
    "ax_2.boxplot(df['mb_used']);\n",
    "ax_2.set_title('Мб');\n",
    "ax_3.boxplot(df['messages']);\n",
    "ax_3.set_title('Смс');"
   ]
  },
  {
   "cell_type": "markdown",
   "metadata": {},
   "source": [
    "Все \"выбросы\" более-менее близки к реальности, поэтому ограничивать параметры мы не будем. "
   ]
  },
  {
   "cell_type": "markdown",
   "metadata": {},
   "source": [
    "**Выводы**\n",
    "\n",
    "Каждый объект в наборе данных — это информация о поведении одного пользователя за месяц. Известно:\n",
    "* `сalls` — количество звонков,\n",
    "* `minutes` — суммарная длительность звонков в минутах,\n",
    "* `messages` — количество sms-сообщений,\n",
    "* `mb_used` — израсходованный интернет-трафик в Мб,\n",
    "* `is_ultra` — каким тарифом пользовался в течение месяца («Ультра» — 1, «Смарт» — 0)."
   ]
  },
  {
   "cell_type": "markdown",
   "metadata": {},
   "source": [
    "## Разделение на выборки"
   ]
  },
  {
   "cell_type": "markdown",
   "metadata": {},
   "source": [
    "Прежде чем переходить к исследованию, необходимо разделить выборку на валидационную и тренировочную. Однако, перед этим определим признаки и целевую переменную:\n",
    "\n",
    "`target` - за нее возьмем столбец `ultra` (ибо мы решаем задачи классификации, где подбираем наилучший тариф)\n",
    "\n",
    "`features` - все кроме столбца `ultra`"
   ]
  },
  {
   "cell_type": "code",
   "execution_count": 7,
   "metadata": {},
   "outputs": [],
   "source": [
    "features = df.drop(['is_ultra'], axis=1)\n",
    "target = df['is_ultra']"
   ]
  },
  {
   "cell_type": "markdown",
   "metadata": {},
   "source": [
    "Спрятанной тестовой выборки нет. Значит, данные нужно разбить на три части: обучающую, валидационную и тестовую. Размеры тестового и валидационного наборов обычно равны. Исходные данные разбивают в соотношении 3:1:1."
   ]
  },
  {
   "cell_type": "code",
   "execution_count": 8,
   "metadata": {},
   "outputs": [],
   "source": [
    "features_train, features_test, target_train, target_test = train_test_split(\n",
    "    features, target, \n",
    "    test_size=0.2, \n",
    "    random_state=42,\n",
    "    stratify=target\n",
    ")\n",
    "features_train, features_valid, target_train, target_valid = train_test_split(\n",
    "    features_train, target_train, \n",
    "    test_size=0.2, \n",
    "    random_state=42, \n",
    "    stratify=target_train\n",
    ")"
   ]
  },
  {
   "cell_type": "markdown",
   "metadata": {},
   "source": [
    "`features_train & target_train` - тренировочная выборка\n",
    "\n",
    "`features_valid & target_valid` - валидационная выборка\n",
    "\n",
    "`features_test & target_test` - тестовая выборка"
   ]
  },
  {
   "cell_type": "markdown",
   "metadata": {},
   "source": [
    "## Исследование моделей "
   ]
  },
  {
   "cell_type": "markdown",
   "metadata": {},
   "source": [
    "### Решающие дерево "
   ]
  },
  {
   "cell_type": "markdown",
   "metadata": {},
   "source": [
    "#### Accuracy"
   ]
  },
  {
   "cell_type": "markdown",
   "metadata": {},
   "source": [
    "Сначала оценим долю правильных ответов на валидационной:"
   ]
  },
  {
   "cell_type": "code",
   "execution_count": 9,
   "metadata": {},
   "outputs": [
    {
     "name": "stdout",
     "output_type": "stream",
     "text": [
      "Accuracy наилучшей модели на валидационной выборке: 0.7864077669902912\n",
      "Глубина дерева: 5\n"
     ]
    }
   ],
   "source": [
    "best_result = 0\n",
    "best_depth = 0\n",
    "for depth in range(1, 6):\n",
    "    model = DecisionTreeClassifier(random_state=42, max_depth=depth) \n",
    "    model.fit(features_train, target_train) \n",
    "    result = model.score(features_valid, target_valid)\n",
    "    if result > best_result:\n",
    "        best_result_dt = result\n",
    "        best_depth = depth\n",
    "print(\"Accuracy наилучшей модели на валидационной выборке:\", best_result_dt)\n",
    "print(\"Глубина дерева:\", best_depth)"
   ]
  },
  {
   "cell_type": "markdown",
   "metadata": {},
   "source": [
    "**Наблюдение**: accurancy довольно высокое, больше, чем пороговое значение. Получается лучшей из моделей типа TreeClassifier будет та, что имеет такие гиперпараметры:\n",
    "\n",
    "`model = DecisionTreeClassifier(random_state=42, max_depth=3)`"
   ]
  },
  {
   "cell_type": "markdown",
   "metadata": {},
   "source": [
    "#### Confusion matrix, recall, precision"
   ]
  },
  {
   "cell_type": "markdown",
   "metadata": {},
   "source": [
    "Не будем останавливаться на одном показателе accurancy, проанализируем работу модели через другую метрику - `Confusion matrix`."
   ]
  },
  {
   "cell_type": "code",
   "execution_count": 10,
   "metadata": {},
   "outputs": [],
   "source": [
    "tn_v, fp_v, fn_v, tp_v = confusion_matrix(target_valid, model.predict(features_valid), labels = [0, 1]).ravel() "
   ]
  },
  {
   "cell_type": "code",
   "execution_count": 11,
   "metadata": {},
   "outputs": [
    {
     "data": {
      "image/png": "[encoded data removed]",
      "text/plain": [
       "<Figure size 432x288 with 2 Axes>"
      ]
     },
     "metadata": {
      "needs_background": "light"
     },
     "output_type": "display_data"
    }
   ],
   "source": [
    "confusion_matrix_2 = confusion_matrix(target_valid, model.predict(features_valid))\n",
    "cm_display = metrics.ConfusionMatrixDisplay(confusion_matrix = confusion_matrix_2, display_labels = [0, 1])\n",
    "cm_display.plot()\n",
    "plt.title('Валидационная выборка')\n",
    "plt.show()"
   ]
  },
  {
   "cell_type": "code",
   "execution_count": 12,
   "metadata": {},
   "outputs": [
    {
     "name": "stdout",
     "output_type": "stream",
     "text": [
      "Recall_valid = 0.4873417721518987\n",
      "Precision_valid = 0.7264150943396226\n"
     ]
    }
   ],
   "source": [
    "r_v_dt = tp_v / (tp_v + fn_v)\n",
    "p_v_dt = tp_v / (tp_v + fp_v)\n",
    "print(f'Recall_valid = {r_v_dt}')\n",
    "print(f'Precision_valid = {p_v_dt}')"
   ]
  },
  {
   "cell_type": "markdown",
   "metadata": {},
   "source": [
    "**Наблюдение**: значение recall говорит о средней доли правильно найденных положительных объектов среди всех объектов положительного класса, целых 50%. precision же говорит о правильных предсказания, чья доля составляет около 80%!"
   ]
  },
  {
   "cell_type": "markdown",
   "metadata": {},
   "source": [
    "### Случайный лес"
   ]
  },
  {
   "cell_type": "markdown",
   "metadata": {},
   "source": [
    "#### Accuracy"
   ]
  },
  {
   "cell_type": "markdown",
   "metadata": {},
   "source": [
    "Сначала оценим долю правильных ответов на валидационной:"
   ]
  },
  {
   "cell_type": "code",
   "execution_count": 13,
   "metadata": {},
   "outputs": [
    {
     "name": "stdout",
     "output_type": "stream",
     "text": [
      "Accuracy наилучшей модели на валидационной выборке: 0.7961165048543689\n",
      "Количество деревьев: 98\n",
      "Количество листьев: 4\n",
      "Глубина: 5\n"
     ]
    }
   ],
   "source": [
    "best_result = 0\n",
    "best_est = 0\n",
    "best_sample = 0\n",
    "best_depth = 0\n",
    "for depth in range(1,6):\n",
    "    for est in range(8,100,30):\n",
    "        for sample in range(2,5):\n",
    "            model = RandomForestClassifier(random_state=42, n_estimators=est, min_samples_leaf=sample, max_depth=depth) # обучите модель с заданным количеством деревьев\n",
    "            model.fit(features_train, target_train) # обучите модель на тренировочной выборке\n",
    "            result = model.score(features_valid, target_valid)\n",
    "            if result > best_result:\n",
    "                best_result_rf = result\n",
    "                best_est_rf = est\n",
    "                best_sample_rf = sample\n",
    "                best_depth_rf = depth\n",
    "                    \n",
    "\n",
    "print(\"Accuracy наилучшей модели на валидационной выборке:\", best_result_rf)\n",
    "print(\"Количество деревьев:\", best_est_rf)\n",
    "print(\"Количество листьев:\", best_sample_rf)\n",
    "print(\"Глубина:\", best_depth_rf)"
   ]
  },
  {
   "cell_type": "markdown",
   "metadata": {},
   "source": [
    "**Наблюдение**: accurancy примерно высокое на выборке, больше 0,75. Получается лучшей из моделей типа RandomForestClassifier будет та, что имеет такие гиперпараметры:\n",
    "\n",
    "`model = DecisionTreeClassifier(random_state=42, n_estimators=98, min_samples_leaf=4, max_depth=5)`\n",
    "\n",
    "Более того, accuracy на тестовой выборке показал себя лучше, чем в предыдущей модели. "
   ]
  },
  {
   "cell_type": "markdown",
   "metadata": {},
   "source": [
    "#### Confusion matrix, recall, precision"
   ]
  },
  {
   "cell_type": "markdown",
   "metadata": {},
   "source": [
    "Не будем останавливаться на одном показателе accurancy, проанализируем работу модели через другую метрику - `Confusion matrix`."
   ]
  },
  {
   "cell_type": "code",
   "execution_count": 14,
   "metadata": {},
   "outputs": [],
   "source": [
    "tn_v, fp_v, fn_v, tp_v = confusion_matrix(target_valid, model.predict(features_valid), labels = [0, 1]).ravel() "
   ]
  },
  {
   "cell_type": "code",
   "execution_count": 15,
   "metadata": {},
   "outputs": [
    {
     "data": {
      "image/png": "[encoded data removed]",
      "text/plain": [
       "<Figure size 432x288 with 2 Axes>"
      ]
     },
     "metadata": {
      "needs_background": "light"
     },
     "output_type": "display_data"
    }
   ],
   "source": [
    "confusion_matrix_2 = confusion_matrix(target_valid, model.predict(features_valid))\n",
    "cm_display = metrics.ConfusionMatrixDisplay(confusion_matrix = confusion_matrix_2, display_labels = [0, 1])\n",
    "cm_display.plot()\n",
    "plt.title('Валидационная выборка')\n",
    "plt.show()"
   ]
  },
  {
   "cell_type": "code",
   "execution_count": 16,
   "metadata": {},
   "outputs": [
    {
     "name": "stdout",
     "output_type": "stream",
     "text": [
      "Recall_valid = 0.4936708860759494\n",
      "Precision_valid = 0.7572815533980582\n"
     ]
    }
   ],
   "source": [
    "r_v_rf = tp_v / (tp_v + fn_v)\n",
    "p_v_rf = tp_v / (tp_v + fp_v)\n",
    "print(f'Recall_valid = {r_v_rf}')\n",
    "print(f'Precision_valid = {p_v_rf}')"
   ]
  },
  {
   "cell_type": "markdown",
   "metadata": {},
   "source": [
    "**Наблюдение**: значение recall о средней доли правильно найденных положительных объектов среди всех объектов положительного класса, целых 50%. precision же говорит о правильных предсказания, чья доля составляет около 75%. \n",
    "\n",
    "Стоит отметить, что у предыдущей модели доля правильных предсказаний была ниже."
   ]
  },
  {
   "cell_type": "markdown",
   "metadata": {},
   "source": [
    "### Логическая регрессия"
   ]
  },
  {
   "cell_type": "markdown",
   "metadata": {},
   "source": [
    "#### Accuracy\n"
   ]
  },
  {
   "cell_type": "code",
   "execution_count": 17,
   "metadata": {},
   "outputs": [
    {
     "name": "stdout",
     "output_type": "stream",
     "text": [
      "Accuracy на валидационной выборке: 0.7029126213592233\n"
     ]
    }
   ],
   "source": [
    "model = LogisticRegression(random_state=42, solver='liblinear')\n",
    "model.fit(features_train, target_train)\n",
    "p_v = model.predict(features_valid)\n",
    "a_v = model.score(features_valid, target_valid)\n",
    "print(\"Accuracy на валидационной выборке:\", a_v)"
   ]
  },
  {
   "cell_type": "markdown",
   "metadata": {},
   "source": [
    "#### Confusion matrix, recall, precision"
   ]
  },
  {
   "cell_type": "code",
   "execution_count": 18,
   "metadata": {},
   "outputs": [],
   "source": [
    "tn_v, fp_v, fn_v, tp_v = confusion_matrix(target_valid, model.predict(features_valid), labels = [0, 1]).ravel() "
   ]
  },
  {
   "cell_type": "code",
   "execution_count": 19,
   "metadata": {},
   "outputs": [
    {
     "data": {
      "image/png": "[encoded data removed]",
      "text/plain": [
       "<Figure size 432x288 with 2 Axes>"
      ]
     },
     "metadata": {
      "needs_background": "light"
     },
     "output_type": "display_data"
    }
   ],
   "source": [
    "confusion_matrix_2 = confusion_matrix(target_valid, model.predict(features_valid))\n",
    "cm_display = metrics.ConfusionMatrixDisplay(confusion_matrix = confusion_matrix_2, display_labels = [0, 1])\n",
    "cm_display.plot()\n",
    "plt.title('Валидационная выборка')\n",
    "plt.show()"
   ]
  },
  {
   "cell_type": "code",
   "execution_count": 20,
   "metadata": {},
   "outputs": [
    {
     "name": "stdout",
     "output_type": "stream",
     "text": [
      "Recall_valid = 0.0379746835443038\n",
      "Precision_valid = 0.8571428571428571\n"
     ]
    }
   ],
   "source": [
    "r_v = tp_v / (tp_v + fn_v)\n",
    "p_v = tp_v / (tp_v + fp_v)\n",
    "print(f'Recall_valid = {r_v}')\n",
    "print(f'Precision_valid = {p_v}')"
   ]
  },
  {
   "cell_type": "markdown",
   "metadata": {},
   "source": [
    "**Наблюдение**: recall очень , что говорит о мало найденных правильных объектов. precision же высок, но только на валидационной выборке. "
   ]
  },
  {
   "cell_type": "markdown",
   "metadata": {},
   "source": [
    "## Проверка модели на тестовой выборке и доп. исследование на адекватность"
   ]
  },
  {
   "cell_type": "markdown",
   "metadata": {},
   "source": [
    "Соберем все показатели в одну таблицу и выберем модель, которую далее будем проверять:"
   ]
  },
  {
   "cell_type": "code",
   "execution_count": 21,
   "metadata": {},
   "outputs": [
    {
     "data": {
      "text/html": [
       "<div>\n",
       "<style scoped>\n",
       "    .dataframe tbody tr th:only-of-type {\n",
       "        vertical-align: middle;\n",
       "    }\n",
       "\n",
       "    .dataframe tbody tr th {\n",
       "        vertical-align: top;\n",
       "    }\n",
       "\n",
       "    .dataframe thead th {\n",
       "        text-align: right;\n",
       "    }\n",
       "</style>\n",
       "<table border=\"1\" class=\"dataframe\">\n",
       "  <thead>\n",
       "    <tr style=\"text-align: right;\">\n",
       "      <th></th>\n",
       "      <th>model_type</th>\n",
       "      <th>accuracy</th>\n",
       "      <th>recall</th>\n",
       "      <th>precision</th>\n",
       "    </tr>\n",
       "  </thead>\n",
       "  <tbody>\n",
       "    <tr>\n",
       "      <th>0</th>\n",
       "      <td>Tree</td>\n",
       "      <td>0.786</td>\n",
       "      <td>0.487</td>\n",
       "      <td>0.726</td>\n",
       "    </tr>\n",
       "    <tr>\n",
       "      <th>1</th>\n",
       "      <td>Random Forest</td>\n",
       "      <td>0.796</td>\n",
       "      <td>0.494</td>\n",
       "      <td>0.757</td>\n",
       "    </tr>\n",
       "    <tr>\n",
       "      <th>2</th>\n",
       "      <td>Logistic Regression</td>\n",
       "      <td>0.703</td>\n",
       "      <td>0.038</td>\n",
       "      <td>0.857</td>\n",
       "    </tr>\n",
       "  </tbody>\n",
       "</table>\n",
       "</div>"
      ],
      "text/plain": [
       "            model_type  accuracy  recall  precision\n",
       "0                 Tree     0.786   0.487      0.726\n",
       "1        Random Forest     0.796   0.494      0.757\n",
       "2  Logistic Regression     0.703   0.038      0.857"
      ]
     },
     "execution_count": 21,
     "metadata": {},
     "output_type": "execute_result"
    }
   ],
   "source": [
    "all_in_one = {\n",
    "    'model_type' : ['Tree', 'Random Forest', 'Logistic Regression'],\n",
    "    'accuracy' : [round(best_result_dt,3), round(best_result_rf,3), round(a_v,3)],\n",
    "    'recall' : [round(r_v_dt, 3), round(r_v_rf, 3) , round(r_v, 3)],\n",
    "    'precision' : [round(p_v_dt, 3), round(p_v_rf, 3) , round(p_v, 3)]\n",
    "}\n",
    "all_in_one = pd.DataFrame(all_in_one)\n",
    "all_in_one"
   ]
  },
  {
   "cell_type": "markdown",
   "metadata": {},
   "source": [
    "Несмотря на медлительность модели, RandomForest явялется лучшей по всем показателям. Ее проверим на тест. выборке и дополнительно исследуем. "
   ]
  },
  {
   "cell_type": "markdown",
   "metadata": {},
   "source": [
    "Переобучим модель на полной обучающей выборке (train+validate):"
   ]
  },
  {
   "cell_type": "code",
   "execution_count": 22,
   "metadata": {},
   "outputs": [],
   "source": [
    "features_tr, features_t, target_tr, target_t = train_test_split(\n",
    "    features, target, \n",
    "    test_size=0.2, \n",
    "    random_state=42,\n",
    "    stratify=target\n",
    ")"
   ]
  },
  {
   "cell_type": "markdown",
   "metadata": {},
   "source": [
    "Теперь посмотрим, как accurancy измениться на тестовой выборке:"
   ]
  },
  {
   "cell_type": "code",
   "execution_count": 23,
   "metadata": {},
   "outputs": [
    {
     "name": "stdout",
     "output_type": "stream",
     "text": [
      "Accuracy наилучшей модели на тестовой выборке: 0.8118195956454122\n"
     ]
    }
   ],
   "source": [
    "model = RandomForestClassifier(random_state=42, n_estimators=best_est_rf, min_samples_leaf=best_sample_rf, max_depth=best_depth_rf) # обучите модель с заданным количеством деревьев\n",
    "model.fit(features_tr, target_tr)\n",
    "result = model.score(features_t, target_t) \n",
    "\n",
    "print(\"Accuracy наилучшей модели на тестовой выборке:\", result)"
   ]
  },
  {
   "cell_type": "code",
   "execution_count": 24,
   "metadata": {},
   "outputs": [],
   "source": [
    "tn_t, fp_t, fn_t, tp_t = confusion_matrix(target_t, model.predict(features_t), labels = [0, 1]).ravel() "
   ]
  },
  {
   "cell_type": "code",
   "execution_count": 25,
   "metadata": {},
   "outputs": [
    {
     "data": {
      "image/png": "[encoded data removed]",
      "text/plain": [
       "<Figure size 432x288 with 2 Axes>"
      ]
     },
     "metadata": {
      "needs_background": "light"
     },
     "output_type": "display_data"
    }
   ],
   "source": [
    "confusion_matrix_finall = confusion_matrix(target_t, model.predict(features_t))\n",
    "cm_display = metrics.ConfusionMatrixDisplay(confusion_matrix = confusion_matrix_finall, display_labels = [0, 1])\n",
    "cm_display.plot()\n",
    "plt.title('Тестовая выборка')\n",
    "plt.show()"
   ]
  },
  {
   "cell_type": "code",
   "execution_count": 26,
   "metadata": {},
   "outputs": [
    {
     "name": "stdout",
     "output_type": "stream",
     "text": [
      "Recall_test = 0.48223350253807107\n",
      "Precision_test = 0.8333333333333334\n"
     ]
    }
   ],
   "source": [
    "r_t_rf = tp_t / (tp_t + fn_t)\n",
    "p_t_rf = tp_t / (tp_t + fp_t)\n",
    "print(f'Recall_test = {r_t_rf}')\n",
    "print(f'Precision_test = {p_t_rf}')"
   ]
  },
  {
   "cell_type": "code",
   "execution_count": 27,
   "metadata": {},
   "outputs": [],
   "source": [
    "dc = DummyClassifier(strategy='most_frequent', random_state=412)\n",
    "dc.fit(features_tr, target_tr)\n",
    "accurancy_tr = dc.score(features_t, target_t)\n",
    "accurancy_t = dc.score(features_t, target_t)\n",
    "tn_t, fp_t, fn_t, tp_t = confusion_matrix(target_test, model.predict(features_test), labels = [0, 1]).ravel()"
   ]
  },
  {
   "cell_type": "code",
   "execution_count": 28,
   "metadata": {},
   "outputs": [
    {
     "name": "stdout",
     "output_type": "stream",
     "text": [
      "Recall_test = 2.16751269035533\n",
      "Precision_test = 0.8333333333333334\n"
     ]
    }
   ],
   "source": [
    "r_t = tn_t / (tp_t + fn_t)\n",
    "p_t = tp_t / (tp_t + fp_t)\n",
    "print(f'Recall_test = {r_t}')\n",
    "print(f'Precision_test = {p_t}')"
   ]
  },
  {
   "cell_type": "code",
   "execution_count": 29,
   "metadata": {},
   "outputs": [
    {
     "data": {
      "text/html": [
       "<div>\n",
       "<style scoped>\n",
       "    .dataframe tbody tr th:only-of-type {\n",
       "        vertical-align: middle;\n",
       "    }\n",
       "\n",
       "    .dataframe tbody tr th {\n",
       "        vertical-align: top;\n",
       "    }\n",
       "\n",
       "    .dataframe thead th {\n",
       "        text-align: right;\n",
       "    }\n",
       "</style>\n",
       "<table border=\"1\" class=\"dataframe\">\n",
       "  <thead>\n",
       "    <tr style=\"text-align: right;\">\n",
       "      <th></th>\n",
       "      <th>model_type</th>\n",
       "      <th>accuracy_test</th>\n",
       "      <th>is_accuracy_valid_less</th>\n",
       "      <th>recall_test</th>\n",
       "      <th>precision_test</th>\n",
       "    </tr>\n",
       "  </thead>\n",
       "  <tbody>\n",
       "    <tr>\n",
       "      <th>0</th>\n",
       "      <td>Random Forest</td>\n",
       "      <td>0.812</td>\n",
       "      <td>True</td>\n",
       "      <td>0.482</td>\n",
       "      <td>0.833</td>\n",
       "    </tr>\n",
       "    <tr>\n",
       "      <th>1</th>\n",
       "      <td>Dummy</td>\n",
       "      <td>0.694</td>\n",
       "      <td>False</td>\n",
       "      <td>2.168</td>\n",
       "      <td>0.833</td>\n",
       "    </tr>\n",
       "  </tbody>\n",
       "</table>\n",
       "</div>"
      ],
      "text/plain": [
       "      model_type  accuracy_test  is_accuracy_valid_less  recall_test  \\\n",
       "0  Random Forest          0.812                    True        0.482   \n",
       "1          Dummy          0.694                   False        2.168   \n",
       "\n",
       "   precision_test  \n",
       "0           0.833  \n",
       "1           0.833  "
      ]
     },
     "execution_count": 29,
     "metadata": {},
     "output_type": "execute_result"
    }
   ],
   "source": [
    "all_in_one = {\n",
    "    'model_type' : ['Random Forest', 'Dummy'],\n",
    "    'accuracy_test' : [round(result, 3), round(accurancy_t, 3)],\n",
    "    'is_accuracy_valid_less' : [best_result_rf < result ,accurancy_t > accurancy_tr],\n",
    "    'recall_test' : [round(r_t_rf, 3), round(r_t ,3)],\n",
    "    'precision_test' : [round(p_t_rf, 3), round(p_t ,3)]\n",
    "}\n",
    "all_in_one = pd.DataFrame(all_in_one)\n",
    "all_in_one"
   ]
  },
  {
   "cell_type": "markdown",
   "metadata": {},
   "source": [
    "Модель прошла проверку!"
   ]
  },
  {
   "cell_type": "markdown",
   "metadata": {},
   "source": [
    "## Вывод"
   ]
  },
  {
   "cell_type": "markdown",
   "metadata": {},
   "source": [
    "Исходя из всех использованных метрик качества, пришли к тому, что RandomForest больше всего подойдет для определения подходящего тарифа, ибо доля правильных ответов у него наибольшее. Однако, он самый медлительный. Остальные модели не подошли не только из-за accurancy, но и точности, полности работы алгоритма. "
   ]
  }
 ],
 "metadata": {
  "ExecuteTimeLog": [
   {
    "duration": 462,
    "start_time": "2022-08-09T08:47:53.141Z"
   },
   {
    "duration": 779,
    "start_time": "2022-08-09T08:48:33.061Z"
   },
   {
    "duration": 31,
    "start_time": "2022-08-09T08:49:16.500Z"
   },
   {
    "duration": 18,
    "start_time": "2022-08-09T08:50:14.074Z"
   },
   {
    "duration": 11,
    "start_time": "2022-08-09T08:50:29.388Z"
   },
   {
    "duration": 12,
    "start_time": "2022-08-09T08:51:14.161Z"
   },
   {
    "duration": 6,
    "start_time": "2022-08-09T09:03:00.395Z"
   },
   {
    "duration": 133,
    "start_time": "2022-08-09T09:04:36.051Z"
   },
   {
    "duration": 4,
    "start_time": "2022-08-09T09:05:50.443Z"
   },
   {
    "duration": 5,
    "start_time": "2022-08-09T09:07:50.926Z"
   },
   {
    "duration": 9,
    "start_time": "2022-08-09T09:10:52.231Z"
   },
   {
    "duration": 31,
    "start_time": "2022-08-09T09:11:05.643Z"
   },
   {
    "duration": 19,
    "start_time": "2022-08-09T09:11:09.323Z"
   },
   {
    "duration": 542,
    "start_time": "2022-08-09T09:11:19.144Z"
   },
   {
    "duration": 185,
    "start_time": "2022-08-09T09:11:23.564Z"
   },
   {
    "duration": 146,
    "start_time": "2022-08-09T09:11:39.836Z"
   },
   {
    "duration": 31,
    "start_time": "2022-08-09T09:12:51.924Z"
   },
   {
    "duration": 7,
    "start_time": "2022-08-09T09:20:40.264Z"
   },
   {
    "duration": 6,
    "start_time": "2022-08-09T09:21:51.885Z"
   },
   {
    "duration": 5,
    "start_time": "2022-08-09T09:22:25.564Z"
   },
   {
    "duration": 25,
    "start_time": "2022-08-09T09:22:40.029Z"
   },
   {
    "duration": 4,
    "start_time": "2022-08-09T09:22:42.583Z"
   },
   {
    "duration": 4,
    "start_time": "2022-08-09T09:22:58.664Z"
   },
   {
    "duration": 16,
    "start_time": "2022-08-09T09:23:31.247Z"
   },
   {
    "duration": 13,
    "start_time": "2022-08-09T09:23:32.923Z"
   },
   {
    "duration": 17,
    "start_time": "2022-08-09T09:36:42.263Z"
   },
   {
    "duration": 33,
    "start_time": "2022-08-09T09:37:00.264Z"
   },
   {
    "duration": 36,
    "start_time": "2022-08-09T09:37:03.243Z"
   },
   {
    "duration": 18,
    "start_time": "2022-08-09T09:38:35.885Z"
   },
   {
    "duration": 38,
    "start_time": "2022-08-09T09:38:44.263Z"
   },
   {
    "duration": 39,
    "start_time": "2022-08-09T09:49:35.003Z"
   },
   {
    "duration": 39,
    "start_time": "2022-08-09T09:49:48.743Z"
   },
   {
    "duration": 77,
    "start_time": "2022-08-09T09:51:25.966Z"
   },
   {
    "duration": 39,
    "start_time": "2022-08-09T09:51:32.923Z"
   },
   {
    "duration": 41,
    "start_time": "2022-08-09T09:52:07.696Z"
   },
   {
    "duration": 41,
    "start_time": "2022-08-09T09:52:20.483Z"
   },
   {
    "duration": 44,
    "start_time": "2022-08-09T09:52:23.623Z"
   },
   {
    "duration": 5,
    "start_time": "2022-08-09T09:57:44.801Z"
   },
   {
    "duration": 3,
    "start_time": "2022-08-09T09:57:56.376Z"
   },
   {
    "duration": 4,
    "start_time": "2022-08-09T09:58:01.641Z"
   },
   {
    "duration": 54,
    "start_time": "2022-08-09T10:00:25.463Z"
   },
   {
    "duration": 1578,
    "start_time": "2022-08-09T10:00:37.260Z"
   },
   {
    "duration": 14,
    "start_time": "2022-08-09T10:00:38.841Z"
   },
   {
    "duration": 12,
    "start_time": "2022-08-09T10:00:38.857Z"
   },
   {
    "duration": 19,
    "start_time": "2022-08-09T10:00:38.870Z"
   },
   {
    "duration": 13,
    "start_time": "2022-08-09T10:00:38.891Z"
   },
   {
    "duration": 118,
    "start_time": "2022-08-09T10:00:39.516Z"
   },
   {
    "duration": 8,
    "start_time": "2022-08-09T10:00:48.500Z"
   },
   {
    "duration": 1479,
    "start_time": "2022-08-09T10:01:14.142Z"
   },
   {
    "duration": 15,
    "start_time": "2022-08-09T10:01:15.623Z"
   },
   {
    "duration": 18,
    "start_time": "2022-08-09T10:01:15.639Z"
   },
   {
    "duration": 11,
    "start_time": "2022-08-09T10:01:15.659Z"
   },
   {
    "duration": 5,
    "start_time": "2022-08-09T10:01:15.672Z"
   },
   {
    "duration": 12,
    "start_time": "2022-08-09T10:01:15.679Z"
   },
   {
    "duration": 39,
    "start_time": "2022-08-09T10:01:28.022Z"
   },
   {
    "duration": 40,
    "start_time": "2022-08-09T10:01:36.074Z"
   },
   {
    "duration": 5,
    "start_time": "2022-08-09T10:18:22.209Z"
   },
   {
    "duration": 7,
    "start_time": "2022-08-09T10:20:50.870Z"
   },
   {
    "duration": 41,
    "start_time": "2022-08-09T10:20:57.478Z"
   },
   {
    "duration": 41,
    "start_time": "2022-08-09T10:20:59.518Z"
   },
   {
    "duration": 35,
    "start_time": "2022-08-09T10:23:31.577Z"
   },
   {
    "duration": 128,
    "start_time": "2022-08-09T10:23:52.305Z"
   },
   {
    "duration": 35,
    "start_time": "2022-08-09T10:23:59.678Z"
   },
   {
    "duration": 34,
    "start_time": "2022-08-09T10:29:40.537Z"
   },
   {
    "duration": 3,
    "start_time": "2022-08-09T10:31:05.057Z"
   },
   {
    "duration": 35,
    "start_time": "2022-08-09T10:36:56.418Z"
   },
   {
    "duration": 34,
    "start_time": "2022-08-09T10:36:58.380Z"
   },
   {
    "duration": 27,
    "start_time": "2022-08-09T10:42:43.618Z"
   },
   {
    "duration": 32,
    "start_time": "2022-08-09T10:45:02.937Z"
   },
   {
    "duration": 13,
    "start_time": "2022-08-09T10:45:03.445Z"
   },
   {
    "duration": 22,
    "start_time": "2022-08-09T10:45:09.501Z"
   },
   {
    "duration": 11,
    "start_time": "2022-08-09T10:46:32.192Z"
   },
   {
    "duration": 1187,
    "start_time": "2022-08-09T10:46:55.023Z"
   },
   {
    "duration": 20,
    "start_time": "2022-08-09T10:46:56.213Z"
   },
   {
    "duration": 12,
    "start_time": "2022-08-09T10:46:56.234Z"
   },
   {
    "duration": 15,
    "start_time": "2022-08-09T10:46:56.248Z"
   },
   {
    "duration": 9,
    "start_time": "2022-08-09T10:46:56.265Z"
   },
   {
    "duration": 33,
    "start_time": "2022-08-09T10:46:56.276Z"
   },
   {
    "duration": 48,
    "start_time": "2022-08-09T10:46:56.311Z"
   },
   {
    "duration": 34,
    "start_time": "2022-08-09T10:46:56.362Z"
   },
   {
    "duration": 12,
    "start_time": "2022-08-09T10:46:56.707Z"
   },
   {
    "duration": 13,
    "start_time": "2022-08-09T10:47:25.385Z"
   },
   {
    "duration": 104,
    "start_time": "2022-08-09T10:48:54.515Z"
   },
   {
    "duration": 32,
    "start_time": "2022-08-09T10:49:18.180Z"
   },
   {
    "duration": 471,
    "start_time": "2022-08-09T10:49:37.210Z"
   },
   {
    "duration": 32,
    "start_time": "2022-08-09T10:49:54.695Z"
   },
   {
    "duration": 185,
    "start_time": "2022-08-09T10:49:58.472Z"
   },
   {
    "duration": 32,
    "start_time": "2022-08-09T10:50:28.174Z"
   },
   {
    "duration": 153,
    "start_time": "2022-08-09T10:50:31.577Z"
   },
   {
    "duration": 153,
    "start_time": "2022-08-09T10:51:00.206Z"
   },
   {
    "duration": 312,
    "start_time": "2022-08-09T10:55:03.083Z"
   },
   {
    "duration": 244,
    "start_time": "2022-08-09T10:55:29.347Z"
   },
   {
    "duration": 160,
    "start_time": "2022-08-09T10:55:39.543Z"
   },
   {
    "duration": 419,
    "start_time": "2022-08-09T10:55:43.578Z"
   },
   {
    "duration": 308,
    "start_time": "2022-08-09T10:56:44.079Z"
   },
   {
    "duration": 338,
    "start_time": "2022-08-09T10:56:58.846Z"
   },
   {
    "duration": 38,
    "start_time": "2022-08-09T11:02:25.681Z"
   },
   {
    "duration": 35,
    "start_time": "2022-08-09T11:02:55.694Z"
   },
   {
    "duration": 329,
    "start_time": "2022-08-09T11:03:07.445Z"
   },
   {
    "duration": 10,
    "start_time": "2022-08-09T11:06:56.508Z"
   },
   {
    "duration": 1540,
    "start_time": "2022-08-09T11:07:03.255Z"
   },
   {
    "duration": 15,
    "start_time": "2022-08-09T11:07:04.798Z"
   },
   {
    "duration": 13,
    "start_time": "2022-08-09T11:07:04.815Z"
   },
   {
    "duration": 13,
    "start_time": "2022-08-09T11:07:04.830Z"
   },
   {
    "duration": 7,
    "start_time": "2022-08-09T11:07:04.845Z"
   },
   {
    "duration": 39,
    "start_time": "2022-08-09T11:07:04.854Z"
   },
   {
    "duration": 35,
    "start_time": "2022-08-09T11:07:04.895Z"
   },
   {
    "duration": 33,
    "start_time": "2022-08-09T11:07:04.931Z"
   },
   {
    "duration": 368,
    "start_time": "2022-08-09T11:07:04.966Z"
   },
   {
    "duration": 6,
    "start_time": "2022-08-09T11:07:53.798Z"
   },
   {
    "duration": 1625,
    "start_time": "2022-08-09T11:08:00.954Z"
   },
   {
    "duration": 14,
    "start_time": "2022-08-09T11:08:02.581Z"
   },
   {
    "duration": 13,
    "start_time": "2022-08-09T11:08:02.597Z"
   },
   {
    "duration": 9,
    "start_time": "2022-08-09T11:08:02.612Z"
   },
   {
    "duration": 5,
    "start_time": "2022-08-09T11:08:02.623Z"
   },
   {
    "duration": 7,
    "start_time": "2022-08-09T11:08:02.630Z"
   },
   {
    "duration": 67,
    "start_time": "2022-08-09T11:08:02.639Z"
   },
   {
    "duration": 33,
    "start_time": "2022-08-09T11:08:02.707Z"
   },
   {
    "duration": 367,
    "start_time": "2022-08-09T11:08:02.741Z"
   },
   {
    "duration": 8,
    "start_time": "2022-08-09T11:08:19.800Z"
   },
   {
    "duration": 34,
    "start_time": "2022-08-09T11:08:23.892Z"
   },
   {
    "duration": 34,
    "start_time": "2022-08-09T11:08:26.221Z"
   },
   {
    "duration": 334,
    "start_time": "2022-08-09T11:08:29.308Z"
   },
   {
    "duration": 31,
    "start_time": "2022-08-09T11:11:59.371Z"
   },
   {
    "duration": 148,
    "start_time": "2022-08-09T11:12:31.965Z"
   },
   {
    "duration": 6,
    "start_time": "2022-08-09T11:12:42.530Z"
   },
   {
    "duration": 3,
    "start_time": "2022-08-09T11:12:47.487Z"
   },
   {
    "duration": 5,
    "start_time": "2022-08-09T11:13:47.897Z"
   },
   {
    "duration": 156,
    "start_time": "2022-08-09T11:14:21.633Z"
   },
   {
    "duration": 377,
    "start_time": "2022-08-09T11:15:10.678Z"
   },
   {
    "duration": 317,
    "start_time": "2022-08-09T11:16:23.290Z"
   },
   {
    "duration": 301,
    "start_time": "2022-08-09T11:19:17.411Z"
   },
   {
    "duration": 318,
    "start_time": "2022-08-09T11:22:36.008Z"
   },
   {
    "duration": 10,
    "start_time": "2022-08-09T11:24:28.212Z"
   },
   {
    "duration": 11,
    "start_time": "2022-08-09T11:25:22.259Z"
   },
   {
    "duration": 1416,
    "start_time": "2022-08-09T11:26:08.849Z"
   },
   {
    "duration": 15,
    "start_time": "2022-08-09T11:26:10.268Z"
   },
   {
    "duration": 16,
    "start_time": "2022-08-09T11:26:10.285Z"
   },
   {
    "duration": 7,
    "start_time": "2022-08-09T11:26:10.303Z"
   },
   {
    "duration": 7,
    "start_time": "2022-08-09T11:26:10.312Z"
   },
   {
    "duration": 9,
    "start_time": "2022-08-09T11:26:10.321Z"
   },
   {
    "duration": 62,
    "start_time": "2022-08-09T11:26:10.331Z"
   },
   {
    "duration": 36,
    "start_time": "2022-08-09T11:26:10.394Z"
   },
   {
    "duration": 125,
    "start_time": "2022-08-09T11:26:10.448Z"
   },
   {
    "duration": 6,
    "start_time": "2022-08-09T11:26:22.822Z"
   },
   {
    "duration": 332,
    "start_time": "2022-08-09T11:26:24.900Z"
   },
   {
    "duration": 4,
    "start_time": "2022-08-09T11:29:07.752Z"
   },
   {
    "duration": 4,
    "start_time": "2022-08-09T11:31:16.041Z"
   },
   {
    "duration": 148,
    "start_time": "2022-08-09T11:36:42.114Z"
   },
   {
    "duration": 293,
    "start_time": "2022-08-09T11:39:22.397Z"
   },
   {
    "duration": 92,
    "start_time": "2022-08-09T11:39:36.378Z"
   },
   {
    "duration": 34,
    "start_time": "2022-08-09T11:40:02.652Z"
   },
   {
    "duration": 294,
    "start_time": "2022-08-09T11:41:38.345Z"
   },
   {
    "duration": 22,
    "start_time": "2022-08-09T11:42:56.764Z"
   },
   {
    "duration": 20,
    "start_time": "2022-08-09T11:43:18.250Z"
   },
   {
    "duration": 312,
    "start_time": "2022-08-09T11:43:23.778Z"
   },
   {
    "duration": 306,
    "start_time": "2022-08-09T11:44:00.856Z"
   },
   {
    "duration": 300,
    "start_time": "2022-08-09T11:44:06.839Z"
   },
   {
    "duration": 312,
    "start_time": "2022-08-09T11:44:07.840Z"
   },
   {
    "duration": 87,
    "start_time": "2022-08-09T11:48:18.235Z"
   },
   {
    "duration": 11,
    "start_time": "2022-08-09T11:48:24.736Z"
   },
   {
    "duration": 1467,
    "start_time": "2022-08-09T11:48:51.311Z"
   },
   {
    "duration": 14,
    "start_time": "2022-08-09T11:48:52.780Z"
   },
   {
    "duration": 15,
    "start_time": "2022-08-09T11:48:52.796Z"
   },
   {
    "duration": 15,
    "start_time": "2022-08-09T11:48:52.813Z"
   },
   {
    "duration": 16,
    "start_time": "2022-08-09T11:48:52.830Z"
   },
   {
    "duration": 18,
    "start_time": "2022-08-09T11:48:52.848Z"
   },
   {
    "duration": 48,
    "start_time": "2022-08-09T11:48:52.867Z"
   },
   {
    "duration": 34,
    "start_time": "2022-08-09T11:48:52.917Z"
   },
   {
    "duration": 7,
    "start_time": "2022-08-09T11:48:52.954Z"
   },
   {
    "duration": 355,
    "start_time": "2022-08-09T11:48:52.963Z"
   },
   {
    "duration": 5,
    "start_time": "2022-08-09T11:48:53.320Z"
   },
   {
    "duration": 318,
    "start_time": "2022-08-09T11:48:53.327Z"
   },
   {
    "duration": 317,
    "start_time": "2022-08-09T11:48:53.647Z"
   },
   {
    "duration": 126,
    "start_time": "2022-08-09T11:48:53.967Z"
   },
   {
    "duration": 12,
    "start_time": "2022-08-09T11:49:23.747Z"
   },
   {
    "duration": 32,
    "start_time": "2022-08-09T11:50:57.762Z"
   },
   {
    "duration": 1544,
    "start_time": "2022-08-09T11:51:02.975Z"
   },
   {
    "duration": 14,
    "start_time": "2022-08-09T11:51:04.522Z"
   },
   {
    "duration": 13,
    "start_time": "2022-08-09T11:51:04.538Z"
   },
   {
    "duration": 7,
    "start_time": "2022-08-09T11:51:04.552Z"
   },
   {
    "duration": 4,
    "start_time": "2022-08-09T11:51:04.561Z"
   },
   {
    "duration": 24,
    "start_time": "2022-08-09T11:51:04.567Z"
   },
   {
    "duration": 33,
    "start_time": "2022-08-09T11:51:04.594Z"
   },
   {
    "duration": 33,
    "start_time": "2022-08-09T11:51:04.629Z"
   },
   {
    "duration": 29,
    "start_time": "2022-08-09T11:51:04.664Z"
   },
   {
    "duration": 347,
    "start_time": "2022-08-09T11:51:04.695Z"
   },
   {
    "duration": 5,
    "start_time": "2022-08-09T11:51:05.043Z"
   },
   {
    "duration": 329,
    "start_time": "2022-08-09T11:51:05.050Z"
   },
   {
    "duration": 308,
    "start_time": "2022-08-09T11:51:05.381Z"
   },
   {
    "duration": 123,
    "start_time": "2022-08-09T11:51:05.693Z"
   },
   {
    "duration": 11,
    "start_time": "2022-08-09T11:51:19.061Z"
   },
   {
    "duration": 1597,
    "start_time": "2022-08-09T11:52:03.906Z"
   },
   {
    "duration": 14,
    "start_time": "2022-08-09T11:52:05.505Z"
   },
   {
    "duration": 14,
    "start_time": "2022-08-09T11:52:05.521Z"
   },
   {
    "duration": 7,
    "start_time": "2022-08-09T11:52:05.536Z"
   },
   {
    "duration": 7,
    "start_time": "2022-08-09T11:52:05.545Z"
   },
   {
    "duration": 10,
    "start_time": "2022-08-09T11:52:05.554Z"
   },
   {
    "duration": 57,
    "start_time": "2022-08-09T11:52:05.566Z"
   },
   {
    "duration": 34,
    "start_time": "2022-08-09T11:52:05.624Z"
   },
   {
    "duration": 32,
    "start_time": "2022-08-09T11:52:05.660Z"
   },
   {
    "duration": 362,
    "start_time": "2022-08-09T11:52:05.694Z"
   },
   {
    "duration": 5,
    "start_time": "2022-08-09T11:52:06.058Z"
   },
   {
    "duration": 331,
    "start_time": "2022-08-09T11:52:06.066Z"
   },
   {
    "duration": 313,
    "start_time": "2022-08-09T11:52:06.399Z"
   },
   {
    "duration": 121,
    "start_time": "2022-08-09T11:52:14.257Z"
   },
   {
    "duration": 1463,
    "start_time": "2022-08-09T11:52:46.829Z"
   },
   {
    "duration": 14,
    "start_time": "2022-08-09T11:52:48.295Z"
   },
   {
    "duration": 14,
    "start_time": "2022-08-09T11:52:48.311Z"
   },
   {
    "duration": 8,
    "start_time": "2022-08-09T11:52:48.327Z"
   },
   {
    "duration": 6,
    "start_time": "2022-08-09T11:52:48.337Z"
   },
   {
    "duration": 9,
    "start_time": "2022-08-09T11:52:48.344Z"
   },
   {
    "duration": 65,
    "start_time": "2022-08-09T11:52:48.355Z"
   },
   {
    "duration": 34,
    "start_time": "2022-08-09T11:52:48.422Z"
   },
   {
    "duration": 7,
    "start_time": "2022-08-09T11:52:48.458Z"
   },
   {
    "duration": 331,
    "start_time": "2022-08-09T11:52:49.174Z"
   },
   {
    "duration": 299,
    "start_time": "2022-08-09T11:53:14.443Z"
   },
   {
    "duration": 305,
    "start_time": "2022-08-09T11:53:15.887Z"
   },
   {
    "duration": 122,
    "start_time": "2022-08-09T11:53:18.745Z"
   },
   {
    "duration": 305,
    "start_time": "2022-08-09T11:53:38.991Z"
   },
   {
    "duration": 304,
    "start_time": "2022-08-09T11:53:40.789Z"
   },
   {
    "duration": 6,
    "start_time": "2022-08-09T11:53:50.223Z"
   },
   {
    "duration": 15,
    "start_time": "2022-08-09T11:54:08.072Z"
   },
   {
    "duration": 1581,
    "start_time": "2022-08-09T11:54:40.680Z"
   },
   {
    "duration": 15,
    "start_time": "2022-08-09T11:54:42.263Z"
   },
   {
    "duration": 13,
    "start_time": "2022-08-09T11:54:42.279Z"
   },
   {
    "duration": 12,
    "start_time": "2022-08-09T11:54:42.294Z"
   },
   {
    "duration": 6,
    "start_time": "2022-08-09T11:54:42.309Z"
   },
   {
    "duration": 10,
    "start_time": "2022-08-09T11:54:42.317Z"
   },
   {
    "duration": 38,
    "start_time": "2022-08-09T11:54:42.329Z"
   },
   {
    "duration": 59,
    "start_time": "2022-08-09T11:54:42.369Z"
   },
   {
    "duration": 136,
    "start_time": "2022-08-09T11:54:42.430Z"
   },
   {
    "duration": 0,
    "start_time": "2022-08-09T11:54:42.568Z"
   },
   {
    "duration": 6,
    "start_time": "2022-08-09T11:54:52.579Z"
   },
   {
    "duration": 324,
    "start_time": "2022-08-09T11:54:53.368Z"
   },
   {
    "duration": 1474,
    "start_time": "2022-08-09T11:57:45.514Z"
   },
   {
    "duration": 16,
    "start_time": "2022-08-09T11:57:46.991Z"
   },
   {
    "duration": 13,
    "start_time": "2022-08-09T11:57:47.008Z"
   },
   {
    "duration": 8,
    "start_time": "2022-08-09T11:57:47.023Z"
   },
   {
    "duration": 5,
    "start_time": "2022-08-09T11:57:47.034Z"
   },
   {
    "duration": 18,
    "start_time": "2022-08-09T11:57:47.040Z"
   },
   {
    "duration": 68,
    "start_time": "2022-08-09T11:57:47.060Z"
   },
   {
    "duration": 40,
    "start_time": "2022-08-09T11:57:47.130Z"
   },
   {
    "duration": 147,
    "start_time": "2022-08-09T11:57:47.172Z"
   },
   {
    "duration": 35,
    "start_time": "2022-08-09T11:59:27.510Z"
   },
   {
    "duration": 38,
    "start_time": "2022-08-09T12:00:01.196Z"
   },
   {
    "duration": 9,
    "start_time": "2022-08-09T12:00:57.092Z"
   },
   {
    "duration": 16,
    "start_time": "2022-08-09T12:01:00.205Z"
   },
   {
    "duration": 1445,
    "start_time": "2022-08-09T12:01:08.246Z"
   },
   {
    "duration": 15,
    "start_time": "2022-08-09T12:01:09.693Z"
   },
   {
    "duration": 18,
    "start_time": "2022-08-09T12:01:09.710Z"
   },
   {
    "duration": 18,
    "start_time": "2022-08-09T12:01:09.730Z"
   },
   {
    "duration": 13,
    "start_time": "2022-08-09T12:01:09.750Z"
   },
   {
    "duration": 25,
    "start_time": "2022-08-09T12:01:09.765Z"
   },
   {
    "duration": 48,
    "start_time": "2022-08-09T12:01:09.791Z"
   },
   {
    "duration": 36,
    "start_time": "2022-08-09T12:01:09.840Z"
   },
   {
    "duration": 20,
    "start_time": "2022-08-09T12:01:09.878Z"
   },
   {
    "duration": 112,
    "start_time": "2022-08-09T12:01:12.118Z"
   },
   {
    "duration": 342,
    "start_time": "2022-08-09T12:01:49.456Z"
   },
   {
    "duration": 4,
    "start_time": "2022-08-09T12:01:54.346Z"
   },
   {
    "duration": 303,
    "start_time": "2022-08-09T12:02:37.299Z"
   },
   {
    "duration": 291,
    "start_time": "2022-08-09T12:03:08.864Z"
   },
   {
    "duration": 1509,
    "start_time": "2022-08-09T12:03:48.909Z"
   },
   {
    "duration": 15,
    "start_time": "2022-08-09T12:03:50.420Z"
   },
   {
    "duration": 15,
    "start_time": "2022-08-09T12:03:50.437Z"
   },
   {
    "duration": 7,
    "start_time": "2022-08-09T12:03:50.454Z"
   },
   {
    "duration": 6,
    "start_time": "2022-08-09T12:03:50.463Z"
   },
   {
    "duration": 11,
    "start_time": "2022-08-09T12:03:50.471Z"
   },
   {
    "duration": 35,
    "start_time": "2022-08-09T12:03:50.492Z"
   },
   {
    "duration": 34,
    "start_time": "2022-08-09T12:03:50.529Z"
   },
   {
    "duration": 30,
    "start_time": "2022-08-09T12:03:50.565Z"
   },
   {
    "duration": 360,
    "start_time": "2022-08-09T12:03:50.597Z"
   },
   {
    "duration": 4,
    "start_time": "2022-08-09T12:03:50.958Z"
   },
   {
    "duration": 309,
    "start_time": "2022-08-09T12:03:50.964Z"
   },
   {
    "duration": 309,
    "start_time": "2022-08-09T12:03:51.275Z"
   },
   {
    "duration": 123,
    "start_time": "2022-08-09T12:03:51.590Z"
   },
   {
    "duration": 1458,
    "start_time": "2022-08-09T12:04:17.903Z"
   },
   {
    "duration": 16,
    "start_time": "2022-08-09T12:04:19.364Z"
   },
   {
    "duration": 12,
    "start_time": "2022-08-09T12:04:19.382Z"
   },
   {
    "duration": 9,
    "start_time": "2022-08-09T12:04:19.395Z"
   },
   {
    "duration": 5,
    "start_time": "2022-08-09T12:04:19.407Z"
   },
   {
    "duration": 10,
    "start_time": "2022-08-09T12:04:19.414Z"
   },
   {
    "duration": 67,
    "start_time": "2022-08-09T12:04:19.426Z"
   },
   {
    "duration": 33,
    "start_time": "2022-08-09T12:04:19.494Z"
   },
   {
    "duration": 8,
    "start_time": "2022-08-09T12:04:19.529Z"
   },
   {
    "duration": 362,
    "start_time": "2022-08-09T12:04:19.539Z"
   },
   {
    "duration": 4,
    "start_time": "2022-08-09T12:04:19.903Z"
   },
   {
    "duration": 373,
    "start_time": "2022-08-09T12:04:19.909Z"
   },
   {
    "duration": 310,
    "start_time": "2022-08-09T12:04:20.284Z"
   },
   {
    "duration": 14,
    "start_time": "2022-08-09T12:04:20.597Z"
   },
   {
    "duration": 326,
    "start_time": "2022-08-09T12:04:37.759Z"
   },
   {
    "duration": 5,
    "start_time": "2022-08-09T12:05:07.295Z"
   },
   {
    "duration": 23509,
    "start_time": "2022-08-09T12:16:28.516Z"
   },
   {
    "duration": 23407,
    "start_time": "2022-08-09T12:17:22.773Z"
   },
   {
    "duration": 24408,
    "start_time": "2022-08-09T12:18:40.227Z"
   },
   {
    "duration": 128,
    "start_time": "2022-08-09T12:20:46.888Z"
   },
   {
    "duration": 1500,
    "start_time": "2022-08-09T12:22:29.424Z"
   },
   {
    "duration": 15,
    "start_time": "2022-08-09T12:22:30.927Z"
   },
   {
    "duration": 24,
    "start_time": "2022-08-09T12:22:30.944Z"
   },
   {
    "duration": 23,
    "start_time": "2022-08-09T12:22:30.970Z"
   },
   {
    "duration": 31,
    "start_time": "2022-08-09T12:22:30.994Z"
   },
   {
    "duration": 31,
    "start_time": "2022-08-09T12:22:31.027Z"
   },
   {
    "duration": 36,
    "start_time": "2022-08-09T12:22:32.115Z"
   },
   {
    "duration": 12,
    "start_time": "2022-08-09T12:22:34.380Z"
   },
   {
    "duration": 11,
    "start_time": "2022-08-09T12:23:19.220Z"
   },
   {
    "duration": 1568,
    "start_time": "2022-08-09T12:24:40.004Z"
   },
   {
    "duration": 17,
    "start_time": "2022-08-09T12:24:41.575Z"
   },
   {
    "duration": 23,
    "start_time": "2022-08-09T12:24:41.594Z"
   },
   {
    "duration": 9,
    "start_time": "2022-08-09T12:24:41.619Z"
   },
   {
    "duration": 5,
    "start_time": "2022-08-09T12:24:41.632Z"
   },
   {
    "duration": 22,
    "start_time": "2022-08-09T12:24:41.640Z"
   },
   {
    "duration": 56,
    "start_time": "2022-08-09T12:24:41.664Z"
   },
   {
    "duration": 10,
    "start_time": "2022-08-09T12:24:41.722Z"
   },
   {
    "duration": 163,
    "start_time": "2022-08-09T12:24:41.734Z"
   },
   {
    "duration": 0,
    "start_time": "2022-08-09T12:24:41.899Z"
   },
   {
    "duration": 0,
    "start_time": "2022-08-09T12:24:41.900Z"
   },
   {
    "duration": 7876,
    "start_time": "2022-08-09T12:24:42.220Z"
   },
   {
    "duration": 8758,
    "start_time": "2022-08-09T12:25:41.616Z"
   },
   {
    "duration": 7785,
    "start_time": "2022-08-09T12:26:28.281Z"
   },
   {
    "duration": 24,
    "start_time": "2022-08-09T12:26:50.688Z"
   },
   {
    "duration": 8664,
    "start_time": "2022-08-09T12:27:02.086Z"
   },
   {
    "duration": 55,
    "start_time": "2022-08-09T12:27:25.718Z"
   },
   {
    "duration": 1510,
    "start_time": "2022-08-09T12:28:15.304Z"
   },
   {
    "duration": 16,
    "start_time": "2022-08-09T12:28:16.816Z"
   },
   {
    "duration": 41,
    "start_time": "2022-08-09T12:28:16.834Z"
   },
   {
    "duration": 42,
    "start_time": "2022-08-09T12:28:16.877Z"
   },
   {
    "duration": 12,
    "start_time": "2022-08-09T12:28:16.922Z"
   },
   {
    "duration": 16,
    "start_time": "2022-08-09T12:28:16.935Z"
   },
   {
    "duration": 48,
    "start_time": "2022-08-09T12:28:16.952Z"
   },
   {
    "duration": 11,
    "start_time": "2022-08-09T12:28:17.003Z"
   },
   {
    "duration": 135,
    "start_time": "2022-08-09T12:28:17.016Z"
   },
   {
    "duration": 0,
    "start_time": "2022-08-09T12:28:17.157Z"
   },
   {
    "duration": 0,
    "start_time": "2022-08-09T12:28:17.159Z"
   },
   {
    "duration": 8410,
    "start_time": "2022-08-09T12:28:17.716Z"
   },
   {
    "duration": 201,
    "start_time": "2022-08-09T12:28:40.169Z"
   },
   {
    "duration": 14,
    "start_time": "2022-08-09T12:29:20.292Z"
   },
   {
    "duration": 32,
    "start_time": "2022-08-09T12:30:14.099Z"
   },
   {
    "duration": 362,
    "start_time": "2022-08-09T12:30:25.722Z"
   },
   {
    "duration": 4,
    "start_time": "2022-08-09T12:30:34.622Z"
   },
   {
    "duration": 1453,
    "start_time": "2022-08-09T12:31:26.418Z"
   },
   {
    "duration": 15,
    "start_time": "2022-08-09T12:31:27.873Z"
   },
   {
    "duration": 16,
    "start_time": "2022-08-09T12:31:27.890Z"
   },
   {
    "duration": 11,
    "start_time": "2022-08-09T12:31:27.908Z"
   },
   {
    "duration": 5,
    "start_time": "2022-08-09T12:31:27.920Z"
   },
   {
    "duration": 13,
    "start_time": "2022-08-09T12:31:27.927Z"
   },
   {
    "duration": 53,
    "start_time": "2022-08-09T12:31:27.942Z"
   },
   {
    "duration": 11,
    "start_time": "2022-08-09T12:31:27.997Z"
   },
   {
    "duration": 9,
    "start_time": "2022-08-09T12:31:28.010Z"
   },
   {
    "duration": 352,
    "start_time": "2022-08-09T12:31:29.469Z"
   },
   {
    "duration": 4,
    "start_time": "2022-08-09T12:31:32.972Z"
   },
   {
    "duration": 8159,
    "start_time": "2022-08-09T12:31:36.696Z"
   },
   {
    "duration": 196,
    "start_time": "2022-08-09T12:31:44.857Z"
   },
   {
    "duration": 179,
    "start_time": "2022-08-09T12:31:54.642Z"
   },
   {
    "duration": 28,
    "start_time": "2022-08-09T12:31:58.891Z"
   },
   {
    "duration": 360,
    "start_time": "2022-08-09T12:32:00.918Z"
   },
   {
    "duration": 5,
    "start_time": "2022-08-09T12:32:05.111Z"
   },
   {
    "duration": 4787,
    "start_time": "2022-08-09T12:32:45.262Z"
   },
   {
    "duration": 226,
    "start_time": "2022-08-09T12:33:00.738Z"
   },
   {
    "duration": 17769,
    "start_time": "2022-08-09T12:33:08.043Z"
   },
   {
    "duration": 62,
    "start_time": "2022-08-09T12:33:40.102Z"
   },
   {
    "duration": 34408,
    "start_time": "2022-08-09T12:33:49.470Z"
   },
   {
    "duration": 6878,
    "start_time": "2022-08-09T12:34:36.310Z"
   },
   {
    "duration": 14220,
    "start_time": "2022-08-09T12:34:52.358Z"
   },
   {
    "duration": 219,
    "start_time": "2022-08-09T12:35:11.972Z"
   },
   {
    "duration": 37579,
    "start_time": "2022-08-09T12:35:25.901Z"
   },
   {
    "duration": 302,
    "start_time": "2022-08-09T12:36:07.096Z"
   },
   {
    "duration": 21554,
    "start_time": "2022-08-09T12:36:27.621Z"
   },
   {
    "duration": 22,
    "start_time": "2022-08-09T12:36:54.541Z"
   },
   {
    "duration": 8637,
    "start_time": "2022-08-09T12:37:06.920Z"
   },
   {
    "duration": 53,
    "start_time": "2022-08-09T12:37:20.536Z"
   },
   {
    "duration": 4695,
    "start_time": "2022-08-09T12:37:26.232Z"
   },
   {
    "duration": 17635,
    "start_time": "2022-08-09T12:37:36.243Z"
   },
   {
    "duration": 7094,
    "start_time": "2022-08-09T12:38:02.203Z"
   },
   {
    "duration": 179,
    "start_time": "2022-08-09T12:38:13.650Z"
   },
   {
    "duration": 31,
    "start_time": "2022-08-09T12:38:22.289Z"
   },
   {
    "duration": 332,
    "start_time": "2022-08-09T12:38:23.102Z"
   },
   {
    "duration": 4,
    "start_time": "2022-08-09T12:38:37.562Z"
   },
   {
    "duration": 21234,
    "start_time": "2022-08-09T12:46:21.570Z"
   },
   {
    "duration": 1951,
    "start_time": "2022-08-09T12:46:45.811Z"
   },
   {
    "duration": 245,
    "start_time": "2022-08-09T12:46:51.854Z"
   },
   {
    "duration": 514,
    "start_time": "2022-08-09T12:47:44.388Z"
   },
   {
    "duration": 34,
    "start_time": "2022-08-09T12:48:10.262Z"
   },
   {
    "duration": 1536,
    "start_time": "2022-08-09T12:48:20.814Z"
   },
   {
    "duration": 14,
    "start_time": "2022-08-09T12:48:22.352Z"
   },
   {
    "duration": 12,
    "start_time": "2022-08-09T12:48:22.368Z"
   },
   {
    "duration": 14,
    "start_time": "2022-08-09T12:48:22.382Z"
   },
   {
    "duration": 5,
    "start_time": "2022-08-09T12:48:22.399Z"
   },
   {
    "duration": 17,
    "start_time": "2022-08-09T12:48:22.405Z"
   },
   {
    "duration": 40,
    "start_time": "2022-08-09T12:48:22.424Z"
   },
   {
    "duration": 11,
    "start_time": "2022-08-09T12:48:22.465Z"
   },
   {
    "duration": 10,
    "start_time": "2022-08-09T12:48:22.492Z"
   },
   {
    "duration": 333,
    "start_time": "2022-08-09T12:48:22.504Z"
   },
   {
    "duration": 5,
    "start_time": "2022-08-09T12:48:22.838Z"
   },
   {
    "duration": 7082,
    "start_time": "2022-08-09T12:48:22.844Z"
   },
   {
    "duration": 205,
    "start_time": "2022-08-09T12:48:29.928Z"
   },
   {
    "duration": 29,
    "start_time": "2022-08-09T12:48:30.136Z"
   },
   {
    "duration": 365,
    "start_time": "2022-08-09T12:48:30.167Z"
   },
   {
    "duration": 5,
    "start_time": "2022-08-09T12:48:30.534Z"
   },
   {
    "duration": 784,
    "start_time": "2022-08-09T12:48:30.540Z"
   },
   {
    "duration": 557,
    "start_time": "2022-08-09T12:48:46.242Z"
   },
   {
    "duration": 710,
    "start_time": "2022-08-09T12:49:08.083Z"
   },
   {
    "duration": 441,
    "start_time": "2022-08-09T12:49:12.761Z"
   },
   {
    "duration": 58,
    "start_time": "2022-08-09T12:49:15.541Z"
   },
   {
    "duration": 558,
    "start_time": "2022-08-09T12:49:21.043Z"
   },
   {
    "duration": 592,
    "start_time": "2022-08-09T12:49:27.109Z"
   },
   {
    "duration": 537,
    "start_time": "2022-08-09T12:49:32.864Z"
   },
   {
    "duration": 34,
    "start_time": "2022-08-09T12:50:08.938Z"
   },
   {
    "duration": 34,
    "start_time": "2022-08-09T12:51:46.690Z"
   },
   {
    "duration": 193,
    "start_time": "2022-08-09T12:52:05.489Z"
   },
   {
    "duration": 34,
    "start_time": "2022-08-09T12:52:14.497Z"
   },
   {
    "duration": 35,
    "start_time": "2022-08-09T12:52:42.539Z"
   },
   {
    "duration": 117,
    "start_time": "2022-08-09T12:53:11.594Z"
   },
   {
    "duration": 325,
    "start_time": "2022-08-09T12:53:43.647Z"
   },
   {
    "duration": 38,
    "start_time": "2022-08-09T12:53:50.780Z"
   },
   {
    "duration": 38,
    "start_time": "2022-08-09T12:54:05.757Z"
   },
   {
    "duration": 21,
    "start_time": "2022-08-09T12:54:37.853Z"
   },
   {
    "duration": 20,
    "start_time": "2022-08-09T12:54:42.589Z"
   },
   {
    "duration": 20,
    "start_time": "2022-08-09T12:54:45.906Z"
   },
   {
    "duration": 25,
    "start_time": "2022-08-09T12:55:31.850Z"
   },
   {
    "duration": 16,
    "start_time": "2022-08-09T12:55:49.776Z"
   },
   {
    "duration": 22,
    "start_time": "2022-08-09T12:56:43.449Z"
   },
   {
    "duration": 21,
    "start_time": "2022-08-09T12:56:58.972Z"
   },
   {
    "duration": 16,
    "start_time": "2022-08-09T12:57:12.027Z"
   },
   {
    "duration": 5,
    "start_time": "2022-08-09T12:58:02.985Z"
   },
   {
    "duration": 20,
    "start_time": "2022-08-09T12:58:07.263Z"
   },
   {
    "duration": 20,
    "start_time": "2022-08-09T12:58:13.077Z"
   },
   {
    "duration": 19,
    "start_time": "2022-08-09T12:58:17.188Z"
   },
   {
    "duration": 18,
    "start_time": "2022-08-09T12:58:24.027Z"
   },
   {
    "duration": 19,
    "start_time": "2022-08-09T12:58:30.448Z"
   },
   {
    "duration": 33,
    "start_time": "2022-08-09T12:59:05.048Z"
   },
   {
    "duration": 13,
    "start_time": "2022-08-09T12:59:57.944Z"
   },
   {
    "duration": 30,
    "start_time": "2022-08-09T13:00:07.247Z"
   },
   {
    "duration": 13,
    "start_time": "2022-08-09T13:00:18.279Z"
   },
   {
    "duration": 34,
    "start_time": "2022-08-09T13:00:36.465Z"
   },
   {
    "duration": 14,
    "start_time": "2022-08-09T13:00:40.544Z"
   },
   {
    "duration": 40,
    "start_time": "2022-08-09T13:00:47.491Z"
   },
   {
    "duration": 12,
    "start_time": "2022-08-09T13:01:00.867Z"
   },
   {
    "duration": 63,
    "start_time": "2022-08-09T13:01:17.909Z"
   },
   {
    "duration": 28,
    "start_time": "2022-08-09T13:01:28.453Z"
   },
   {
    "duration": 316,
    "start_time": "2022-08-09T13:02:55.020Z"
   },
   {
    "duration": 10,
    "start_time": "2022-08-09T13:03:12.939Z"
   },
   {
    "duration": 314,
    "start_time": "2022-08-09T13:03:13.516Z"
   },
   {
    "duration": 4,
    "start_time": "2022-08-09T13:03:28.263Z"
   },
   {
    "duration": 97,
    "start_time": "2022-08-09T13:09:50.086Z"
   },
   {
    "duration": 11,
    "start_time": "2022-08-09T13:16:16.613Z"
   },
   {
    "duration": 11,
    "start_time": "2022-08-09T13:16:28.365Z"
   },
   {
    "duration": 11,
    "start_time": "2022-08-09T13:19:31.045Z"
   },
   {
    "duration": 36,
    "start_time": "2022-08-09T13:19:51.116Z"
   },
   {
    "duration": 1477,
    "start_time": "2022-08-09T13:19:59.310Z"
   },
   {
    "duration": 15,
    "start_time": "2022-08-09T13:20:00.789Z"
   },
   {
    "duration": 28,
    "start_time": "2022-08-09T13:20:00.806Z"
   },
   {
    "duration": 10,
    "start_time": "2022-08-09T13:20:00.836Z"
   },
   {
    "duration": 9,
    "start_time": "2022-08-09T13:20:00.849Z"
   },
   {
    "duration": 28,
    "start_time": "2022-08-09T13:20:00.860Z"
   },
   {
    "duration": 57,
    "start_time": "2022-08-09T13:20:00.890Z"
   },
   {
    "duration": 21,
    "start_time": "2022-08-09T13:20:00.950Z"
   },
   {
    "duration": 42,
    "start_time": "2022-08-09T13:20:00.973Z"
   },
   {
    "duration": 361,
    "start_time": "2022-08-09T13:20:01.017Z"
   },
   {
    "duration": 12,
    "start_time": "2022-08-09T13:20:01.379Z"
   },
   {
    "duration": 7179,
    "start_time": "2022-08-09T13:20:01.393Z"
   },
   {
    "duration": 189,
    "start_time": "2022-08-09T13:20:08.574Z"
   },
   {
    "duration": 39,
    "start_time": "2022-08-09T13:20:08.766Z"
   },
   {
    "duration": 345,
    "start_time": "2022-08-09T13:20:08.807Z"
   },
   {
    "duration": 4,
    "start_time": "2022-08-09T13:20:09.154Z"
   },
   {
    "duration": 40,
    "start_time": "2022-08-09T13:20:09.160Z"
   },
   {
    "duration": 9,
    "start_time": "2022-08-09T13:20:09.202Z"
   },
   {
    "duration": 433,
    "start_time": "2022-08-09T13:20:09.213Z"
   },
   {
    "duration": 4,
    "start_time": "2022-08-09T13:20:09.648Z"
   },
   {
    "duration": 16,
    "start_time": "2022-08-09T13:20:09.653Z"
   },
   {
    "duration": 21,
    "start_time": "2022-08-09T13:20:09.671Z"
   },
   {
    "duration": 6,
    "start_time": "2022-08-09T13:20:32.196Z"
   },
   {
    "duration": 10,
    "start_time": "2022-08-09T13:22:45.932Z"
   },
   {
    "duration": 11,
    "start_time": "2022-08-09T13:25:03.403Z"
   },
   {
    "duration": 11,
    "start_time": "2022-08-09T13:25:18.550Z"
   },
   {
    "duration": 1540,
    "start_time": "2022-08-09T13:27:14.056Z"
   },
   {
    "duration": 14,
    "start_time": "2022-08-09T13:27:15.598Z"
   },
   {
    "duration": 12,
    "start_time": "2022-08-09T13:27:15.614Z"
   },
   {
    "duration": 8,
    "start_time": "2022-08-09T13:27:15.628Z"
   },
   {
    "duration": 4,
    "start_time": "2022-08-09T13:27:15.638Z"
   },
   {
    "duration": 13,
    "start_time": "2022-08-09T13:27:15.643Z"
   },
   {
    "duration": 65,
    "start_time": "2022-08-09T13:27:15.658Z"
   },
   {
    "duration": 10,
    "start_time": "2022-08-09T13:27:15.725Z"
   },
   {
    "duration": 9,
    "start_time": "2022-08-09T13:27:15.737Z"
   },
   {
    "duration": 368,
    "start_time": "2022-08-09T13:27:15.748Z"
   },
   {
    "duration": 4,
    "start_time": "2022-08-09T13:27:16.118Z"
   },
   {
    "duration": 6974,
    "start_time": "2022-08-09T13:27:16.123Z"
   },
   {
    "duration": 189,
    "start_time": "2022-08-09T13:27:23.099Z"
   },
   {
    "duration": 32,
    "start_time": "2022-08-09T13:27:23.292Z"
   },
   {
    "duration": 368,
    "start_time": "2022-08-09T13:27:23.326Z"
   },
   {
    "duration": 5,
    "start_time": "2022-08-09T13:27:23.696Z"
   },
   {
    "duration": 23,
    "start_time": "2022-08-09T13:27:23.703Z"
   },
   {
    "duration": 10,
    "start_time": "2022-08-09T13:27:23.728Z"
   },
   {
    "duration": 442,
    "start_time": "2022-08-09T13:27:23.740Z"
   },
   {
    "duration": 10,
    "start_time": "2022-08-09T13:27:24.184Z"
   },
   {
    "duration": 21,
    "start_time": "2022-08-09T13:27:24.195Z"
   },
   {
    "duration": 16,
    "start_time": "2022-08-09T13:27:24.219Z"
   },
   {
    "duration": 15,
    "start_time": "2022-08-09T13:27:24.238Z"
   },
   {
    "duration": 1920,
    "start_time": "2022-08-09T14:02:59.077Z"
   },
   {
    "duration": 15,
    "start_time": "2022-08-09T14:03:00.999Z"
   },
   {
    "duration": 25,
    "start_time": "2022-08-09T14:03:01.015Z"
   },
   {
    "duration": 18,
    "start_time": "2022-08-09T14:03:01.043Z"
   },
   {
    "duration": 24,
    "start_time": "2022-08-09T14:03:01.063Z"
   },
   {
    "duration": 28,
    "start_time": "2022-08-09T14:03:01.089Z"
   },
   {
    "duration": 39,
    "start_time": "2022-08-09T14:03:01.119Z"
   },
   {
    "duration": 9,
    "start_time": "2022-08-09T14:03:01.159Z"
   },
   {
    "duration": 10,
    "start_time": "2022-08-09T14:03:01.169Z"
   },
   {
    "duration": 316,
    "start_time": "2022-08-09T14:03:01.181Z"
   },
   {
    "duration": 4,
    "start_time": "2022-08-09T14:03:01.500Z"
   },
   {
    "duration": 6419,
    "start_time": "2022-08-09T14:03:01.505Z"
   },
   {
    "duration": 174,
    "start_time": "2022-08-09T14:03:07.925Z"
   },
   {
    "duration": 26,
    "start_time": "2022-08-09T14:03:08.101Z"
   },
   {
    "duration": 306,
    "start_time": "2022-08-09T14:03:08.129Z"
   },
   {
    "duration": 4,
    "start_time": "2022-08-09T14:03:08.437Z"
   },
   {
    "duration": 25,
    "start_time": "2022-08-09T14:03:08.442Z"
   },
   {
    "duration": 18,
    "start_time": "2022-08-09T14:03:08.469Z"
   },
   {
    "duration": 360,
    "start_time": "2022-08-09T14:03:08.488Z"
   },
   {
    "duration": 4,
    "start_time": "2022-08-09T14:03:08.850Z"
   },
   {
    "duration": 19,
    "start_time": "2022-08-09T14:03:08.855Z"
   },
   {
    "duration": 56,
    "start_time": "2022-08-09T14:03:08.875Z"
   },
   {
    "duration": 27,
    "start_time": "2022-08-09T14:03:08.932Z"
   },
   {
    "duration": 52,
    "start_time": "2022-08-09T18:25:16.957Z"
   },
   {
    "duration": 1402,
    "start_time": "2022-08-09T18:25:24.549Z"
   },
   {
    "duration": 109,
    "start_time": "2022-08-09T18:25:25.953Z"
   },
   {
    "duration": 12,
    "start_time": "2022-08-09T18:25:26.064Z"
   },
   {
    "duration": 11,
    "start_time": "2022-08-09T18:25:26.077Z"
   },
   {
    "duration": 12,
    "start_time": "2022-08-09T18:25:26.090Z"
   },
   {
    "duration": 6,
    "start_time": "2022-08-09T18:25:30.155Z"
   },
   {
    "duration": 5,
    "start_time": "2022-08-09T18:25:41.676Z"
   },
   {
    "duration": 97,
    "start_time": "2022-08-09T18:28:37.530Z"
   },
   {
    "duration": 11,
    "start_time": "2022-08-09T18:28:55.724Z"
   },
   {
    "duration": 10,
    "start_time": "2022-08-09T18:29:41.054Z"
   },
   {
    "duration": 12,
    "start_time": "2022-08-09T18:29:53.333Z"
   },
   {
    "duration": 6,
    "start_time": "2022-08-09T18:30:36.013Z"
   },
   {
    "duration": 11,
    "start_time": "2022-08-09T18:30:44.397Z"
   },
   {
    "duration": 6,
    "start_time": "2022-08-09T18:30:51.234Z"
   },
   {
    "duration": 2090,
    "start_time": "2022-08-14T14:37:23.682Z"
   },
   {
    "duration": 71,
    "start_time": "2022-08-14T14:37:25.774Z"
   },
   {
    "duration": 20,
    "start_time": "2022-08-14T14:37:25.847Z"
   },
   {
    "duration": 15,
    "start_time": "2022-08-14T14:37:25.870Z"
   },
   {
    "duration": 10,
    "start_time": "2022-08-14T14:37:25.887Z"
   },
   {
    "duration": 255,
    "start_time": "2022-08-14T14:37:30.685Z"
   },
   {
    "duration": 114,
    "start_time": "2022-08-14T15:01:15.549Z"
   }
  ],
  "kernelspec": {
   "display_name": "Python 3 (ipykernel)",
   "language": "python",
   "name": "python3"
  },
  "language_info": {
   "codemirror_mode": {
    "name": "ipython",
    "version": 3
   },
   "file_extension": ".py",
   "mimetype": "text/x-python",
   "name": "python",
   "nbconvert_exporter": "python",
   "pygments_lexer": "ipython3",
   "version": "3.9.7"
  },
  "toc": {
   "base_numbering": 1,
   "nav_menu": {},
   "number_sections": true,
   "sideBar": true,
   "skip_h1_title": true,
   "title_cell": "Table of Contents",
   "title_sidebar": "Contents",
   "toc_cell": false,
   "toc_position": {
    "height": "calc(100% - 180px)",
    "left": "10px",
    "top": "150px",
    "width": "228px"
   },
   "toc_section_display": true,
   "toc_window_display": true
  }
 },
 "nbformat": 4,
 "nbformat_minor": 2
}
